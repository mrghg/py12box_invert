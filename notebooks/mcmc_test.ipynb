{
 "cells": [
  {
   "cell_type": "markdown",
   "metadata": {},
   "source": [
    "# Example to run MCMC inversion\n",
    "The inversion estimates the emissions deviation from some a priori value"
   ]
  },
  {
   "cell_type": "code",
   "execution_count": null,
   "metadata": {},
   "outputs": [],
   "source": [
    "%load_ext autoreload\n",
    "%autoreload 2\n",
    "\n",
    "import pymc as pm\n",
    "import matplotlib.pyplot as plt\n",
    "import numpy as np\n",
    "import aesara.tensor as at\n",
    "from aesara import function\n",
    "from pathlib import Path\n",
    "\n",
    "from py12box_invert.paths import Paths\n",
    "from py12box_invert.invert import Invert\n",
    "from py12box_invert.plot import plot_mf, plot_emissions\n",
    "from py12box import core\n",
    "\n",
    "species = \"CFC-11\"\n",
    "project_path = Paths.data / f\"example/{species}\""
   ]
  },
  {
   "cell_type": "code",
   "execution_count": null,
   "metadata": {},
   "outputs": [],
   "source": [
    "inv_mcmc_zero = Invert(project_path, species, method=\"mcmc_lat_gradient\", n_threads=4, sensitivity_freq=\"yearly\", start_year=2010, end_year=2020,\n",
    "                sensitivity_from_zero=True)"
   ]
  },
  {
   "cell_type": "code",
   "execution_count": null,
   "metadata": {},
   "outputs": [],
   "source": [
    "inv_mcmc_zero.create_matrices([70., 20., 10., 10.], from_zero=True) #These numbers don't mean anything"
   ]
  },
  {
   "cell_type": "code",
   "execution_count": null,
   "metadata": {},
   "outputs": [],
   "source": [
    "inv_mcmc_zero.inversion()"
   ]
  },
  {
   "cell_type": "markdown",
   "metadata": {},
   "source": [
    "# Reproducing analytical Bayesian version for testing"
   ]
  },
  {
   "cell_type": "code",
   "execution_count": null,
   "metadata": {},
   "outputs": [],
   "source": [
    "inv_true = Invert(project_path, species, method=\"analytical_gaussian\", n_threads=4, sensitivity_freq=\"yearly\", start_year=2010, end_year=2020)\n",
    "inv_true.run_inversion([70., 20., 10., 10.])"
   ]
  },
  {
   "cell_type": "code",
   "execution_count": null,
   "metadata": {},
   "outputs": [],
   "source": [
    "inv = Invert(project_path, species, method=\"mcmc_analytical\", n_threads=4, sensitivity_freq=\"monthly\", start_year=2010, end_year=2020)\n",
    "inv.run_inversion([70., 20., 10., 10.])"
   ]
  },
  {
   "cell_type": "code",
   "execution_count": null,
   "metadata": {},
   "outputs": [],
   "source": []
  }
 ],
 "metadata": {
  "kernelspec": {
   "display_name": "Python 3.9.13 ('pymc')",
   "language": "python",
   "name": "python3"
  },
  "language_info": {
   "codemirror_mode": {
    "name": "ipython",
    "version": 3
   },
   "file_extension": ".py",
   "mimetype": "text/x-python",
   "name": "python",
   "nbconvert_exporter": "python",
   "pygments_lexer": "ipython3",
   "version": "3.9.13"
  },
  "vscode": {
   "interpreter": {
    "hash": "330c3f72a80423398c4273ae880b80302bf6bc2164b36a928ad8f7d8328661cf"
   }
  }
 },
 "nbformat": 4,
 "nbformat_minor": 4
}
