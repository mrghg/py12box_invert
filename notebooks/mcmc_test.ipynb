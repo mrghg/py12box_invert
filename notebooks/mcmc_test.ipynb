{
 "cells": [
  {
   "cell_type": "markdown",
   "metadata": {},
   "source": [
    "# Example to run inversion using box model\n",
    "The inversion estimates the emissions deviation from some a priori value"
   ]
  },
  {
   "cell_type": "code",
   "execution_count": 15,
   "metadata": {},
   "outputs": [],
   "source": [
    "import pymc as pm\n",
    "import matplotlib.pyplot as plt\n",
    "import numpy as np\n",
    "\n",
    "from pathlib import Path\n",
    "\n",
    "from py12box_invert.paths import Paths\n",
    "from py12box_invert.invert import Invert\n",
    "from py12box_invert.plot import plot_mf, plot_emissions\n",
    "\n",
    "species = \"CFC-11\"\n",
    "project_path = Paths.data / f\"example/{species}\""
   ]
  },
  {
   "cell_type": "markdown",
   "metadata": {},
   "source": [
    "This runs the inversion to estimate yearly emissions different to a priori for each box"
   ]
  },
  {
   "cell_type": "code",
   "execution_count": 2,
   "metadata": {},
   "outputs": [
    {
     "name": "stdout",
     "output_type": "stream",
     "text": [
      "Setting up inversion for CFC-11\n",
      "\n",
      "No units given for emissions. Assuming Gg/yr\n",
      "No inital conditions file \n",
      "... assuming zero initial conditions\n",
      "Compiling model and tuning lifetime...\n",
      "... completed in 3 iterations\n",
      "... stratospheric lifetime: 55.0\n",
      "... OH lifetime: 1e12\n",
      "... ocean lifetime: 1e12\n",
      "... non-OH tropospheric lifetime: 1e12\n",
      "... overall lifetime: 55.0\n",
      "... done in 3.0203 s\n"
     ]
    },
    {
     "name": "stderr",
     "output_type": "stream",
     "text": [
      "/Users/chxmr/code/py12box_invert/py12box_invert/invert.py:117: UserWarning: Can't have both a start_year and ic_year\n",
      " Setting ic_years to None.\n",
      "  warnings.warn(\"Can't have both a start_year and ic_year\\n Setting ic_years to None.\")\n"
     ]
    },
    {
     "name": "stdout",
     "output_type": "stream",
     "text": [
      "Calculating flux sensitivity on 4 threads...\n"
     ]
    },
    {
     "name": "stderr",
     "output_type": "stream",
     "text": [
      "WARNING (aesara.tensor.blas): Using NumPy C-API based implementation for BLAS functions.\n",
      "WARNING (aesara.tensor.blas): Using NumPy C-API based implementation for BLAS functions.\n",
      "WARNING (aesara.tensor.blas): Using NumPy C-API based implementation for BLAS functions.\n",
      "WARNING (aesara.tensor.blas): Using NumPy C-API based implementation for BLAS functions.\n"
     ]
    },
    {
     "name": "stdout",
     "output_type": "stream",
     "text": [
      "... done\n",
      "Spinning up for 9 years and estimating initial conditions...\n",
      "... done\n"
     ]
    }
   ],
   "source": [
    "inv = Invert(project_path, species, method=\"mcmc_analytical\", n_threads=4, sensitivity_freq=\"yearly\", start_year=2010, end_year=2020)\n",
    "inv.create_matrices([70., 20., 10., 10.])"
   ]
  },
  {
   "cell_type": "code",
   "execution_count": 7,
   "metadata": {},
   "outputs": [
    {
     "name": "stderr",
     "output_type": "stream",
     "text": [
      "Auto-assigning NUTS sampler...\n",
      "Initializing NUTS using jitter+adapt_diag...\n",
      "Multiprocess sampling (4 chains in 4 jobs)\n",
      "NUTS: [x]\n",
      "WARNING (aesara.tensor.blas): Using NumPy C-API based implementation for BLAS functions.\n",
      "WARNING (aesara.tensor.blas): Using NumPy C-API based implementation for BLAS functions.\n",
      "WARNING (aesara.tensor.blas): Using NumPy C-API based implementation for BLAS functions.\n",
      "WARNING (aesara.tensor.blas): Using NumPy C-API based implementation for BLAS functions.\n"
     ]
    },
    {
     "data": {
      "text/html": [
       "\n",
       "<style>\n",
       "    /* Turns off some styling */\n",
       "    progress {\n",
       "        /* gets rid of default border in Firefox and Opera. */\n",
       "        border: none;\n",
       "        /* Needs to be in here for Safari polyfill so background images work as expected. */\n",
       "        background-size: auto;\n",
       "    }\n",
       "    .progress-bar-interrupted, .progress-bar-interrupted::-webkit-progress-bar {\n",
       "        background: #F44336;\n",
       "    }\n",
       "</style>\n"
      ],
      "text/plain": [
       "<IPython.core.display.HTML object>"
      ]
     },
     "metadata": {},
     "output_type": "display_data"
    },
    {
     "data": {
      "text/html": [
       "\n",
       "    <div>\n",
       "      <progress value='8000' class='' max='8000' style='width:300px; height:20px; vertical-align: middle;'></progress>\n",
       "      100.00% [8000/8000 08:19<00:00 Sampling 4 chains, 0 divergences]\n",
       "    </div>\n",
       "    "
      ],
      "text/plain": [
       "<IPython.core.display.HTML object>"
      ]
     },
     "metadata": {},
     "output_type": "display_data"
    },
    {
     "name": "stderr",
     "output_type": "stream",
     "text": [
      "Sampling 4 chains for 1_000 tune and 1_000 draw iterations (4_000 + 4_000 draws total) took 524 seconds.\n"
     ]
    }
   ],
   "source": [
    "\n",
    "with pm.Model() as model:\n",
    "    x = pm.MvNormal(\"x\", mu=inv.mat.x_a, tau=inv.mat.P_inv, shape=(inv.mat.x_a.shape[0]))\n",
    "    y_observed = pm.MvNormal(\n",
    "        \"y\",\n",
    "        mu=inv.mat.H @ x,\n",
    "        cov=inv.mat.R,\n",
    "        observed=inv.mat.y,\n",
    "    )\n",
    "    trace = pm.sample(return_inferencedata=True)\n",
    "#    trace = pm.sample(20000, tune=10000, chains=2, step=pm.Metropolis(),\n",
    "#                    return_inferencedata=True, progressbar=False)\n"
   ]
  },
  {
   "cell_type": "code",
   "execution_count": 8,
   "metadata": {},
   "outputs": [],
   "source": [
    "\n",
    "inv.mat.x_trace = trace.posterior.sel(chain=0).x.data\n",
    "\n",
    "# Store x and P to make posterior processing simpler (but don't use this for posterior ensemble)\n",
    "inv.mat.x_hat = trace.posterior.sel(chain=0).x.mean(dim=\"draw\").data\n",
    "inv.mat.P_hat = trace.posterior.sel(chain=0).x.data.T @ trace.posterior.sel(chain=0).x.data"
   ]
  },
  {
   "cell_type": "code",
   "execution_count": 17,
   "metadata": {},
   "outputs": [
    {
     "data": {
      "text/plain": [
       "[<matplotlib.lines.Line2D at 0x1939a51c0>]"
      ]
     },
     "execution_count": 17,
     "metadata": {},
     "output_type": "execute_result"
    },
    {
     "data": {
      "image/png": "[encoded data removed]",
      "text/plain": [
       "<Figure size 432x288 with 1 Axes>"
      ]
     },
     "metadata": {
      "needs_background": "light"
     },
     "output_type": "display_data"
    }
   ],
   "source": [
    "plt.plot(np.sqrt(inv.mat.P_hat.diagonal()))\n",
    "plt.plot(inv.mat.x_hat)"
   ]
  },
  {
   "cell_type": "code",
   "execution_count": null,
   "metadata": {},
   "outputs": [],
   "source": []
  }
 ],
 "metadata": {
  "interpreter": {
   "hash": "57ab74483c77a19f391054be0d68cf20ce4be9e9a8481d8841de1cd4f7b3298c"
  },
  "kernelspec": {
   "display_name": "py12box",
   "language": "python",
   "name": "py12box"
  },
  "language_info": {
   "codemirror_mode": {
    "name": "ipython",
    "version": 3
   },
   "file_extension": ".py",
   "mimetype": "text/x-python",
   "name": "python",
   "nbconvert_exporter": "python",
   "pygments_lexer": "ipython3",
   "version": "3.9.13"
  }
 },
 "nbformat": 4,
 "nbformat_minor": 4
}
