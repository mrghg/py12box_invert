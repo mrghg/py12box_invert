{
 "cells": [
  {
   "cell_type": "markdown",
   "metadata": {},
   "source": [
    "# Example to run inversion using box model\n",
    "The inversion estimates the emissions deviation from some a priori value"
   ]
  },
  {
   "cell_type": "code",
   "execution_count": null,
   "metadata": {},
   "outputs": [],
   "source": [
    "from py12box_invert import core, utils\n",
    "from pathlib import Path\n",
    "import matplotlib.pyplot as plt\n",
    "import numpy as np\n",
    "from py12box_invert.paths import Paths\n",
    "from py12box_invert.invert import Invert, Matrices\n",
    "\n",
    "species = \"CFC-11\"\n",
    "project_path = Paths.data / f\"example/{species}\""
   ]
  },
  {
   "cell_type": "markdown",
   "metadata": {},
   "source": [
    "This runs the inversion to estimate yearly emissions different to a priori for each box"
   ]
  },
  {
   "cell_type": "code",
   "execution_count": null,
   "metadata": {},
   "outputs": [],
   "source": [
    "inv = Invert(project_path, species, method=\"rigby14\", ic_years=3)\n",
    "inv.run_sensitivity(freq=\"yearly\")\n",
    "inv.run_spinup(nyears=10)\n",
    "inv.run_initial_conditions()\n",
    "inv.create_matrices(sigma_P=1.)\n",
    "inv.run_inversion()\n",
    "inv.posterior()\n",
    "#inv.annualemissions()\n",
    "#inv.growthrate()"
   ]
  },
  {
   "cell_type": "markdown",
   "metadata": {},
   "source": [
    "Mole fraction plot"
   ]
  },
  {
   "cell_type": "code",
   "execution_count": null,
   "metadata": {},
   "outputs": [],
   "source": [
    "inv.plot_mf()"
   ]
  },
  {
   "cell_type": "markdown",
   "metadata": {},
   "source": [
    "Plot the results"
   ]
  },
  {
   "cell_type": "code",
   "execution_count": null,
   "metadata": {},
   "outputs": [],
   "source": [
    "inv.plot_emissions()"
   ]
  }
 ],
 "metadata": {
  "kernelspec": {
   "display_name": "py12box",
   "language": "python",
   "name": "py12box"
  }
 },
 "nbformat": 4,
 "nbformat_minor": 4
}