{
 "cells": [
  {
   "cell_type": "markdown",
   "metadata": {},
   "source": [
    "# Example to run inversion using box model\n",
    "The inversion estimates the emissions deviation from some a priori value"
   ]
  },
  {
   "cell_type": "code",
   "execution_count": 7,
   "metadata": {},
   "outputs": [],
   "source": [
    "from py12box_invert import core, utils\n",
    "from pathlib import Path\n",
    "import matplotlib.pyplot as plt\n",
    "import numpy as np\n",
    "from py12box_invert.paths import Paths\n",
    "from py12box_invert.invert import Invert, Matrices\n",
    "\n",
    "species = \"CFC-11\"\n",
    "project_path = Paths.data / f\"example/{species}\""
   ]
  },
  {
   "cell_type": "markdown",
   "metadata": {},
   "source": [
    "This runs the inversion to estimate yearly emissions different to a priori for each box"
   ]
  },
  {
   "cell_type": "code",
   "execution_count": 8,
   "metadata": {},
   "outputs": [
    {
     "output_type": "stream",
     "name": "stdout",
     "text": [
      "No inital conditions file. \n",
      " Assuming zero initial conditions\n",
      "Compiling model and tuning lifetime...\n",
      "... completed in 3 iterations\n",
      "... stratospheric lifetime: 52.1\n",
      "... OH lifetime: 1e12\n",
      "... ocean lifetime: 1e12\n",
      "... non-OH tropospheric lifetime: 1e12\n",
      "... overall lifetime: 52.0\n",
      "... done in 0.0012018680572509766 s\n",
      "Model reference run...\n",
      "... done in 0.046785831451416016 s\n",
      "Calculating sensitivity on 12 threads...\n",
      "... done\n",
      "Spinning up for 10 years...\n",
      "... done\n"
     ]
    }
   ],
   "source": [
    "inv = Invert(project_path, species, method=\"rigby14\", ic_years=3)\n",
    "inv.run_sensitivity(freq=\"yearly\")\n",
    "inv.run_spinup(nyears=10)\n",
    "inv.run_initial_conditions()\n",
    "inv.create_matrices(sigma_P=1.)\n",
    "inv.run_inversion()\n",
    "inv.posterior()"
   ]
  },
  {
   "source": [
    "Mole fraction plot"
   ],
   "cell_type": "markdown",
   "metadata": {}
  },
  {
   "cell_type": "code",
   "execution_count": 10,
   "metadata": {},
   "outputs": [
    {
     "output_type": "display_data",
     "data": {
      "application/vnd.vegalite.v4+json": {
       "config": {
        "view": {
         "continuousWidth": 400,
         "continuousHeight": 300
        }
       },
       "layer": [
        {
         "mark": {
          "type": "point",
          "filled": true,
          "size": 5
         },
         "encoding": {
          "color": {
           "type": "nominal",
           "field": "Box"
          },
          "opacity": {
           "condition": {
            "value": 0.8,
            "selection": "selector003"
           },
           "value": 0.1
          },
          "tooltip": [
           {
            "type": "temporal",
            "field": "Date"
           },
           {
            "type": "quantitative",
            "field": "Obs"
           }
          ],
          "x": {
           "type": "temporal",
           "field": "Date",
           "scale": {
            "domain": [
             "1978-07-01T00:00:00",
             "2019-12-01T00:00:00"
            ]
           }
          },
          "y": {
           "type": "quantitative",
           "field": "Obs",
           "scale": {
            "domain": [
             136.25,
             270.38
            ]
           },
           "title": "CFC-11 (ppt)"
          }
         },
         "selection": {
          "selector003": {
           "type": "multi",
           "fields": [
            "Box"
           ],
           "bind": "legend"
          },
          "selector004": {
           "type": "interval",
           "bind": "scales",
           "encodings": [
            "x",
            "y"
           ]
          }
         },
         "transform": [
          {
           "calculate": "datum.Obs-datum.Obs_uncertainty",
           "as": "ymin"
          },
          {
           "calculate": "datum.Obs+datum.Obs_uncertainty",
           "as": "ymax"
          }
         ]
        },
        {
         "mark": "errorbar",
         "encoding": {
          "color": {
           "type": "nominal",
           "field": "Box"
          },
          "opacity": {
           "condition": {
            "value": 0.8,
            "selection": "selector003"
           },
           "value": 0.1
          },
          "x": {
           "type": "temporal",
           "field": "Date"
          },
          "y": {
           "type": "quantitative",
           "field": "ymin",
           "title": ""
          },
          "y2": {
           "field": "ymax"
          }
         },
         "transform": [
          {
           "calculate": "datum.Obs-datum.Obs_uncertainty",
           "as": "ymin"
          },
          {
           "calculate": "datum.Obs+datum.Obs_uncertainty",
           "as": "ymax"
          }
         ]
        },
        {
         "mark": {
          "type": "line",
          "strokeWidth": 2
         },
         "encoding": {
          "color": {
           "type": "nominal",
           "field": "Box"
          },
          "opacity": {
           "condition": {
            "value": 1,
            "selection": "selector003"
           },
           "value": 0.1
          },
          "x": {
           "type": "temporal",
           "field": "Date"
          },
          "y": {
           "type": "quantitative",
           "field": "Model",
           "title": ""
          }
         },
         "transform": [
          {
           "calculate": "datum.Obs-datum.Obs_uncertainty",
           "as": "ymin"
          },
          {
           "calculate": "datum.Obs+datum.Obs_uncertainty",
           "as": "ymax"
          }
         ]
        }
       ],
       "data": {
        "name": "data-24e97196e3f93fa70a013a09fff63e20"
       },
       "height": 400,
       "width": 600,
       "$schema": "https://vega.github.io/schema/vega-lite/v4.8.1.json",
       "datasets": {
        "data-24e97196e3f93fa70a013a09fff63e20": [
         {
          "Date": "1975-01-01T00:00:00",
          "Box": "30 °N - 90 °N",
          "Obs": null,
          "Obs_uncertainty": null,
          "Model": 136.38004649402728
         },
         {
          "Date": "1975-02-01T00:00:00",
          "Box": "30 °N - 90 °N",
          "Obs": null,
          "Obs_uncertainty": null,
          "Model": 136.42714553265048
         },
         {
          "Date": "1975-03-01T00:00:00",
          "Box": "30 °N - 90 °N",
          "Obs": null,
          "Obs_uncertainty": null,
          "Model": 136.52892535803704
         },
         {
          "Date": "1975-04-01T00:00:00",
          "Box": "30 °N - 90 °N",
          "Obs": null,
          "Obs_uncertainty": null,
          "Model": 136.73619626559048
         },
         {
          "Date": "1975-05-01T00:00:00",
          "Box": "30 °N - 90 °N",
          "Obs": null,
          "Obs_uncertainty": null,
          "Model": 137.12794245542713
         },
         {
          "Date": "1975-06-01T00:00:00",
          "Box": "30 °N - 90 °N",
          "Obs": null,
          "Obs_uncertainty": null,
          "Model": 137.56184531056542
         },
         {
          "Date": "1975-07-01T00:00:00",
          "Box": "30 °N - 90 °N",
          "Obs": null,
          "Obs_uncertainty": null,
          "Model": 138.2191708930597
         },
         {
          "Date": "1975-08-01T00:00:00",
          "Box": "30 °N - 90 °N",
          "Obs": null,
          "Obs_uncertainty": null,
          "Model": 138.9670359930352
         },
         {
          "Date": "1975-09-01T00:00:00",
          "Box": "30 °N - 90 °N",
          "Obs": null,
          "Obs_uncertainty": null,
          "Model": 139.526697878393
         },
         {
          "Date": "1975-10-01T00:00:00",
          "Box": "30 °N - 90 °N",
          "Obs": null,
          "Obs_uncertainty": null,
          "Model": 139.68331255012205
         },
         {
          "Date": "1975-11-01T00:00:00",
          "Box": "30 °N - 90 °N",
          "Obs": null,
          "Obs_uncertainty": null,
          "Model": 139.6676898118255
         },
         {
          "Date": "1975-12-01T00:00:00",
          "Box": "30 °N - 90 °N",
          "Obs": null,
          "Obs_uncertainty": null,
          "Model": 139.832190015115
         },
         {
          "Date": "1976-01-01T00:00:00",
          "Box": "30 °N - 90 °N",
          "Obs": null,
          "Obs_uncertainty": null,
          "Model": 139.991795713656
         },
         {
          "Date": "1976-02-01T00:00:00",
          "Box": "30 °N - 90 °N",
          "Obs": null,
          "Obs_uncertainty": null,
          "Model": 140.04230444423868
         },
         {
          "Date": "1976-03-01T00:00:00",
          "Box": "30 °N - 90 °N",
          "Obs": null,
          "Obs_uncertainty": null,
          "Model": 140.13938874292685
         },
         {
          "Date": "1976-04-01T00:00:00",
          "Box": "30 °N - 90 °N",
          "Obs": null,
          "Obs_uncertainty": null,
          "Model": 140.34871414281054
         },
         {
          "Date": "1976-05-01T00:00:00",
          "Box": "30 °N - 90 °N",
          "Obs": null,
          "Obs_uncertainty": null,
          "Model": 140.7503827546165
         },
         {
          "Date": "1976-06-01T00:00:00",
          "Box": "30 °N - 90 °N",
          "Obs": null,
          "Obs_uncertainty": null,
          "Model": 141.1985369126728
         },
         {
          "Date": "1976-07-01T00:00:00",
          "Box": "30 °N - 90 °N",
          "Obs": null,
          "Obs_uncertainty": null,
          "Model": 141.87223410491296
         },
         {
          "Date": "1976-08-01T00:00:00",
          "Box": "30 °N - 90 °N",
          "Obs": null,
          "Obs_uncertainty": null,
          "Model": 142.6444085359285
         },
         {
          "Date": "1976-09-01T00:00:00",
          "Box": "30 °N - 90 °N",
          "Obs": null,
          "Obs_uncertainty": null,
          "Model": 143.23877477502242
         },
         {
          "Date": "1976-10-01T00:00:00",
          "Box": "30 °N - 90 °N",
          "Obs": null,
          "Obs_uncertainty": null,
          "Model": 143.44098887486714
         },
         {
          "Date": "1976-11-01T00:00:00",
          "Box": "30 °N - 90 °N",
          "Obs": null,
          "Obs_uncertainty": null,
          "Model": 143.47412352259622
         },
         {
          "Date": "1976-12-01T00:00:00",
          "Box": "30 °N - 90 °N",
          "Obs": null,
          "Obs_uncertainty": null,
          "Model": 143.68290479943963
         },
         {
          "Date": "1977-01-01T00:00:00",
          "Box": "30 °N - 90 °N",
          "Obs": null,
          "Obs_uncertainty": null,
          "Model": 143.95191242015716
         },
         {
          "Date": "1977-02-01T00:00:00",
          "Box": "30 °N - 90 °N",
          "Obs": null,
          "Obs_uncertainty": null,
          "Model": 144.1372999371678
         },
         {
          "Date": "1977-03-01T00:00:00",
          "Box": "30 °N - 90 °N",
          "Obs": null,
          "Obs_uncertainty": null,
          "Model": 144.35273483675485
         },
         {
          "Date": "1977-04-01T00:00:00",
          "Box": "30 °N - 90 °N",
          "Obs": null,
          "Obs_uncertainty": null,
          "Model": 144.68061654761308
         },
         {
          "Date": "1977-05-01T00:00:00",
          "Box": "30 °N - 90 °N",
          "Obs": null,
          "Obs_uncertainty": null,
          "Model": 145.20265472866654
         },
         {
          "Date": "1977-06-01T00:00:00",
          "Box": "30 °N - 90 °N",
          "Obs": null,
          "Obs_uncertainty": null,
          "Model": 145.77122038197632
         },
         {
          "Date": "1977-07-01T00:00:00",
          "Box": "30 °N - 90 °N",
          "Obs": null,
          "Obs_uncertainty": null,
          "Model": 146.56533725960492
         },
         {
          "Date": "1977-08-01T00:00:00",
          "Box": "30 °N - 90 °N",
          "Obs": null,
          "Obs_uncertainty": null,
          "Model": 147.46555266013655
         },
         {
          "Date": "1977-09-01T00:00:00",
          "Box": "30 °N - 90 °N",
          "Obs": null,
          "Obs_uncertainty": null,
          "Model": 148.19761164695856
         },
         {
          "Date": "1977-10-01T00:00:00",
          "Box": "30 °N - 90 °N",
          "Obs": null,
          "Obs_uncertainty": null,
          "Model": 148.54570975452697
         },
         {
          "Date": "1977-11-01T00:00:00",
          "Box": "30 °N - 90 °N",
          "Obs": null,
          "Obs_uncertainty": null,
          "Model": 148.72459210906965
         },
         {
          "Date": "1977-12-01T00:00:00",
          "Box": "30 °N - 90 °N",
          "Obs": null,
          "Obs_uncertainty": null,
          "Model": 149.07221681143233
         },
         {
          "Date": "1978-01-01T00:00:00",
          "Box": "30 °N - 90 °N",
          "Obs": null,
          "Obs_uncertainty": null,
          "Model": 149.52435346512098
         },
         {
          "Date": "1978-02-01T00:00:00",
          "Box": "30 °N - 90 °N",
          "Obs": null,
          "Obs_uncertainty": null,
          "Model": 149.89955786470824
         },
         {
          "Date": "1978-03-01T00:00:00",
          "Box": "30 °N - 90 °N",
          "Obs": null,
          "Obs_uncertainty": null,
          "Model": 150.2835220706051
         },
         {
          "Date": "1978-04-01T00:00:00",
          "Box": "30 °N - 90 °N",
          "Obs": null,
          "Obs_uncertainty": null,
          "Model": 150.77768785496465
         },
         {
          "Date": "1978-05-01T00:00:00",
          "Box": "30 °N - 90 °N",
          "Obs": null,
          "Obs_uncertainty": null,
          "Model": 151.468972061421
         },
         {
          "Date": "1978-06-01T00:00:00",
          "Box": "30 °N - 90 °N",
          "Obs": null,
          "Obs_uncertainty": null,
          "Model": 152.20560955498982
         },
         {
          "Date": "1978-07-01T00:00:00",
          "Box": "30 °N - 90 °N",
          "Obs": 158.39,
          "Obs_uncertainty": 1.35,
          "Model": 153.16969099132567
         },
         {
          "Date": "1978-08-01T00:00:00",
          "Box": "30 °N - 90 °N",
          "Obs": 160.12,
          "Obs_uncertainty": 1.91,
          "Model": 154.2473132998172
         },
         {
          "Date": "1978-09-01T00:00:00",
          "Box": "30 °N - 90 °N",
          "Obs": 160.43,
          "Obs_uncertainty": 1.44,
          "Model": 155.1601999891037
         },
         {
          "Date": "1978-10-01T00:00:00",
          "Box": "30 °N - 90 °N",
          "Obs": 161.35,
          "Obs_uncertainty": 1.71,
          "Model": 155.68498845194918
         },
         {
          "Date": "1978-11-01T00:00:00",
          "Box": "30 °N - 90 °N",
          "Obs": 161.96,
          "Obs_uncertainty": 2.52,
          "Model": 156.03545558672602
         },
         {
          "Date": "1978-12-01T00:00:00",
          "Box": "30 °N - 90 °N",
          "Obs": 167.06,
          "Obs_uncertainty": 3.2,
          "Model": 156.5524826677226
         },
         {
          "Date": "1979-01-01T00:00:00",
          "Box": "30 °N - 90 °N",
          "Obs": 162.27,
          "Obs_uncertainty": 3.37,
          "Model": 157.15126474727728
         },
         {
          "Date": "1979-02-01T00:00:00",
          "Box": "30 °N - 90 °N",
          "Obs": 162.09,
          "Obs_uncertainty": 2.7,
          "Model": 157.643289483172
         },
         {
          "Date": "1979-03-01T00:00:00",
          "Box": "30 °N - 90 °N",
          "Obs": 162.62,
          "Obs_uncertainty": 2.17,
          "Model": 158.1373232729456
         },
         {
          "Date": "1979-04-01T00:00:00",
          "Box": "30 °N - 90 °N",
          "Obs": 164.2,
          "Obs_uncertainty": 2.02,
          "Model": 158.74865594844385
         },
         {
          "Date": "1979-05-01T00:00:00",
          "Box": "30 °N - 90 °N",
          "Obs": 165.09,
          "Obs_uncertainty": 2.29,
          "Model": 159.56958574184026
         },
         {
          "Date": "1979-06-01T00:00:00",
          "Box": "30 °N - 90 °N",
          "Obs": 166.7,
          "Obs_uncertainty": 1.8,
          "Model": 160.4391899177502
         },
         {
          "Date": "1979-07-01T00:00:00",
          "Box": "30 °N - 90 °N",
          "Obs": 167.18,
          "Obs_uncertainty": 1.96,
          "Model": 161.53993624141634
         },
         {
          "Date": "1979-08-01T00:00:00",
          "Box": "30 °N - 90 °N",
          "Obs": 167.79,
          "Obs_uncertainty": 1.78,
          "Model": 162.7618607311282
         },
         {
          "Date": "1979-09-01T00:00:00",
          "Box": "30 °N - 90 °N",
          "Obs": 168.94,
          "Obs_uncertainty": 1.8,
          "Model": 163.8215623923249
         },
         {
          "Date": "1979-10-01T00:00:00",
          "Box": "30 °N - 90 °N",
          "Obs": 171.48,
          "Obs_uncertainty": 1.8,
          "Model": 164.48846859682664
         },
         {
          "Date": "1979-11-01T00:00:00",
          "Box": "30 °N - 90 °N",
          "Obs": 172.01,
          "Obs_uncertainty": 2.17,
          "Model": 164.97770192010054
         },
         {
          "Date": "1979-12-01T00:00:00",
          "Box": "30 °N - 90 °N",
          "Obs": 171.86,
          "Obs_uncertainty": 2.015,
          "Model": 165.6341711545534
         },
         {
          "Date": "1980-01-01T00:00:00",
          "Box": "30 °N - 90 °N",
          "Obs": 172.245,
          "Obs_uncertainty": 1.7200000000000002,
          "Model": 166.31382850986563
         },
         {
          "Date": "1980-02-01T00:00:00",
          "Box": "30 °N - 90 °N",
          "Obs": 170.67000000000004,
          "Obs_uncertainty": 1.97,
          "Model": 166.8342235284062
         },
         {
          "Date": "1980-03-01T00:00:00",
          "Box": "30 °N - 90 °N",
          "Obs": 172.95999999999995,
          "Obs_uncertainty": 1.665,
          "Model": 167.35172669539756
         },
         {
          "Date": "1980-04-01T00:00:00",
          "Box": "30 °N - 90 °N",
          "Obs": 174.52,
          "Obs_uncertainty": 1.37,
          "Model": 167.98991698137934
         },
         {
          "Date": "1980-05-01T00:00:00",
          "Box": "30 °N - 90 °N",
          "Obs": 176.025,
          "Obs_uncertainty": 1.3450000000000002,
          "Model": 168.8471503145198
         },
         {
          "Date": "1980-06-01T00:00:00",
          "Box": "30 °N - 90 °N",
          "Obs": 175.22500000000005,
          "Obs_uncertainty": 1.605,
          "Model": 169.75532345208032
         },
         {
          "Date": "1980-07-01T00:00:00",
          "Box": "30 °N - 90 °N",
          "Obs": 175.51,
          "Obs_uncertainty": 1.505,
          "Model": 170.90137734640174
         },
         {
          "Date": "1980-08-01T00:00:00",
          "Box": "30 °N - 90 °N",
          "Obs": 176.265,
          "Obs_uncertainty": 1.58,
          "Model": 172.17401500661828
         },
         {
          "Date": "1980-09-01T00:00:00",
          "Box": "30 °N - 90 °N",
          "Obs": 177.41500000000005,
          "Obs_uncertainty": 1.65,
          "Model": 173.28054912331666
         },
         {
          "Date": "1980-10-01T00:00:00",
          "Box": "30 °N - 90 °N",
          "Obs": 178.85,
          "Obs_uncertainty": 2.06,
          "Model": 173.9813537543927
         },
         {
          "Date": "1980-11-01T00:00:00",
          "Box": "30 °N - 90 °N",
          "Obs": 179.16,
          "Obs_uncertainty": 1.985,
          "Model": 174.49928119798005
         },
         {
          "Date": "1980-12-01T00:00:00",
          "Box": "30 °N - 90 °N",
          "Obs": 179.43,
          "Obs_uncertainty": 2.365,
          "Model": 175.19059471305664
         },
         {
          "Date": "1981-01-01T00:00:00",
          "Box": "30 °N - 90 °N",
          "Obs": 178.79,
          "Obs_uncertainty": 1.925,
          "Model": 175.83682834428492
         },
         {
          "Date": "1981-02-01T00:00:00",
          "Box": "30 °N - 90 °N",
          "Obs": 179.60500000000005,
          "Obs_uncertainty": 1.88,
          "Model": 176.28174921378098
         },
         {
          "Date": "1981-03-01T00:00:00",
          "Box": "30 °N - 90 °N",
          "Obs": 180.025,
          "Obs_uncertainty": 1.63,
          "Model": 176.73684134837683
         },
         {
          "Date": "1981-04-01T00:00:00",
          "Box": "30 °N - 90 °N",
          "Obs": 181.535,
          "Obs_uncertainty": 1.605,
          "Model": 177.32435267439618
         },
         {
          "Date": "1981-05-01T00:00:00",
          "Box": "30 °N - 90 °N",
          "Obs": 181.945,
          "Obs_uncertainty": 1.465,
          "Model": 178.14378566507165
         },
         {
          "Date": "1981-06-01T00:00:00",
          "Box": "30 °N - 90 °N",
          "Obs": 182.8,
          "Obs_uncertainty": 1.195,
          "Model": 179.01948544155772
         },
         {
          "Date": "1981-07-01T00:00:00",
          "Box": "30 °N - 90 °N",
          "Obs": 182.58,
          "Obs_uncertainty": 1.475,
          "Model": 180.13776191082536
         },
         {
          "Date": "1981-08-01T00:00:00",
          "Box": "30 °N - 90 °N",
          "Obs": 184.055,
          "Obs_uncertainty": 1.5750000000000002,
          "Model": 181.38628371391485
         },
         {
          "Date": "1981-09-01T00:00:00",
          "Box": "30 °N - 90 °N",
          "Obs": 186.265,
          "Obs_uncertainty": 1.7200000000000002,
          "Model": 182.46867473719334
         },
         {
          "Date": "1981-10-01T00:00:00",
          "Box": "30 °N - 90 °N",
          "Obs": 188.265,
          "Obs_uncertainty": 1.685,
          "Model": 183.14292917805278
         },
         {
          "Date": "1981-11-01T00:00:00",
          "Box": "30 °N - 90 °N",
          "Obs": 188.905,
          "Obs_uncertainty": 1.68,
          "Model": 183.63500186419512
         },
         {
          "Date": "1981-12-01T00:00:00",
          "Box": "30 °N - 90 °N",
          "Obs": 189.23,
          "Obs_uncertainty": 1.525,
          "Model": 184.30419108991208
         },
         {
          "Date": "1982-01-01T00:00:00",
          "Box": "30 °N - 90 °N",
          "Obs": 186.88,
          "Obs_uncertainty": 2.195,
          "Model": 184.92104670597047
         },
         {
          "Date": "1982-02-01T00:00:00",
          "Box": "30 °N - 90 °N",
          "Obs": 187.16,
          "Obs_uncertainty": 2.105,
          "Model": 185.32964899390936
         },
         {
          "Date": "1982-03-01T00:00:00",
          "Box": "30 °N - 90 °N",
          "Obs": 188.32,
          "Obs_uncertainty": 1.82,
          "Model": 185.7501464458328
         },
         {
          "Date": "1982-04-01T00:00:00",
          "Box": "30 °N - 90 °N",
          "Obs": 189.215,
          "Obs_uncertainty": 1.875,
          "Model": 186.30633019189662
         },
         {
          "Date": "1982-05-01T00:00:00",
          "Box": "30 °N - 90 °N",
          "Obs": 189.45,
          "Obs_uncertainty": 1.645,
          "Model": 187.09795073349562
         },
         {
          "Date": "1982-06-01T00:00:00",
          "Box": "30 °N - 90 °N",
          "Obs": 189.47,
          "Obs_uncertainty": 1.575,
          "Model": 187.94699514876123
         },
         {
          "Date": "1982-07-01T00:00:00",
          "Box": "30 °N - 90 °N",
          "Obs": 189.99,
          "Obs_uncertainty": 1.77,
          "Model": 189.0402274612195
         },
         {
          "Date": "1982-08-01T00:00:00",
          "Box": "30 °N - 90 °N",
          "Obs": 189.755,
          "Obs_uncertainty": 1.355,
          "Model": 190.26534120772098
         },
         {
          "Date": "1982-09-01T00:00:00",
          "Box": "30 °N - 90 °N",
          "Obs": 191.35,
          "Obs_uncertainty": 2.065,
          "Model": 191.32493112170113
         },
         {
          "Date": "1982-10-01T00:00:00",
          "Box": "30 °N - 90 °N",
          "Obs": 194.175,
          "Obs_uncertainty": 1.7,
          "Model": 191.97634379701353
         },
         {
          "Date": "1982-11-01T00:00:00",
          "Box": "30 °N - 90 °N",
          "Obs": 195.635,
          "Obs_uncertainty": 1.58,
          "Model": 192.44633726650923
         },
         {
          "Date": "1982-12-01T00:00:00",
          "Box": "30 °N - 90 °N",
          "Obs": 195.68,
          "Obs_uncertainty": 1.525,
          "Model": 193.09452455370575
         },
         {
          "Date": "1983-01-01T00:00:00",
          "Box": "30 °N - 90 °N",
          "Obs": 195.26,
          "Obs_uncertainty": 1.565,
          "Model": 193.6905905932265
         },
         {
          "Date": "1983-02-01T00:00:00",
          "Box": "30 °N - 90 °N",
          "Obs": 196.16,
          "Obs_uncertainty": 1.45,
          "Model": 194.0775451522496
         },
         {
          "Date": "1983-03-01T00:00:00",
          "Box": "30 °N - 90 °N",
          "Obs": 196.995,
          "Obs_uncertainty": 1.56,
          "Model": 194.47737253564378
         },
         {
          "Date": "1983-04-01T00:00:00",
          "Box": "30 °N - 90 °N",
          "Obs": 199.2,
          "Obs_uncertainty": 1.52,
          "Model": 195.01519435171014
         },
         {
          "Date": "1983-05-01T00:00:00",
          "Box": "30 °N - 90 °N",
          "Obs": 200.355,
          "Obs_uncertainty": 1.54,
          "Model": 195.79002253596747
         },
         {
          "Date": "1983-06-01T00:00:00",
          "Box": "30 °N - 90 °N",
          "Obs": 201.085,
          "Obs_uncertainty": 1.48,
          "Model": 196.6226600064324
         },
         {
          "Date": "1983-07-01T00:00:00",
          "Box": "30 °N - 90 °N",
          "Obs": 202.01,
          "Obs_uncertainty": 1.455,
          "Model": 197.69993652936733
         },
         {
          "Date": "1983-08-01T00:00:00",
          "Box": "30 °N - 90 °N",
          "Obs": 202.985,
          "Obs_uncertainty": 1.46,
          "Model": 198.91056484724638
         },
         {
          "Date": "1983-09-01T00:00:00",
          "Box": "30 °N - 90 °N",
          "Obs": 200.355,
          "Obs_uncertainty": 2.185,
          "Model": 199.95775114579544
         },
         {
          "Date": "1983-10-01T00:00:00",
          "Box": "30 °N - 90 °N",
          "Obs": 202.59,
          "Obs_uncertainty": 2.225,
          "Model": 200.5995452072008
         },
         {
          "Date": "1983-11-01T00:00:00",
          "Box": "30 °N - 90 °N",
          "Obs": 203.605,
          "Obs_uncertainty": 2.52,
          "Model": 201.06128933866404
         },
         {
          "Date": "1983-12-01T00:00:00",
          "Box": "30 °N - 90 °N",
          "Obs": 203.69,
          "Obs_uncertainty": 1.535,
          "Model": 201.7003220081537
         },
         {
          "Date": "1984-01-01T00:00:00",
          "Box": "30 °N - 90 °N",
          "Obs": 201.35,
          "Obs_uncertainty": 0.54,
          "Model": 202.29061018862484
         },
         {
          "Date": "1984-02-01T00:00:00",
          "Box": "30 °N - 90 °N",
          "Obs": 204.42,
          "Obs_uncertainty": 2.52,
          "Model": 202.67158763816184
         },
         {
          "Date": "1984-03-01T00:00:00",
          "Box": "30 °N - 90 °N",
          "Obs": 204.33,
          "Obs_uncertainty": 2.22,
          "Model": 203.06324047395367
         },
         {
          "Date": "1984-04-01T00:00:00",
          "Box": "30 °N - 90 °N",
          "Obs": 206.39,
          "Obs_uncertainty": 2.08,
          "Model": 203.59233107208428
         },
         {
          "Date": "1984-05-01T00:00:00",
          "Box": "30 °N - 90 °N",
          "Obs": 206.4,
          "Obs_uncertainty": 2.05,
          "Model": 204.3574492415749
         },
         {
          "Date": "1984-06-01T00:00:00",
          "Box": "30 °N - 90 °N",
          "Obs": 206.33,
          "Obs_uncertainty": 1.98,
          "Model": 205.17945867130635
         },
         {
          "Date": "1984-07-01T00:00:00",
          "Box": "30 °N - 90 °N",
          "Obs": 206.21,
          "Obs_uncertainty": 1.85,
          "Model": 206.24643971318895
         },
         {
          "Date": "1984-08-01T00:00:00",
          "Box": "30 °N - 90 °N",
          "Obs": 204.53,
          "Obs_uncertainty": 1.29,
          "Model": 207.44782103395252
         },
         {
          "Date": "1984-09-01T00:00:00",
          "Box": "30 °N - 90 °N",
          "Obs": 207.34,
          "Obs_uncertainty": 1.67,
          "Model": 208.48699822071455
         },
         {
          "Date": "1984-10-01T00:00:00",
          "Box": "30 °N - 90 °N",
          "Obs": 209.61,
          "Obs_uncertainty": 1.14,
          "Model": 209.12217703393716
         },
         {
          "Date": "1984-11-01T00:00:00",
          "Box": "30 °N - 90 °N",
          "Obs": 210.97,
          "Obs_uncertainty": 1.1,
          "Model": 209.57782785647294
         },
         {
          "Date": "1984-12-01T00:00:00",
          "Box": "30 °N - 90 °N",
          "Obs": 211.75,
          "Obs_uncertainty": 1.32,
          "Model": 210.2100156354986
         },
         {
          "Date": "1985-01-01T00:00:00",
          "Box": "30 °N - 90 °N",
          "Obs": 210.44,
          "Obs_uncertainty": 1.51,
          "Model": 210.8281361882788
         },
         {
          "Date": "1985-02-01T00:00:00",
          "Box": "30 °N - 90 °N",
          "Obs": 211.19,
          "Obs_uncertainty": 1.25,
          "Model": 211.25627505503942
         },
         {
          "Date": "1985-03-01T00:00:00",
          "Box": "30 °N - 90 °N",
          "Obs": 212.55,
          "Obs_uncertainty": 1.05,
          "Model": 211.69178012639424
         },
         {
          "Date": "1985-04-01T00:00:00",
          "Box": "30 °N - 90 °N",
          "Obs": 213.81,
          "Obs_uncertainty": 1.61,
          "Model": 212.26699801365987
         },
         {
          "Date": "1985-05-01T00:00:00",
          "Box": "30 °N - 90 °N",
          "Obs": 214.28,
          "Obs_uncertainty": 1.35,
          "Model": 213.07972886220796
         },
         {
          "Date": "1985-06-01T00:00:00",
          "Box": "30 °N - 90 °N",
          "Obs": 212.63,
          "Obs_uncertainty": 1.09,
          "Model": 213.94919420345866
         },
         {
          "Date": "1985-07-01T00:00:00",
          "Box": "30 °N - 90 °N",
          "Obs": 214.44,
          "Obs_uncertainty": 1.56,
          "Model": 215.06205943944036
         },
         {
          "Date": "1985-08-01T00:00:00",
          "Box": "30 °N - 90 °N",
          "Obs": 216.97,
          "Obs_uncertainty": 1.66,
          "Model": 216.3115420702117
         },
         {
          "Date": "1985-09-01T00:00:00",
          "Box": "30 °N - 90 °N",
          "Obs": 219.32,
          "Obs_uncertainty": 2.18,
          "Model": 217.403543784828
         },
         {
          "Date": "1985-10-01T00:00:00",
          "Box": "30 °N - 90 °N",
          "Obs": 219.87,
          "Obs_uncertainty": 1.74,
          "Model": 218.0974144977318
         },
         {
          "Date": "1985-11-01T00:00:00",
          "Box": "30 °N - 90 °N",
          "Obs": 221.26,
          "Obs_uncertainty": 1.64,
          "Model": 218.6133581828044
         },
         {
          "Date": "1985-12-01T00:00:00",
          "Box": "30 °N - 90 °N",
          "Obs": 219.9,
          "Obs_uncertainty": 2.17,
          "Model": 219.3020574131872
         },
         {
          "Date": "1986-01-01T00:00:00",
          "Box": "30 °N - 90 °N",
          "Obs": 220.16,
          "Obs_uncertainty": 1.95,
          "Model": 220.00728342014253
         },
         {
          "Date": "1986-02-01T00:00:00",
          "Box": "30 °N - 90 °N",
          "Obs": 221.28,
          "Obs_uncertainty": 1.29,
          "Model": 220.55811107985426
         },
         {
          "Date": "1986-03-01T00:00:00",
          "Box": "30 °N - 90 °N",
          "Obs": 222.42,
          "Obs_uncertainty": 1.29,
          "Model": 221.12863846040057
         },
         {
          "Date": "1986-04-01T00:00:00",
          "Box": "30 °N - 90 °N",
          "Obs": 226.51,
          "Obs_uncertainty": 1.18,
          "Model": 221.85339229271182
         },
         {
          "Date": "1986-05-01T00:00:00",
          "Box": "30 °N - 90 °N",
          "Obs": 227.23,
          "Obs_uncertainty": 1.76,
          "Model": 222.82382612082466
         },
         {
          "Date": "1986-06-01T00:00:00",
          "Box": "30 °N - 90 °N",
          "Obs": 227.55,
          "Obs_uncertainty": 1.27,
          "Model": 223.85374254900051
         },
         {
          "Date": "1986-07-01T00:00:00",
          "Box": "30 °N - 90 °N",
          "Obs": 226.6,
          "Obs_uncertainty": 1.4,
          "Model": 225.10569011326044
         },
         {
          "Date": "1986-08-01T00:00:00",
          "Box": "30 °N - 90 °N",
          "Obs": 226.99,
          "Obs_uncertainty": 2.87,
          "Model": 226.4917645169395
         },
         {
          "Date": "1986-09-01T00:00:00",
          "Box": "30 °N - 90 °N",
          "Obs": 231.47,
          "Obs_uncertainty": 2.43,
          "Model": 227.74116973491402
         },
         {
          "Date": "1986-10-01T00:00:00",
          "Box": "30 °N - 90 °N",
          "Obs": 233.69,
          "Obs_uncertainty": 2.04,
          "Model": 228.6273272543385
         },
         {
          "Date": "1986-11-01T00:00:00",
          "Box": "30 °N - 90 °N",
          "Obs": 234.3,
          "Obs_uncertainty": 2.08,
          "Model": 229.35142635165775
         },
         {
          "Date": "1986-12-01T00:00:00",
          "Box": "30 °N - 90 °N",
          "Obs": 235.36,
          "Obs_uncertainty": 2.2,
          "Model": 230.23210616624814
         },
         {
          "Date": "1987-01-01T00:00:00",
          "Box": "30 °N - 90 °N",
          "Obs": 234.88,
          "Obs_uncertainty": 1.41,
          "Model": 231.19705101240822
         },
         {
          "Date": "1987-02-01T00:00:00",
          "Box": "30 °N - 90 °N",
          "Obs": 236.565,
          "Obs_uncertainty": 1.31,
          "Model": 231.9605979792948
         },
         {
          "Date": "1987-03-01T00:00:00",
          "Box": "30 °N - 90 °N",
          "Obs": 236.37,
          "Obs_uncertainty": 1.82,
          "Model": 232.65610063277538
         },
         {
          "Date": "1987-04-01T00:00:00",
          "Box": "30 °N - 90 °N",
          "Obs": 238.525,
          "Obs_uncertainty": 1.56,
          "Model": 233.46568447319947
         },
         {
          "Date": "1987-05-01T00:00:00",
          "Box": "30 °N - 90 °N",
          "Obs": 239.81,
          "Obs_uncertainty": 1.44,
          "Model": 234.50288507036566
         },
         {
          "Date": "1987-06-01T00:00:00",
          "Box": "30 °N - 90 °N",
          "Obs": 240.94,
          "Obs_uncertainty": 1.42,
          "Model": 235.58773006925367
         },
         {
          "Date": "1987-07-01T00:00:00",
          "Box": "30 °N - 90 °N",
          "Obs": 240.695,
          "Obs_uncertainty": 1.45,
          "Model": 236.9173887716602
         },
         {
          "Date": "1987-08-01T00:00:00",
          "Box": "30 °N - 90 °N",
          "Obs": 241.655,
          "Obs_uncertainty": 1.75,
          "Model": 238.39163099465912
         },
         {
          "Date": "1987-09-01T00:00:00",
          "Box": "30 °N - 90 °N",
          "Obs": 244.485,
          "Obs_uncertainty": 1.905,
          "Model": 239.70882063732728
         },
         {
          "Date": "1987-10-01T00:00:00",
          "Box": "30 °N - 90 °N",
          "Obs": 247.615,
          "Obs_uncertainty": 1.835,
          "Model": 240.61631114608423
         },
         {
          "Date": "1987-11-01T00:00:00",
          "Box": "30 °N - 90 °N",
          "Obs": 248.255,
          "Obs_uncertainty": 2.02,
          "Model": 241.3364268709849
         },
         {
          "Date": "1987-12-01T00:00:00",
          "Box": "30 °N - 90 °N",
          "Obs": 248.36,
          "Obs_uncertainty": 1.495,
          "Model": 242.22761087342505
         },
         {
          "Date": "1988-01-01T00:00:00",
          "Box": "30 °N - 90 °N",
          "Obs": 248.455,
          "Obs_uncertainty": 1.87,
          "Model": 243.00720472333347
         },
         {
          "Date": "1988-02-01T00:00:00",
          "Box": "30 °N - 90 °N",
          "Obs": 248.715,
          "Obs_uncertainty": 1.9,
          "Model": 243.51143862904644
         },
         {
          "Date": "1988-03-01T00:00:00",
          "Box": "30 °N - 90 °N",
          "Obs": 247.91,
          "Obs_uncertainty": 2.06,
          "Model": 244.01478190731126
         },
         {
          "Date": "1988-04-01T00:00:00",
          "Box": "30 °N - 90 °N",
          "Obs": 249.665,
          "Obs_uncertainty": 1.92,
          "Model": 244.66434008848944
         },
         {
          "Date": "1988-05-01T00:00:00",
          "Box": "30 °N - 90 °N",
          "Obs": 251.055,
          "Obs_uncertainty": 1.52,
          "Model": 245.5662841183431
         },
         {
          "Date": "1988-06-01T00:00:00",
          "Box": "30 °N - 90 °N",
          "Obs": 251.495,
          "Obs_uncertainty": 1.355,
          "Model": 246.52669555561135
         },
         {
          "Date": "1988-07-01T00:00:00",
          "Box": "30 °N - 90 °N",
          "Obs": 251.575,
          "Obs_uncertainty": 1.3050000000000002,
          "Model": 247.74002976722164
         },
         {
          "Date": "1988-08-01T00:00:00",
          "Box": "30 °N - 90 °N",
          "Obs": 252.485,
          "Obs_uncertainty": 1.65,
          "Model": 249.09993252104204
         },
         {
          "Date": "1988-09-01T00:00:00",
          "Box": "30 °N - 90 °N",
          "Obs": 254.495,
          "Obs_uncertainty": 1.54,
          "Model": 250.29836590517354
         },
         {
          "Date": "1988-10-01T00:00:00",
          "Box": "30 °N - 90 °N",
          "Obs": 256.045,
          "Obs_uncertainty": 1.6349999999999998,
          "Model": 251.08043084746043
         },
         {
          "Date": "1988-11-01T00:00:00",
          "Box": "30 °N - 90 °N",
          "Obs": 255.86,
          "Obs_uncertainty": 1.455,
          "Model": 251.6770150394694
         },
         {
          "Date": "1988-12-01T00:00:00",
          "Box": "30 °N - 90 °N",
          "Obs": 255.765,
          "Obs_uncertainty": 1.71,
          "Model": 252.45389295298182
         },
         {
          "Date": "1989-01-01T00:00:00",
          "Box": "30 °N - 90 °N",
          "Obs": 254.47,
          "Obs_uncertainty": 1.905,
          "Model": 253.09137418186577
         },
         {
          "Date": "1989-02-01T00:00:00",
          "Box": "30 °N - 90 °N",
          "Obs": 255.17,
          "Obs_uncertainty": 1.52,
          "Model": 253.43984119380863
         },
         {
          "Date": "1989-03-01T00:00:00",
          "Box": "30 °N - 90 °N",
          "Obs": 254.985,
          "Obs_uncertainty": 2.065,
          "Model": 253.79588734481098
         },
         {
          "Date": "1989-04-01T00:00:00",
          "Box": "30 °N - 90 °N",
          "Obs": 257.285,
          "Obs_uncertainty": 1.665,
          "Model": 254.29973195664638
         },
         {
          "Date": "1989-05-01T00:00:00",
          "Box": "30 °N - 90 °N",
          "Obs": 257.23,
          "Obs_uncertainty": 1.35,
          "Model": 255.05738523769818
         },
         {
          "Date": "1989-06-01T00:00:00",
          "Box": "30 °N - 90 °N",
          "Obs": 257.745,
          "Obs_uncertainty": 0.965,
          "Model": 255.8741656487074
         },
         {
          "Date": "1989-07-01T00:00:00",
          "Box": "30 °N - 90 °N",
          "Obs": 259.65,
          "Obs_uncertainty": 1.28,
          "Model": 256.9466610100399
         },
         {
          "Date": "1989-08-01T00:00:00",
          "Box": "30 °N - 90 °N",
          "Obs": 260.11,
          "Obs_uncertainty": 1.38,
          "Model": 258.1628706510169
         },
         {
          "Date": "1989-09-01T00:00:00",
          "Box": "30 °N - 90 °N",
          "Obs": 261.51,
          "Obs_uncertainty": 0.72,
          "Model": 259.21091718376755
         },
         {
          "Date": "1989-10-01T00:00:00",
          "Box": "30 °N - 90 °N",
          "Obs": 260.85,
          "Obs_uncertainty": 0.99,
          "Model": 259.83485294751875
         },
         {
          "Date": "1989-11-01T00:00:00",
          "Box": "30 °N - 90 °N",
          "Obs": 262.45,
          "Obs_uncertainty": 1.4,
          "Model": 260.2736348022358
         },
         {
          "Date": "1989-12-01T00:00:00",
          "Box": "30 °N - 90 °N",
          "Obs": 263.22,
          "Obs_uncertainty": 1.48,
          "Model": 260.8999591665324
         },
         {
          "Date": "1990-01-01T00:00:00",
          "Box": "30 °N - 90 °N",
          "Obs": 261.83,
          "Obs_uncertainty": 1.57,
          "Model": 261.32039196459164
         },
         {
          "Date": "1990-02-01T00:00:00",
          "Box": "30 °N - 90 °N",
          "Obs": 262.34,
          "Obs_uncertainty": 1.4,
          "Model": 261.42640791535194
         },
         {
          "Date": "1990-03-01T00:00:00",
          "Box": "30 °N - 90 °N",
          "Obs": 262.96,
          "Obs_uncertainty": 1.45,
          "Model": 261.5609740761827
         },
         {
          "Date": "1990-04-01T00:00:00",
          "Box": "30 °N - 90 °N",
          "Obs": 263.86,
          "Obs_uncertainty": 1.19,
          "Model": 261.8478893286221
         },
         {
          "Date": "1990-05-01T00:00:00",
          "Box": "30 °N - 90 °N",
          "Obs": 264.75,
          "Obs_uncertainty": 1.35,
          "Model": 262.3893470485407
         },
         {
          "Date": "1990-06-01T00:00:00",
          "Box": "30 °N - 90 °N",
          "Obs": 264.37,
          "Obs_uncertainty": 1.1,
          "Model": 262.9918408404566
         },
         {
          "Date": "1990-07-01T00:00:00",
          "Box": "30 °N - 90 °N",
          "Obs": 263.02,
          "Obs_uncertainty": 1.06,
          "Model": 263.85123133714217
         },
         {
          "Date": "1990-08-01T00:00:00",
          "Box": "30 °N - 90 °N",
          "Obs": 263.82,
          "Obs_uncertainty": 1.06,
          "Model": 264.84929629840497
         },
         {
          "Date": "1990-09-01T00:00:00",
          "Box": "30 °N - 90 °N",
          "Obs": 264.98,
          "Obs_uncertainty": 1.45,
          "Model": 265.6747583357178
         },
         {
          "Date": "1990-10-01T00:00:00",
          "Box": "30 °N - 90 °N",
          "Obs": 265.28,
          "Obs_uncertainty": 2.42,
          "Model": 266.07623549776145
         },
         {
          "Date": "1990-11-01T00:00:00",
          "Box": "30 °N - 90 °N",
          "Obs": 266.95,
          "Obs_uncertainty": 1.92,
          "Model": 266.29719443044667
         },
         {
          "Date": "1990-12-01T00:00:00",
          "Box": "30 °N - 90 °N",
          "Obs": 266.17,
          "Obs_uncertainty": 2.19,
          "Model": 266.7111144768587
         },
         {
          "Date": "1991-01-01T00:00:00",
          "Box": "30 °N - 90 °N",
          "Obs": 266.15,
          "Obs_uncertainty": 2.21,
          "Model": 266.9156173852804
         },
         {
          "Date": "1991-02-01T00:00:00",
          "Box": "30 °N - 90 °N",
          "Obs": 267.7,
          "Obs_uncertainty": 2.28,
          "Model": 266.82244722447416
         },
         {
          "Date": "1991-03-01T00:00:00",
          "Box": "30 °N - 90 °N",
          "Obs": null,
          "Obs_uncertainty": null,
          "Model": 266.7739553220373
         },
         {
          "Date": "1991-04-01T00:00:00",
          "Box": "30 °N - 90 °N",
          "Obs": null,
          "Obs_uncertainty": null,
          "Model": 266.8787091193182
         },
         {
          "Date": "1991-05-01T00:00:00",
          "Box": "30 °N - 90 °N",
          "Obs": 265.89,
          "Obs_uncertainty": 1.06,
          "Model": 267.2317087133346
         },
         {
          "Date": "1991-06-01T00:00:00",
          "Box": "30 °N - 90 °N",
          "Obs": 267.08,
          "Obs_uncertainty": 1.21,
          "Model": 267.64523060495065
         },
         {
          "Date": "1991-07-01T00:00:00",
          "Box": "30 °N - 90 °N",
          "Obs": 267.59,
          "Obs_uncertainty": 1.16,
          "Model": 268.3124432118921
         },
         {
          "Date": "1991-08-01T00:00:00",
          "Box": "30 °N - 90 °N",
          "Obs": 267.5,
          "Obs_uncertainty": 1.11,
          "Model": 269.11254172045767
         },
         {
          "Date": "1991-09-01T00:00:00",
          "Box": "30 °N - 90 °N",
          "Obs": 266.58,
          "Obs_uncertainty": 0.93,
          "Model": 269.7413979691256
         },
         {
          "Date": "1991-10-01T00:00:00",
          "Box": "30 °N - 90 °N",
          "Obs": 267.05,
          "Obs_uncertainty": 1.1,
          "Model": 269.9574338676573
         },
         {
          "Date": "1991-11-01T00:00:00",
          "Box": "30 °N - 90 °N",
          "Obs": 268.24,
          "Obs_uncertainty": 1,
          "Model": 270.0004410447186
         },
         {
          "Date": "1991-12-01T00:00:00",
          "Box": "30 °N - 90 °N",
          "Obs": 268.66,
          "Obs_uncertainty": 1.26,
          "Model": 270.23490467950063
         },
         {
          "Date": "1992-01-01T00:00:00",
          "Box": "30 °N - 90 °N",
          "Obs": 268.23,
          "Obs_uncertainty": 0.77,
          "Model": 270.3034908301957
         },
         {
          "Date": "1992-02-01T00:00:00",
          "Box": "30 °N - 90 °N",
          "Obs": 267.62,
          "Obs_uncertainty": 0.73,
          "Model": 270.1148369486656
         },
         {
          "Date": "1992-03-01T00:00:00",
          "Box": "30 °N - 90 °N",
          "Obs": 267.35,
          "Obs_uncertainty": 1.08,
          "Model": 269.9729496134753
         },
         {
          "Date": "1992-04-01T00:00:00",
          "Box": "30 °N - 90 °N",
          "Obs": 267.93,
          "Obs_uncertainty": 0.91,
          "Model": 269.97639843723636
         },
         {
          "Date": "1992-05-01T00:00:00",
          "Box": "30 °N - 90 °N",
          "Obs": 267.5,
          "Obs_uncertainty": 0.82,
          "Model": 270.2138609963739
         },
         {
          "Date": "1992-06-01T00:00:00",
          "Box": "30 °N - 90 °N",
          "Obs": 267.63,
          "Obs_uncertainty": 1.01,
          "Model": 270.5068463753223
         },
         {
          "Date": "1992-07-01T00:00:00",
          "Box": "30 °N - 90 °N",
          "Obs": 267.29,
          "Obs_uncertainty": 0.86,
          "Model": 271.04746173920756
         },
         {
          "Date": "1992-08-01T00:00:00",
          "Box": "30 °N - 90 °N",
          "Obs": 267.28,
          "Obs_uncertainty": 0.76,
          "Model": 271.7144917120494
         },
         {
          "Date": "1992-09-01T00:00:00",
          "Box": "30 °N - 90 °N",
          "Obs": 267.83,
          "Obs_uncertainty": 1.07,
          "Model": 272.21138848617693
         },
         {
          "Date": "1992-10-01T00:00:00",
          "Box": "30 °N - 90 °N",
          "Obs": 269.14,
          "Obs_uncertainty": 1.07,
          "Model": 272.3047606278873
         },
         {
          "Date": "1992-11-01T00:00:00",
          "Box": "30 °N - 90 °N",
          "Obs": 270.36,
          "Obs_uncertainty": 1.07,
          "Model": 272.2300211546658
         },
         {
          "Date": "1992-12-01T00:00:00",
          "Box": "30 °N - 90 °N",
          "Obs": 270.38,
          "Obs_uncertainty": 1.29,
          "Model": 272.34307104134035
         },
         {
          "Date": "1993-01-01T00:00:00",
          "Box": "30 °N - 90 °N",
          "Obs": 270.22,
          "Obs_uncertainty": 1.24,
          "Model": 272.2574039179057
         },
         {
          "Date": "1993-02-01T00:00:00",
          "Box": "30 °N - 90 °N",
          "Obs": 269.49,
          "Obs_uncertainty": 1.12,
          "Model": 271.9092385713965
         },
         {
          "Date": "1993-03-01T00:00:00",
          "Box": "30 °N - 90 °N",
          "Obs": 269.57,
          "Obs_uncertainty": 0.82,
          "Model": 271.61713783535475
         },
         {
          "Date": "1993-04-01T00:00:00",
          "Box": "30 °N - 90 °N",
          "Obs": 269.85,
          "Obs_uncertainty": 0.96,
          "Model": 271.4636943526382
         },
         {
          "Date": "1993-05-01T00:00:00",
          "Box": "30 °N - 90 °N",
          "Obs": 269.94,
          "Obs_uncertainty": 0.7,
          "Model": 271.53162773969564
         },
         {
          "Date": "1993-06-01T00:00:00",
          "Box": "30 °N - 90 °N",
          "Obs": 269.09,
          "Obs_uncertainty": 0.61,
          "Model": 271.6515029454767
         },
         {
          "Date": "1993-07-01T00:00:00",
          "Box": "30 °N - 90 °N",
          "Obs": 268.97,
          "Obs_uncertainty": 0.52,
          "Model": 272.01564347125003
         },
         {
          "Date": "1993-08-01T00:00:00",
          "Box": "30 °N - 90 °N",
          "Obs": 268.83,
          "Obs_uncertainty": 0.58,
          "Model": 272.49961676408134
         },
         {
          "Date": "1993-09-01T00:00:00",
          "Box": "30 °N - 90 °N",
          "Obs": 269.17,
          "Obs_uncertainty": 0.75,
          "Model": 272.81250581690455
         },
         {
          "Date": "1993-10-01T00:00:00",
          "Box": "30 °N - 90 °N",
          "Obs": 269.69,
          "Obs_uncertainty": 0.75,
          "Model": 272.72887809161455
         },
         {
          "Date": "1993-11-01T00:00:00",
          "Box": "30 °N - 90 °N",
          "Obs": 268.8,
          "Obs_uncertainty": 0.86,
          "Model": 272.48194747197425
         },
         {
          "Date": "1993-12-01T00:00:00",
          "Box": "30 °N - 90 °N",
          "Obs": 268.72,
          "Obs_uncertainty": 0.89,
          "Model": 272.42172533827784
         },
         {
          "Date": "1994-01-01T00:00:00",
          "Box": "30 °N - 90 °N",
          "Obs": 268.81,
          "Obs_uncertainty": 0.88,
          "Model": 272.13760007450446
         },
         {
          "Date": "1994-02-01T00:00:00",
          "Box": "30 °N - 90 °N",
          "Obs": 268.671,
          "Obs_uncertainty": 0.74,
          "Model": 271.60829906893395
         },
         {
          "Date": "1994-03-01T00:00:00",
          "Box": "30 °N - 90 °N",
          "Obs": 268.159,
          "Obs_uncertainty": 0.878,
          "Model": 271.1631881295302
         },
         {
          "Date": "1994-04-01T00:00:00",
          "Box": "30 °N - 90 °N",
          "Obs": 268.447,
          "Obs_uncertainty": 0.65,
          "Model": 270.8624227984047
         },
         {
          "Date": "1994-05-01T00:00:00",
          "Box": "30 °N - 90 °N",
          "Obs": 268.588,
          "Obs_uncertainty": 0.5870000000000001,
          "Model": 270.773779078458
         },
         {
          "Date": "1994-06-01T00:00:00",
          "Box": "30 °N - 90 °N",
          "Obs": 267.592,
          "Obs_uncertainty": 0.818,
          "Model": 270.73757631571937
         },
         {
          "Date": "1994-07-01T00:00:00",
          "Box": "30 °N - 90 °N",
          "Obs": 267.955,
          "Obs_uncertainty": 0.354,
          "Model": 270.9360321818147
         },
         {
          "Date": "1994-08-01T00:00:00",
          "Box": "30 °N - 90 °N",
          "Obs": 267.66900000000004,
          "Obs_uncertainty": 0.29100000000000004,
          "Model": 271.2501126399875
         },
         {
          "Date": "1994-09-01T00:00:00",
          "Box": "30 °N - 90 °N",
          "Obs": 267.983,
          "Obs_uncertainty": 0.36,
          "Model": 271.40982051016647
         },
         {
          "Date": "1994-10-01T00:00:00",
          "Box": "30 °N - 90 °N",
          "Obs": 268.556,
          "Obs_uncertainty": 0.5720000000000001,
          "Model": 271.2115682524226
         },
         {
          "Date": "1994-11-01T00:00:00",
          "Box": "30 °N - 90 °N",
          "Obs": 268.771,
          "Obs_uncertainty": 0.433,
          "Model": 270.8661809801773
         },
         {
          "Date": "1994-12-01T00:00:00",
          "Box": "30 °N - 90 °N",
          "Obs": 268.563,
          "Obs_uncertainty": 0.599,
          "Model": 270.6919049521389
         },
         {
          "Date": "1995-01-01T00:00:00",
          "Box": "30 °N - 90 °N",
          "Obs": 268.303,
          "Obs_uncertainty": 0.498,
          "Model": 270.4205210986009
         },
         {
          "Date": "1995-02-01T00:00:00",
          "Box": "30 °N - 90 °N",
          "Obs": 268.084,
          "Obs_uncertainty": 0.423,
          "Model": 269.99366018321336
         },
         {
          "Date": "1995-03-01T00:00:00",
          "Box": "30 °N - 90 °N",
          "Obs": 268.069,
          "Obs_uncertainty": 0.428,
          "Model": 269.63801513651015
         },
         {
          "Date": "1995-04-01T00:00:00",
          "Box": "30 °N - 90 °N",
          "Obs": 267.992,
          "Obs_uncertainty": 0.414,
          "Model": 269.411275054275
         },
         {
          "Date": "1995-05-01T00:00:00",
          "Box": "30 °N - 90 °N",
          "Obs": 267.67,
          "Obs_uncertainty": 0.374,
          "Model": 269.36688266417775
         },
         {
          "Date": "1995-06-01T00:00:00",
          "Box": "30 °N - 90 °N",
          "Obs": 267.312,
          "Obs_uncertainty": 0.338,
          "Model": 269.36477743847615
         },
         {
          "Date": "1995-07-01T00:00:00",
          "Box": "30 °N - 90 °N",
          "Obs": 266.812,
          "Obs_uncertainty": 0.354,
          "Model": 269.58321056012176
         },
         {
          "Date": "1995-08-01T00:00:00",
          "Box": "30 °N - 90 °N",
          "Obs": 266.543,
          "Obs_uncertainty": 0.294,
          "Model": 269.91690876366295
         },
         {
          "Date": "1995-09-01T00:00:00",
          "Box": "30 °N - 90 °N",
          "Obs": 266.52,
          "Obs_uncertainty": 0.33,
          "Model": 270.1205450912649
         },
         {
          "Date": "1995-10-01T00:00:00",
          "Box": "30 °N - 90 °N",
          "Obs": 266.98900000000003,
          "Obs_uncertainty": 0.373,
          "Model": 270.01125635086413
         },
         {
          "Date": "1995-11-01T00:00:00",
          "Box": "30 °N - 90 °N",
          "Obs": 267.1555,
          "Obs_uncertainty": 0.387,
          "Model": 269.76644555960183
         },
         {
          "Date": "1995-12-01T00:00:00",
          "Box": "30 °N - 90 °N",
          "Obs": 266.99850000000004,
          "Obs_uncertainty": 0.3615,
          "Model": 269.665273480977
         },
         {
          "Date": "1996-01-01T00:00:00",
          "Box": "30 °N - 90 °N",
          "Obs": 266.7905,
          "Obs_uncertainty": 0.3535,
          "Model": 269.5600946281544
         },
         {
          "Date": "1996-02-01T00:00:00",
          "Box": "30 °N - 90 °N",
          "Obs": 266.89,
          "Obs_uncertainty": 0.35750000000000004,
          "Model": 269.3418426383618
         },
         {
          "Date": "1996-03-01T00:00:00",
          "Box": "30 °N - 90 °N",
          "Obs": 266.6795,
          "Obs_uncertainty": 0.375,
          "Model": 269.14994706825985
         },
         {
          "Date": "1996-04-01T00:00:00",
          "Box": "30 °N - 90 °N",
          "Obs": 266.5565,
          "Obs_uncertainty": 0.363,
          "Model": 269.0473487167363
         },
         {
          "Date": "1996-05-01T00:00:00",
          "Box": "30 °N - 90 °N",
          "Obs": 266.698,
          "Obs_uncertainty": 0.4,
          "Model": 269.08824769834564
         },
         {
          "Date": "1996-06-01T00:00:00",
          "Box": "30 °N - 90 °N",
          "Obs": 266.4435,
          "Obs_uncertainty": 0.358,
          "Model": 269.15181202689496
         },
         {
          "Date": "1996-07-01T00:00:00",
          "Box": "30 °N - 90 °N",
          "Obs": 266.106,
          "Obs_uncertainty": 0.4005,
          "Model": 269.433508172653
         },
         {
          "Date": "1996-08-01T00:00:00",
          "Box": "30 °N - 90 °N",
          "Obs": 265.7885,
          "Obs_uncertainty": 0.439,
          "Model": 269.82755063579214
         },
         {
          "Date": "1996-09-01T00:00:00",
          "Box": "30 °N - 90 °N",
          "Obs": 265.8375,
          "Obs_uncertainty": 0.4405,
          "Model": 270.08402890785794
         },
         {
          "Date": "1996-10-01T00:00:00",
          "Box": "30 °N - 90 °N",
          "Obs": 265.96500000000003,
          "Obs_uncertainty": 0.3785,
          "Model": 270.01274431881416
         },
         {
          "Date": "1996-11-01T00:00:00",
          "Box": "30 °N - 90 °N",
          "Obs": 266.121,
          "Obs_uncertainty": 0.4115,
          "Model": 269.79375955177096
         },
         {
          "Date": "1996-12-01T00:00:00",
          "Box": "30 °N - 90 °N",
          "Obs": 266.06600000000003,
          "Obs_uncertainty": 0.4075,
          "Model": 269.71590692963196
         },
         {
          "Date": "1997-01-01T00:00:00",
          "Box": "30 °N - 90 °N",
          "Obs": 265.901,
          "Obs_uncertainty": 0.3795,
          "Model": 269.3923069632604
         },
         {
          "Date": "1997-02-01T00:00:00",
          "Box": "30 °N - 90 °N",
          "Obs": 265.4705,
          "Obs_uncertainty": 0.34600000000000003,
          "Model": 268.8164552850475
         },
         {
          "Date": "1997-03-01T00:00:00",
          "Box": "30 °N - 90 °N",
          "Obs": 265.4155,
          "Obs_uncertainty": 0.36200000000000004,
          "Model": 268.3126823979338
         },
         {
          "Date": "1997-04-01T00:00:00",
          "Box": "30 °N - 90 °N",
          "Obs": 265.27200000000005,
          "Obs_uncertainty": 0.3715,
          "Model": 267.9182338678106
         },
         {
          "Date": "1997-05-01T00:00:00",
          "Box": "30 °N - 90 °N",
          "Obs": 265.225,
          "Obs_uncertainty": 0.415,
          "Model": 267.6680059946839
         },
         {
          "Date": "1997-06-01T00:00:00",
          "Box": "30 °N - 90 °N",
          "Obs": 264.89,
          "Obs_uncertainty": 0.425,
          "Model": 267.4503496549449
         },
         {
          "Date": "1997-07-01T00:00:00",
          "Box": "30 °N - 90 °N",
          "Obs": 264.5485,
          "Obs_uncertainty": 0.4475,
          "Model": 267.4864379720261
         },
         {
          "Date": "1997-08-01T00:00:00",
          "Box": "30 °N - 90 °N",
          "Obs": 264.2575,
          "Obs_uncertainty": 0.4440000000000001,
          "Model": 267.66507078884035
         },
         {
          "Date": "1997-09-01T00:00:00",
          "Box": "30 °N - 90 °N",
          "Obs": 264.22700000000003,
          "Obs_uncertainty": 0.4575,
          "Model": 267.7330909751929
         },
         {
          "Date": "1997-10-01T00:00:00",
          "Box": "30 °N - 90 °N",
          "Obs": 264.5255,
          "Obs_uncertainty": 0.409,
          "Model": 267.51539625397294
         },
         {
          "Date": "1997-11-01T00:00:00",
          "Box": "30 °N - 90 °N",
          "Obs": 264.749,
          "Obs_uncertainty": 0.4175,
          "Model": 267.1522709804533
         },
         {
          "Date": "1997-12-01T00:00:00",
          "Box": "30 °N - 90 °N",
          "Obs": 264.88800000000003,
          "Obs_uncertainty": 0.3695,
          "Model": 266.9059508794854
         },
         {
          "Date": "1998-01-01T00:00:00",
          "Box": "30 °N - 90 °N",
          "Obs": 264.684,
          "Obs_uncertainty": 0.39799999999999996,
          "Model": 266.6292413407034
         },
         {
          "Date": "1998-02-01T00:00:00",
          "Box": "30 °N - 90 °N",
          "Obs": 264.448,
          "Obs_uncertainty": 0.37,
          "Model": 266.33280778847296
         },
         {
          "Date": "1998-03-01T00:00:00",
          "Box": "30 °N - 90 °N",
          "Obs": 264.215,
          "Obs_uncertainty": 0.3425,
          "Model": 266.12461478197963
         },
         {
          "Date": "1998-04-01T00:00:00",
          "Box": "30 °N - 90 °N",
          "Obs": 264.2175,
          "Obs_uncertainty": 0.3285,
          "Model": 265.9910730235638
         },
         {
          "Date": "1998-05-01T00:00:00",
          "Box": "30 °N - 90 °N",
          "Obs": 263.8935,
          "Obs_uncertainty": 0.379,
          "Model": 265.9499895116586
         },
         {
          "Date": "1998-06-01T00:00:00",
          "Box": "30 °N - 90 °N",
          "Obs": 263.34,
          "Obs_uncertainty": 0.4465,
          "Model": 265.9118706914804
         },
         {
          "Date": "1998-07-01T00:00:00",
          "Box": "30 °N - 90 °N",
          "Obs": 262.7515,
          "Obs_uncertainty": 0.3875,
          "Model": 266.0756971523673
         },
         {
          "Date": "1998-08-01T00:00:00",
          "Box": "30 °N - 90 °N",
          "Obs": 262.184,
          "Obs_uncertainty": 0.407,
          "Model": 266.3449895502905
         },
         {
          "Date": "1998-09-01T00:00:00",
          "Box": "30 °N - 90 °N",
          "Obs": 262.22450000000003,
          "Obs_uncertainty": 0.32799999999999996,
          "Model": 266.49473381836424
         },
         {
          "Date": "1998-10-01T00:00:00",
          "Box": "30 °N - 90 °N",
          "Obs": 262.4625,
          "Obs_uncertainty": 0.337,
          "Model": 266.3557578027202
         },
         {
          "Date": "1998-11-01T00:00:00",
          "Box": "30 °N - 90 °N",
          "Obs": 262.762,
          "Obs_uncertainty": 0.314,
          "Model": 266.0774802766466
         },
         {
          "Date": "1998-12-01T00:00:00",
          "Box": "30 °N - 90 °N",
          "Obs": 262.678,
          "Obs_uncertainty": 0.2945,
          "Model": 265.91358349902805
         },
         {
          "Date": "1999-01-01T00:00:00",
          "Box": "30 °N - 90 °N",
          "Obs": 262.62300000000005,
          "Obs_uncertainty": 0.321,
          "Model": 265.61784989229886
         },
         {
          "Date": "1999-02-01T00:00:00",
          "Box": "30 °N - 90 °N",
          "Obs": 262.45599999999996,
          "Obs_uncertainty": 0.309,
          "Model": 265.19152414111556
         },
         {
          "Date": "1999-03-01T00:00:00",
          "Box": "30 °N - 90 °N",
          "Obs": 262.285,
          "Obs_uncertainty": 0.3105,
          "Model": 264.8373721312861
         },
         {
          "Date": "1999-04-01T00:00:00",
          "Box": "30 °N - 90 °N",
          "Obs": 262.1225,
          "Obs_uncertainty": 0.35200000000000004,
          "Model": 264.57445393968214
         },
         {
          "Date": "1999-05-01T00:00:00",
          "Box": "30 °N - 90 °N",
          "Obs": 261.5895,
          "Obs_uncertainty": 0.3005,
          "Model": 264.43279267385674
         },
         {
          "Date": "1999-06-01T00:00:00",
          "Box": "30 °N - 90 °N",
          "Obs": 261.2075,
          "Obs_uncertainty": 0.266,
          "Model": 264.3102139158712
         },
         {
          "Date": "1999-07-01T00:00:00",
          "Box": "30 °N - 90 °N",
          "Obs": 260.6035,
          "Obs_uncertainty": 0.355,
          "Model": 264.39240641867946
         },
         {
          "Date": "1999-08-01T00:00:00",
          "Box": "30 °N - 90 °N",
          "Obs": 260.4605,
          "Obs_uncertainty": 0.3575,
          "Model": 264.58252912171554
         },
         {
          "Date": "1999-09-01T00:00:00",
          "Box": "30 °N - 90 °N",
          "Obs": 260.629,
          "Obs_uncertainty": 0.4155,
          "Model": 264.65971235848065
         },
         {
          "Date": "1999-10-01T00:00:00",
          "Box": "30 °N - 90 °N",
          "Obs": 261.09900000000005,
          "Obs_uncertainty": 0.3675,
          "Model": 264.46292381835224
         },
         {
          "Date": "1999-11-01T00:00:00",
          "Box": "30 °N - 90 °N",
          "Obs": 261.381,
          "Obs_uncertainty": 0.287,
          "Model": 264.1381136192077
         },
         {
          "Date": "1999-12-01T00:00:00",
          "Box": "30 °N - 90 °N",
          "Obs": 261.367,
          "Obs_uncertainty": 0.271,
          "Model": 263.92948933440573
         },
         {
          "Date": "2000-01-01T00:00:00",
          "Box": "30 °N - 90 °N",
          "Obs": 261.1985,
          "Obs_uncertainty": 0.27399999999999997,
          "Model": 263.7076826092113
         },
         {
          "Date": "2000-02-01T00:00:00",
          "Box": "30 °N - 90 °N",
          "Obs": 261.086,
          "Obs_uncertainty": 0.2915,
          "Model": 263.41391385625445
         },
         {
          "Date": "2000-03-01T00:00:00",
          "Box": "30 °N - 90 °N",
          "Obs": 261.01050000000004,
          "Obs_uncertainty": 0.2765,
          "Model": 263.1655804825265
         },
         {
          "Date": "2000-04-01T00:00:00",
          "Box": "30 °N - 90 °N",
          "Obs": 261.015,
          "Obs_uncertainty": 0.264,
          "Model": 262.993245975692
         },
         {
          "Date": "2000-05-01T00:00:00",
          "Box": "30 °N - 90 °N",
          "Obs": 260.7645,
          "Obs_uncertainty": 0.2695,
          "Model": 262.9294061704391
         },
         {
          "Date": "2000-06-01T00:00:00",
          "Box": "30 °N - 90 °N",
          "Obs": 260.645,
          "Obs_uncertainty": 0.273,
          "Model": 262.87758754356196
         },
         {
          "Date": "2000-07-01T00:00:00",
          "Box": "30 °N - 90 °N",
          "Obs": 260.2755,
          "Obs_uncertainty": 0.243,
          "Model": 263.0263288209722
         },
         {
          "Date": "2000-08-01T00:00:00",
          "Box": "30 °N - 90 °N",
          "Obs": 259.8995,
          "Obs_uncertainty": 0.23800000000000002,
          "Model": 263.28047464862135
         },
         {
          "Date": "2000-09-01T00:00:00",
          "Box": "30 °N - 90 °N",
          "Obs": 259.99249999999995,
          "Obs_uncertainty": 0.3075,
          "Model": 263.41916408249676
         },
         {
          "Date": "2000-10-01T00:00:00",
          "Box": "30 °N - 90 °N",
          "Obs": 260.22799999999995,
          "Obs_uncertainty": 0.2975,
          "Model": 263.278667974836
         },
         {
          "Date": "2000-11-01T00:00:00",
          "Box": "30 °N - 90 °N",
          "Obs": 260.452,
          "Obs_uncertainty": 0.3035,
          "Model": 263.0064132240701
         },
         {
          "Date": "2000-12-01T00:00:00",
          "Box": "30 °N - 90 °N",
          "Obs": 260.4385,
          "Obs_uncertainty": 0.258,
          "Model": 262.84932907031606
         },
         {
          "Date": "2001-01-01T00:00:00",
          "Box": "30 °N - 90 °N",
          "Obs": 260.45550000000003,
          "Obs_uncertainty": 0.3200000000000001,
          "Model": 262.6470299311518
         },
         {
          "Date": "2001-02-01T00:00:00",
          "Box": "30 °N - 90 °N",
          "Obs": 260.1225,
          "Obs_uncertainty": 0.36200000000000004,
          "Model": 262.34394675788667
         },
         {
          "Date": "2001-03-01T00:00:00",
          "Box": "30 °N - 90 °N",
          "Obs": 259.87350000000004,
          "Obs_uncertainty": 0.361,
          "Model": 262.0826480767671
         },
         {
          "Date": "2001-04-01T00:00:00",
          "Box": "30 °N - 90 °N",
          "Obs": 259.47900000000004,
          "Obs_uncertainty": 0.28300000000000003,
          "Model": 261.89717887725647
         },
         {
          "Date": "2001-05-01T00:00:00",
          "Box": "30 °N - 90 °N",
          "Obs": 259.117,
          "Obs_uncertainty": 0.3135,
          "Model": 261.8242812974356
         },
         {
          "Date": "2001-06-01T00:00:00",
          "Box": "30 °N - 90 °N",
          "Obs": 258.67,
          "Obs_uncertainty": 0.2945,
          "Model": 261.76485905221284
         },
         {
          "Date": "2001-07-01T00:00:00",
          "Box": "30 °N - 90 °N",
          "Obs": 258.194,
          "Obs_uncertainty": 0.2725,
          "Model": 261.91248489049974
         },
         {
          "Date": "2001-08-01T00:00:00",
          "Box": "30 °N - 90 °N",
          "Obs": 257.7555,
          "Obs_uncertainty": 0.361,
          "Model": 262.1673454169687
         },
         {
          "Date": "2001-09-01T00:00:00",
          "Box": "30 °N - 90 °N",
          "Obs": 257.838,
          "Obs_uncertainty": 0.4965,
          "Model": 262.300796339401
         },
         {
          "Date": "2001-10-01T00:00:00",
          "Box": "30 °N - 90 °N",
          "Obs": 258.322,
          "Obs_uncertainty": 0.521,
          "Model": 262.1435492432246
         },
         {
          "Date": "2001-11-01T00:00:00",
          "Box": "30 °N - 90 °N",
          "Obs": 258.3525,
          "Obs_uncertainty": 0.4455,
          "Model": 261.849932061762
         },
         {
          "Date": "2001-12-01T00:00:00",
          "Box": "30 °N - 90 °N",
          "Obs": 258.282,
          "Obs_uncertainty": 0.3865,
          "Model": 261.67732084302554
         },
         {
          "Date": "2002-01-01T00:00:00",
          "Box": "30 °N - 90 °N",
          "Obs": 258.038,
          "Obs_uncertainty": 0.4205,
          "Model": 261.4346679953105
         },
         {
          "Date": "2002-02-01T00:00:00",
          "Box": "30 °N - 90 °N",
          "Obs": 257.8335,
          "Obs_uncertainty": 0.386,
          "Model": 261.07956819199535
         },
         {
          "Date": "2002-03-01T00:00:00",
          "Box": "30 °N - 90 °N",
          "Obs": 257.689,
          "Obs_uncertainty": 0.364,
          "Model": 260.7730234192037
         },
         {
          "Date": "2002-04-01T00:00:00",
          "Box": "30 °N - 90 °N",
          "Obs": 257.3665,
          "Obs_uncertainty": 0.35850000000000004,
          "Model": 260.54365407450405
         },
         {
          "Date": "2002-05-01T00:00:00",
          "Box": "30 °N - 90 °N",
          "Obs": 256.996,
          "Obs_uncertainty": 0.37799999999999995,
          "Model": 260.4300352684045
         },
         {
          "Date": "2002-06-01T00:00:00",
          "Box": "30 °N - 90 °N",
          "Obs": 256.6175,
          "Obs_uncertainty": 0.36,
          "Model": 260.3306437871023
         },
         {
          "Date": "2002-07-01T00:00:00",
          "Box": "30 °N - 90 °N",
          "Obs": 256.17600000000004,
          "Obs_uncertainty": 0.41,
          "Model": 260.443225011349
         },
         {
          "Date": "2002-08-01T00:00:00",
          "Box": "30 °N - 90 °N",
          "Obs": 255.778,
          "Obs_uncertainty": 0.4515,
          "Model": 260.6619602275921
         },
         {
          "Date": "2002-09-01T00:00:00",
          "Box": "30 °N - 90 °N",
          "Obs": 255.8845,
          "Obs_uncertainty": 0.517,
          "Model": 260.75012189175743
         },
         {
          "Date": "2002-10-01T00:00:00",
          "Box": "30 °N - 90 °N",
          "Obs": 256.101,
          "Obs_uncertainty": 0.4635,
          "Model": 260.53235213867094
         },
         {
          "Date": "2002-11-01T00:00:00",
          "Box": "30 °N - 90 °N",
          "Obs": 256.14,
          "Obs_uncertainty": 0.4435,
          "Model": 260.17338983287976
         },
         {
          "Date": "2002-12-01T00:00:00",
          "Box": "30 °N - 90 °N",
          "Obs": 256.242,
          "Obs_uncertainty": 0.495,
          "Model": 259.94370926534873
         },
         {
          "Date": "2003-01-01T00:00:00",
          "Box": "30 °N - 90 °N",
          "Obs": 255.867,
          "Obs_uncertainty": 0.4540000000000001,
          "Model": 259.59561542026785
         },
         {
          "Date": "2003-02-01T00:00:00",
          "Box": "30 °N - 90 °N",
          "Obs": 255.715,
          "Obs_uncertainty": 0.35550000000000004,
          "Model": 259.1278537882324
         },
         {
          "Date": "2003-03-01T00:00:00",
          "Box": "30 °N - 90 °N",
          "Obs": 255.572,
          "Obs_uncertainty": 0.35700000000000004,
          "Model": 258.7400477433602
         },
         {
          "Date": "2003-04-01T00:00:00",
          "Box": "30 °N - 90 °N",
          "Obs": 255.54,
          "Obs_uncertainty": 0.4675,
          "Model": 258.44898737276185
         },
         {
          "Date": "2003-05-01T00:00:00",
          "Box": "30 °N - 90 °N",
          "Obs": 255.2285,
          "Obs_uncertainty": 0.39299999999999996,
          "Model": 258.2860419902356
         },
         {
          "Date": "2003-06-01T00:00:00",
          "Box": "30 °N - 90 °N",
          "Obs": 254.7395,
          "Obs_uncertainty": 0.3945,
          "Model": 258.1453623959255
         },
         {
          "Date": "2003-07-01T00:00:00",
          "Box": "30 °N - 90 °N",
          "Obs": 254.2795,
          "Obs_uncertainty": 0.449,
          "Model": 258.2122772332539
         },
         {
          "Date": "2003-08-01T00:00:00",
          "Box": "30 °N - 90 °N",
          "Obs": 253.718,
          "Obs_uncertainty": 0.4560000000000001,
          "Model": 258.3856790007826
         },
         {
          "Date": "2003-09-01T00:00:00",
          "Box": "30 °N - 90 °N",
          "Obs": 253.81599999999997,
          "Obs_uncertainty": 0.43700000000000006,
          "Model": 258.4404988084121
         },
         {
          "Date": "2003-10-01T00:00:00",
          "Box": "30 °N - 90 °N",
          "Obs": 254.0915,
          "Obs_uncertainty": 0.35050000000000003,
          "Model": 258.21327957345056
         },
         {
          "Date": "2003-11-01T00:00:00",
          "Box": "30 °N - 90 °N",
          "Obs": 254.2695,
          "Obs_uncertainty": 0.2935,
          "Model": 257.85630446468963
         },
         {
          "Date": "2003-12-01T00:00:00",
          "Box": "30 °N - 90 °N",
          "Obs": 254.484,
          "Obs_uncertainty": 0.3115,
          "Model": 257.6210184917552
         },
         {
          "Date": "2004-01-01T00:00:00",
          "Box": "30 °N - 90 °N",
          "Obs": 254.18200000000002,
          "Obs_uncertainty": 0.35600000000000004,
          "Model": 257.32219149672653
         },
         {
          "Date": "2004-02-01T00:00:00",
          "Box": "30 °N - 90 °N",
          "Obs": 253.9965,
          "Obs_uncertainty": 0.338,
          "Model": 256.92624488369916
         },
         {
          "Date": "2004-03-01T00:00:00",
          "Box": "30 °N - 90 °N",
          "Obs": 253.775,
          "Obs_uncertainty": 0.326,
          "Model": 256.586709089593
         },
         {
          "Date": "2004-04-01T00:00:00",
          "Box": "30 °N - 90 °N",
          "Obs": 253.4235,
          "Obs_uncertainty": 0.295,
          "Model": 256.3247399433342
         },
         {
          "Date": "2004-05-01T00:00:00",
          "Box": "30 °N - 90 °N",
          "Obs": 253.1775,
          "Obs_uncertainty": 0.3205,
          "Model": 256.1721151030624
         },
         {
          "Date": "2004-06-01T00:00:00",
          "Box": "30 °N - 90 °N",
          "Obs": 252.734,
          "Obs_uncertainty": 0.3395,
          "Model": 256.0331777783203
         },
         {
          "Date": "2004-07-01T00:00:00",
          "Box": "30 °N - 90 °N",
          "Obs": 252.138,
          "Obs_uncertainty": 0.3225,
          "Model": 256.09845281294076
         },
         {
          "Date": "2004-08-01T00:00:00",
          "Box": "30 °N - 90 °N",
          "Obs": 251.8245,
          "Obs_uncertainty": 0.3785,
          "Model": 256.26742140876047
         },
         {
          "Date": "2004-09-01T00:00:00",
          "Box": "30 °N - 90 °N",
          "Obs": 251.604,
          "Obs_uncertainty": 0.389,
          "Model": 256.31622677255075
         },
         {
          "Date": "2004-10-01T00:00:00",
          "Box": "30 °N - 90 °N",
          "Obs": 251.89,
          "Obs_uncertainty": 0.353,
          "Model": 256.08112965087633
         },
         {
          "Date": "2004-11-01T00:00:00",
          "Box": "30 °N - 90 °N",
          "Obs": 252.0875,
          "Obs_uncertainty": 0.27399999999999997,
          "Model": 255.71350394646544
         },
         {
          "Date": "2004-12-01T00:00:00",
          "Box": "30 °N - 90 °N",
          "Obs": 252.166,
          "Obs_uncertainty": 0.3135,
          "Model": 255.465210998546
         },
         {
          "Date": "2005-01-01T00:00:00",
          "Box": "30 °N - 90 °N",
          "Obs": 251.977,
          "Obs_uncertainty": 0.31699999999999995,
          "Model": 255.12763991061192
         },
         {
          "Date": "2005-02-01T00:00:00",
          "Box": "30 °N - 90 °N",
          "Obs": 251.8545,
          "Obs_uncertainty": 0.3065,
          "Model": 254.6852168220941
         },
         {
          "Date": "2005-03-01T00:00:00",
          "Box": "30 °N - 90 °N",
          "Obs": 251.759,
          "Obs_uncertainty": 0.34650000000000003,
          "Model": 254.3076963622322
         },
         {
          "Date": "2005-04-01T00:00:00",
          "Box": "30 °N - 90 °N",
          "Obs": 251.935,
          "Obs_uncertainty": 0.28600000000000003,
          "Model": 254.0106377742905
         },
         {
          "Date": "2005-05-01T00:00:00",
          "Box": "30 °N - 90 °N",
          "Obs": 251.7825,
          "Obs_uncertainty": 0.3285,
          "Model": 253.82387062451252
         },
         {
          "Date": "2005-06-01T00:00:00",
          "Box": "30 °N - 90 °N",
          "Obs": 251.2735,
          "Obs_uncertainty": 0.2705,
          "Model": 253.6521038036159
         },
         {
          "Date": "2005-07-01T00:00:00",
          "Box": "30 °N - 90 °N",
          "Obs": 250.521,
          "Obs_uncertainty": 0.3995,
          "Model": 253.6842524196286
         },
         {
          "Date": "2005-08-01T00:00:00",
          "Box": "30 °N - 90 °N",
          "Obs": 249.88,
          "Obs_uncertainty": 0.3355,
          "Model": 253.81947424191304
         },
         {
          "Date": "2005-09-01T00:00:00",
          "Box": "30 °N - 90 °N",
          "Obs": 249.7455,
          "Obs_uncertainty": 0.348,
          "Model": 253.8358398765461
         },
         {
          "Date": "2005-10-01T00:00:00",
          "Box": "30 °N - 90 °N",
          "Obs": 249.8145,
          "Obs_uncertainty": 0.3235,
          "Model": 253.57225040114764
         },
         {
          "Date": "2005-11-01T00:00:00",
          "Box": "30 °N - 90 °N",
          "Obs": 249.885,
          "Obs_uncertainty": 0.2905,
          "Model": 253.1781878062564
         },
         {
          "Date": "2005-12-01T00:00:00",
          "Box": "30 °N - 90 °N",
          "Obs": 249.9275,
          "Obs_uncertainty": 0.3185,
          "Model": 252.90257650961996
         },
         {
          "Date": "2006-01-01T00:00:00",
          "Box": "30 °N - 90 °N",
          "Obs": 249.6585,
          "Obs_uncertainty": 0.331,
          "Model": 252.5423883344088
         },
         {
          "Date": "2006-02-01T00:00:00",
          "Box": "30 °N - 90 °N",
          "Obs": 249.5455,
          "Obs_uncertainty": 0.34,
          "Model": 252.08876278225233
         },
         {
          "Date": "2006-03-01T00:00:00",
          "Box": "30 °N - 90 °N",
          "Obs": 249.105,
          "Obs_uncertainty": 0.317,
          "Model": 251.70658864659123
         },
         {
          "Date": "2006-04-01T00:00:00",
          "Box": "30 °N - 90 °N",
          "Obs": 248.7445,
          "Obs_uncertainty": 0.2675,
          "Model": 251.40705736135553
         },
         {
          "Date": "2006-05-01T00:00:00",
          "Box": "30 °N - 90 °N",
          "Obs": 248.457,
          "Obs_uncertainty": 0.328,
          "Model": 251.21509002379605
         },
         {
          "Date": "2006-06-01T00:00:00",
          "Box": "30 °N - 90 °N",
          "Obs": 247.9435,
          "Obs_uncertainty": 0.3625,
          "Model": 251.03845254990193
         },
         {
          "Date": "2006-07-01T00:00:00",
          "Box": "30 °N - 90 °N",
          "Obs": 247.69799999999998,
          "Obs_uncertainty": 0.3045,
          "Model": 251.06177269428244
         },
         {
          "Date": "2006-08-01T00:00:00",
          "Box": "30 °N - 90 °N",
          "Obs": 247.14700000000002,
          "Obs_uncertainty": 0.2795,
          "Model": 251.18827883739345
         },
         {
          "Date": "2006-09-01T00:00:00",
          "Box": "30 °N - 90 °N",
          "Obs": 247.1265,
          "Obs_uncertainty": 0.3335,
          "Model": 251.2044091586552
         },
         {
          "Date": "2006-10-01T00:00:00",
          "Box": "30 °N - 90 °N",
          "Obs": 247.5915,
          "Obs_uncertainty": 0.28700000000000003,
          "Model": 250.956705758667
         },
         {
          "Date": "2006-11-01T00:00:00",
          "Box": "30 °N - 90 °N",
          "Obs": 247.5765,
          "Obs_uncertainty": 0.2895,
          "Model": 250.5840864990767
         },
         {
          "Date": "2006-12-01T00:00:00",
          "Box": "30 °N - 90 °N",
          "Obs": 247.59099999999998,
          "Obs_uncertainty": 0.3025,
          "Model": 250.3220991849195
         },
         {
          "Date": "2007-01-01T00:00:00",
          "Box": "30 °N - 90 °N",
          "Obs": 247.377,
          "Obs_uncertainty": 0.26899999999999996,
          "Model": 250.0216409705932
         },
         {
          "Date": "2007-02-01T00:00:00",
          "Box": "30 °N - 90 °N",
          "Obs": 247.245,
          "Obs_uncertainty": 0.3065,
          "Model": 249.65319523573615
         },
         {
          "Date": "2007-03-01T00:00:00",
          "Box": "30 °N - 90 °N",
          "Obs": 247.0975,
          "Obs_uncertainty": 0.2965,
          "Model": 249.34315583276498
         },
         {
          "Date": "2007-04-01T00:00:00",
          "Box": "30 °N - 90 °N",
          "Obs": 246.9925,
          "Obs_uncertainty": 0.27399999999999997,
          "Model": 249.1054250297009
         },
         {
          "Date": "2007-05-01T00:00:00",
          "Box": "30 °N - 90 °N",
          "Obs": 246.762,
          "Obs_uncertainty": 0.3165,
          "Model": 248.96337023311764
         },
         {
          "Date": "2007-06-01T00:00:00",
          "Box": "30 °N - 90 °N",
          "Obs": 246.3665,
          "Obs_uncertainty": 0.2865,
          "Model": 248.8312840234135
         },
         {
          "Date": "2007-07-01T00:00:00",
          "Box": "30 °N - 90 °N",
          "Obs": 245.891,
          "Obs_uncertainty": 0.2755,
          "Model": 248.895305568264
         },
         {
          "Date": "2007-08-01T00:00:00",
          "Box": "30 °N - 90 °N",
          "Obs": 245.4415,
          "Obs_uncertainty": 0.22,
          "Model": 249.06199665193677
         },
         {
          "Date": "2007-09-01T00:00:00",
          "Box": "30 °N - 90 °N",
          "Obs": 245.391,
          "Obs_uncertainty": 0.308,
          "Model": 249.12156178507882
         },
         {
          "Date": "2007-10-01T00:00:00",
          "Box": "30 °N - 90 °N",
          "Obs": 245.5105,
          "Obs_uncertainty": 0.32299999999999995,
          "Model": 248.92225773653746
         },
         {
          "Date": "2007-11-01T00:00:00",
          "Box": "30 °N - 90 °N",
          "Obs": 245.6825,
          "Obs_uncertainty": 0.264,
          "Model": 248.59757482149266
         },
         {
          "Date": "2007-12-01T00:00:00",
          "Box": "30 °N - 90 °N",
          "Obs": 245.5735,
          "Obs_uncertainty": 0.28150000000000003,
          "Model": 248.37797802758087
         },
         {
          "Date": "2008-01-01T00:00:00",
          "Box": "30 °N - 90 °N",
          "Obs": 245.4415,
          "Obs_uncertainty": 0.28800000000000003,
          "Model": 248.10547161779573
         },
         {
          "Date": "2008-02-01T00:00:00",
          "Box": "30 °N - 90 °N",
          "Obs": 245.1985,
          "Obs_uncertainty": 0.2735,
          "Model": 247.75118750146802
         },
         {
          "Date": "2008-03-01T00:00:00",
          "Box": "30 °N - 90 °N",
          "Obs": 244.943,
          "Obs_uncertainty": 0.2545,
          "Model": 247.44843741683428
         },
         {
          "Date": "2008-04-01T00:00:00",
          "Box": "30 °N - 90 °N",
          "Obs": 244.72099999999998,
          "Obs_uncertainty": 0.287,
          "Model": 247.21162954114658
         },
         {
          "Date": "2008-05-01T00:00:00",
          "Box": "30 °N - 90 °N",
          "Obs": 244.546,
          "Obs_uncertainty": 0.2815,
          "Model": 247.06605532931366
         },
         {
          "Date": "2008-06-01T00:00:00",
          "Box": "30 °N - 90 °N",
          "Obs": 244.10700000000003,
          "Obs_uncertainty": 0.26,
          "Model": 246.92836714968644
         },
         {
          "Date": "2008-07-01T00:00:00",
          "Box": "30 °N - 90 °N",
          "Obs": 243.792,
          "Obs_uncertainty": 0.317,
          "Model": 246.9899265418133
         },
         {
          "Date": "2008-08-01T00:00:00",
          "Box": "30 °N - 90 °N",
          "Obs": 243.4495,
          "Obs_uncertainty": 0.268,
          "Model": 247.15431129412568
         },
         {
          "Date": "2008-09-01T00:00:00",
          "Box": "30 °N - 90 °N",
          "Obs": 243.495,
          "Obs_uncertainty": 0.34299999999999997,
          "Model": 247.20772146299007
         },
         {
          "Date": "2008-10-01T00:00:00",
          "Box": "30 °N - 90 °N",
          "Obs": 243.878,
          "Obs_uncertainty": 0.355,
          "Model": 246.99524551105316
         },
         {
          "Date": "2008-11-01T00:00:00",
          "Box": "30 °N - 90 °N",
          "Obs": 244.027,
          "Obs_uncertainty": 0.30000000000000004,
          "Model": 246.65387451716384
         },
         {
          "Date": "2008-12-01T00:00:00",
          "Box": "30 °N - 90 °N",
          "Obs": 243.97799999999998,
          "Obs_uncertainty": 0.2855,
          "Model": 246.42029384310334
         },
         {
          "Date": "2009-01-01T00:00:00",
          "Box": "30 °N - 90 °N",
          "Obs": 243.6155,
          "Obs_uncertainty": 0.327,
          "Model": 246.1078347371958
         },
         {
          "Date": "2009-02-01T00:00:00",
          "Box": "30 °N - 90 °N",
          "Obs": 243.25,
          "Obs_uncertainty": 0.321,
          "Model": 245.71650867883852
         },
         {
          "Date": "2009-03-01T00:00:00",
          "Box": "30 °N - 90 °N",
          "Obs": 242.87599999999998,
          "Obs_uncertainty": 0.251,
          "Model": 245.39687837875755
         },
         {
          "Date": "2009-04-01T00:00:00",
          "Box": "30 °N - 90 °N",
          "Obs": 242.6085,
          "Obs_uncertainty": 0.267,
          "Model": 245.1529188452936
         },
         {
          "Date": "2009-05-01T00:00:00",
          "Box": "30 °N - 90 °N",
          "Obs": 242.3665,
          "Obs_uncertainty": 0.2575,
          "Model": 245.0044045313655
         },
         {
          "Date": "2009-06-01T00:00:00",
          "Box": "30 °N - 90 °N",
          "Obs": 242.2285,
          "Obs_uncertainty": 0.215,
          "Model": 244.86631300988154
         },
         {
          "Date": "2009-07-01T00:00:00",
          "Box": "30 °N - 90 °N",
          "Obs": 241.91,
          "Obs_uncertainty": 0.21,
          "Model": 244.92229377300782
         },
         {
          "Date": "2009-08-01T00:00:00",
          "Box": "30 °N - 90 °N",
          "Obs": 241.62599999999998,
          "Obs_uncertainty": 0.232,
          "Model": 245.07989779405588
         },
         {
          "Date": "2009-09-01T00:00:00",
          "Box": "30 °N - 90 °N",
          "Obs": 241.8205,
          "Obs_uncertainty": 0.257,
          "Model": 245.13229157702486
         },
         {
          "Date": "2009-10-01T00:00:00",
          "Box": "30 °N - 90 °N",
          "Obs": 242.0545,
          "Obs_uncertainty": 0.2655,
          "Model": 244.93013832942273
         },
         {
          "Date": "2009-11-01T00:00:00",
          "Box": "30 °N - 90 °N",
          "Obs": 242.153,
          "Obs_uncertainty": 0.2315,
          "Model": 244.6043955333559
         },
         {
          "Date": "2009-12-01T00:00:00",
          "Box": "30 °N - 90 °N",
          "Obs": 242.081,
          "Obs_uncertainty": 0.2645,
          "Model": 244.3818597866387
         },
         {
          "Date": "2010-01-01T00:00:00",
          "Box": "30 °N - 90 °N",
          "Obs": 241.8975,
          "Obs_uncertainty": 0.27,
          "Model": 244.117249065372
         },
         {
          "Date": "2010-02-01T00:00:00",
          "Box": "30 °N - 90 °N",
          "Obs": 241.676,
          "Obs_uncertainty": 0.245,
          "Model": 243.7793943902454
         },
         {
          "Date": "2010-03-01T00:00:00",
          "Box": "30 °N - 90 °N",
          "Obs": 241.3615,
          "Obs_uncertainty": 0.2415,
          "Model": 243.49193982504494
         },
         {
          "Date": "2010-04-01T00:00:00",
          "Box": "30 °N - 90 °N",
          "Obs": 241.1755,
          "Obs_uncertainty": 0.248,
          "Model": 243.26899845889375
         },
         {
          "Date": "2010-05-01T00:00:00",
          "Box": "30 °N - 90 °N",
          "Obs": 240.8055,
          "Obs_uncertainty": 0.237,
          "Model": 243.13524142090841
         },
         {
          "Date": "2010-06-01T00:00:00",
          "Box": "30 °N - 90 °N",
          "Obs": 240.4315,
          "Obs_uncertainty": 0.2815,
          "Model": 243.00867246079508
         },
         {
          "Date": "2010-07-01T00:00:00",
          "Box": "30 °N - 90 °N",
          "Obs": 240.0315,
          "Obs_uncertainty": 0.2535,
          "Model": 243.07769466386452
         },
         {
          "Date": "2010-08-01T00:00:00",
          "Box": "30 °N - 90 °N",
          "Obs": 239.585,
          "Obs_uncertainty": 0.28,
          "Model": 243.24787013182794
         },
         {
          "Date": "2010-09-01T00:00:00",
          "Box": "30 °N - 90 °N",
          "Obs": 239.577,
          "Obs_uncertainty": 0.2505,
          "Model": 243.3084577684972
         },
         {
          "Date": "2010-10-01T00:00:00",
          "Box": "30 °N - 90 °N",
          "Obs": 239.90900000000002,
          "Obs_uncertainty": 0.3295,
          "Model": 243.10631755874692
         },
         {
          "Date": "2010-11-01T00:00:00",
          "Box": "30 °N - 90 °N",
          "Obs": 239.78099999999998,
          "Obs_uncertainty": 0.342,
          "Model": 242.77663907803068
         },
         {
          "Date": "2010-12-01T00:00:00",
          "Box": "30 °N - 90 °N",
          "Obs": 239.6765,
          "Obs_uncertainty": 0.2715,
          "Model": 242.55292631707056
         },
         {
          "Date": "2011-01-01T00:00:00",
          "Box": "30 °N - 90 °N",
          "Obs": 239.3735,
          "Obs_uncertainty": 0.28300000000000003,
          "Model": 242.29254039617976
         },
         {
          "Date": "2011-02-01T00:00:00",
          "Box": "30 °N - 90 °N",
          "Obs": 239.0855,
          "Obs_uncertainty": 0.266,
          "Model": 241.96132864732058
         },
         {
          "Date": "2011-03-01T00:00:00",
          "Box": "30 °N - 90 °N",
          "Obs": 238.96900000000002,
          "Obs_uncertainty": 0.299,
          "Model": 241.68081252874293
         },
         {
          "Date": "2011-04-01T00:00:00",
          "Box": "30 °N - 90 °N",
          "Obs": 238.725,
          "Obs_uncertainty": 0.29200000000000004,
          "Model": 241.46634096204298
         },
         {
          "Date": "2011-05-01T00:00:00",
          "Box": "30 °N - 90 °N",
          "Obs": 238.6255,
          "Obs_uncertainty": 0.34750000000000003,
          "Model": 241.3452173572724
         },
         {
          "Date": "2011-06-01T00:00:00",
          "Box": "30 °N - 90 °N",
          "Obs": 238.152,
          "Obs_uncertainty": 0.2855,
          "Model": 241.23226705519056
         },
         {
          "Date": "2011-07-01T00:00:00",
          "Box": "30 °N - 90 °N",
          "Obs": 237.72400000000002,
          "Obs_uncertainty": 0.302,
          "Model": 241.31790395062984
         },
         {
          "Date": "2011-08-01T00:00:00",
          "Box": "30 °N - 90 °N",
          "Obs": 237.217,
          "Obs_uncertainty": 0.26149999999999995,
          "Model": 241.50467532839758
         },
         {
          "Date": "2011-09-01T00:00:00",
          "Box": "30 °N - 90 °N",
          "Obs": 237.4065,
          "Obs_uncertainty": 0.368,
          "Model": 241.5760101408757
         },
         {
          "Date": "2011-10-01T00:00:00",
          "Box": "30 °N - 90 °N",
          "Obs": 237.59599999999998,
          "Obs_uncertainty": 0.374,
          "Model": 241.3736043826275
         },
         {
          "Date": "2011-11-01T00:00:00",
          "Box": "30 °N - 90 °N",
          "Obs": 237.738,
          "Obs_uncertainty": 0.35,
          "Model": 241.03976814878516
         },
         {
          "Date": "2011-12-01T00:00:00",
          "Box": "30 °N - 90 °N",
          "Obs": 237.66099999999997,
          "Obs_uncertainty": 0.35650000000000004,
          "Model": 240.81725366359703
         },
         {
          "Date": "2012-01-01T00:00:00",
          "Box": "30 °N - 90 °N",
          "Obs": 237.3915,
          "Obs_uncertainty": 0.343,
          "Model": 240.52119892553236
         },
         {
          "Date": "2012-02-01T00:00:00",
          "Box": "30 °N - 90 °N",
          "Obs": 237.1365,
          "Obs_uncertainty": 0.3140000000000001,
          "Model": 240.1355423331093
         },
         {
          "Date": "2012-03-01T00:00:00",
          "Box": "30 °N - 90 °N",
          "Obs": 236.8925,
          "Obs_uncertainty": 0.30800000000000005,
          "Model": 239.81295192725315
         },
         {
          "Date": "2012-04-01T00:00:00",
          "Box": "30 °N - 90 °N",
          "Obs": 236.7165,
          "Obs_uncertainty": 0.31,
          "Model": 239.5660071526777
         },
         {
          "Date": "2012-05-01T00:00:00",
          "Box": "30 °N - 90 °N",
          "Obs": 236.4435,
          "Obs_uncertainty": 0.3125,
          "Model": 239.4208786238736
         },
         {
          "Date": "2012-06-01T00:00:00",
          "Box": "30 °N - 90 °N",
          "Obs": 236.042,
          "Obs_uncertainty": 0.3395,
          "Model": 239.28891341789756
         },
         {
          "Date": "2012-07-01T00:00:00",
          "Box": "30 °N - 90 °N",
          "Obs": 235.4725,
          "Obs_uncertainty": 0.35050000000000003,
          "Model": 239.35840364408784
         },
         {
          "Date": "2012-08-01T00:00:00",
          "Box": "30 °N - 90 °N",
          "Obs": 235.1475,
          "Obs_uncertainty": 0.3385,
          "Model": 239.53151642812253
         },
         {
          "Date": "2012-09-01T00:00:00",
          "Box": "30 °N - 90 °N",
          "Obs": 235.356,
          "Obs_uncertainty": 0.37799999999999995,
          "Model": 239.59259341758047
         },
         {
          "Date": "2012-10-01T00:00:00",
          "Box": "30 °N - 90 °N",
          "Obs": 235.8345,
          "Obs_uncertainty": 0.377,
          "Model": 239.38592586567393
         },
         {
          "Date": "2012-11-01T00:00:00",
          "Box": "30 °N - 90 °N",
          "Obs": 235.97400000000002,
          "Obs_uncertainty": 0.4215,
          "Model": 239.05052188706514
         },
         {
          "Date": "2012-12-01T00:00:00",
          "Box": "30 °N - 90 °N",
          "Obs": 236.074,
          "Obs_uncertainty": 0.339,
          "Model": 238.82537151710426
         },
         {
          "Date": "2013-01-01T00:00:00",
          "Box": "30 °N - 90 °N",
          "Obs": 235.953,
          "Obs_uncertainty": 0.28900000000000003,
          "Model": 238.59454960425694
         },
         {
          "Date": "2013-02-01T00:00:00",
          "Box": "30 °N - 90 °N",
          "Obs": 235.66099999999997,
          "Obs_uncertainty": 0.3065,
          "Model": 238.30853386514752
         },
         {
          "Date": "2013-03-01T00:00:00",
          "Box": "30 °N - 90 °N",
          "Obs": 235.35299999999998,
          "Obs_uncertainty": 0.27399999999999997,
          "Model": 238.0688643295803
         },
         {
          "Date": "2013-04-01T00:00:00",
          "Box": "30 °N - 90 °N",
          "Obs": 235.019,
          "Obs_uncertainty": 0.314,
          "Model": 237.89395019936728
         },
         {
          "Date": "2013-05-01T00:00:00",
          "Box": "30 °N - 90 °N",
          "Obs": 234.9435,
          "Obs_uncertainty": 0.268,
          "Model": 237.81318956022392
         },
         {
          "Date": "2013-06-01T00:00:00",
          "Box": "30 °N - 90 °N",
          "Obs": 234.886,
          "Obs_uncertainty": 0.322,
          "Model": 237.74022666172021
         },
         {
          "Date": "2013-07-01T00:00:00",
          "Box": "30 °N - 90 °N",
          "Obs": 234.399,
          "Obs_uncertainty": 0.358,
          "Model": 237.86856290108452
         },
         {
          "Date": "2013-08-01T00:00:00",
          "Box": "30 °N - 90 °N",
          "Obs": 233.8715,
          "Obs_uncertainty": 0.2885,
          "Model": 238.09881440510725
         },
         {
          "Date": "2013-09-01T00:00:00",
          "Box": "30 °N - 90 °N",
          "Obs": 234.005,
          "Obs_uncertainty": 0.3825,
          "Model": 238.20964028565223
         },
         {
          "Date": "2013-10-01T00:00:00",
          "Box": "30 °N - 90 °N",
          "Obs": 234.6775,
          "Obs_uncertainty": 0.4575,
          "Model": 238.0381135285562
         },
         {
          "Date": "2013-11-01T00:00:00",
          "Box": "30 °N - 90 °N",
          "Obs": 234.75599999999997,
          "Obs_uncertainty": 0.3255,
          "Model": 237.73092404255817
         },
         {
          "Date": "2013-12-01T00:00:00",
          "Box": "30 °N - 90 °N",
          "Obs": 234.5645,
          "Obs_uncertainty": 0.311,
          "Model": 237.53803774655478
         },
         {
          "Date": "2014-01-01T00:00:00",
          "Box": "30 °N - 90 °N",
          "Obs": 234.375,
          "Obs_uncertainty": 0.3395,
          "Model": 237.28407235270402
         },
         {
          "Date": "2014-02-01T00:00:00",
          "Box": "30 °N - 90 °N",
          "Obs": 234.0495,
          "Obs_uncertainty": 0.3315,
          "Model": 236.94554692818002
         },
         {
          "Date": "2014-03-01T00:00:00",
          "Box": "30 °N - 90 °N",
          "Obs": 233.9245,
          "Obs_uncertainty": 0.3035,
          "Model": 236.66704334981267
         },
         {
          "Date": "2014-04-01T00:00:00",
          "Box": "30 °N - 90 °N",
          "Obs": 233.98,
          "Obs_uncertainty": 0.2775,
          "Model": 236.46444781752055
         },
         {
          "Date": "2014-05-01T00:00:00",
          "Box": "30 °N - 90 °N",
          "Obs": 233.9355,
          "Obs_uncertainty": 0.28800000000000003,
          "Model": 236.36923212228368
         },
         {
          "Date": "2014-06-01T00:00:00",
          "Box": "30 °N - 90 °N",
          "Obs": 233.957,
          "Obs_uncertainty": 0.2615,
          "Model": 236.28759670899885
         },
         {
          "Date": "2014-07-01T00:00:00",
          "Box": "30 °N - 90 °N",
          "Obs": 233.735,
          "Obs_uncertainty": 0.267,
          "Model": 236.40783481765277
         },
         {
          "Date": "2014-08-01T00:00:00",
          "Box": "30 °N - 90 °N",
          "Obs": 233.567,
          "Obs_uncertainty": 0.2595,
          "Model": 236.62923741583958
         },
         {
          "Date": "2014-09-01T00:00:00",
          "Box": "30 °N - 90 °N",
          "Obs": 233.8175,
          "Obs_uncertainty": 0.33899999999999997,
          "Model": 236.72878790354574
         },
         {
          "Date": "2014-10-01T00:00:00",
          "Box": "30 °N - 90 °N",
          "Obs": 233.9305,
          "Obs_uncertainty": 0.307,
          "Model": 236.5424063739423
         },
         {
          "Date": "2014-11-01T00:00:00",
          "Box": "30 °N - 90 °N",
          "Obs": 233.96400000000003,
          "Obs_uncertainty": 0.315,
          "Model": 236.22177897505784
         },
         {
          "Date": "2014-12-01T00:00:00",
          "Box": "30 °N - 90 °N",
          "Obs": 233.7005,
          "Obs_uncertainty": 0.2765,
          "Model": 236.0202747219537
         },
         {
          "Date": "2015-01-01T00:00:00",
          "Box": "30 °N - 90 °N",
          "Obs": 233.378,
          "Obs_uncertainty": 0.375,
          "Model": 235.72653589229049
         },
         {
          "Date": "2015-02-01T00:00:00",
          "Box": "30 °N - 90 °N",
          "Obs": 232.9295,
          "Obs_uncertainty": 0.2765,
          "Model": 235.32992553917515
         },
         {
          "Date": "2015-03-01T00:00:00",
          "Box": "30 °N - 90 °N",
          "Obs": 232.6985,
          "Obs_uncertainty": 0.2965,
          "Model": 235.00169706848266
         },
         {
          "Date": "2015-04-01T00:00:00",
          "Box": "30 °N - 90 °N",
          "Obs": 232.649,
          "Obs_uncertainty": 0.2875,
          "Model": 234.75640771805155
         },
         {
          "Date": "2015-05-01T00:00:00",
          "Box": "30 °N - 90 °N",
          "Obs": 232.597,
          "Obs_uncertainty": 0.213,
          "Model": 234.6237929189661
         },
         {
          "Date": "2015-06-01T00:00:00",
          "Box": "30 °N - 90 °N",
          "Obs": 232.297,
          "Obs_uncertainty": 0.235,
          "Model": 234.50885306979688
         },
         {
          "Date": "2015-07-01T00:00:00",
          "Box": "30 °N - 90 °N",
          "Obs": 231.865,
          "Obs_uncertainty": 0.235,
          "Model": 234.59521329150394
         },
         {
          "Date": "2015-08-01T00:00:00",
          "Box": "30 °N - 90 °N",
          "Obs": 231.743,
          "Obs_uncertainty": 0.228,
          "Model": 234.78382837622277
         },
         {
          "Date": "2015-09-01T00:00:00",
          "Box": "30 °N - 90 °N",
          "Obs": 231.982,
          "Obs_uncertainty": 0.36,
          "Model": 234.8568513690032
         },
         {
          "Date": "2015-10-01T00:00:00",
          "Box": "30 °N - 90 °N",
          "Obs": 232.663,
          "Obs_uncertainty": 0.353,
          "Model": 234.6561714666138
         },
         {
          "Date": "2015-11-01T00:00:00",
          "Box": "30 °N - 90 °N",
          "Obs": 232.621,
          "Obs_uncertainty": 0.238,
          "Model": 234.32679523600393
         },
         {
          "Date": "2015-12-01T00:00:00",
          "Box": "30 °N - 90 °N",
          "Obs": 232.37,
          "Obs_uncertainty": 0.233,
          "Model": 234.11284372849673
         },
         {
          "Date": "2016-01-01T00:00:00",
          "Box": "30 °N - 90 °N",
          "Obs": 232.012,
          "Obs_uncertainty": 0.239,
          "Model": 233.87715786692158
         },
         {
          "Date": "2016-02-01T00:00:00",
          "Box": "30 °N - 90 °N",
          "Obs": 231.7,
          "Obs_uncertainty": 0.263,
          "Model": 233.5734340936355
         },
         {
          "Date": "2016-03-01T00:00:00",
          "Box": "30 °N - 90 °N",
          "Obs": 231.471,
          "Obs_uncertainty": 0.231,
          "Model": 233.31880657301727
         },
         {
          "Date": "2016-04-01T00:00:00",
          "Box": "30 °N - 90 °N",
          "Obs": 231.538,
          "Obs_uncertainty": 0.26,
          "Model": 233.13410140671908
         },
         {
          "Date": "2016-05-01T00:00:00",
          "Box": "30 °N - 90 °N",
          "Obs": 231.547,
          "Obs_uncertainty": 0.256,
          "Model": 233.0510554345532
         },
         {
          "Date": "2016-06-01T00:00:00",
          "Box": "30 °N - 90 °N",
          "Obs": 231.354,
          "Obs_uncertainty": 0.192,
          "Model": 232.9796205088806
         },
         {
          "Date": "2016-07-01T00:00:00",
          "Box": "30 °N - 90 °N",
          "Obs": 231.098,
          "Obs_uncertainty": 0.315,
          "Model": 233.10826540930557
         },
         {
          "Date": "2016-08-01T00:00:00",
          "Box": "30 °N - 90 °N",
          "Obs": 230.667,
          "Obs_uncertainty": 0.181,
          "Model": 233.33754309805792
         },
         {
          "Date": "2016-09-01T00:00:00",
          "Box": "30 °N - 90 °N",
          "Obs": 230.418,
          "Obs_uncertainty": 0.266,
          "Model": 233.4471680098841
         },
         {
          "Date": "2016-10-01T00:00:00",
          "Box": "30 °N - 90 °N",
          "Obs": 231.042,
          "Obs_uncertainty": 0.34600000000000003,
          "Model": 233.2750391550235
         },
         {
          "Date": "2016-11-01T00:00:00",
          "Box": "30 °N - 90 °N",
          "Obs": 231.332,
          "Obs_uncertainty": 0.267,
          "Model": 232.9694621247238
         },
         {
          "Date": "2016-12-01T00:00:00",
          "Box": "30 °N - 90 °N",
          "Obs": 231.174,
          "Obs_uncertainty": 0.197,
          "Model": 232.7802586606784
         },
         {
          "Date": "2017-01-01T00:00:00",
          "Box": "30 °N - 90 °N",
          "Obs": 230.735,
          "Obs_uncertainty": 0.236,
          "Model": 232.5732703366776
         },
         {
          "Date": "2017-02-01T00:00:00",
          "Box": "30 °N - 90 °N",
          "Obs": 230.356,
          "Obs_uncertainty": 0.252,
          "Model": 232.30329248704348
         },
         {
          "Date": "2017-03-01T00:00:00",
          "Box": "30 °N - 90 °N",
          "Obs": 230.241,
          "Obs_uncertainty": 0.236,
          "Model": 232.08822231786934
         },
         {
          "Date": "2017-04-01T00:00:00",
          "Box": "30 °N - 90 °N",
          "Obs": 230.156,
          "Obs_uncertainty": 0.257,
          "Model": 231.95189996875183
         },
         {
          "Date": "2017-05-01T00:00:00",
          "Box": "30 °N - 90 °N",
          "Obs": 230.306,
          "Obs_uncertainty": 0.218,
          "Model": 231.9260831600662
         },
         {
          "Date": "2017-06-01T00:00:00",
          "Box": "30 °N - 90 °N",
          "Obs": 230.104,
          "Obs_uncertainty": 0.192,
          "Model": 231.91564267849765
         },
         {
          "Date": "2017-07-01T00:00:00",
          "Box": "30 °N - 90 °N",
          "Obs": 230.289,
          "Obs_uncertainty": 0.248,
          "Model": 232.10432518473115
         },
         {
          "Date": "2017-08-01T00:00:00",
          "Box": "30 °N - 90 °N",
          "Obs": 230.245,
          "Obs_uncertainty": 0.209,
          "Model": 232.3957206341065
         },
         {
          "Date": "2017-09-01T00:00:00",
          "Box": "30 °N - 90 °N",
          "Obs": 229.826,
          "Obs_uncertainty": 0.3025,
          "Model": 232.57136563438405
         },
         {
          "Date": "2017-10-01T00:00:00",
          "Box": "30 °N - 90 °N",
          "Obs": 230.2185,
          "Obs_uncertainty": 0.3095,
          "Model": 232.47003832786322
         },
         {
          "Date": "2017-11-01T00:00:00",
          "Box": "30 °N - 90 °N",
          "Obs": 230.2975,
          "Obs_uncertainty": 0.3105,
          "Model": 232.23705695359712
         },
         {
          "Date": "2017-12-01T00:00:00",
          "Box": "30 °N - 90 °N",
          "Obs": 230.108,
          "Obs_uncertainty": 0.27399999999999997,
          "Model": 232.1182415220306
         },
         {
          "Date": "2018-01-01T00:00:00",
          "Box": "30 °N - 90 °N",
          "Obs": 229.8125,
          "Obs_uncertainty": 0.278,
          "Model": 231.93557789300075
         },
         {
          "Date": "2018-02-01T00:00:00",
          "Box": "30 °N - 90 °N",
          "Obs": 229.6655,
          "Obs_uncertainty": 0.2345,
          "Model": 231.64888672796636
         },
         {
          "Date": "2018-03-01T00:00:00",
          "Box": "30 °N - 90 °N",
          "Obs": 229.3685,
          "Obs_uncertainty": 0.271,
          "Model": 231.40792193919614
         },
         {
          "Date": "2018-04-01T00:00:00",
          "Box": "30 °N - 90 °N",
          "Obs": 229.3905,
          "Obs_uncertainty": 0.2775,
          "Model": 231.23749533575784
         },
         {
          "Date": "2018-05-01T00:00:00",
          "Box": "30 °N - 90 °N",
          "Obs": 229.2195,
          "Obs_uncertainty": 0.2625,
          "Model": 231.17322272900878
         },
         {
          "Date": "2018-06-01T00:00:00",
          "Box": "30 °N - 90 °N",
          "Obs": 228.7375,
          "Obs_uncertainty": 0.26,
          "Model": 231.1222105761741
         },
         {
          "Date": "2018-07-01T00:00:00",
          "Box": "30 °N - 90 °N",
          "Obs": 228.34099999999998,
          "Obs_uncertainty": 0.254,
          "Model": 231.27644560290375
         },
         {
          "Date": "2018-08-01T00:00:00",
          "Box": "30 °N - 90 °N",
          "Obs": 228.20550000000003,
          "Obs_uncertainty": 0.28200000000000003,
          "Model": 231.53413402068205
         },
         {
          "Date": "2018-09-01T00:00:00",
          "Box": "30 °N - 90 °N",
          "Obs": 228.1765,
          "Obs_uncertainty": 0.354,
          "Model": 231.6690131855586
         },
         {
          "Date": "2018-10-01T00:00:00",
          "Box": "30 °N - 90 °N",
          "Obs": 228.781,
          "Obs_uncertainty": 0.3855,
          "Model": 231.51418025902723
         },
         {
          "Date": "2018-11-01T00:00:00",
          "Box": "30 °N - 90 °N",
          "Obs": 229.0545,
          "Obs_uncertainty": 0.4270000000000001,
          "Model": 231.2221247753255
         },
         {
          "Date": "2018-12-01T00:00:00",
          "Box": "30 °N - 90 °N",
          "Obs": 228.8565,
          "Obs_uncertainty": 0.316,
          "Model": 231.05002652302855
         },
         {
          "Date": "2019-01-01T00:00:00",
          "Box": "30 °N - 90 °N",
          "Obs": 228.623,
          "Obs_uncertainty": 0.35050000000000003,
          "Model": 230.83908559360705
         },
         {
          "Date": "2019-02-01T00:00:00",
          "Box": "30 °N - 90 °N",
          "Obs": 228.30900000000003,
          "Obs_uncertainty": 0.264,
          "Model": 230.55041350819485
         },
         {
          "Date": "2019-03-01T00:00:00",
          "Box": "30 °N - 90 °N",
          "Obs": 228.091,
          "Obs_uncertainty": 0.28300000000000003,
          "Model": 230.31827814347878
         },
         {
          "Date": "2019-04-01T00:00:00",
          "Box": "30 °N - 90 °N",
          "Obs": 227.8775,
          "Obs_uncertainty": 0.336,
          "Model": 230.16563177534164
         },
         {
          "Date": "2019-05-01T00:00:00",
          "Box": "30 °N - 90 °N",
          "Obs": 227.483,
          "Obs_uncertainty": 0.282,
          "Model": 230.12681228029007
         },
         {
          "Date": "2019-06-01T00:00:00",
          "Box": "30 °N - 90 °N",
          "Obs": 227.3935,
          "Obs_uncertainty": 0.254,
          "Model": 230.10484448742622
         },
         {
          "Date": "2019-07-01T00:00:00",
          "Box": "30 °N - 90 °N",
          "Obs": 226.7245,
          "Obs_uncertainty": 0.2505,
          "Model": 230.28805091270448
         },
         {
          "Date": "2019-08-01T00:00:00",
          "Box": "30 °N - 90 °N",
          "Obs": 226.2185,
          "Obs_uncertainty": 0.25649999999999995,
          "Model": 230.57486014064352
         },
         {
          "Date": "2019-09-01T00:00:00",
          "Box": "30 °N - 90 °N",
          "Obs": 226.158,
          "Obs_uncertainty": 0.268,
          "Model": 230.74066913454914
         },
         {
          "Date": "2019-10-01T00:00:00",
          "Box": "30 °N - 90 °N",
          "Obs": 226.162,
          "Obs_uncertainty": 0.276,
          "Model": 230.61989610314816
         },
         {
          "Date": "2019-11-01T00:00:00",
          "Box": "30 °N - 90 °N",
          "Obs": 226.3455,
          "Obs_uncertainty": 0.32,
          "Model": 230.36417345418485
         },
         {
          "Date": "2019-12-01T00:00:00",
          "Box": "30 °N - 90 °N",
          "Obs": 226.0605,
          "Obs_uncertainty": 0.2705,
          "Model": 230.22857698022702
         },
         {
          "Date": "1975-01-01T00:00:00",
          "Box": "00 °N - 30 °N",
          "Obs": null,
          "Obs_uncertainty": null,
          "Model": 132.60798983045166
         },
         {
          "Date": "1975-02-01T00:00:00",
          "Box": "00 °N - 30 °N",
          "Obs": null,
          "Obs_uncertainty": null,
          "Model": 133.39254899843397
         },
         {
          "Date": "1975-03-01T00:00:00",
          "Box": "00 °N - 30 °N",
          "Obs": null,
          "Obs_uncertainty": null,
          "Model": 133.72994859139905
         },
         {
          "Date": "1975-04-01T00:00:00",
          "Box": "00 °N - 30 °N",
          "Obs": null,
          "Obs_uncertainty": null,
          "Model": 133.74531945642252
         },
         {
          "Date": "1975-05-01T00:00:00",
          "Box": "00 °N - 30 °N",
          "Obs": null,
          "Obs_uncertainty": null,
          "Model": 134.00167032349944
         },
         {
          "Date": "1975-06-01T00:00:00",
          "Box": "00 °N - 30 °N",
          "Obs": null,
          "Obs_uncertainty": null,
          "Model": 134.3929089396359
         },
         {
          "Date": "1975-07-01T00:00:00",
          "Box": "00 °N - 30 °N",
          "Obs": null,
          "Obs_uncertainty": null,
          "Model": 133.9464059941426
         },
         {
          "Date": "1975-08-01T00:00:00",
          "Box": "00 °N - 30 °N",
          "Obs": null,
          "Obs_uncertainty": null,
          "Model": 133.27020218060534
         },
         {
          "Date": "1975-09-01T00:00:00",
          "Box": "00 °N - 30 °N",
          "Obs": null,
          "Obs_uncertainty": null,
          "Model": 133.03077939846145
         },
         {
          "Date": "1975-10-01T00:00:00",
          "Box": "00 °N - 30 °N",
          "Obs": null,
          "Obs_uncertainty": null,
          "Model": 133.58774957290282
         },
         {
          "Date": "1975-11-01T00:00:00",
          "Box": "00 °N - 30 °N",
          "Obs": null,
          "Obs_uncertainty": null,
          "Model": 134.43941966957829
         },
         {
          "Date": "1975-12-01T00:00:00",
          "Box": "00 °N - 30 °N",
          "Obs": null,
          "Obs_uncertainty": null,
          "Model": 135.03148862041203
         },
         {
          "Date": "1976-01-01T00:00:00",
          "Box": "00 °N - 30 °N",
          "Obs": null,
          "Obs_uncertainty": null,
          "Model": 136.25298147015982
         },
         {
          "Date": "1976-02-01T00:00:00",
          "Box": "00 °N - 30 °N",
          "Obs": null,
          "Obs_uncertainty": null,
          "Model": 137.0205003548579
         },
         {
          "Date": "1976-03-01T00:00:00",
          "Box": "00 °N - 30 °N",
          "Obs": null,
          "Obs_uncertainty": null,
          "Model": 137.34641437514426
         },
         {
          "Date": "1976-04-01T00:00:00",
          "Box": "00 °N - 30 °N",
          "Obs": null,
          "Obs_uncertainty": null,
          "Model": 137.373186134045
         },
         {
          "Date": "1976-05-01T00:00:00",
          "Box": "00 °N - 30 °N",
          "Obs": null,
          "Obs_uncertainty": null,
          "Model": 137.64892397084202
         },
         {
          "Date": "1976-06-01T00:00:00",
          "Box": "00 °N - 30 °N",
          "Obs": null,
          "Obs_uncertainty": null,
          "Model": 138.05932356110114
         },
         {
          "Date": "1976-07-01T00:00:00",
          "Box": "00 °N - 30 °N",
          "Obs": null,
          "Obs_uncertainty": null,
          "Model": 137.69682537511255
         },
         {
          "Date": "1976-08-01T00:00:00",
          "Box": "00 °N - 30 °N",
          "Obs": null,
          "Obs_uncertainty": null,
          "Model": 137.11556333794016
         },
         {
          "Date": "1976-09-01T00:00:00",
          "Box": "00 °N - 30 °N",
          "Obs": null,
          "Obs_uncertainty": null,
          "Model": 136.94180173443382
         },
         {
          "Date": "1976-10-01T00:00:00",
          "Box": "00 °N - 30 °N",
          "Obs": null,
          "Obs_uncertainty": null,
          "Model": 137.52084566041353
         },
         {
          "Date": "1976-11-01T00:00:00",
          "Box": "00 °N - 30 °N",
          "Obs": null,
          "Obs_uncertainty": null,
          "Model": 138.38649591850225
         },
         {
          "Date": "1976-12-01T00:00:00",
          "Box": "00 °N - 30 °N",
          "Obs": null,
          "Obs_uncertainty": null,
          "Model": 139.00720384205175
         },
         {
          "Date": "1977-01-01T00:00:00",
          "Box": "00 °N - 30 °N",
          "Obs": null,
          "Obs_uncertainty": null,
          "Model": 140.28716585197438
         },
         {
          "Date": "1977-02-01T00:00:00",
          "Box": "00 °N - 30 °N",
          "Obs": null,
          "Obs_uncertainty": null,
          "Model": 141.1388871370619
         },
         {
          "Date": "1977-03-01T00:00:00",
          "Box": "00 °N - 30 °N",
          "Obs": null,
          "Obs_uncertainty": null,
          "Model": 141.56448590897224
         },
         {
          "Date": "1977-04-01T00:00:00",
          "Box": "00 °N - 30 °N",
          "Obs": null,
          "Obs_uncertainty": null,
          "Model": 141.7165237487245
         },
         {
          "Date": "1977-05-01T00:00:00",
          "Box": "00 °N - 30 °N",
          "Obs": null,
          "Obs_uncertainty": null,
          "Model": 142.1193939012391
         },
         {
          "Date": "1977-06-01T00:00:00",
          "Box": "00 °N - 30 °N",
          "Obs": null,
          "Obs_uncertainty": null,
          "Model": 142.65237024490182
         },
         {
          "Date": "1977-07-01T00:00:00",
          "Box": "00 °N - 30 °N",
          "Obs": null,
          "Obs_uncertainty": null,
          "Model": 142.48927833227157
         },
         {
          "Date": "1977-08-01T00:00:00",
          "Box": "00 °N - 30 °N",
          "Obs": null,
          "Obs_uncertainty": null,
          "Model": 142.1146553871249
         },
         {
          "Date": "1977-09-01T00:00:00",
          "Box": "00 °N - 30 °N",
          "Obs": null,
          "Obs_uncertainty": null,
          "Model": 142.10646443258636
         },
         {
          "Date": "1977-10-01T00:00:00",
          "Box": "00 °N - 30 °N",
          "Obs": null,
          "Obs_uncertainty": null,
          "Model": 142.80123896694357
         },
         {
          "Date": "1977-11-01T00:00:00",
          "Box": "00 °N - 30 °N",
          "Obs": null,
          "Obs_uncertainty": null,
          "Model": 143.7725998249349
         },
         {
          "Date": "1977-12-01T00:00:00",
          "Box": "00 °N - 30 °N",
          "Obs": null,
          "Obs_uncertainty": null,
          "Model": 144.51254671713238
         },
         {
          "Date": "1978-01-01T00:00:00",
          "Box": "00 °N - 30 °N",
          "Obs": null,
          "Obs_uncertainty": null,
          "Model": 145.91381077173747
         },
         {
          "Date": "1978-02-01T00:00:00",
          "Box": "00 °N - 30 °N",
          "Obs": null,
          "Obs_uncertainty": null,
          "Model": 146.89236235300788
         },
         {
          "Date": "1978-03-01T00:00:00",
          "Box": "00 °N - 30 °N",
          "Obs": null,
          "Obs_uncertainty": null,
          "Model": 147.46231145652376
         },
         {
          "Date": "1978-04-01T00:00:00",
          "Box": "00 °N - 30 °N",
          "Obs": null,
          "Obs_uncertainty": null,
          "Model": 147.77869442464436
         },
         {
          "Date": "1978-05-01T00:00:00",
          "Box": "00 °N - 30 °N",
          "Obs": null,
          "Obs_uncertainty": null,
          "Model": 148.35205290347008
         },
         {
          "Date": "1978-06-01T00:00:00",
          "Box": "00 °N - 30 °N",
          "Obs": null,
          "Obs_uncertainty": null,
          "Model": 149.0519152724878
         },
         {
          "Date": "1978-07-01T00:00:00",
          "Box": "00 °N - 30 °N",
          "Obs": 152.02,
          "Obs_uncertainty": 2.21,
          "Model": 149.09595895156508
         },
         {
          "Date": "1978-08-01T00:00:00",
          "Box": "00 °N - 30 °N",
          "Obs": 152.39,
          "Obs_uncertainty": 2.83,
          "Model": 148.9248668908307
         },
         {
          "Date": "1978-09-01T00:00:00",
          "Box": "00 °N - 30 °N",
          "Obs": 151.58,
          "Obs_uncertainty": 3.21,
          "Model": 149.0927111584358
         },
         {
          "Date": "1978-10-01T00:00:00",
          "Box": "00 °N - 30 °N",
          "Obs": 151.64,
          "Obs_uncertainty": 3.06,
          "Model": 149.95079252026488
         },
         {
          "Date": "1978-11-01T00:00:00",
          "Box": "00 °N - 30 °N",
          "Obs": 151.47,
          "Obs_uncertainty": 3.02,
          "Model": 151.0843980219664
         },
         {
          "Date": "1978-12-01T00:00:00",
          "Box": "00 °N - 30 °N",
          "Obs": 154.25,
          "Obs_uncertainty": 2.48,
          "Model": 151.98660559974638
         },
         {
          "Date": "1979-01-01T00:00:00",
          "Box": "00 °N - 30 °N",
          "Obs": 156.6,
          "Obs_uncertainty": 2.23,
          "Model": 153.53165043598713
         },
         {
          "Date": "1979-02-01T00:00:00",
          "Box": "00 °N - 30 °N",
          "Obs": 154.87,
          "Obs_uncertainty": 2.3,
          "Model": 154.6064798940067
         },
         {
          "Date": "1979-03-01T00:00:00",
          "Box": "00 °N - 30 °N",
          "Obs": 155.87,
          "Obs_uncertainty": 1.96,
          "Model": 155.27727220499446
         },
         {
          "Date": "1979-04-01T00:00:00",
          "Box": "00 °N - 30 °N",
          "Obs": null,
          "Obs_uncertainty": null,
          "Model": 155.70944775384498
         },
         {
          "Date": "1979-05-01T00:00:00",
          "Box": "00 °N - 30 °N",
          "Obs": 159.53,
          "Obs_uncertainty": 1.41,
          "Model": 156.4162085946914
         },
         {
          "Date": "1979-06-01T00:00:00",
          "Box": "00 °N - 30 °N",
          "Obs": 158.78,
          "Obs_uncertainty": 1.28,
          "Model": 157.25086946218144
         },
         {
          "Date": "1979-07-01T00:00:00",
          "Box": "00 °N - 30 °N",
          "Obs": 161.07,
          "Obs_uncertainty": 2.69,
          "Model": 157.4527317374371
         },
         {
          "Date": "1979-08-01T00:00:00",
          "Box": "00 °N - 30 °N",
          "Obs": 162.81,
          "Obs_uncertainty": 2.3,
          "Model": 157.43744426043148
         },
         {
          "Date": "1979-09-01T00:00:00",
          "Box": "00 °N - 30 °N",
          "Obs": 161.26,
          "Obs_uncertainty": 2.97,
          "Model": 157.74697869115778
         },
         {
          "Date": "1979-10-01T00:00:00",
          "Box": "00 °N - 30 °N",
          "Obs": 161.51,
          "Obs_uncertainty": 2.35,
          "Model": 158.74366506993582
         },
         {
          "Date": "1979-11-01T00:00:00",
          "Box": "00 °N - 30 °N",
          "Obs": 162.37,
          "Obs_uncertainty": 2.21,
          "Model": 160.01810874975752
         },
         {
          "Date": "1979-12-01T00:00:00",
          "Box": "00 °N - 30 °N",
          "Obs": 164.1,
          "Obs_uncertainty": 1.32,
          "Model": 161.0599874612947
         },
         {
          "Date": "1980-01-01T00:00:00",
          "Box": "00 °N - 30 °N",
          "Obs": 164.52,
          "Obs_uncertainty": 1.48,
          "Model": 162.6699581898407
         },
         {
          "Date": "1980-02-01T00:00:00",
          "Box": "00 °N - 30 °N",
          "Obs": 165.21,
          "Obs_uncertainty": 1.61,
          "Model": 163.74239367305353
         },
         {
          "Date": "1980-03-01T00:00:00",
          "Box": "00 °N - 30 °N",
          "Obs": 167.37,
          "Obs_uncertainty": 1.31,
          "Model": 164.42437821933567
         },
         {
          "Date": "1980-04-01T00:00:00",
          "Box": "00 °N - 30 °N",
          "Obs": 167.59,
          "Obs_uncertainty": 1.3,
          "Model": 164.87067454580352
         },
         {
          "Date": "1980-05-01T00:00:00",
          "Box": "00 °N - 30 °N",
          "Obs": 168.12,
          "Obs_uncertainty": 1.17,
          "Model": 165.60822053329767
         },
         {
          "Date": "1980-06-01T00:00:00",
          "Box": "00 °N - 30 °N",
          "Obs": 169.21,
          "Obs_uncertainty": 1.07,
          "Model": 166.4792722087918
         },
         {
          "Date": "1980-07-01T00:00:00",
          "Box": "00 °N - 30 °N",
          "Obs": 170.5,
          "Obs_uncertainty": 1.4,
          "Model": 166.7034397439171
         },
         {
          "Date": "1980-08-01T00:00:00",
          "Box": "00 °N - 30 °N",
          "Obs": 171.68,
          "Obs_uncertainty": 1.52,
          "Model": 166.70038334215678
         },
         {
          "Date": "1980-09-01T00:00:00",
          "Box": "00 °N - 30 °N",
          "Obs": 171.12,
          "Obs_uncertainty": 2.39,
          "Model": 167.02788116524331
         },
         {
          "Date": "1980-10-01T00:00:00",
          "Box": "00 °N - 30 °N",
          "Obs": 170.54,
          "Obs_uncertainty": 2.45,
          "Model": 168.06638012232696
         },
         {
          "Date": "1980-11-01T00:00:00",
          "Box": "00 °N - 30 °N",
          "Obs": 172.98,
          "Obs_uncertainty": 1.47,
          "Model": 169.39479485543657
         },
         {
          "Date": "1980-12-01T00:00:00",
          "Box": "00 °N - 30 °N",
          "Obs": 174.02,
          "Obs_uncertainty": 1.87,
          "Model": 170.48283561084523
         },
         {
          "Date": "1981-01-01T00:00:00",
          "Box": "00 °N - 30 °N",
          "Obs": 174.76,
          "Obs_uncertainty": 1.1,
          "Model": 172.11604262067888
         },
         {
          "Date": "1981-02-01T00:00:00",
          "Box": "00 °N - 30 °N",
          "Obs": 174.94,
          "Obs_uncertainty": 1.11,
          "Model": 173.14942692873086
         },
         {
          "Date": "1981-03-01T00:00:00",
          "Box": "00 °N - 30 °N",
          "Obs": 173.81,
          "Obs_uncertainty": 1.08,
          "Model": 173.7818524188109
         },
         {
          "Date": "1981-04-01T00:00:00",
          "Box": "00 °N - 30 °N",
          "Obs": 175.85,
          "Obs_uncertainty": 1.61,
          "Model": 174.17446612052888
         },
         {
          "Date": "1981-05-01T00:00:00",
          "Box": "00 °N - 30 °N",
          "Obs": 176.5,
          "Obs_uncertainty": 1.49,
          "Model": 174.87446292770215
         },
         {
          "Date": "1981-06-01T00:00:00",
          "Box": "00 °N - 30 °N",
          "Obs": 176.23,
          "Obs_uncertainty": 1.14,
          "Model": 175.7152925386268
         },
         {
          "Date": "1981-07-01T00:00:00",
          "Box": "00 °N - 30 °N",
          "Obs": 178.32,
          "Obs_uncertainty": 1.39,
          "Model": 175.91178557713252
         },
         {
          "Date": "1981-08-01T00:00:00",
          "Box": "00 °N - 30 °N",
          "Obs": 179.46,
          "Obs_uncertainty": 2.31,
          "Model": 175.8795038351251
         },
         {
          "Date": "1981-09-01T00:00:00",
          "Box": "00 °N - 30 °N",
          "Obs": 179.07,
          "Obs_uncertainty": 2.57,
          "Model": 176.18155055801827
         },
         {
          "Date": "1981-10-01T00:00:00",
          "Box": "00 °N - 30 °N",
          "Obs": 179.29,
          "Obs_uncertainty": 2.03,
          "Model": 177.19218592259045
         },
         {
          "Date": "1981-11-01T00:00:00",
          "Box": "00 °N - 30 °N",
          "Obs": 180.35,
          "Obs_uncertainty": 1.67,
          "Model": 178.50006693787773
         },
         {
          "Date": "1981-12-01T00:00:00",
          "Box": "00 °N - 30 °N",
          "Obs": 181.15,
          "Obs_uncertainty": 1.31,
          "Model": 179.57092816832701
         },
         {
          "Date": "1982-01-01T00:00:00",
          "Box": "00 °N - 30 °N",
          "Obs": 182.45,
          "Obs_uncertainty": 1.11,
          "Model": 181.18912925251487
         },
         {
          "Date": "1982-02-01T00:00:00",
          "Box": "00 °N - 30 °N",
          "Obs": 183.13,
          "Obs_uncertainty": 1.17,
          "Model": 182.19374096277164
         },
         {
          "Date": "1982-03-01T00:00:00",
          "Box": "00 °N - 30 °N",
          "Obs": 183.3,
          "Obs_uncertainty": 1.06,
          "Model": 182.79437182508946
         },
         {
          "Date": "1982-04-01T00:00:00",
          "Box": "00 °N - 30 °N",
          "Obs": 184.21,
          "Obs_uncertainty": 0.94,
          "Model": 183.150682362333
         },
         {
          "Date": "1982-05-01T00:00:00",
          "Box": "00 °N - 30 °N",
          "Obs": 185.18,
          "Obs_uncertainty": 0.97,
          "Model": 183.8195359956435
         },
         {
          "Date": "1982-06-01T00:00:00",
          "Box": "00 °N - 30 °N",
          "Obs": 185.71,
          "Obs_uncertainty": 1.04,
          "Model": 184.63315253190223
         },
         {
          "Date": "1982-07-01T00:00:00",
          "Box": "00 °N - 30 °N",
          "Obs": 187.18,
          "Obs_uncertainty": 1.25,
          "Model": 184.81984304559512
         },
         {
          "Date": "1982-08-01T00:00:00",
          "Box": "00 °N - 30 °N",
          "Obs": 189.85,
          "Obs_uncertainty": 1.52,
          "Model": 184.77471708197476
         },
         {
          "Date": "1982-09-01T00:00:00",
          "Box": "00 °N - 30 °N",
          "Obs": 189.22,
          "Obs_uncertainty": 1.8,
          "Model": 185.05728282773276
         },
         {
          "Date": "1982-10-01T00:00:00",
          "Box": "00 °N - 30 °N",
          "Obs": 189.61,
          "Obs_uncertainty": 2.33,
          "Model": 186.03238500417206
         },
         {
          "Date": "1982-11-01T00:00:00",
          "Box": "00 °N - 30 °N",
          "Obs": 190.77,
          "Obs_uncertainty": 1.61,
          "Model": 187.30981593132537
         },
         {
          "Date": "1982-12-01T00:00:00",
          "Box": "00 °N - 30 °N",
          "Obs": 191.87,
          "Obs_uncertainty": 1.38,
          "Model": 188.3572096162744
         },
         {
          "Date": "1983-01-01T00:00:00",
          "Box": "00 °N - 30 °N",
          "Obs": 191.79,
          "Obs_uncertainty": 1.08,
          "Model": 189.9620197390479
         },
         {
          "Date": "1983-02-01T00:00:00",
          "Box": "00 °N - 30 °N",
          "Obs": 191.45,
          "Obs_uncertainty": 1.12,
          "Model": 190.94982490225772
         },
         {
          "Date": "1983-03-01T00:00:00",
          "Box": "00 °N - 30 °N",
          "Obs": 191.86,
          "Obs_uncertainty": 1.3,
          "Model": 191.53172645234622
         },
         {
          "Date": "1983-04-01T00:00:00",
          "Box": "00 °N - 30 °N",
          "Obs": 193.92,
          "Obs_uncertainty": 0.99,
          "Model": 191.86678377825746
         },
         {
          "Date": "1983-05-01T00:00:00",
          "Box": "00 °N - 30 °N",
          "Obs": 193.22,
          "Obs_uncertainty": 1.01,
          "Model": 192.5165429987985
         },
         {
          "Date": "1983-06-01T00:00:00",
          "Box": "00 °N - 30 °N",
          "Obs": 193.7,
          "Obs_uncertainty": 1.78,
          "Model": 193.31352697111032
         },
         {
          "Date": "1983-07-01T00:00:00",
          "Box": "00 °N - 30 °N",
          "Obs": 196.02,
          "Obs_uncertainty": 2.11,
          "Model": 193.51414314546187
         },
         {
          "Date": "1983-08-01T00:00:00",
          "Box": "00 °N - 30 °N",
          "Obs": 199.65,
          "Obs_uncertainty": 2.21,
          "Model": 193.4815583892455
         },
         {
          "Date": "1983-09-01T00:00:00",
          "Box": "00 °N - 30 °N",
          "Obs": 200.15,
          "Obs_uncertainty": 2.18,
          "Model": 193.76313868260615
         },
         {
          "Date": "1983-10-01T00:00:00",
          "Box": "00 °N - 30 °N",
          "Obs": 199.37,
          "Obs_uncertainty": 1.91,
          "Model": 194.7092609553871
         },
         {
          "Date": "1983-11-01T00:00:00",
          "Box": "00 °N - 30 °N",
          "Obs": 199.57,
          "Obs_uncertainty": 1.74,
          "Model": 195.9599497356991
         },
         {
          "Date": "1983-12-01T00:00:00",
          "Box": "00 °N - 30 °N",
          "Obs": 200.74,
          "Obs_uncertainty": 1.26,
          "Model": 196.9911426072359
         },
         {
          "Date": "1984-01-01T00:00:00",
          "Box": "00 °N - 30 °N",
          "Obs": 200.78,
          "Obs_uncertainty": 1.03,
          "Model": 198.57974562087225
         },
         {
          "Date": "1984-02-01T00:00:00",
          "Box": "00 °N - 30 °N",
          "Obs": 201.13,
          "Obs_uncertainty": 1.07,
          "Model": 199.553705841937
         },
         {
          "Date": "1984-03-01T00:00:00",
          "Box": "00 °N - 30 °N",
          "Obs": 202.11,
          "Obs_uncertainty": 1.27,
          "Model": 200.12496698027365
         },
         {
          "Date": "1984-04-01T00:00:00",
          "Box": "00 °N - 30 °N",
          "Obs": 201.85,
          "Obs_uncertainty": 0.95,
          "Model": 200.44615803676157
         },
         {
          "Date": "1984-05-01T00:00:00",
          "Box": "00 °N - 30 °N",
          "Obs": 202.52,
          "Obs_uncertainty": 1.37,
          "Model": 201.08181267881687
         },
         {
          "Date": "1984-06-01T00:00:00",
          "Box": "00 °N - 30 °N",
          "Obs": 203.65,
          "Obs_uncertainty": 1.59,
          "Model": 201.86660851178019
         },
         {
          "Date": "1984-07-01T00:00:00",
          "Box": "00 °N - 30 °N",
          "Obs": 205.43,
          "Obs_uncertainty": 1.68,
          "Model": 202.08348960882185
         },
         {
          "Date": "1984-08-01T00:00:00",
          "Box": "00 °N - 30 °N",
          "Obs": 207.98,
          "Obs_uncertainty": 1.68,
          "Model": 202.06440562389653
         },
         {
          "Date": "1984-09-01T00:00:00",
          "Box": "00 °N - 30 °N",
          "Obs": 207.35,
          "Obs_uncertainty": 1.75,
          "Model": 202.34600880310796
         },
         {
          "Date": "1984-10-01T00:00:00",
          "Box": "00 °N - 30 °N",
          "Obs": 207.29,
          "Obs_uncertainty": 1.62,
          "Model": 203.26619747892968
         },
         {
          "Date": "1984-11-01T00:00:00",
          "Box": "00 °N - 30 °N",
          "Obs": 207.48,
          "Obs_uncertainty": 2.37,
          "Model": 204.4937683660006
         },
         {
          "Date": "1984-12-01T00:00:00",
          "Box": "00 °N - 30 °N",
          "Obs": 209.15,
          "Obs_uncertainty": 1.85,
          "Model": 205.5113292206746
         },
         {
          "Date": "1985-01-01T00:00:00",
          "Box": "00 °N - 30 °N",
          "Obs": 209.23,
          "Obs_uncertainty": 1.37,
          "Model": 207.13521362796945
         },
         {
          "Date": "1985-02-01T00:00:00",
          "Box": "00 °N - 30 °N",
          "Obs": 208.8,
          "Obs_uncertainty": 1.61,
          "Model": 208.1616501467414
         },
         {
          "Date": "1985-03-01T00:00:00",
          "Box": "00 °N - 30 °N",
          "Obs": 209.83,
          "Obs_uncertainty": 1.2,
          "Model": 208.7783955154244
         },
         {
          "Date": "1985-04-01T00:00:00",
          "Box": "00 °N - 30 °N",
          "Obs": 209.32,
          "Obs_uncertainty": 1.26,
          "Model": 209.14721308758305
         },
         {
          "Date": "1985-05-01T00:00:00",
          "Box": "00 °N - 30 °N",
          "Obs": 211.87,
          "Obs_uncertainty": 1.02,
          "Model": 209.8314812627118
         },
         {
          "Date": "1985-06-01T00:00:00",
          "Box": "00 °N - 30 °N",
          "Obs": 211.37,
          "Obs_uncertainty": 1.46,
          "Model": 210.66459261273758
         },
         {
          "Date": "1985-07-01T00:00:00",
          "Box": "00 °N - 30 °N",
          "Obs": 213.94,
          "Obs_uncertainty": 1.19,
          "Model": 210.97925075781563
         },
         {
          "Date": "1985-08-01T00:00:00",
          "Box": "00 °N - 30 °N",
          "Obs": 215.43,
          "Obs_uncertainty": 1.63,
          "Model": 211.05903289449492
         },
         {
          "Date": "1985-09-01T00:00:00",
          "Box": "00 °N - 30 °N",
          "Obs": 215.14,
          "Obs_uncertainty": 1.98,
          "Model": 211.41458180628814
         },
         {
          "Date": "1985-10-01T00:00:00",
          "Box": "00 °N - 30 °N",
          "Obs": 216.36,
          "Obs_uncertainty": 2.09,
          "Model": 212.3672882372373
         },
         {
          "Date": "1985-11-01T00:00:00",
          "Box": "00 °N - 30 °N",
          "Obs": 215.51,
          "Obs_uncertainty": 3.02,
          "Model": 213.62511734218154
         },
         {
          "Date": "1985-12-01T00:00:00",
          "Box": "00 °N - 30 °N",
          "Obs": 218.27,
          "Obs_uncertainty": 1.66,
          "Model": 214.6862617603881
         },
         {
          "Date": "1986-01-01T00:00:00",
          "Box": "00 °N - 30 °N",
          "Obs": 217.51,
          "Obs_uncertainty": 1.13,
          "Model": 216.4791147501569
         },
         {
          "Date": "1986-02-01T00:00:00",
          "Box": "00 °N - 30 °N",
          "Obs": 218.68,
          "Obs_uncertainty": 1.09,
          "Model": 217.69975957224642
         },
         {
          "Date": "1986-03-01T00:00:00",
          "Box": "00 °N - 30 °N",
          "Obs": 219.24,
          "Obs_uncertainty": 1.72,
          "Model": 218.4775728200034
         },
         {
          "Date": "1986-04-01T00:00:00",
          "Box": "00 °N - 30 °N",
          "Obs": 220.18,
          "Obs_uncertainty": 1.6,
          "Model": 219.02255827554237
         },
         {
          "Date": "1986-05-01T00:00:00",
          "Box": "00 °N - 30 °N",
          "Obs": 221.31,
          "Obs_uncertainty": 1.27,
          "Model": 219.88520269359827
         },
         {
          "Date": "1986-06-01T00:00:00",
          "Box": "00 °N - 30 °N",
          "Obs": 224.3,
          "Obs_uncertainty": 1.04,
          "Model": 220.8881048916977
         },
         {
          "Date": "1986-07-01T00:00:00",
          "Box": "00 °N - 30 °N",
          "Obs": 226.55,
          "Obs_uncertainty": 0.93,
          "Model": 221.4879984065433
         },
         {
          "Date": "1986-08-01T00:00:00",
          "Box": "00 °N - 30 °N",
          "Obs": 227.7,
          "Obs_uncertainty": 2.21,
          "Model": 221.86672166483822
         },
         {
          "Date": "1986-09-01T00:00:00",
          "Box": "00 °N - 30 °N",
          "Obs": 229.63,
          "Obs_uncertainty": 2.12,
          "Model": 222.45850412274967
         },
         {
          "Date": "1986-10-01T00:00:00",
          "Box": "00 °N - 30 °N",
          "Obs": 228.44,
          "Obs_uncertainty": 3.7,
          "Model": 223.54983703697917
         },
         {
          "Date": "1986-11-01T00:00:00",
          "Box": "00 °N - 30 °N",
          "Obs": 229.26,
          "Obs_uncertainty": 2.42,
          "Model": 224.92696606050254
         },
         {
          "Date": "1986-12-01T00:00:00",
          "Box": "00 °N - 30 °N",
          "Obs": 230.65,
          "Obs_uncertainty": 2.18,
          "Model": 226.13763883719355
         },
         {
          "Date": "1987-01-01T00:00:00",
          "Box": "00 °N - 30 °N",
          "Obs": 231.65,
          "Obs_uncertainty": 1.23,
          "Model": 227.84650888181358
         },
         {
          "Date": "1987-02-01T00:00:00",
          "Box": "00 °N - 30 °N",
          "Obs": 232.17,
          "Obs_uncertainty": 1.42,
          "Model": 228.9521483582182
         },
         {
          "Date": "1987-03-01T00:00:00",
          "Box": "00 °N - 30 °N",
          "Obs": 231.79,
          "Obs_uncertainty": 1.31,
          "Model": 229.7315574134911
         },
         {
          "Date": "1987-04-01T00:00:00",
          "Box": "00 °N - 30 °N",
          "Obs": 232.88,
          "Obs_uncertainty": 1.23,
          "Model": 230.29586616265968
         },
         {
          "Date": "1987-05-01T00:00:00",
          "Box": "00 °N - 30 °N",
          "Obs": 234.34,
          "Obs_uncertainty": 0.99,
          "Model": 231.18441287672516
         },
         {
          "Date": "1987-06-01T00:00:00",
          "Box": "00 °N - 30 °N",
          "Obs": 236.72,
          "Obs_uncertainty": 1.04,
          "Model": 232.221217119114
         },
         {
          "Date": "1987-07-01T00:00:00",
          "Box": "00 °N - 30 °N",
          "Obs": 238.84,
          "Obs_uncertainty": 2.72,
          "Model": 232.80966824163312
         },
         {
          "Date": "1987-08-01T00:00:00",
          "Box": "00 °N - 30 °N",
          "Obs": 239.85,
          "Obs_uncertainty": 3.06,
          "Model": 233.14459394930174
         },
         {
          "Date": "1987-09-01T00:00:00",
          "Box": "00 °N - 30 °N",
          "Obs": 240.7,
          "Obs_uncertainty": 4.07,
          "Model": 233.70774641187822
         },
         {
          "Date": "1987-10-01T00:00:00",
          "Box": "00 °N - 30 °N",
          "Obs": 240.98,
          "Obs_uncertainty": 3.1,
          "Model": 234.83447663415484
         },
         {
          "Date": "1987-11-01T00:00:00",
          "Box": "00 °N - 30 °N",
          "Obs": 238.3,
          "Obs_uncertainty": 2.46,
          "Model": 236.27545121025844
         },
         {
          "Date": "1987-12-01T00:00:00",
          "Box": "00 °N - 30 °N",
          "Obs": 239.83,
          "Obs_uncertainty": 1.36,
          "Model": 237.5259828700444
         },
         {
          "Date": "1988-01-01T00:00:00",
          "Box": "00 °N - 30 °N",
          "Obs": 241.76,
          "Obs_uncertainty": 1.01,
          "Model": 239.28846926284157
         },
         {
          "Date": "1988-02-01T00:00:00",
          "Box": "00 °N - 30 °N",
          "Obs": 241.65,
          "Obs_uncertainty": 1.1,
          "Model": 240.35016709661778
         },
         {
          "Date": "1988-03-01T00:00:00",
          "Box": "00 °N - 30 °N",
          "Obs": 240.81,
          "Obs_uncertainty": 1.31,
          "Model": 241.01817571514925
         },
         {
          "Date": "1988-04-01T00:00:00",
          "Box": "00 °N - 30 °N",
          "Obs": 240.73,
          "Obs_uncertainty": 1.35,
          "Model": 241.43402488705104
         },
         {
          "Date": "1988-05-01T00:00:00",
          "Box": "00 °N - 30 °N",
          "Obs": 242.96,
          "Obs_uncertainty": 1.4,
          "Model": 242.19224664065874
         },
         {
          "Date": "1988-06-01T00:00:00",
          "Box": "00 °N - 30 °N",
          "Obs": 243.75,
          "Obs_uncertainty": 1.94,
          "Model": 243.11060679192732
         },
         {
          "Date": "1988-07-01T00:00:00",
          "Box": "00 °N - 30 °N",
          "Obs": null,
          "Obs_uncertainty": null,
          "Model": 243.54337109396357
         },
         {
          "Date": "1988-08-01T00:00:00",
          "Box": "00 °N - 30 °N",
          "Obs": null,
          "Obs_uncertainty": null,
          "Model": 243.71793837253216
         },
         {
          "Date": "1988-09-01T00:00:00",
          "Box": "00 °N - 30 °N",
          "Obs": 248.72,
          "Obs_uncertainty": 3.4,
          "Model": 244.14892703193055
         },
         {
          "Date": "1988-10-01T00:00:00",
          "Box": "00 °N - 30 °N",
          "Obs": 242.59,
          "Obs_uncertainty": 3.08,
          "Model": 245.16501517061434
         },
         {
          "Date": "1988-11-01T00:00:00",
          "Box": "00 °N - 30 °N",
          "Obs": 246.22,
          "Obs_uncertainty": 2.75,
          "Model": 246.51084215352782
         },
         {
          "Date": "1988-12-01T00:00:00",
          "Box": "00 °N - 30 °N",
          "Obs": 248.41,
          "Obs_uncertainty": 1.06,
          "Model": 247.66480944173242
         },
         {
          "Date": "1989-01-01T00:00:00",
          "Box": "00 °N - 30 °N",
          "Obs": 248.84,
          "Obs_uncertainty": 1.04,
          "Model": 249.32204777527608
         },
         {
          "Date": "1989-02-01T00:00:00",
          "Box": "00 °N - 30 °N",
          "Obs": 249.22,
          "Obs_uncertainty": 1.01,
          "Model": 250.2584333510512
         },
         {
          "Date": "1989-03-01T00:00:00",
          "Box": "00 °N - 30 °N",
          "Obs": 250.15,
          "Obs_uncertainty": 1.37,
          "Model": 250.7904728232702
         },
         {
          "Date": "1989-04-01T00:00:00",
          "Box": "00 °N - 30 °N",
          "Obs": 251.24,
          "Obs_uncertainty": 1.29,
          "Model": 251.04649659677494
         },
         {
          "Date": "1989-05-01T00:00:00",
          "Box": "00 °N - 30 °N",
          "Obs": 252.26,
          "Obs_uncertainty": 1.17,
          "Model": 251.64863403530566
         },
         {
          "Date": "1989-06-01T00:00:00",
          "Box": "00 °N - 30 °N",
          "Obs": 253.65,
          "Obs_uncertainty": 1.63,
          "Model": 252.41926704071454
         },
         {
          "Date": "1989-07-01T00:00:00",
          "Box": "00 °N - 30 °N",
          "Obs": 256.33,
          "Obs_uncertainty": 2.03,
          "Model": 252.67123404861508
         },
         {
          "Date": "1989-08-01T00:00:00",
          "Box": "00 °N - 30 °N",
          "Obs": 254.77,
          "Obs_uncertainty": 2.89,
          "Model": 252.65236013066342
         },
         {
          "Date": "1989-09-01T00:00:00",
          "Box": "00 °N - 30 °N",
          "Obs": 253.83,
          "Obs_uncertainty": 3.61,
          "Model": 252.9095830422109
         },
         {
          "Date": "1989-10-01T00:00:00",
          "Box": "00 °N - 30 °N",
          "Obs": 254.23,
          "Obs_uncertainty": 2.52,
          "Model": 253.77110922917888
         },
         {
          "Date": "1989-11-01T00:00:00",
          "Box": "00 °N - 30 °N",
          "Obs": 255.99,
          "Obs_uncertainty": 1.58,
          "Model": 254.97890329067292
         },
         {
          "Date": "1989-12-01T00:00:00",
          "Box": "00 °N - 30 °N",
          "Obs": 255.77,
          "Obs_uncertainty": 1.16,
          "Model": 255.9931128089434
         },
         {
          "Date": "1990-01-01T00:00:00",
          "Box": "00 °N - 30 °N",
          "Obs": 257.83,
          "Obs_uncertainty": 1.26,
          "Model": 257.49292980817324
         },
         {
          "Date": "1990-02-01T00:00:00",
          "Box": "00 °N - 30 °N",
          "Obs": 257.47,
          "Obs_uncertainty": 1.36,
          "Model": 258.24483124232745
         },
         {
          "Date": "1990-03-01T00:00:00",
          "Box": "00 °N - 30 °N",
          "Obs": null,
          "Obs_uncertainty": null,
          "Model": 258.57768805919113
         },
         {
          "Date": "1990-04-01T00:00:00",
          "Box": "00 °N - 30 °N",
          "Obs": 261.41,
          "Obs_uncertainty": 1.41,
          "Model": 258.60746824075716
         },
         {
          "Date": "1990-05-01T00:00:00",
          "Box": "00 °N - 30 °N",
          "Obs": 261.3,
          "Obs_uncertainty": 1.58,
          "Model": 258.98421023758476
         },
         {
          "Date": "1990-06-01T00:00:00",
          "Box": "00 °N - 30 °N",
          "Obs": 260.96,
          "Obs_uncertainty": 1.07,
          "Model": 259.5388514865491
         },
         {
          "Date": "1990-07-01T00:00:00",
          "Box": "00 °N - 30 °N",
          "Obs": 261.67,
          "Obs_uncertainty": 1.85,
          "Model": 259.54958265041864
         },
         {
          "Date": "1990-08-01T00:00:00",
          "Box": "00 °N - 30 °N",
          "Obs": 262.55,
          "Obs_uncertainty": 2.45,
          "Model": 259.28388523934797
         },
         {
          "Date": "1990-09-01T00:00:00",
          "Box": "00 °N - 30 °N",
          "Obs": 263.24,
          "Obs_uncertainty": 2.64,
          "Model": 259.31519503838814
         },
         {
          "Date": "1990-10-01T00:00:00",
          "Box": "00 °N - 30 °N",
          "Obs": 261.09,
          "Obs_uncertainty": 2.47,
          "Model": 259.9526790305672
         },
         {
          "Date": "1990-11-01T00:00:00",
          "Box": "00 °N - 30 °N",
          "Obs": 262.28,
          "Obs_uncertainty": 2.14,
          "Model": 260.9486267113111
         },
         {
          "Date": "1990-12-01T00:00:00",
          "Box": "00 °N - 30 °N",
          "Obs": 263.29,
          "Obs_uncertainty": 1.98,
          "Model": 261.75695623827596
         },
         {
          "Date": "1991-01-01T00:00:00",
          "Box": "00 °N - 30 °N",
          "Obs": 262.89,
          "Obs_uncertainty": 1.41,
          "Model": 263.0831090287495
         },
         {
          "Date": "1991-02-01T00:00:00",
          "Box": "00 °N - 30 °N",
          "Obs": 262.6,
          "Obs_uncertainty": 1.06,
          "Model": 263.68665665786546
         },
         {
          "Date": "1991-03-01T00:00:00",
          "Box": "00 °N - 30 °N",
          "Obs": 261.96,
          "Obs_uncertainty": 1.12,
          "Model": 263.8569658078031
         },
         {
          "Date": "1991-04-01T00:00:00",
          "Box": "00 °N - 30 °N",
          "Obs": 263.03,
          "Obs_uncertainty": 1.12,
          "Model": 263.7039101852056
         },
         {
          "Date": "1991-05-01T00:00:00",
          "Box": "00 °N - 30 °N",
          "Obs": 263.46,
          "Obs_uncertainty": 1.23,
          "Model": 263.88729405103686
         },
         {
          "Date": "1991-06-01T00:00:00",
          "Box": "00 °N - 30 °N",
          "Obs": 266.99,
          "Obs_uncertainty": 1.21,
          "Model": 264.2526475719674
         },
         {
          "Date": "1991-07-01T00:00:00",
          "Box": "00 °N - 30 °N",
          "Obs": 266.57,
          "Obs_uncertainty": 2.14,
          "Model": 264.09272439783985
         },
         {
          "Date": "1991-08-01T00:00:00",
          "Box": "00 °N - 30 °N",
          "Obs": 262.23,
          "Obs_uncertainty": 2.24,
          "Model": 263.65854447151423
         },
         {
          "Date": "1991-09-01T00:00:00",
          "Box": "00 °N - 30 °N",
          "Obs": 262.21,
          "Obs_uncertainty": 2.62,
          "Model": 263.51980934851736
         },
         {
          "Date": "1991-10-01T00:00:00",
          "Box": "00 °N - 30 °N",
          "Obs": 261.95,
          "Obs_uncertainty": 2.3,
          "Model": 263.94904740946004
         },
         {
          "Date": "1991-11-01T00:00:00",
          "Box": "00 °N - 30 °N",
          "Obs": 261.5,
          "Obs_uncertainty": 1.98,
          "Model": 264.7379606396205
         },
         {
          "Date": "1991-12-01T00:00:00",
          "Box": "00 °N - 30 °N",
          "Obs": 263.47,
          "Obs_uncertainty": 1.42,
          "Model": 265.35723613332937
         },
         {
          "Date": "1992-01-01T00:00:00",
          "Box": "00 °N - 30 °N",
          "Obs": 263.21,
          "Obs_uncertainty": 1.46,
          "Model": 266.53364484226313
         },
         {
          "Date": "1992-02-01T00:00:00",
          "Box": "00 °N - 30 °N",
          "Obs": 264.78,
          "Obs_uncertainty": 1.66,
          "Model": 267.05091388716136
         },
         {
          "Date": "1992-03-01T00:00:00",
          "Box": "00 °N - 30 °N",
          "Obs": 265.61,
          "Obs_uncertainty": 1.85,
          "Model": 267.13320439443714
         },
         {
          "Date": "1992-04-01T00:00:00",
          "Box": "00 °N - 30 °N",
          "Obs": 266.33,
          "Obs_uncertainty": 2.08,
          "Model": 266.8772003711956
         },
         {
          "Date": "1992-05-01T00:00:00",
          "Box": "00 °N - 30 °N",
          "Obs": 267.68,
          "Obs_uncertainty": 1.7,
          "Model": 266.9381693950986
         },
         {
          "Date": "1992-06-01T00:00:00",
          "Box": "00 °N - 30 °N",
          "Obs": 268.57,
          "Obs_uncertainty": 1.91,
          "Model": 267.1795233749539
         },
         {
          "Date": "1992-07-01T00:00:00",
          "Box": "00 °N - 30 °N",
          "Obs": 269.65,
          "Obs_uncertainty": 1.58,
          "Model": 266.9204532140765
         },
         {
          "Date": "1992-08-01T00:00:00",
          "Box": "00 °N - 30 °N",
          "Obs": 269.5,
          "Obs_uncertainty": 1.89,
          "Model": 266.38453522483223
         },
         {
          "Date": "1992-09-01T00:00:00",
          "Box": "00 °N - 30 °N",
          "Obs": 268.08,
          "Obs_uncertainty": 2,
          "Model": 266.1321169049313
         },
         {
          "Date": "1992-10-01T00:00:00",
          "Box": "00 °N - 30 °N",
          "Obs": 268.19,
          "Obs_uncertainty": 1.89,
          "Model": 266.41210271598277
         },
         {
          "Date": "1992-11-01T00:00:00",
          "Box": "00 °N - 30 °N",
          "Obs": 267.49,
          "Obs_uncertainty": 1.94,
          "Model": 267.051341945855
         },
         {
          "Date": "1992-12-01T00:00:00",
          "Box": "00 °N - 30 °N",
          "Obs": 267.8,
          "Obs_uncertainty": 1.39,
          "Model": 267.53529741998955
         },
         {
          "Date": "1993-01-01T00:00:00",
          "Box": "00 °N - 30 °N",
          "Obs": 268.53,
          "Obs_uncertainty": 0.89,
          "Model": 268.5368571931142
         },
         {
          "Date": "1993-02-01T00:00:00",
          "Box": "00 °N - 30 °N",
          "Obs": 268.13,
          "Obs_uncertainty": 0.58,
          "Model": 268.8974291041763
         },
         {
          "Date": "1993-03-01T00:00:00",
          "Box": "00 °N - 30 °N",
          "Obs": 268.34,
          "Obs_uncertainty": 0.58,
          "Model": 268.8332128180642
         },
         {
          "Date": "1993-04-01T00:00:00",
          "Box": "00 °N - 30 °N",
          "Obs": 267.97,
          "Obs_uncertainty": 0.6,
          "Model": 268.41509014345723
         },
         {
          "Date": "1993-05-01T00:00:00",
          "Box": "00 °N - 30 °N",
          "Obs": 268.2,
          "Obs_uncertainty": 0.57,
          "Model": 268.2980964692998
         },
         {
          "Date": "1993-06-01T00:00:00",
          "Box": "00 °N - 30 °N",
          "Obs": 267.62,
          "Obs_uncertainty": 0.64,
          "Model": 268.36303286931184
         },
         {
          "Date": "1993-07-01T00:00:00",
          "Box": "00 °N - 30 °N",
          "Obs": 268.34,
          "Obs_uncertainty": 0.94,
          "Model": 267.93348531691953
         },
         {
          "Date": "1993-08-01T00:00:00",
          "Box": "00 °N - 30 °N",
          "Obs": 268.03,
          "Obs_uncertainty": 0.98,
          "Model": 267.22558745953995
         },
         {
          "Date": "1993-09-01T00:00:00",
          "Box": "00 °N - 30 °N",
          "Obs": 268.02,
          "Obs_uncertainty": 1.04,
          "Model": 266.80229331094665
         },
         {
          "Date": "1993-10-01T00:00:00",
          "Box": "00 °N - 30 °N",
          "Obs": 268.41,
          "Obs_uncertainty": 0.96,
          "Model": 266.8883129051456
         },
         {
          "Date": "1993-11-01T00:00:00",
          "Box": "00 °N - 30 °N",
          "Obs": 268.87,
          "Obs_uncertainty": 0.77,
          "Model": 267.3353980275144
         },
         {
          "Date": "1993-12-01T00:00:00",
          "Box": "00 °N - 30 °N",
          "Obs": 269.42,
          "Obs_uncertainty": 0.6,
          "Model": 267.6388893583444
         },
         {
          "Date": "1994-01-01T00:00:00",
          "Box": "00 °N - 30 °N",
          "Obs": 269.34,
          "Obs_uncertainty": 0.64,
          "Model": 268.4818069261408
         },
         {
          "Date": "1994-02-01T00:00:00",
          "Box": "00 °N - 30 °N",
          "Obs": 268.92,
          "Obs_uncertainty": 0.66,
          "Model": 268.71936116815266
         },
         {
          "Date": "1994-03-01T00:00:00",
          "Box": "00 °N - 30 °N",
          "Obs": 268.51,
          "Obs_uncertainty": 0.66,
          "Model": 268.52809183510675
         },
         {
          "Date": "1994-04-01T00:00:00",
          "Box": "00 °N - 30 °N",
          "Obs": 268.52,
          "Obs_uncertainty": 0.67,
          "Model": 267.9859438735564
         },
         {
          "Date": "1994-05-01T00:00:00",
          "Box": "00 °N - 30 °N",
          "Obs": 268.47,
          "Obs_uncertainty": 0.58,
          "Model": 267.72425363101104
         },
         {
          "Date": "1994-06-01T00:00:00",
          "Box": "00 °N - 30 °N",
          "Obs": 268.7,
          "Obs_uncertainty": 0.65,
          "Model": 267.64130856686063
         },
         {
          "Date": "1994-07-01T00:00:00",
          "Box": "00 °N - 30 °N",
          "Obs": 269.23,
          "Obs_uncertainty": 0.8,
          "Model": 267.1791968167731
         },
         {
          "Date": "1994-08-01T00:00:00",
          "Box": "00 °N - 30 °N",
          "Obs": 268.83,
          "Obs_uncertainty": 0.79,
          "Model": 266.46598377940785
         },
         {
          "Date": "1994-09-01T00:00:00",
          "Box": "00 °N - 30 °N",
          "Obs": 269.27,
          "Obs_uncertainty": 0.93,
          "Model": 265.99295409521693
         },
         {
          "Date": "1994-10-01T00:00:00",
          "Box": "00 °N - 30 °N",
          "Obs": 268.29,
          "Obs_uncertainty": 1.65,
          "Model": 265.90172584877087
         },
         {
          "Date": "1994-11-01T00:00:00",
          "Box": "00 °N - 30 °N",
          "Obs": 267.96,
          "Obs_uncertainty": 1.2,
          "Model": 266.1468861214066
         },
         {
          "Date": "1994-12-01T00:00:00",
          "Box": "00 °N - 30 °N",
          "Obs": 267.8,
          "Obs_uncertainty": 0.67,
          "Model": 266.2949696377821
         },
         {
          "Date": "1995-01-01T00:00:00",
          "Box": "00 °N - 30 °N",
          "Obs": 267.71,
          "Obs_uncertainty": 0.56,
          "Model": 267.02369468129075
         },
         {
          "Date": "1995-02-01T00:00:00",
          "Box": "00 °N - 30 °N",
          "Obs": 267.44,
          "Obs_uncertainty": 0.57,
          "Model": 267.288786185202
         },
         {
          "Date": "1995-03-01T00:00:00",
          "Box": "00 °N - 30 °N",
          "Obs": 267.61,
          "Obs_uncertainty": 0.53,
          "Model": 267.1656835585694
         },
         {
          "Date": "1995-04-01T00:00:00",
          "Box": "00 °N - 30 °N",
          "Obs": 267.29,
          "Obs_uncertainty": 0.6,
          "Model": 266.72292414688997
         },
         {
          "Date": "1995-05-01T00:00:00",
          "Box": "00 °N - 30 °N",
          "Obs": 267.06,
          "Obs_uncertainty": 0.49,
          "Model": 266.51622776349075
         },
         {
          "Date": "1995-06-01T00:00:00",
          "Box": "00 °N - 30 °N",
          "Obs": 267.01,
          "Obs_uncertainty": 0.57,
          "Model": 266.4707807508045
         },
         {
          "Date": "1995-07-01T00:00:00",
          "Box": "00 °N - 30 °N",
          "Obs": 266.76,
          "Obs_uncertainty": 0.76,
          "Model": 266.2527032195543
         },
         {
          "Date": "1995-08-01T00:00:00",
          "Box": "00 °N - 30 °N",
          "Obs": 266.5,
          "Obs_uncertainty": 1.03,
          "Model": 265.81230705477634
         },
         {
          "Date": "1995-09-01T00:00:00",
          "Box": "00 °N - 30 °N",
          "Obs": 265.91,
          "Obs_uncertainty": 1.22,
          "Model": 265.5100129091432
         },
         {
          "Date": "1995-10-01T00:00:00",
          "Box": "00 °N - 30 °N",
          "Obs": 265.82,
          "Obs_uncertainty": 1.25,
          "Model": 265.40184306436106
         },
         {
          "Date": "1995-11-01T00:00:00",
          "Box": "00 °N - 30 °N",
          "Obs": 266,
          "Obs_uncertainty": 0.67,
          "Model": 265.59012995893744
         },
         {
          "Date": "1995-12-01T00:00:00",
          "Box": "00 °N - 30 °N",
          "Obs": 266.19,
          "Obs_uncertainty": 0.54,
          "Model": 265.7407563701524
         },
         {
          "Date": "1996-01-01T00:00:00",
          "Box": "00 °N - 30 °N",
          "Obs": 265.86,
          "Obs_uncertainty": 0.56,
          "Model": 266.3769385161454
         },
         {
          "Date": "1996-02-01T00:00:00",
          "Box": "00 °N - 30 °N",
          "Obs": 265.99,
          "Obs_uncertainty": 0.61,
          "Model": 266.66773360435974
         },
         {
          "Date": "1996-03-01T00:00:00",
          "Box": "00 °N - 30 °N",
          "Obs": 265.52,
          "Obs_uncertainty": 0.53,
          "Model": 266.6453311556851
         },
         {
          "Date": "1996-04-01T00:00:00",
          "Box": "00 °N - 30 °N",
          "Obs": 265.21,
          "Obs_uncertainty": 0.49,
          "Model": 266.3056828527017
         },
         {
          "Date": "1996-05-01T00:00:00",
          "Box": "00 °N - 30 °N",
          "Obs": 265.18,
          "Obs_uncertainty": 0.55,
          "Model": 266.1599650898618
         },
         {
          "Date": "1996-06-01T00:00:00",
          "Box": "00 °N - 30 °N",
          "Obs": 265.298,
          "Obs_uncertainty": 0.403,
          "Model": 266.1617339608772
         },
         {
          "Date": "1996-07-01T00:00:00",
          "Box": "00 °N - 30 °N",
          "Obs": 265.599,
          "Obs_uncertainty": 0.301,
          "Model": 266.0052300520691
         },
         {
          "Date": "1996-08-01T00:00:00",
          "Box": "00 °N - 30 °N",
          "Obs": 265.349,
          "Obs_uncertainty": 0.6940000000000001,
          "Model": 265.6010781048458
         },
         {
          "Date": "1996-09-01T00:00:00",
          "Box": "00 °N - 30 °N",
          "Obs": 265.173,
          "Obs_uncertainty": 0.405,
          "Model": 265.3072352561266
         },
         {
          "Date": "1996-10-01T00:00:00",
          "Box": "00 °N - 30 °N",
          "Obs": 264.943,
          "Obs_uncertainty": 0.392,
          "Model": 265.21340715274766
         },
         {
          "Date": "1996-11-01T00:00:00",
          "Box": "00 °N - 30 °N",
          "Obs": 265.253,
          "Obs_uncertainty": 0.37,
          "Model": 265.42188217170576
         },
         {
          "Date": "1996-12-01T00:00:00",
          "Box": "00 °N - 30 °N",
          "Obs": 265.188,
          "Obs_uncertainty": 0.365,
          "Model": 265.58505151582733
         },
         {
          "Date": "1997-01-01T00:00:00",
          "Box": "00 °N - 30 °N",
          "Obs": 265.195,
          "Obs_uncertainty": 0.226,
          "Model": 265.9456322914542
         },
         {
          "Date": "1997-02-01T00:00:00",
          "Box": "00 °N - 30 °N",
          "Obs": 265.07,
          "Obs_uncertainty": 0.258,
          "Model": 265.8241650775543
         },
         {
          "Date": "1997-03-01T00:00:00",
          "Box": "00 °N - 30 °N",
          "Obs": 264.79,
          "Obs_uncertainty": 0.219,
          "Model": 265.47951622852355
         },
         {
          "Date": "1997-04-01T00:00:00",
          "Box": "00 °N - 30 °N",
          "Obs": 264.7,
          "Obs_uncertainty": 0.246,
          "Model": 264.88746744591066
         },
         {
          "Date": "1997-05-01T00:00:00",
          "Box": "00 °N - 30 °N",
          "Obs": 264.569,
          "Obs_uncertainty": 0.204,
          "Model": 264.4790301220602
         },
         {
          "Date": "1997-06-01T00:00:00",
          "Box": "00 °N - 30 °N",
          "Obs": 264.326,
          "Obs_uncertainty": 0.237,
          "Model": 264.2223354959957
         },
         {
          "Date": "1997-07-01T00:00:00",
          "Box": "00 °N - 30 °N",
          "Obs": 264.205,
          "Obs_uncertainty": 0.294,
          "Model": 264.10062042104994
         },
         {
          "Date": "1997-08-01T00:00:00",
          "Box": "00 °N - 30 °N",
          "Obs": 264.134,
          "Obs_uncertainty": 0.251,
          "Model": 263.79507135961984
         },
         {
          "Date": "1997-09-01T00:00:00",
          "Box": "00 °N - 30 °N",
          "Obs": 263.969,
          "Obs_uncertainty": 0.374,
          "Model": 263.4981404678554
         },
         {
          "Date": "1997-10-01T00:00:00",
          "Box": "00 °N - 30 °N",
          "Obs": 263.779,
          "Obs_uncertainty": 0.386,
          "Model": 263.12901113365467
         },
         {
          "Date": "1997-11-01T00:00:00",
          "Box": "00 °N - 30 °N",
          "Obs": 264.087,
          "Obs_uncertainty": 0.4270000000000001,
          "Model": 263.0115734860291
         },
         {
          "Date": "1997-12-01T00:00:00",
          "Box": "00 °N - 30 °N",
          "Obs": 264.091,
          "Obs_uncertainty": 0.218,
          "Model": 262.9465653063196
         },
         {
          "Date": "1998-01-01T00:00:00",
          "Box": "00 °N - 30 °N",
          "Obs": 264.014,
          "Obs_uncertainty": 0.251,
          "Model": 263.38258713887717
         },
         {
          "Date": "1998-02-01T00:00:00",
          "Box": "00 °N - 30 °N",
          "Obs": 263.761,
          "Obs_uncertainty": 0.245,
          "Model": 263.71425544079193
         },
         {
          "Date": "1998-03-01T00:00:00",
          "Box": "00 °N - 30 °N",
          "Obs": 263.67,
          "Obs_uncertainty": 0.237,
          "Model": 263.7400259393059
         },
         {
          "Date": "1998-04-01T00:00:00",
          "Box": "00 °N - 30 °N",
          "Obs": 263.252,
          "Obs_uncertainty": 0.261,
          "Model": 263.4220927755249
         },
         {
          "Date": "1998-05-01T00:00:00",
          "Box": "00 °N - 30 °N",
          "Obs": 263.079,
          "Obs_uncertainty": 0.226,
          "Model": 263.1997275622418
         },
         {
          "Date": "1998-06-01T00:00:00",
          "Box": "00 °N - 30 °N",
          "Obs": 262.829,
          "Obs_uncertainty": 0.258,
          "Model": 263.0951618916385
         },
         {
          "Date": "1998-07-01T00:00:00",
          "Box": "00 °N - 30 °N",
          "Obs": 262.594,
          "Obs_uncertainty": 0.247,
          "Model": 263.02416765754293
         },
         {
          "Date": "1998-08-01T00:00:00",
          "Box": "00 °N - 30 °N",
          "Obs": 262.367,
          "Obs_uncertainty": 0.311,
          "Model": 262.71500938974043
         },
         {
          "Date": "1998-09-01T00:00:00",
          "Box": "00 °N - 30 °N",
          "Obs": 262.342,
          "Obs_uncertainty": 0.35,
          "Model": 262.41023977167663
         },
         {
          "Date": "1998-10-01T00:00:00",
          "Box": "00 °N - 30 °N",
          "Obs": 262.262,
          "Obs_uncertainty": 0.369,
          "Model": 262.1299501012809
         },
         {
          "Date": "1998-11-01T00:00:00",
          "Box": "00 °N - 30 °N",
          "Obs": 262.403,
          "Obs_uncertainty": 0.262,
          "Model": 262.1205341335705
         },
         {
          "Date": "1998-12-01T00:00:00",
          "Box": "00 °N - 30 °N",
          "Obs": 262.446,
          "Obs_uncertainty": 0.254,
          "Model": 262.12170529667753
         },
         {
          "Date": "1999-01-01T00:00:00",
          "Box": "00 °N - 30 °N",
          "Obs": 262.327,
          "Obs_uncertainty": 0.223,
          "Model": 262.54487068181413
         },
         {
          "Date": "1999-02-01T00:00:00",
          "Box": "00 °N - 30 °N",
          "Obs": 262.153,
          "Obs_uncertainty": 0.2,
          "Model": 262.67634932020985
         },
         {
          "Date": "1999-03-01T00:00:00",
          "Box": "00 °N - 30 °N",
          "Obs": 261.863,
          "Obs_uncertainty": 0.197,
          "Model": 262.51919897101163
         },
         {
          "Date": "1999-04-01T00:00:00",
          "Box": "00 °N - 30 °N",
          "Obs": 261.617,
          "Obs_uncertainty": 0.217,
          "Model": 262.05686480171516
         },
         {
          "Date": "1999-05-01T00:00:00",
          "Box": "00 °N - 30 °N",
          "Obs": 261.302,
          "Obs_uncertainty": 0.231,
          "Model": 261.7450696217522
         },
         {
          "Date": "1999-06-01T00:00:00",
          "Box": "00 °N - 30 °N",
          "Obs": 261.021,
          "Obs_uncertainty": 0.195,
          "Model": 261.56968082746954
         },
         {
          "Date": "1999-07-01T00:00:00",
          "Box": "00 °N - 30 °N",
          "Obs": 260.819,
          "Obs_uncertainty": 0.247,
          "Model": 261.4180209412002
         },
         {
          "Date": "1999-08-01T00:00:00",
          "Box": "00 °N - 30 °N",
          "Obs": 260.681,
          "Obs_uncertainty": 0.314,
          "Model": 261.05552177114095
         },
         {
          "Date": "1999-09-01T00:00:00",
          "Box": "00 °N - 30 °N",
          "Obs": 260.578,
          "Obs_uncertainty": 0.471,
          "Model": 260.7255609771372
         },
         {
          "Date": "1999-10-01T00:00:00",
          "Box": "00 °N - 30 °N",
          "Obs": 260.695,
          "Obs_uncertainty": 0.376,
          "Model": 260.40859791577896
         },
         {
          "Date": "1999-11-01T00:00:00",
          "Box": "00 °N - 30 °N",
          "Obs": 260.67,
          "Obs_uncertainty": 0.436,
          "Model": 260.3550431599796
         },
         {
          "Date": "1999-12-01T00:00:00",
          "Box": "00 °N - 30 °N",
          "Obs": 260.876,
          "Obs_uncertainty": 0.273,
          "Model": 260.3218379703869
         },
         {
          "Date": "2000-01-01T00:00:00",
          "Box": "00 °N - 30 °N",
          "Obs": 260.868,
          "Obs_uncertainty": 0.233,
          "Model": 260.743358494757
         },
         {
          "Date": "2000-02-01T00:00:00",
          "Box": "00 °N - 30 °N",
          "Obs": 260.645,
          "Obs_uncertainty": 0.236,
          "Model": 260.9429923939848
         },
         {
          "Date": "2000-03-01T00:00:00",
          "Box": "00 °N - 30 °N",
          "Obs": 260.611,
          "Obs_uncertainty": 0.229,
          "Model": 260.8680915704695
         },
         {
          "Date": "2000-04-01T00:00:00",
          "Box": "00 °N - 30 °N",
          "Obs": 260.447,
          "Obs_uncertainty": 0.21600000000000005,
          "Model": 260.48928582709874
         },
         {
          "Date": "2000-05-01T00:00:00",
          "Box": "00 °N - 30 °N",
          "Obs": 260.385,
          "Obs_uncertainty": 0.194,
          "Model": 260.2481554044433
         },
         {
          "Date": "2000-06-01T00:00:00",
          "Box": "00 °N - 30 °N",
          "Obs": 260.36400000000003,
          "Obs_uncertainty": 0.196,
          "Model": 260.1371179456719
         },
         {
          "Date": "2000-07-01T00:00:00",
          "Box": "00 °N - 30 °N",
          "Obs": 260.156,
          "Obs_uncertainty": 0.197,
          "Model": 260.04408429210673
         },
         {
          "Date": "2000-08-01T00:00:00",
          "Box": "00 °N - 30 °N",
          "Obs": 260.073,
          "Obs_uncertainty": 0.277,
          "Model": 259.7305187368163
         },
         {
          "Date": "2000-09-01T00:00:00",
          "Box": "00 °N - 30 °N",
          "Obs": 259.97,
          "Obs_uncertainty": 0.3720000000000001,
          "Model": 259.4421701552508
         },
         {
          "Date": "2000-10-01T00:00:00",
          "Box": "00 °N - 30 °N",
          "Obs": 259.992,
          "Obs_uncertainty": 0.393,
          "Model": 259.18039451160496
         },
         {
          "Date": "2000-11-01T00:00:00",
          "Box": "00 °N - 30 °N",
          "Obs": 259.825,
          "Obs_uncertainty": 0.344,
          "Model": 259.183635604491
         },
         {
          "Date": "2000-12-01T00:00:00",
          "Box": "00 °N - 30 °N",
          "Obs": 259.786,
          "Obs_uncertainty": 0.307,
          "Model": 259.19951649572994
         },
         {
          "Date": "2001-01-01T00:00:00",
          "Box": "00 °N - 30 °N",
          "Obs": 259.552,
          "Obs_uncertainty": 0.333,
          "Model": 259.63091918334294
         },
         {
          "Date": "2001-02-01T00:00:00",
          "Box": "00 °N - 30 °N",
          "Obs": 259.457,
          "Obs_uncertainty": 0.258,
          "Model": 259.80497984398596
         },
         {
          "Date": "2001-03-01T00:00:00",
          "Box": "00 °N - 30 °N",
          "Obs": 259.088,
          "Obs_uncertainty": 0.258,
          "Model": 259.7096880391916
         },
         {
          "Date": "2001-04-01T00:00:00",
          "Box": "00 °N - 30 °N",
          "Obs": 258.897,
          "Obs_uncertainty": 0.199,
          "Model": 259.30883047831344
         },
         {
          "Date": "2001-05-01T00:00:00",
          "Box": "00 °N - 30 °N",
          "Obs": 258.598,
          "Obs_uncertainty": 0.236,
          "Model": 259.05455856420826
         },
         {
          "Date": "2001-06-01T00:00:00",
          "Box": "00 °N - 30 °N",
          "Obs": 258.434,
          "Obs_uncertainty": 0.257,
          "Model": 258.9347271810021
         },
         {
          "Date": "2001-07-01T00:00:00",
          "Box": "00 °N - 30 °N",
          "Obs": 258.224,
          "Obs_uncertainty": 0.234,
          "Model": 258.7932454831638
         },
         {
          "Date": "2001-08-01T00:00:00",
          "Box": "00 °N - 30 °N",
          "Obs": 258.006,
          "Obs_uncertainty": 0.34,
          "Model": 258.42759868804444
         },
         {
          "Date": "2001-09-01T00:00:00",
          "Box": "00 °N - 30 °N",
          "Obs": 257.805,
          "Obs_uncertainty": 0.32,
          "Model": 258.1088610847898
         },
         {
          "Date": "2001-10-01T00:00:00",
          "Box": "00 °N - 30 °N",
          "Obs": 257.765,
          "Obs_uncertainty": 0.339,
          "Model": 257.8521589680617
         },
         {
          "Date": "2001-11-01T00:00:00",
          "Box": "00 °N - 30 °N",
          "Obs": 257.797,
          "Obs_uncertainty": 0.322,
          "Model": 257.8673211824074
         },
         {
          "Date": "2001-12-01T00:00:00",
          "Box": "00 °N - 30 °N",
          "Obs": 257.937,
          "Obs_uncertainty": 0.317,
          "Model": 257.88369809673577
         },
         {
          "Date": "2002-01-01T00:00:00",
          "Box": "00 °N - 30 °N",
          "Obs": 257.73,
          "Obs_uncertainty": 0.28600000000000003,
          "Model": 258.3102438817362
         },
         {
          "Date": "2002-02-01T00:00:00",
          "Box": "00 °N - 30 °N",
          "Obs": 257.459,
          "Obs_uncertainty": 0.253,
          "Model": 258.462565274104
         },
         {
          "Date": "2002-03-01T00:00:00",
          "Box": "00 °N - 30 °N",
          "Obs": 257.213,
          "Obs_uncertainty": 0.214,
          "Model": 258.3325831617008
         },
         {
          "Date": "2002-04-01T00:00:00",
          "Box": "00 °N - 30 °N",
          "Obs": 257.108,
          "Obs_uncertainty": 0.215,
          "Model": 257.88121112985135
         },
         {
          "Date": "2002-05-01T00:00:00",
          "Box": "00 °N - 30 °N",
          "Obs": 256.702,
          "Obs_uncertainty": 0.284,
          "Model": 257.5804644436282
         },
         {
          "Date": "2002-06-01T00:00:00",
          "Box": "00 °N - 30 °N",
          "Obs": 256.465,
          "Obs_uncertainty": 0.278,
          "Model": 257.4178064770764
         },
         {
          "Date": "2002-07-01T00:00:00",
          "Box": "00 °N - 30 °N",
          "Obs": 256.154,
          "Obs_uncertainty": 0.28600000000000003,
          "Model": 257.16747222987294
         },
         {
          "Date": "2002-08-01T00:00:00",
          "Box": "00 °N - 30 °N",
          "Obs": 256.034,
          "Obs_uncertainty": 0.276,
          "Model": 256.6821094459155
         },
         {
          "Date": "2002-09-01T00:00:00",
          "Box": "00 °N - 30 °N",
          "Obs": 255.73,
          "Obs_uncertainty": 0.402,
          "Model": 256.27535783548626
         },
         {
          "Date": "2002-10-01T00:00:00",
          "Box": "00 °N - 30 °N",
          "Obs": 255.716,
          "Obs_uncertainty": 0.362,
          "Model": 255.98850359992056
         },
         {
          "Date": "2002-11-01T00:00:00",
          "Box": "00 °N - 30 °N",
          "Obs": 255.925,
          "Obs_uncertainty": 0.342,
          "Model": 255.98599169646775
         },
         {
          "Date": "2002-12-01T00:00:00",
          "Box": "00 °N - 30 °N",
          "Obs": 255.791,
          "Obs_uncertainty": 0.35200000000000004,
          "Model": 255.96636786270832
         },
         {
          "Date": "2003-01-01T00:00:00",
          "Box": "00 °N - 30 °N",
          "Obs": 255.679,
          "Obs_uncertainty": 0.273,
          "Model": 256.41096961113726
         },
         {
          "Date": "2003-02-01T00:00:00",
          "Box": "00 °N - 30 °N",
          "Obs": 255.43400000000003,
          "Obs_uncertainty": 0.254,
          "Model": 256.55318692862267
         },
         {
          "Date": "2003-03-01T00:00:00",
          "Box": "00 °N - 30 °N",
          "Obs": 255.177,
          "Obs_uncertainty": 0.241,
          "Model": 256.3801212593145
         },
         {
          "Date": "2003-04-01T00:00:00",
          "Box": "00 °N - 30 °N",
          "Obs": 255.048,
          "Obs_uncertainty": 0.253,
          "Model": 255.89153292966523
         },
         {
          "Date": "2003-05-01T00:00:00",
          "Box": "00 °N - 30 °N",
          "Obs": 254.802,
          "Obs_uncertainty": 0.324,
          "Model": 255.56058089756317
         },
         {
          "Date": "2003-06-01T00:00:00",
          "Box": "00 °N - 30 °N",
          "Obs": 254.5,
          "Obs_uncertainty": 0.306,
          "Model": 255.36876245238753
         },
         {
          "Date": "2003-07-01T00:00:00",
          "Box": "00 °N - 30 °N",
          "Obs": 254.331,
          "Obs_uncertainty": 0.316,
          "Model": 255.1413976731234
         },
         {
          "Date": "2003-08-01T00:00:00",
          "Box": "00 °N - 30 °N",
          "Obs": 254.132,
          "Obs_uncertainty": 0.306,
          "Model": 254.70218189704661
         },
         {
          "Date": "2003-09-01T00:00:00",
          "Box": "00 °N - 30 °N",
          "Obs": 253.927,
          "Obs_uncertainty": 0.426,
          "Model": 254.32685622601736
         },
         {
          "Date": "2003-10-01T00:00:00",
          "Box": "00 °N - 30 °N",
          "Obs": 253.849,
          "Obs_uncertainty": 0.507,
          "Model": 254.01243512166363
         },
         {
          "Date": "2003-11-01T00:00:00",
          "Box": "00 °N - 30 °N",
          "Obs": 253.804,
          "Obs_uncertainty": 0.431,
          "Model": 253.96586111407888
         },
         {
          "Date": "2003-12-01T00:00:00",
          "Box": "00 °N - 30 °N",
          "Obs": 254.107,
          "Obs_uncertainty": 0.391,
          "Model": 253.92426227609832
         },
         {
          "Date": "2004-01-01T00:00:00",
          "Box": "00 °N - 30 °N",
          "Obs": 253.903,
          "Obs_uncertainty": 0.397,
          "Model": 254.29161897855067
         },
         {
          "Date": "2004-02-01T00:00:00",
          "Box": "00 °N - 30 °N",
          "Obs": 253.706,
          "Obs_uncertainty": 0.522,
          "Model": 254.4076022661974
         },
         {
          "Date": "2004-03-01T00:00:00",
          "Box": "00 °N - 30 °N",
          "Obs": 253.358,
          "Obs_uncertainty": 0.461,
          "Model": 254.2488129189196
         },
         {
          "Date": "2004-04-01T00:00:00",
          "Box": "00 °N - 30 °N",
          "Obs": 253.061,
          "Obs_uncertainty": 0.425,
          "Model": 253.77963242092173
         },
         {
          "Date": "2004-05-01T00:00:00",
          "Box": "00 °N - 30 °N",
          "Obs": 252.851,
          "Obs_uncertainty": 0.387,
          "Model": 253.44895704584158
         },
         {
          "Date": "2004-06-01T00:00:00",
          "Box": "00 °N - 30 °N",
          "Obs": 252.558,
          "Obs_uncertainty": 0.426,
          "Model": 253.25126864837878
         },
         {
          "Date": "2004-07-01T00:00:00",
          "Box": "00 °N - 30 °N",
          "Obs": 252.208,
          "Obs_uncertainty": 0.399,
          "Model": 253.02737092641513
         },
         {
          "Date": "2004-08-01T00:00:00",
          "Box": "00 °N - 30 °N",
          "Obs": 252.054,
          "Obs_uncertainty": 0.514,
          "Model": 252.58384262480797
         },
         {
          "Date": "2004-09-01T00:00:00",
          "Box": "00 °N - 30 °N",
          "Obs": 251.94,
          "Obs_uncertainty": 0.493,
          "Model": 252.19176389723657
         },
         {
          "Date": "2004-10-01T00:00:00",
          "Box": "00 °N - 30 °N",
          "Obs": 251.838,
          "Obs_uncertainty": 0.414,
          "Model": 251.85763042470703
         },
         {
          "Date": "2004-11-01T00:00:00",
          "Box": "00 °N - 30 °N",
          "Obs": 251.807,
          "Obs_uncertainty": 0.63,
          "Model": 251.7912518368411
         },
         {
          "Date": "2004-12-01T00:00:00",
          "Box": "00 °N - 30 °N",
          "Obs": 251.896,
          "Obs_uncertainty": 0.539,
          "Model": 251.72896787198863
         },
         {
          "Date": "2005-01-01T00:00:00",
          "Box": "00 °N - 30 °N",
          "Obs": 251.903,
          "Obs_uncertainty": 0.5720000000000001,
          "Model": 252.0761144976981
         },
         {
          "Date": "2005-02-01T00:00:00",
          "Box": "00 °N - 30 °N",
          "Obs": 251.662,
          "Obs_uncertainty": 0.5710000000000001,
          "Model": 252.16697244132834
         },
         {
          "Date": "2005-03-01T00:00:00",
          "Box": "00 °N - 30 °N",
          "Obs": 251.438,
          "Obs_uncertainty": 0.415,
          "Model": 251.97833212015487
         },
         {
          "Date": "2005-04-01T00:00:00",
          "Box": "00 °N - 30 °N",
          "Obs": 250.39,
          "Obs_uncertainty": 0.4270000000000001,
          "Model": 251.47867602701365
         },
         {
          "Date": "2005-05-01T00:00:00",
          "Box": "00 °N - 30 °N",
          "Obs": 250.16,
          "Obs_uncertainty": 0.275,
          "Model": 251.11689606614215
         },
         {
          "Date": "2005-06-01T00:00:00",
          "Box": "00 °N - 30 °N",
          "Obs": 249.80900000000003,
          "Obs_uncertainty": 0.302,
          "Model": 250.88840979458934
         },
         {
          "Date": "2005-07-01T00:00:00",
          "Box": "00 °N - 30 °N",
          "Obs": 249.67,
          "Obs_uncertainty": 0.493,
          "Model": 250.6354831157946
         },
         {
          "Date": "2005-08-01T00:00:00",
          "Box": "00 °N - 30 °N",
          "Obs": 249.34,
          "Obs_uncertainty": 0.441,
          "Model": 250.16752593721225
         },
         {
          "Date": "2005-09-01T00:00:00",
          "Box": "00 °N - 30 °N",
          "Obs": 249.263,
          "Obs_uncertainty": 0.428,
          "Model": 249.75299931491676
         },
         {
          "Date": "2005-10-01T00:00:00",
          "Box": "00 °N - 30 °N",
          "Obs": 249.171,
          "Obs_uncertainty": 0.389,
          "Model": 249.3904330234651
         },
         {
          "Date": "2005-11-01T00:00:00",
          "Box": "00 °N - 30 °N",
          "Obs": 249.259,
          "Obs_uncertainty": 0.353,
          "Model": 249.29265130618936
         },
         {
          "Date": "2005-12-01T00:00:00",
          "Box": "00 °N - 30 °N",
          "Obs": 249.396,
          "Obs_uncertainty": 0.273,
          "Model": 249.20183444935026
         },
         {
          "Date": "2006-01-01T00:00:00",
          "Box": "00 °N - 30 °N",
          "Obs": 249.156,
          "Obs_uncertainty": 0.24,
          "Model": 249.5304188968502
         },
         {
          "Date": "2006-02-01T00:00:00",
          "Box": "00 °N - 30 °N",
          "Obs": 248.881,
          "Obs_uncertainty": 0.275,
          "Model": 249.61908106919918
         },
         {
          "Date": "2006-03-01T00:00:00",
          "Box": "00 °N - 30 °N",
          "Obs": 248.541,
          "Obs_uncertainty": 0.374,
          "Model": 249.43073761395937
         },
         {
          "Date": "2006-04-01T00:00:00",
          "Box": "00 °N - 30 °N",
          "Obs": 248.336,
          "Obs_uncertainty": 0.373,
          "Model": 248.94145646000806
         },
         {
          "Date": "2006-05-01T00:00:00",
          "Box": "00 °N - 30 °N",
          "Obs": 247.995,
          "Obs_uncertainty": 0.306,
          "Model": 248.58282756513285
         },
         {
          "Date": "2006-06-01T00:00:00",
          "Box": "00 °N - 30 °N",
          "Obs": 247.953,
          "Obs_uncertainty": 0.258,
          "Model": 248.3538694973578
         },
         {
          "Date": "2006-07-01T00:00:00",
          "Box": "00 °N - 30 °N",
          "Obs": 247.675,
          "Obs_uncertainty": 0.217,
          "Model": 248.15482994690856
         },
         {
          "Date": "2006-08-01T00:00:00",
          "Box": "00 °N - 30 °N",
          "Obs": 247.371,
          "Obs_uncertainty": 0.322,
          "Model": 247.75445852034835
         },
         {
          "Date": "2006-09-01T00:00:00",
          "Box": "00 °N - 30 °N",
          "Obs": 247.056,
          "Obs_uncertainty": 0.339,
          "Model": 247.38398817106423
         },
         {
          "Date": "2006-10-01T00:00:00",
          "Box": "00 °N - 30 °N",
          "Obs": 246.945,
          "Obs_uncertainty": 0.287,
          "Model": 247.01308142120075
         },
         {
          "Date": "2006-11-01T00:00:00",
          "Box": "00 °N - 30 °N",
          "Obs": 246.963,
          "Obs_uncertainty": 0.292,
          "Model": 246.89309115857205
         },
         {
          "Date": "2006-12-01T00:00:00",
          "Box": "00 °N - 30 °N",
          "Obs": 247.132,
          "Obs_uncertainty": 0.218,
          "Model": 246.79743362159763
         },
         {
          "Date": "2007-01-01T00:00:00",
          "Box": "00 °N - 30 °N",
          "Obs": 246.972,
          "Obs_uncertainty": 0.225,
          "Model": 247.11053193339774
         },
         {
          "Date": "2007-02-01T00:00:00",
          "Box": "00 °N - 30 °N",
          "Obs": 246.751,
          "Obs_uncertainty": 0.245,
          "Model": 247.2306008264054
         },
         {
          "Date": "2007-03-01T00:00:00",
          "Box": "00 °N - 30 °N",
          "Obs": 246.611,
          "Obs_uncertainty": 0.192,
          "Model": 247.09624825984864
         },
         {
          "Date": "2007-04-01T00:00:00",
          "Box": "00 °N - 30 °N",
          "Obs": 246.386,
          "Obs_uncertainty": 0.192,
          "Model": 246.67074947771712
         },
         {
          "Date": "2007-05-01T00:00:00",
          "Box": "00 °N - 30 °N",
          "Obs": 246.293,
          "Obs_uncertainty": 0.224,
          "Model": 246.361113405813
         },
         {
          "Date": "2007-06-01T00:00:00",
          "Box": "00 °N - 30 °N",
          "Obs": 246.256,
          "Obs_uncertainty": 0.228,
          "Model": 246.17417804456278
         },
         {
          "Date": "2007-07-01T00:00:00",
          "Box": "00 °N - 30 °N",
          "Obs": 246.144,
          "Obs_uncertainty": 0.379,
          "Model": 246.05189072313175
         },
         {
          "Date": "2007-08-01T00:00:00",
          "Box": "00 °N - 30 °N",
          "Obs": 245.715,
          "Obs_uncertainty": 0.285,
          "Model": 245.7288749272672
         },
         {
          "Date": "2007-09-01T00:00:00",
          "Box": "00 °N - 30 °N",
          "Obs": 245.508,
          "Obs_uncertainty": 0.425,
          "Model": 245.41309099204105
         },
         {
          "Date": "2007-10-01T00:00:00",
          "Box": "00 °N - 30 °N",
          "Obs": 245.366,
          "Obs_uncertainty": 0.336,
          "Model": 245.07199003539554
         },
         {
          "Date": "2007-11-01T00:00:00",
          "Box": "00 °N - 30 °N",
          "Obs": 245.343,
          "Obs_uncertainty": 0.253,
          "Model": 244.97475095556197
         },
         {
          "Date": "2007-12-01T00:00:00",
          "Box": "00 °N - 30 °N",
          "Obs": 245.227,
          "Obs_uncertainty": 0.248,
          "Model": 244.9077017353054
         },
         {
          "Date": "2008-01-01T00:00:00",
          "Box": "00 °N - 30 °N",
          "Obs": 245.053,
          "Obs_uncertainty": 0.238,
          "Model": 245.20065779176417
         },
         {
          "Date": "2008-02-01T00:00:00",
          "Box": "00 °N - 30 °N",
          "Obs": 244.82,
          "Obs_uncertainty": 0.263,
          "Model": 245.29861685344073
         },
         {
          "Date": "2008-03-01T00:00:00",
          "Box": "00 °N - 30 °N",
          "Obs": 244.475,
          "Obs_uncertainty": 0.246,
          "Model": 245.1587119464258
         },
         {
          "Date": "2008-04-01T00:00:00",
          "Box": "00 °N - 30 °N",
          "Obs": null,
          "Obs_uncertainty": null,
          "Model": 244.72618608222564
         },
         {
          "Date": "2008-05-01T00:00:00",
          "Box": "00 °N - 30 °N",
          "Obs": 243.979,
          "Obs_uncertainty": 0.298,
          "Model": 244.40687137858595
         },
         {
          "Date": "2008-06-01T00:00:00",
          "Box": "00 °N - 30 °N",
          "Obs": 243.837,
          "Obs_uncertainty": 0.298,
          "Model": 244.21105548842328
         },
         {
          "Date": "2008-07-01T00:00:00",
          "Box": "00 °N - 30 °N",
          "Obs": 243.763,
          "Obs_uncertainty": 0.287,
          "Model": 244.06016124621
         },
         {
          "Date": "2008-08-01T00:00:00",
          "Box": "00 °N - 30 °N",
          "Obs": 243.527,
          "Obs_uncertainty": 0.3720000000000001,
          "Model": 243.70621654614024
         },
         {
          "Date": "2008-09-01T00:00:00",
          "Box": "00 °N - 30 °N",
          "Obs": 243.328,
          "Obs_uncertainty": 0.391,
          "Model": 243.369179774845
         },
         {
          "Date": "2008-10-01T00:00:00",
          "Box": "00 °N - 30 °N",
          "Obs": 243.28,
          "Obs_uncertainty": 0.435,
          "Model": 243.0240848505295
         },
         {
          "Date": "2008-11-01T00:00:00",
          "Box": "00 °N - 30 °N",
          "Obs": 243.607,
          "Obs_uncertainty": 0.343,
          "Model": 242.92584205853206
         },
         {
          "Date": "2008-12-01T00:00:00",
          "Box": "00 °N - 30 °N",
          "Obs": 243.524,
          "Obs_uncertainty": 0.329,
          "Model": 242.85159498033977
         },
         {
          "Date": "2009-01-01T00:00:00",
          "Box": "00 °N - 30 °N",
          "Obs": 243.098,
          "Obs_uncertainty": 0.287,
          "Model": 243.17463307526464
         },
         {
          "Date": "2009-02-01T00:00:00",
          "Box": "00 °N - 30 °N",
          "Obs": 242.904,
          "Obs_uncertainty": 0.255,
          "Model": 243.3004253110608
         },
         {
          "Date": "2009-03-01T00:00:00",
          "Box": "00 °N - 30 °N",
          "Obs": 242.591,
          "Obs_uncertainty": 0.262,
          "Model": 243.16816615090323
         },
         {
          "Date": "2009-04-01T00:00:00",
          "Box": "00 °N - 30 °N",
          "Obs": 242.417,
          "Obs_uncertainty": 0.251,
          "Model": 242.74525755663188
         },
         {
          "Date": "2009-05-01T00:00:00",
          "Box": "00 °N - 30 °N",
          "Obs": 242.219,
          "Obs_uncertainty": 0.262,
          "Model": 242.43387335363528
         },
         {
          "Date": "2009-06-01T00:00:00",
          "Box": "00 °N - 30 °N",
          "Obs": 242.075,
          "Obs_uncertainty": 0.28800000000000003,
          "Model": 242.24274916159123
         },
         {
          "Date": "2009-07-01T00:00:00",
          "Box": "00 °N - 30 °N",
          "Obs": 241.713,
          "Obs_uncertainty": 0.338,
          "Model": 242.11896295955452
         },
         {
          "Date": "2009-08-01T00:00:00",
          "Box": "00 °N - 30 °N",
          "Obs": 241.765,
          "Obs_uncertainty": 0.378,
          "Model": 241.79810325502172
         },
         {
          "Date": "2009-09-01T00:00:00",
          "Box": "00 °N - 30 °N",
          "Obs": 241.893,
          "Obs_uncertainty": 0.202,
          "Model": 241.4828300290854
         },
         {
          "Date": "2009-10-01T00:00:00",
          "Box": "00 °N - 30 °N",
          "Obs": 241.85,
          "Obs_uncertainty": 0.198,
          "Model": 241.1390507638356
         },
         {
          "Date": "2009-11-01T00:00:00",
          "Box": "00 °N - 30 °N",
          "Obs": 241.616,
          "Obs_uncertainty": 0.258,
          "Model": 241.0348099626789
         },
         {
          "Date": "2009-12-01T00:00:00",
          "Box": "00 °N - 30 °N",
          "Obs": 241.789,
          "Obs_uncertainty": 0.172,
          "Model": 240.9615512289802
         },
         {
          "Date": "2010-01-01T00:00:00",
          "Box": "00 °N - 30 °N",
          "Obs": null,
          "Obs_uncertainty": null,
          "Model": 241.25493694197218
         },
         {
          "Date": "2010-02-01T00:00:00",
          "Box": "00 °N - 30 °N",
          "Obs": 241.28,
          "Obs_uncertainty": 0.145,
          "Model": 241.36494688861364
         },
         {
          "Date": "2010-03-01T00:00:00",
          "Box": "00 °N - 30 °N",
          "Obs": 241.045,
          "Obs_uncertainty": 0.17,
          "Model": 241.2387343711901
         },
         {
          "Date": "2010-04-01T00:00:00",
          "Box": "00 °N - 30 °N",
          "Obs": 240.922,
          "Obs_uncertainty": 0.179,
          "Model": 240.82446320194697
         },
         {
          "Date": "2010-05-01T00:00:00",
          "Box": "00 °N - 30 °N",
          "Obs": 240.71,
          "Obs_uncertainty": 0.19,
          "Model": 240.5200632892881
         },
         {
          "Date": "2010-06-01T00:00:00",
          "Box": "00 °N - 30 °N",
          "Obs": 240.298,
          "Obs_uncertainty": 0.304,
          "Model": 240.33583118062697
         },
         {
          "Date": "2010-07-01T00:00:00",
          "Box": "00 °N - 30 °N",
          "Obs": 240.064,
          "Obs_uncertainty": 0.261,
          "Model": 240.19476805777072
         },
         {
          "Date": "2010-08-01T00:00:00",
          "Box": "00 °N - 30 °N",
          "Obs": 239.709,
          "Obs_uncertainty": 0.313,
          "Model": 239.85095613038249
         },
         {
          "Date": "2010-09-01T00:00:00",
          "Box": "00 °N - 30 °N",
          "Obs": 239.605,
          "Obs_uncertainty": 0.32299999999999995,
          "Model": 239.5219724989749
         },
         {
          "Date": "2010-10-01T00:00:00",
          "Box": "00 °N - 30 °N",
          "Obs": 239.711,
          "Obs_uncertainty": 0.308,
          "Model": 239.18918874959144
         },
         {
          "Date": "2010-11-01T00:00:00",
          "Box": "00 °N - 30 °N",
          "Obs": null,
          "Obs_uncertainty": null,
          "Model": 239.1002184567723
         },
         {
          "Date": "2010-12-01T00:00:00",
          "Box": "00 °N - 30 °N",
          "Obs": 239.702,
          "Obs_uncertainty": 0.223,
          "Model": 239.03309913920626
         },
         {
          "Date": "2011-01-01T00:00:00",
          "Box": "00 °N - 30 °N",
          "Obs": 239.549,
          "Obs_uncertainty": 0.208,
          "Model": 239.35775185752203
         },
         {
          "Date": "2011-02-01T00:00:00",
          "Box": "00 °N - 30 °N",
          "Obs": 239.297,
          "Obs_uncertainty": 0.229,
          "Model": 239.4943458606519
         },
         {
          "Date": "2011-03-01T00:00:00",
          "Box": "00 °N - 30 °N",
          "Obs": 238.978,
          "Obs_uncertainty": 0.196,
          "Model": 239.380835668904
         },
         {
          "Date": "2011-04-01T00:00:00",
          "Box": "00 °N - 30 °N",
          "Obs": 238.614,
          "Obs_uncertainty": 0.257,
          "Model": 238.9719533201124
         },
         {
          "Date": "2011-05-01T00:00:00",
          "Box": "00 °N - 30 °N",
          "Obs": 238.357,
          "Obs_uncertainty": 0.254,
          "Model": 238.67840702409384
         },
         {
          "Date": "2011-06-01T00:00:00",
          "Box": "00 °N - 30 °N",
          "Obs": 238.041,
          "Obs_uncertainty": 0.299,
          "Model": 238.50661273391302
         },
         {
          "Date": "2011-07-01T00:00:00",
          "Box": "00 °N - 30 °N",
          "Obs": 237.807,
          "Obs_uncertainty": 0.285,
          "Model": 238.3316415651606
         },
         {
          "Date": "2011-08-01T00:00:00",
          "Box": "00 °N - 30 °N",
          "Obs": 237.611,
          "Obs_uncertainty": 0.301,
          "Model": 237.94686537880128
         },
         {
          "Date": "2011-09-01T00:00:00",
          "Box": "00 °N - 30 °N",
          "Obs": 237.483,
          "Obs_uncertainty": 0.378,
          "Model": 237.5978083303088
         },
         {
          "Date": "2011-10-01T00:00:00",
          "Box": "00 °N - 30 °N",
          "Obs": 237.564,
          "Obs_uncertainty": 0.264,
          "Model": 237.28892858339157
         },
         {
          "Date": "2011-11-01T00:00:00",
          "Box": "00 °N - 30 °N",
          "Obs": 237.395,
          "Obs_uncertainty": 0.331,
          "Model": 237.23130522234663
         },
         {
          "Date": "2011-12-01T00:00:00",
          "Box": "00 °N - 30 °N",
          "Obs": 237.346,
          "Obs_uncertainty": 0.289,
          "Model": 237.18053229162615
         },
         {
          "Date": "2012-01-01T00:00:00",
          "Box": "00 °N - 30 °N",
          "Obs": 237.337,
          "Obs_uncertainty": 0.257,
          "Model": 237.52047565981636
         },
         {
          "Date": "2012-02-01T00:00:00",
          "Box": "00 °N - 30 °N",
          "Obs": 237.169,
          "Obs_uncertainty": 0.28600000000000003,
          "Model": 237.63807566790533
         },
         {
          "Date": "2012-03-01T00:00:00",
          "Box": "00 °N - 30 °N",
          "Obs": 236.911,
          "Obs_uncertainty": 0.27,
          "Model": 237.4953064140252
         },
         {
          "Date": "2012-04-01T00:00:00",
          "Box": "00 °N - 30 °N",
          "Obs": 236.499,
          "Obs_uncertainty": 0.26,
          "Model": 237.061686499392
         },
         {
          "Date": "2012-05-01T00:00:00",
          "Box": "00 °N - 30 °N",
          "Obs": 236.179,
          "Obs_uncertainty": 0.227,
          "Model": 236.75190476335393
         },
         {
          "Date": "2012-06-01T00:00:00",
          "Box": "00 °N - 30 °N",
          "Obs": 235.898,
          "Obs_uncertainty": 0.232,
          "Model": 236.5669535756517
         },
         {
          "Date": "2012-07-01T00:00:00",
          "Box": "00 °N - 30 °N",
          "Obs": 235.459,
          "Obs_uncertainty": 0.278,
          "Model": 236.39072458176602
         },
         {
          "Date": "2012-08-01T00:00:00",
          "Box": "00 °N - 30 °N",
          "Obs": 235.348,
          "Obs_uncertainty": 0.303,
          "Model": 236.01685322027623
         },
         {
          "Date": "2012-09-01T00:00:00",
          "Box": "00 °N - 30 °N",
          "Obs": 235.357,
          "Obs_uncertainty": 0.332,
          "Model": 235.68080593252336
         },
         {
          "Date": "2012-10-01T00:00:00",
          "Box": "00 °N - 30 °N",
          "Obs": 235.263,
          "Obs_uncertainty": 0.337,
          "Model": 235.3683398568263
         },
         {
          "Date": "2012-11-01T00:00:00",
          "Box": "00 °N - 30 °N",
          "Obs": 235.58900000000003,
          "Obs_uncertainty": 0.333,
          "Model": 235.30091714637894
         },
         {
          "Date": "2012-12-01T00:00:00",
          "Box": "00 °N - 30 °N",
          "Obs": 235.596,
          "Obs_uncertainty": 0.279,
          "Model": 235.24711403239542
         },
         {
          "Date": "2013-01-01T00:00:00",
          "Box": "00 °N - 30 °N",
          "Obs": 235.427,
          "Obs_uncertainty": 0.26,
          "Model": 235.60769937587025
         },
         {
          "Date": "2013-02-01T00:00:00",
          "Box": "00 °N - 30 °N",
          "Obs": 235.17,
          "Obs_uncertainty": 0.252,
          "Model": 235.79183524190796
         },
         {
          "Date": "2013-03-01T00:00:00",
          "Box": "00 °N - 30 °N",
          "Obs": 234.999,
          "Obs_uncertainty": 0.171,
          "Model": 235.71935860851056
         },
         {
          "Date": "2013-04-01T00:00:00",
          "Box": "00 °N - 30 °N",
          "Obs": 234.815,
          "Obs_uncertainty": 0.214,
          "Model": 235.3492499206355
         },
         {
          "Date": "2013-05-01T00:00:00",
          "Box": "00 °N - 30 °N",
          "Obs": 234.525,
          "Obs_uncertainty": 0.133,
          "Model": 235.095301375804
         },
         {
          "Date": "2013-06-01T00:00:00",
          "Box": "00 °N - 30 °N",
          "Obs": 234.644,
          "Obs_uncertainty": 0.211,
          "Model": 234.9623424676558
         },
         {
          "Date": "2013-07-01T00:00:00",
          "Box": "00 °N - 30 °N",
          "Obs": 234.519,
          "Obs_uncertainty": 0.261,
          "Model": 234.7963202232866
         },
         {
          "Date": "2013-08-01T00:00:00",
          "Box": "00 °N - 30 °N",
          "Obs": 234.281,
          "Obs_uncertainty": 0.241,
          "Model": 234.41700821177653
         },
         {
          "Date": "2013-09-01T00:00:00",
          "Box": "00 °N - 30 °N",
          "Obs": 234.149,
          "Obs_uncertainty": 0.248,
          "Model": 234.08569570016547
         },
         {
          "Date": "2013-10-01T00:00:00",
          "Box": "00 °N - 30 °N",
          "Obs": 234.14,
          "Obs_uncertainty": 0.384,
          "Model": 233.8254450780284
         },
         {
          "Date": "2013-11-01T00:00:00",
          "Box": "00 °N - 30 °N",
          "Obs": 234.367,
          "Obs_uncertainty": 0.342,
          "Model": 233.81923210302685
         },
         {
          "Date": "2013-12-01T00:00:00",
          "Box": "00 °N - 30 °N",
          "Obs": 234.515,
          "Obs_uncertainty": 0.269,
          "Model": 233.8080870923115
         },
         {
          "Date": "2014-01-01T00:00:00",
          "Box": "00 °N - 30 °N",
          "Obs": 234.282,
          "Obs_uncertainty": 0.244,
          "Model": 234.22371984882125
         },
         {
          "Date": "2014-02-01T00:00:00",
          "Box": "00 °N - 30 °N",
          "Obs": 233.944,
          "Obs_uncertainty": 0.215,
          "Model": 234.4122649138356
         },
         {
          "Date": "2014-03-01T00:00:00",
          "Box": "00 °N - 30 °N",
          "Obs": 233.644,
          "Obs_uncertainty": 0.21600000000000005,
          "Model": 234.31967654490046
         },
         {
          "Date": "2014-04-01T00:00:00",
          "Box": "00 °N - 30 °N",
          "Obs": 233.595,
          "Obs_uncertainty": 0.241,
          "Model": 233.92390076056864
         },
         {
          "Date": "2014-05-01T00:00:00",
          "Box": "00 °N - 30 °N",
          "Obs": 233.416,
          "Obs_uncertainty": 0.242,
          "Model": 233.66032268760074
         },
         {
          "Date": "2014-06-01T00:00:00",
          "Box": "00 °N - 30 °N",
          "Obs": 233.31,
          "Obs_uncertainty": 0.251,
          "Model": 233.52232432812679
         },
         {
          "Date": "2014-07-01T00:00:00",
          "Box": "00 °N - 30 °N",
          "Obs": null,
          "Obs_uncertainty": null,
          "Model": 233.30605045742556
         },
         {
          "Date": "2014-08-01T00:00:00",
          "Box": "00 °N - 30 °N",
          "Obs": null,
          "Obs_uncertainty": null,
          "Model": 232.87642273758155
         },
         {
          "Date": "2014-09-01T00:00:00",
          "Box": "00 °N - 30 °N",
          "Obs": null,
          "Obs_uncertainty": null,
          "Model": 232.519922145916
         },
         {
          "Date": "2014-10-01T00:00:00",
          "Box": "00 °N - 30 °N",
          "Obs": 232.931,
          "Obs_uncertainty": 0.523,
          "Model": 232.27175800552033
         },
         {
          "Date": "2014-11-01T00:00:00",
          "Box": "00 °N - 30 °N",
          "Obs": 233.268,
          "Obs_uncertainty": 0.52,
          "Model": 232.28254936138944
         },
         {
          "Date": "2014-12-01T00:00:00",
          "Box": "00 °N - 30 °N",
          "Obs": 233.215,
          "Obs_uncertainty": 0.402,
          "Model": 232.27736977847707
         },
         {
          "Date": "2015-01-01T00:00:00",
          "Box": "00 °N - 30 °N",
          "Obs": 232.951,
          "Obs_uncertainty": 0.317,
          "Model": 232.67958344733734
         },
         {
          "Date": "2015-02-01T00:00:00",
          "Box": "00 °N - 30 °N",
          "Obs": 232.69,
          "Obs_uncertainty": 0.278,
          "Model": 232.8225474968107
         },
         {
          "Date": "2015-03-01T00:00:00",
          "Box": "00 °N - 30 °N",
          "Obs": 232.377,
          "Obs_uncertainty": 0.335,
          "Model": 232.68508320082256
         },
         {
          "Date": "2015-04-01T00:00:00",
          "Box": "00 °N - 30 °N",
          "Obs": 232.096,
          "Obs_uncertainty": 0.293,
          "Model": 232.25397863529426
         },
         {
          "Date": "2015-05-01T00:00:00",
          "Box": "00 °N - 30 °N",
          "Obs": 231.993,
          "Obs_uncertainty": 0.353,
          "Model": 231.9609406390009
         },
         {
          "Date": "2015-06-01T00:00:00",
          "Box": "00 °N - 30 °N",
          "Obs": 231.812,
          "Obs_uncertainty": 0.438,
          "Model": 231.79549538027027
         },
         {
          "Date": "2015-07-01T00:00:00",
          "Box": "00 °N - 30 °N",
          "Obs": 231.606,
          "Obs_uncertainty": 0.471,
          "Model": 231.58095370690387
         },
         {
          "Date": "2015-08-01T00:00:00",
          "Box": "00 °N - 30 °N",
          "Obs": 231.388,
          "Obs_uncertainty": 0.542,
          "Model": 231.16759460904476
         },
         {
          "Date": "2015-09-01T00:00:00",
          "Box": "00 °N - 30 °N",
          "Obs": 231.231,
          "Obs_uncertainty": 0.648,
          "Model": 230.820890213005
         },
         {
          "Date": "2015-10-01T00:00:00",
          "Box": "00 °N - 30 °N",
          "Obs": 231.249,
          "Obs_uncertainty": 0.611,
          "Model": 230.54912729136328
         },
         {
          "Date": "2015-11-01T00:00:00",
          "Box": "00 °N - 30 °N",
          "Obs": 231.666,
          "Obs_uncertainty": 0.631,
          "Model": 230.5269184353879
         },
         {
          "Date": "2015-12-01T00:00:00",
          "Box": "00 °N - 30 °N",
          "Obs": 231.539,
          "Obs_uncertainty": 0.66,
          "Model": 230.50141731129736
         },
         {
          "Date": "2016-01-01T00:00:00",
          "Box": "00 °N - 30 °N",
          "Obs": 231.385,
          "Obs_uncertainty": 0.644,
          "Model": 230.8914120169884
         },
         {
          "Date": "2016-02-01T00:00:00",
          "Box": "00 °N - 30 °N",
          "Obs": 231.153,
          "Obs_uncertainty": 0.4970000000000001,
          "Model": 231.07426430142655
         },
         {
          "Date": "2016-03-01T00:00:00",
          "Box": "00 °N - 30 °N",
          "Obs": 230.835,
          "Obs_uncertainty": 0.355,
          "Model": 230.99122652841086
         },
         {
          "Date": "2016-04-01T00:00:00",
          "Box": "00 °N - 30 °N",
          "Obs": 230.551,
          "Obs_uncertainty": 0.399,
          "Model": 230.61286588802017
         },
         {
          "Date": "2016-05-01T00:00:00",
          "Box": "00 °N - 30 °N",
          "Obs": 230.477,
          "Obs_uncertainty": 0.375,
          "Model": 230.36128931632592
         },
         {
          "Date": "2016-06-01T00:00:00",
          "Box": "00 °N - 30 °N",
          "Obs": 230.397,
          "Obs_uncertainty": 0.428,
          "Model": 230.2329482118479
         },
         {
          "Date": "2016-07-01T00:00:00",
          "Box": "00 °N - 30 °N",
          "Obs": 230.238,
          "Obs_uncertainty": 0.441,
          "Model": 230.04031411182888
         },
         {
          "Date": "2016-08-01T00:00:00",
          "Box": "00 °N - 30 °N",
          "Obs": 229.961,
          "Obs_uncertainty": 0.53,
          "Model": 229.6391062037448
         },
         {
          "Date": "2016-09-01T00:00:00",
          "Box": "00 °N - 30 °N",
          "Obs": 229.936,
          "Obs_uncertainty": 0.579,
          "Model": 229.3039655528804
         },
         {
          "Date": "2016-10-01T00:00:00",
          "Box": "00 °N - 30 °N",
          "Obs": 229.803,
          "Obs_uncertainty": 0.517,
          "Model": 229.0644317363276
         },
         {
          "Date": "2016-11-01T00:00:00",
          "Box": "00 °N - 30 °N",
          "Obs": 229.985,
          "Obs_uncertainty": 0.657,
          "Model": 229.0782038015128
         },
         {
          "Date": "2016-12-01T00:00:00",
          "Box": "00 °N - 30 °N",
          "Obs": 230.438,
          "Obs_uncertainty": 0.306,
          "Model": 229.07935041145356
         },
         {
          "Date": "2017-01-01T00:00:00",
          "Box": "00 °N - 30 °N",
          "Obs": 230.354,
          "Obs_uncertainty": 0.202,
          "Model": 229.5493992014953
         },
         {
          "Date": "2017-02-01T00:00:00",
          "Box": "00 °N - 30 °N",
          "Obs": 229.863,
          "Obs_uncertainty": 0.198,
          "Model": 229.80313878187206
         },
         {
          "Date": "2017-03-01T00:00:00",
          "Box": "00 °N - 30 °N",
          "Obs": 229.582,
          "Obs_uncertainty": 0.188,
          "Model": 229.77166001553067
         },
         {
          "Date": "2017-04-01T00:00:00",
          "Box": "00 °N - 30 °N",
          "Obs": 229.396,
          "Obs_uncertainty": 0.246,
          "Model": 229.4520293044706
         },
         {
          "Date": "2017-05-01T00:00:00",
          "Box": "00 °N - 30 °N",
          "Obs": 229.129,
          "Obs_uncertainty": 0.17600000000000002,
          "Model": 229.267459642564
         },
         {
          "Date": "2017-06-01T00:00:00",
          "Box": "00 °N - 30 °N",
          "Obs": 229.071,
          "Obs_uncertainty": 0.221,
          "Model": 229.20530666560086
         },
         {
          "Date": "2017-07-01T00:00:00",
          "Box": "00 °N - 30 °N",
          "Obs": 229.028,
          "Obs_uncertainty": 0.21600000000000005,
          "Model": 229.09138872792855
         },
         {
          "Date": "2017-08-01T00:00:00",
          "Box": "00 °N - 30 °N",
          "Obs": null,
          "Obs_uncertainty": null,
          "Model": 228.77535382091068
         },
         {
          "Date": "2017-09-01T00:00:00",
          "Box": "00 °N - 30 °N",
          "Obs": 228.686,
          "Obs_uncertainty": 0.479,
          "Model": 228.5200473477558
         },
         {
          "Date": "2017-10-01T00:00:00",
          "Box": "00 °N - 30 °N",
          "Obs": 228.969,
          "Obs_uncertainty": 0.43,
          "Model": 228.35239505628255
         },
         {
          "Date": "2017-11-01T00:00:00",
          "Box": "00 °N - 30 °N",
          "Obs": 229.085,
          "Obs_uncertainty": 0.32,
          "Model": 228.4324412111298
         },
         {
          "Date": "2017-12-01T00:00:00",
          "Box": "00 °N - 30 °N",
          "Obs": 229.275,
          "Obs_uncertainty": 0.312,
          "Model": 228.50158110891584
         },
         {
          "Date": "2018-01-01T00:00:00",
          "Box": "00 °N - 30 °N",
          "Obs": 229.036,
          "Obs_uncertainty": 0.18600000000000005,
          "Model": 228.92606942379646
         },
         {
          "Date": "2018-02-01T00:00:00",
          "Box": "00 °N - 30 °N",
          "Obs": 229.087,
          "Obs_uncertainty": 0.223,
          "Model": 229.0997784213509
         },
         {
          "Date": "2018-03-01T00:00:00",
          "Box": "00 °N - 30 °N",
          "Obs": 228.534,
          "Obs_uncertainty": 0.235,
          "Model": 229.01996515465225
         },
         {
          "Date": "2018-04-01T00:00:00",
          "Box": "00 °N - 30 °N",
          "Obs": 228.403,
          "Obs_uncertainty": 0.182,
          "Model": 228.65084091337908
         },
         {
          "Date": "2018-05-01T00:00:00",
          "Box": "00 °N - 30 °N",
          "Obs": 228.48,
          "Obs_uncertainty": 0.17600000000000002,
          "Model": 228.41732446701366
         },
         {
          "Date": "2018-06-01T00:00:00",
          "Box": "00 °N - 30 °N",
          "Obs": 228.266,
          "Obs_uncertainty": 0.17600000000000002,
          "Model": 228.30943539520115
         },
         {
          "Date": "2018-07-01T00:00:00",
          "Box": "00 °N - 30 °N",
          "Obs": 228.081,
          "Obs_uncertainty": 0.203,
          "Model": 228.11338417519102
         },
         {
          "Date": "2018-08-01T00:00:00",
          "Box": "00 °N - 30 °N",
          "Obs": 227.957,
          "Obs_uncertainty": 0.205,
          "Model": 227.70785485451538
         },
         {
          "Date": "2018-09-01T00:00:00",
          "Box": "00 °N - 30 °N",
          "Obs": 228.027,
          "Obs_uncertainty": 0.275,
          "Model": 227.38127262963513
         },
         {
          "Date": "2018-10-01T00:00:00",
          "Box": "00 °N - 30 °N",
          "Obs": 228.016,
          "Obs_uncertainty": 0.253,
          "Model": 227.1756297721852
         },
         {
          "Date": "2018-11-01T00:00:00",
          "Box": "00 °N - 30 °N",
          "Obs": 228.035,
          "Obs_uncertainty": 0.287,
          "Model": 227.22630915679298
         },
         {
          "Date": "2018-12-01T00:00:00",
          "Box": "00 °N - 30 °N",
          "Obs": null,
          "Obs_uncertainty": null,
          "Model": 227.25552471909828
         },
         {
          "Date": "2019-01-01T00:00:00",
          "Box": "00 °N - 30 °N",
          "Obs": null,
          "Obs_uncertainty": null,
          "Model": 227.73301958917156
         },
         {
          "Date": "2019-02-01T00:00:00",
          "Box": "00 °N - 30 °N",
          "Obs": null,
          "Obs_uncertainty": null,
          "Model": 227.976523275371
         },
         {
          "Date": "2019-03-01T00:00:00",
          "Box": "00 °N - 30 °N",
          "Obs": null,
          "Obs_uncertainty": null,
          "Model": 227.93097758791808
         },
         {
          "Date": "2019-04-01T00:00:00",
          "Box": "00 °N - 30 °N",
          "Obs": null,
          "Obs_uncertainty": null,
          "Model": 227.58777498651284
         },
         {
          "Date": "2019-05-01T00:00:00",
          "Box": "00 °N - 30 °N",
          "Obs": null,
          "Obs_uncertainty": null,
          "Model": 227.38537183151405
         },
         {
          "Date": "2019-06-01T00:00:00",
          "Box": "00 °N - 30 °N",
          "Obs": null,
          "Obs_uncertainty": null,
          "Model": 227.3105446037614
         },
         {
          "Date": "2019-07-01T00:00:00",
          "Box": "00 °N - 30 °N",
          "Obs": null,
          "Obs_uncertainty": null,
          "Model": 227.1435835643496
         },
         {
          "Date": "2019-08-01T00:00:00",
          "Box": "00 °N - 30 °N",
          "Obs": null,
          "Obs_uncertainty": null,
          "Model": 226.7763094107223
         },
         {
          "Date": "2019-09-01T00:00:00",
          "Box": "00 °N - 30 °N",
          "Obs": 226.151,
          "Obs_uncertainty": 0.387,
          "Model": 226.49457298508145
         },
         {
          "Date": "2019-10-01T00:00:00",
          "Box": "00 °N - 30 °N",
          "Obs": 226.16,
          "Obs_uncertainty": 0.336,
          "Model": 226.33024050220675
         },
         {
          "Date": "2019-11-01T00:00:00",
          "Box": "00 °N - 30 °N",
          "Obs": 226.012,
          "Obs_uncertainty": 0.284,
          "Model": 226.41846465703395
         },
         {
          "Date": "2019-12-01T00:00:00",
          "Box": "00 °N - 30 °N",
          "Obs": 225.921,
          "Obs_uncertainty": 0.278,
          "Model": 226.48626014838993
         },
         {
          "Date": "1975-01-01T00:00:00",
          "Box": "30 °S - 00 °S",
          "Obs": null,
          "Obs_uncertainty": null,
          "Model": 125.47608252837448
         },
         {
          "Date": "1975-02-01T00:00:00",
          "Box": "30 °S - 00 °S",
          "Obs": null,
          "Obs_uncertainty": null,
          "Model": 126.28123622122237
         },
         {
          "Date": "1975-03-01T00:00:00",
          "Box": "30 °S - 00 °S",
          "Obs": null,
          "Obs_uncertainty": null,
          "Model": 126.8598602876362
         },
         {
          "Date": "1975-04-01T00:00:00",
          "Box": "30 °S - 00 °S",
          "Obs": null,
          "Obs_uncertainty": null,
          "Model": 127.06707267085486
         },
         {
          "Date": "1975-05-01T00:00:00",
          "Box": "30 °S - 00 °S",
          "Obs": null,
          "Obs_uncertainty": null,
          "Model": 127.11473923710297
         },
         {
          "Date": "1975-06-01T00:00:00",
          "Box": "30 °S - 00 °S",
          "Obs": null,
          "Obs_uncertainty": null,
          "Model": 127.25476184994862
         },
         {
          "Date": "1975-07-01T00:00:00",
          "Box": "30 °S - 00 °S",
          "Obs": null,
          "Obs_uncertainty": null,
          "Model": 126.77253701922936
         },
         {
          "Date": "1975-08-01T00:00:00",
          "Box": "30 °S - 00 °S",
          "Obs": null,
          "Obs_uncertainty": null,
          "Model": 126.927315690245
         },
         {
          "Date": "1975-09-01T00:00:00",
          "Box": "30 °S - 00 °S",
          "Obs": null,
          "Obs_uncertainty": null,
          "Model": 127.36316384985211
         },
         {
          "Date": "1975-10-01T00:00:00",
          "Box": "30 °S - 00 °S",
          "Obs": null,
          "Obs_uncertainty": null,
          "Model": 127.96521567182974
         },
         {
          "Date": "1975-11-01T00:00:00",
          "Box": "30 °S - 00 °S",
          "Obs": null,
          "Obs_uncertainty": null,
          "Model": 128.23978458807855
         },
         {
          "Date": "1975-12-01T00:00:00",
          "Box": "30 °S - 00 °S",
          "Obs": null,
          "Obs_uncertainty": null,
          "Model": 128.39074241187362
         },
         {
          "Date": "1976-01-01T00:00:00",
          "Box": "30 °S - 00 °S",
          "Obs": null,
          "Obs_uncertainty": null,
          "Model": 129.10883564071204
         },
         {
          "Date": "1976-02-01T00:00:00",
          "Box": "30 °S - 00 °S",
          "Obs": null,
          "Obs_uncertainty": null,
          "Model": 129.97562021618822
         },
         {
          "Date": "1976-03-01T00:00:00",
          "Box": "30 °S - 00 °S",
          "Obs": null,
          "Obs_uncertainty": null,
          "Model": 130.60325465898464
         },
         {
          "Date": "1976-04-01T00:00:00",
          "Box": "30 °S - 00 °S",
          "Obs": null,
          "Obs_uncertainty": null,
          "Model": 130.86352669866733
         },
         {
          "Date": "1976-05-01T00:00:00",
          "Box": "30 °S - 00 °S",
          "Obs": null,
          "Obs_uncertainty": null,
          "Model": 130.958810178445
         },
         {
          "Date": "1976-06-01T00:00:00",
          "Box": "30 °S - 00 °S",
          "Obs": null,
          "Obs_uncertainty": null,
          "Model": 131.14414070956389
         },
         {
          "Date": "1976-07-01T00:00:00",
          "Box": "30 °S - 00 °S",
          "Obs": null,
          "Obs_uncertainty": null,
          "Model": 130.69185008272711
         },
         {
          "Date": "1976-08-01T00:00:00",
          "Box": "30 °S - 00 °S",
          "Obs": null,
          "Obs_uncertainty": null,
          "Model": 130.84919199634908
         },
         {
          "Date": "1976-09-01T00:00:00",
          "Box": "30 °S - 00 °S",
          "Obs": null,
          "Obs_uncertainty": null,
          "Model": 131.29994718221295
         },
         {
          "Date": "1976-10-01T00:00:00",
          "Box": "30 °S - 00 °S",
          "Obs": null,
          "Obs_uncertainty": null,
          "Model": 131.94646747576076
         },
         {
          "Date": "1976-11-01T00:00:00",
          "Box": "30 °S - 00 °S",
          "Obs": null,
          "Obs_uncertainty": null,
          "Model": 132.27786703508562
         },
         {
          "Date": "1976-12-01T00:00:00",
          "Box": "30 °S - 00 °S",
          "Obs": null,
          "Obs_uncertainty": null,
          "Model": 132.48154689923385
         },
         {
          "Date": "1977-01-01T00:00:00",
          "Box": "30 °S - 00 °S",
          "Obs": null,
          "Obs_uncertainty": null,
          "Model": 133.30044448303755
         },
         {
          "Date": "1977-02-01T00:00:00",
          "Box": "30 °S - 00 °S",
          "Obs": null,
          "Obs_uncertainty": null,
          "Model": 134.30605286984886
         },
         {
          "Date": "1977-03-01T00:00:00",
          "Box": "30 °S - 00 °S",
          "Obs": null,
          "Obs_uncertainty": null,
          "Model": 135.06531054426233
         },
         {
          "Date": "1977-04-01T00:00:00",
          "Box": "30 °S - 00 °S",
          "Obs": null,
          "Obs_uncertainty": null,
          "Model": 135.47098662954178
         },
         {
          "Date": "1977-05-01T00:00:00",
          "Box": "30 °S - 00 °S",
          "Obs": null,
          "Obs_uncertainty": null,
          "Model": 135.70376246336133
         },
         {
          "Date": "1977-06-01T00:00:00",
          "Box": "30 °S - 00 °S",
          "Obs": null,
          "Obs_uncertainty": null,
          "Model": 136.01941965301407
         },
         {
          "Date": "1977-07-01T00:00:00",
          "Box": "30 °S - 00 °S",
          "Obs": null,
          "Obs_uncertainty": null,
          "Model": 135.67339686360006
         },
         {
          "Date": "1977-08-01T00:00:00",
          "Box": "30 °S - 00 °S",
          "Obs": null,
          "Obs_uncertainty": null,
          "Model": 135.899448923601
         },
         {
          "Date": "1977-09-01T00:00:00",
          "Box": "30 °S - 00 °S",
          "Obs": null,
          "Obs_uncertainty": null,
          "Model": 136.4349422520143
         },
         {
          "Date": "1977-10-01T00:00:00",
          "Box": "30 °S - 00 °S",
          "Obs": null,
          "Obs_uncertainty": null,
          "Model": 137.20533814221403
         },
         {
          "Date": "1977-11-01T00:00:00",
          "Box": "30 °S - 00 °S",
          "Obs": null,
          "Obs_uncertainty": null,
          "Model": 137.67332611290672
         },
         {
          "Date": "1977-12-01T00:00:00",
          "Box": "30 °S - 00 °S",
          "Obs": null,
          "Obs_uncertainty": null,
          "Model": 138.00651460075485
         },
         {
          "Date": "1978-01-01T00:00:00",
          "Box": "30 °S - 00 °S",
          "Obs": null,
          "Obs_uncertainty": null,
          "Model": 138.96991826193727
         },
         {
          "Date": "1978-02-01T00:00:00",
          "Box": "30 °S - 00 °S",
          "Obs": null,
          "Obs_uncertainty": null,
          "Model": 140.13419857385406
         },
         {
          "Date": "1978-03-01T00:00:00",
          "Box": "30 °S - 00 °S",
          "Obs": null,
          "Obs_uncertainty": null,
          "Model": 141.04556063352962
         },
         {
          "Date": "1978-04-01T00:00:00",
          "Box": "30 °S - 00 °S",
          "Obs": null,
          "Obs_uncertainty": null,
          "Model": 141.60502870923105
         },
         {
          "Date": "1978-05-01T00:00:00",
          "Box": "30 °S - 00 °S",
          "Obs": null,
          "Obs_uncertainty": null,
          "Model": 141.97869856767664
         },
         {
          "Date": "1978-06-01T00:00:00",
          "Box": "30 °S - 00 °S",
          "Obs": null,
          "Obs_uncertainty": null,
          "Model": 142.43214880733046
         },
         {
          "Date": "1978-07-01T00:00:00",
          "Box": "30 °S - 00 °S",
          "Obs": 141.79,
          "Obs_uncertainty": 1.56,
          "Model": 142.17710138025143
         },
         {
          "Date": "1978-08-01T00:00:00",
          "Box": "30 °S - 00 °S",
          "Obs": 145.17,
          "Obs_uncertainty": 1.45,
          "Model": 142.47950454903435
         },
         {
          "Date": "1978-09-01T00:00:00",
          "Box": "30 °S - 00 °S",
          "Obs": 144.75,
          "Obs_uncertainty": 1.46,
          "Model": 143.12081362724373
         },
         {
          "Date": "1978-10-01T00:00:00",
          "Box": "30 °S - 00 °S",
          "Obs": 145.7,
          "Obs_uncertainty": 1.44,
          "Model": 144.04065642502258
         },
         {
          "Date": "1978-11-01T00:00:00",
          "Box": "30 °S - 00 °S",
          "Obs": 146.49,
          "Obs_uncertainty": 2.12,
          "Model": 144.6576694137931
         },
         {
          "Date": "1978-12-01T00:00:00",
          "Box": "30 °S - 00 °S",
          "Obs": 148.06,
          "Obs_uncertainty": 2.11,
          "Model": 145.12942916944604
         },
         {
          "Date": "1979-01-01T00:00:00",
          "Box": "30 °S - 00 °S",
          "Obs": 150.29,
          "Obs_uncertainty": 1.88,
          "Model": 146.27369741989423
         },
         {
          "Date": "1979-02-01T00:00:00",
          "Box": "30 °S - 00 °S",
          "Obs": 149.65,
          "Obs_uncertainty": 2.04,
          "Model": 147.62462505432813
         },
         {
          "Date": "1979-03-01T00:00:00",
          "Box": "30 °S - 00 °S",
          "Obs": 147.93,
          "Obs_uncertainty": 2.14,
          "Model": 148.6969074550353
         },
         {
          "Date": "1979-04-01T00:00:00",
          "Box": "30 °S - 00 °S",
          "Obs": 148.86,
          "Obs_uncertainty": 1.76,
          "Model": 149.39670018026152
         },
         {
          "Date": "1979-05-01T00:00:00",
          "Box": "30 °S - 00 °S",
          "Obs": 147.74,
          "Obs_uncertainty": 1.1,
          "Model": 149.8942175089208
         },
         {
          "Date": "1979-06-01T00:00:00",
          "Box": "30 °S - 00 °S",
          "Obs": 147.64,
          "Obs_uncertainty": 0.82,
          "Model": 150.4739865860786
         },
         {
          "Date": "1979-07-01T00:00:00",
          "Box": "30 °S - 00 °S",
          "Obs": 148.13,
          "Obs_uncertainty": 1.08,
          "Model": 150.28894186753
         },
         {
          "Date": "1979-08-01T00:00:00",
          "Box": "30 °S - 00 °S",
          "Obs": 149.16,
          "Obs_uncertainty": 1.32,
          "Model": 150.66307972026806
         },
         {
          "Date": "1979-09-01T00:00:00",
          "Box": "30 °S - 00 °S",
          "Obs": 148.8,
          "Obs_uncertainty": 1.19,
          "Model": 151.40924616425335
         },
         {
          "Date": "1979-10-01T00:00:00",
          "Box": "30 °S - 00 °S",
          "Obs": 148.98,
          "Obs_uncertainty": 1.73,
          "Model": 152.47570351402942
         },
         {
          "Date": "1979-11-01T00:00:00",
          "Box": "30 °S - 00 °S",
          "Obs": 151.7,
          "Obs_uncertainty": 1.37,
          "Model": 153.23293438033627
         },
         {
          "Date": "1979-12-01T00:00:00",
          "Box": "30 °S - 00 °S",
          "Obs": 152.29,
          "Obs_uncertainty": 2.52,
          "Model": 153.83227085532712
         },
         {
          "Date": "1980-01-01T00:00:00",
          "Box": "30 °S - 00 °S",
          "Obs": 155.41,
          "Obs_uncertainty": 1.09,
          "Model": 155.06039180651956
         },
         {
          "Date": "1980-02-01T00:00:00",
          "Box": "30 °S - 00 °S",
          "Obs": 156.07,
          "Obs_uncertainty": 1.45,
          "Model": 156.4548041282377
         },
         {
          "Date": "1980-03-01T00:00:00",
          "Box": "30 °S - 00 °S",
          "Obs": 157.25,
          "Obs_uncertainty": 1.28,
          "Model": 157.56215481596587
         },
         {
          "Date": "1980-04-01T00:00:00",
          "Box": "30 °S - 00 °S",
          "Obs": 158.18,
          "Obs_uncertainty": 2.05,
          "Model": 158.28357438635547
         },
         {
          "Date": "1980-05-01T00:00:00",
          "Box": "30 °S - 00 °S",
          "Obs": 158.29,
          "Obs_uncertainty": 1.24,
          "Model": 158.79121933099472
         },
         {
          "Date": "1980-06-01T00:00:00",
          "Box": "30 °S - 00 °S",
          "Obs": 158.69,
          "Obs_uncertainty": 1.12,
          "Model": 159.38512398290476
         },
         {
          "Date": "1980-07-01T00:00:00",
          "Box": "30 °S - 00 °S",
          "Obs": 159.93,
          "Obs_uncertainty": 1,
          "Model": 159.16543173613078
         },
         {
          "Date": "1980-08-01T00:00:00",
          "Box": "30 °S - 00 °S",
          "Obs": 160.54,
          "Obs_uncertainty": 1.07,
          "Model": 159.52896818122113
         },
         {
          "Date": "1980-09-01T00:00:00",
          "Box": "30 °S - 00 °S",
          "Obs": 161.63,
          "Obs_uncertainty": 1.52,
          "Model": 160.29285672598672
         },
         {
          "Date": "1980-10-01T00:00:00",
          "Box": "30 °S - 00 °S",
          "Obs": 160.95,
          "Obs_uncertainty": 1.18,
          "Model": 161.40525796711742
         },
         {
          "Date": "1980-11-01T00:00:00",
          "Box": "30 °S - 00 °S",
          "Obs": 164.04,
          "Obs_uncertainty": 1.15,
          "Model": 162.19386332445788
         },
         {
          "Date": "1980-12-01T00:00:00",
          "Box": "30 °S - 00 °S",
          "Obs": 165.16,
          "Obs_uncertainty": 1.94,
          "Model": 162.81451238552032
         },
         {
          "Date": "1981-01-01T00:00:00",
          "Box": "30 °S - 00 °S",
          "Obs": 166.42,
          "Obs_uncertainty": 2.04,
          "Model": 164.07997886226852
         },
         {
          "Date": "1981-02-01T00:00:00",
          "Box": "30 °S - 00 °S",
          "Obs": null,
          "Obs_uncertainty": null,
          "Model": 165.50316507633988
         },
         {
          "Date": "1981-03-01T00:00:00",
          "Box": "30 °S - 00 °S",
          "Obs": 169,
          "Obs_uncertainty": 1.69,
          "Model": 166.6211348495501
         },
         {
          "Date": "1981-04-01T00:00:00",
          "Box": "30 °S - 00 °S",
          "Obs": 167.63,
          "Obs_uncertainty": 1.46,
          "Model": 167.33996470327995
         },
         {
          "Date": "1981-05-01T00:00:00",
          "Box": "30 °S - 00 °S",
          "Obs": 166.7,
          "Obs_uncertainty": 1.89,
          "Model": 167.83597563220596
         },
         {
          "Date": "1981-06-01T00:00:00",
          "Box": "30 °S - 00 °S",
          "Obs": 167.93,
          "Obs_uncertainty": 1.18,
          "Model": 168.4202361029861
         },
         {
          "Date": "1981-07-01T00:00:00",
          "Box": "30 °S - 00 °S",
          "Obs": 167.89,
          "Obs_uncertainty": 1.68,
          "Model": 168.15803889541922
         },
         {
          "Date": "1981-08-01T00:00:00",
          "Box": "30 °S - 00 °S",
          "Obs": 169.83,
          "Obs_uncertainty": 1.03,
          "Model": 168.49554113075374
         },
         {
          "Date": "1981-09-01T00:00:00",
          "Box": "30 °S - 00 °S",
          "Obs": 172.12,
          "Obs_uncertainty": 1.79,
          "Model": 169.2498840833598
         },
         {
          "Date": "1981-10-01T00:00:00",
          "Box": "30 °S - 00 °S",
          "Obs": 172.19,
          "Obs_uncertainty": 1.2,
          "Model": 170.37300439857145
         },
         {
          "Date": "1981-11-01T00:00:00",
          "Box": "30 °S - 00 °S",
          "Obs": 173.1,
          "Obs_uncertainty": 1.34,
          "Model": 171.16398224490308
         },
         {
          "Date": "1981-12-01T00:00:00",
          "Box": "30 °S - 00 °S",
          "Obs": 174.42,
          "Obs_uncertainty": 1.42,
          "Model": 171.77844485793509
         },
         {
          "Date": "1982-01-01T00:00:00",
          "Box": "30 °S - 00 °S",
          "Obs": 175.27,
          "Obs_uncertainty": 1.32,
          "Model": 173.02236960754354
         },
         {
          "Date": "1982-02-01T00:00:00",
          "Box": "30 °S - 00 °S",
          "Obs": 175.21,
          "Obs_uncertainty": 1.61,
          "Model": 174.422824412808
         },
         {
          "Date": "1982-03-01T00:00:00",
          "Box": "30 °S - 00 °S",
          "Obs": 174.41,
          "Obs_uncertainty": 1.1,
          "Model": 175.52067611576393
         },
         {
          "Date": "1982-04-01T00:00:00",
          "Box": "30 °S - 00 °S",
          "Obs": null,
          "Obs_uncertainty": null,
          "Model": 176.23071781799018
         },
         {
          "Date": "1982-05-01T00:00:00",
          "Box": "30 °S - 00 °S",
          "Obs": null,
          "Obs_uncertainty": null,
          "Model": 176.71348234943264
         },
         {
          "Date": "1982-06-01T00:00:00",
          "Box": "30 °S - 00 °S",
          "Obs": 177.25,
          "Obs_uncertainty": 1.4,
          "Model": 177.2802893533231
         },
         {
          "Date": "1982-07-01T00:00:00",
          "Box": "30 °S - 00 °S",
          "Obs": 176.9,
          "Obs_uncertainty": 1.42,
          "Model": 176.9792972301586
         },
         {
          "Date": "1982-08-01T00:00:00",
          "Box": "30 °S - 00 °S",
          "Obs": 177.65,
          "Obs_uncertainty": 1.81,
          "Model": 177.28238441417122
         },
         {
          "Date": "1982-09-01T00:00:00",
          "Box": "30 °S - 00 °S",
          "Obs": 178.03,
          "Obs_uncertainty": 1.43,
          "Model": 178.01226621638898
         },
         {
          "Date": "1982-10-01T00:00:00",
          "Box": "30 °S - 00 °S",
          "Obs": 178.66,
          "Obs_uncertainty": 0.92,
          "Model": 179.13028882935566
         },
         {
          "Date": "1982-11-01T00:00:00",
          "Box": "30 °S - 00 °S",
          "Obs": 178.42,
          "Obs_uncertainty": 0.98,
          "Model": 179.91217716528504
         },
         {
          "Date": "1982-12-01T00:00:00",
          "Box": "30 °S - 00 °S",
          "Obs": 179.03,
          "Obs_uncertainty": 1.2,
          "Model": 180.51060962977365
         },
         {
          "Date": "1983-01-01T00:00:00",
          "Box": "30 °S - 00 °S",
          "Obs": 180.7,
          "Obs_uncertainty": 1.8,
          "Model": 181.738358633306
         },
         {
          "Date": "1983-02-01T00:00:00",
          "Box": "30 °S - 00 °S",
          "Obs": 181.4,
          "Obs_uncertainty": 1.09,
          "Model": 183.1318041541915
         },
         {
          "Date": "1983-03-01T00:00:00",
          "Box": "30 °S - 00 °S",
          "Obs": 183.46,
          "Obs_uncertainty": 1.6,
          "Model": 184.22352930636677
         },
         {
          "Date": "1983-04-01T00:00:00",
          "Box": "30 °S - 00 °S",
          "Obs": 183.1,
          "Obs_uncertainty": 0.9,
          "Model": 184.94355705017142
         },
         {
          "Date": "1983-05-01T00:00:00",
          "Box": "30 °S - 00 °S",
          "Obs": 184.22,
          "Obs_uncertainty": 0.85,
          "Model": 185.43189226128408
         },
         {
          "Date": "1983-06-01T00:00:00",
          "Box": "30 °S - 00 °S",
          "Obs": 185.17,
          "Obs_uncertainty": 0.98,
          "Model": 185.99722795638442
         },
         {
          "Date": "1983-07-01T00:00:00",
          "Box": "30 °S - 00 °S",
          "Obs": 185.93,
          "Obs_uncertainty": 0.75,
          "Model": 185.6765806901189
         },
         {
          "Date": "1983-08-01T00:00:00",
          "Box": "30 °S - 00 °S",
          "Obs": 187.24,
          "Obs_uncertainty": 0.76,
          "Model": 185.95528369090258
         },
         {
          "Date": "1983-09-01T00:00:00",
          "Box": "30 °S - 00 °S",
          "Obs": 188.78,
          "Obs_uncertainty": 0.89,
          "Model": 186.66855351179663
         },
         {
          "Date": "1983-10-01T00:00:00",
          "Box": "30 °S - 00 °S",
          "Obs": 189.06,
          "Obs_uncertainty": 0.78,
          "Model": 187.790887112156
         },
         {
          "Date": "1983-11-01T00:00:00",
          "Box": "30 °S - 00 °S",
          "Obs": 189.97,
          "Obs_uncertainty": 0.94,
          "Model": 188.57694405611653
         },
         {
          "Date": "1983-12-01T00:00:00",
          "Box": "30 °S - 00 °S",
          "Obs": 192.06,
          "Obs_uncertainty": 1.21,
          "Model": 189.17261588421624
         },
         {
          "Date": "1984-01-01T00:00:00",
          "Box": "30 °S - 00 °S",
          "Obs": 194.12,
          "Obs_uncertainty": 1.28,
          "Model": 190.36957640555565
         },
         {
          "Date": "1984-02-01T00:00:00",
          "Box": "30 °S - 00 °S",
          "Obs": 194.54,
          "Obs_uncertainty": 1.58,
          "Model": 191.73464331095812
         },
         {
          "Date": "1984-03-01T00:00:00",
          "Box": "30 °S - 00 °S",
          "Obs": 195.01,
          "Obs_uncertainty": 2.6,
          "Model": 192.8093722945889
         },
         {
          "Date": "1984-04-01T00:00:00",
          "Box": "30 °S - 00 °S",
          "Obs": 195.12,
          "Obs_uncertainty": 1.89,
          "Model": 193.5353600138588
         },
         {
          "Date": "1984-05-01T00:00:00",
          "Box": "30 °S - 00 °S",
          "Obs": 193.11,
          "Obs_uncertainty": 0.75,
          "Model": 194.02726564527933
         },
         {
          "Date": "1984-06-01T00:00:00",
          "Box": "30 °S - 00 °S",
          "Obs": 194.07,
          "Obs_uncertainty": 1.29,
          "Model": 194.5886070195481
         },
         {
          "Date": "1984-07-01T00:00:00",
          "Box": "30 °S - 00 °S",
          "Obs": 195.85,
          "Obs_uncertainty": 1.41,
          "Model": 194.24883716985474
         },
         {
          "Date": "1984-08-01T00:00:00",
          "Box": "30 °S - 00 °S",
          "Obs": 196.28,
          "Obs_uncertainty": 1.01,
          "Model": 194.50383793666091
         },
         {
          "Date": "1984-09-01T00:00:00",
          "Box": "30 °S - 00 °S",
          "Obs": 197.29,
          "Obs_uncertainty": 1.39,
          "Model": 195.1993925298073
         },
         {
          "Date": "1984-10-01T00:00:00",
          "Box": "30 °S - 00 °S",
          "Obs": 197.29,
          "Obs_uncertainty": 1.17,
          "Model": 196.32338622085499
         },
         {
          "Date": "1984-11-01T00:00:00",
          "Box": "30 °S - 00 °S",
          "Obs": 198.53,
          "Obs_uncertainty": 2.15,
          "Model": 197.11048834483418
         },
         {
          "Date": "1984-12-01T00:00:00",
          "Box": "30 °S - 00 °S",
          "Obs": 202.57,
          "Obs_uncertainty": 1.57,
          "Model": 197.700929717684
         },
         {
          "Date": "1985-01-01T00:00:00",
          "Box": "30 °S - 00 °S",
          "Obs": 201.78,
          "Obs_uncertainty": 2.89,
          "Model": 198.92964616054525
         },
         {
          "Date": "1985-02-01T00:00:00",
          "Box": "30 °S - 00 °S",
          "Obs": 201.19,
          "Obs_uncertainty": 1.09,
          "Model": 200.3617629906303
         },
         {
          "Date": "1985-03-01T00:00:00",
          "Box": "30 °S - 00 °S",
          "Obs": 201.46,
          "Obs_uncertainty": 1.64,
          "Model": 201.5002521695178
         },
         {
          "Date": "1985-04-01T00:00:00",
          "Box": "30 °S - 00 °S",
          "Obs": 201.16,
          "Obs_uncertainty": 1.39,
          "Model": 202.3065569164147
         },
         {
          "Date": "1985-05-01T00:00:00",
          "Box": "30 °S - 00 °S",
          "Obs": 202.4,
          "Obs_uncertainty": 1.93,
          "Model": 202.87182964266322
         },
         {
          "Date": "1985-06-01T00:00:00",
          "Box": "30 °S - 00 °S",
          "Obs": 202.22,
          "Obs_uncertainty": 1.28,
          "Model": 203.4976179838509
         },
         {
          "Date": "1985-07-01T00:00:00",
          "Box": "30 °S - 00 °S",
          "Obs": 202.33,
          "Obs_uncertainty": 1.43,
          "Model": 203.19863179948825
         },
         {
          "Date": "1985-08-01T00:00:00",
          "Box": "30 °S - 00 °S",
          "Obs": 202.67,
          "Obs_uncertainty": 2.03,
          "Model": 203.47836919146005
         },
         {
          "Date": "1985-09-01T00:00:00",
          "Box": "30 °S - 00 °S",
          "Obs": 203.36,
          "Obs_uncertainty": 2.31,
          "Model": 204.2093866814006
         },
         {
          "Date": "1985-10-01T00:00:00",
          "Box": "30 °S - 00 °S",
          "Obs": 206.76,
          "Obs_uncertainty": 1.93,
          "Model": 205.3981758621124
         },
         {
          "Date": "1985-11-01T00:00:00",
          "Box": "30 °S - 00 °S",
          "Obs": 204.82,
          "Obs_uncertainty": 1.33,
          "Model": 206.25307886979445
         },
         {
          "Date": "1985-12-01T00:00:00",
          "Box": "30 °S - 00 °S",
          "Obs": 207.8,
          "Obs_uncertainty": 1.23,
          "Model": 206.90246287251964
         },
         {
          "Date": "1986-01-01T00:00:00",
          "Box": "30 °S - 00 °S",
          "Obs": 209.66,
          "Obs_uncertainty": 2.39,
          "Model": 208.29962373957534
         },
         {
          "Date": "1986-02-01T00:00:00",
          "Box": "30 °S - 00 °S",
          "Obs": 211.28,
          "Obs_uncertainty": 2.09,
          "Model": 209.97689790538334
         },
         {
          "Date": "1986-03-01T00:00:00",
          "Box": "30 °S - 00 °S",
          "Obs": 210.61,
          "Obs_uncertainty": 1.4,
          "Model": 211.33713875640302
         },
         {
          "Date": "1986-04-01T00:00:00",
          "Box": "30 °S - 00 °S",
          "Obs": 211.72,
          "Obs_uncertainty": 1.97,
          "Model": 212.37112684346906
         },
         {
          "Date": "1986-05-01T00:00:00",
          "Box": "30 °S - 00 °S",
          "Obs": 211.01,
          "Obs_uncertainty": 1.64,
          "Model": 213.1458803823293
         },
         {
          "Date": "1986-06-01T00:00:00",
          "Box": "30 °S - 00 °S",
          "Obs": 213.03,
          "Obs_uncertainty": 0.95,
          "Model": 213.9692841382381
         },
         {
          "Date": "1986-07-01T00:00:00",
          "Box": "30 °S - 00 °S",
          "Obs": 212.78,
          "Obs_uncertainty": 1.34,
          "Model": 213.81663862953917
         },
         {
          "Date": "1986-08-01T00:00:00",
          "Box": "30 °S - 00 °S",
          "Obs": 212.69,
          "Obs_uncertainty": 0.95,
          "Model": 214.2004292532165
         },
         {
          "Date": "1986-09-01T00:00:00",
          "Box": "30 °S - 00 °S",
          "Obs": 215.41,
          "Obs_uncertainty": 1.34,
          "Model": 215.06502345170844
         },
         {
          "Date": "1986-10-01T00:00:00",
          "Box": "30 °S - 00 °S",
          "Obs": 216.55,
          "Obs_uncertainty": 0.95,
          "Model": 216.44743822547633
         },
         {
          "Date": "1986-11-01T00:00:00",
          "Box": "30 °S - 00 °S",
          "Obs": 216.51,
          "Obs_uncertainty": 1.43,
          "Model": 217.50549504840757
         },
         {
          "Date": "1986-12-01T00:00:00",
          "Box": "30 °S - 00 °S",
          "Obs": 218.47,
          "Obs_uncertainty": 2.39,
          "Model": 218.34059178757167
         },
         {
          "Date": "1987-01-01T00:00:00",
          "Box": "30 °S - 00 °S",
          "Obs": 221.27,
          "Obs_uncertainty": 2.54,
          "Model": 219.716281771434
         },
         {
          "Date": "1987-02-01T00:00:00",
          "Box": "30 °S - 00 °S",
          "Obs": 223.38,
          "Obs_uncertainty": 2.9,
          "Model": 221.26526793893592
         },
         {
          "Date": "1987-03-01T00:00:00",
          "Box": "30 °S - 00 °S",
          "Obs": 223.12,
          "Obs_uncertainty": 1.91,
          "Model": 222.53883485691085
         },
         {
          "Date": "1987-04-01T00:00:00",
          "Box": "30 °S - 00 °S",
          "Obs": 221.21,
          "Obs_uncertainty": 1.91,
          "Model": 223.52534646635442
         },
         {
          "Date": "1987-05-01T00:00:00",
          "Box": "30 °S - 00 °S",
          "Obs": 222.33,
          "Obs_uncertainty": 1.3,
          "Model": 224.25337510951758
         },
         {
          "Date": "1987-06-01T00:00:00",
          "Box": "30 °S - 00 °S",
          "Obs": 222.68,
          "Obs_uncertainty": 0.8,
          "Model": 225.02680355597795
         },
         {
          "Date": "1987-07-01T00:00:00",
          "Box": "30 °S - 00 °S",
          "Obs": 223.14,
          "Obs_uncertainty": 0.96,
          "Model": 224.7888872828515
         },
         {
          "Date": "1987-08-01T00:00:00",
          "Box": "30 °S - 00 °S",
          "Obs": 224.59,
          "Obs_uncertainty": 1.12,
          "Model": 225.11620284151775
         },
         {
          "Date": "1987-09-01T00:00:00",
          "Box": "30 °S - 00 °S",
          "Obs": 225.77,
          "Obs_uncertainty": 0.94,
          "Model": 225.9442451689008
         },
         {
          "Date": "1987-10-01T00:00:00",
          "Box": "30 °S - 00 °S",
          "Obs": 225.72,
          "Obs_uncertainty": 1.03,
          "Model": 227.3120263958914
         },
         {
          "Date": "1987-11-01T00:00:00",
          "Box": "30 °S - 00 °S",
          "Obs": 227.94,
          "Obs_uncertainty": 1.35,
          "Model": 228.3374256573034
         },
         {
          "Date": "1987-12-01T00:00:00",
          "Box": "30 °S - 00 °S",
          "Obs": 230.17,
          "Obs_uncertainty": 2.38,
          "Model": 229.13395446351797
         },
         {
          "Date": "1988-01-01T00:00:00",
          "Box": "30 °S - 00 °S",
          "Obs": 232.52,
          "Obs_uncertainty": 2.15,
          "Model": 230.4927539415478
         },
         {
          "Date": "1988-02-01T00:00:00",
          "Box": "30 °S - 00 °S",
          "Obs": 231.32,
          "Obs_uncertainty": 4.09,
          "Model": 232.01611096961975
         },
         {
          "Date": "1988-03-01T00:00:00",
          "Box": "30 °S - 00 °S",
          "Obs": 233.46,
          "Obs_uncertainty": 2.63,
          "Model": 233.2407410550048
         },
         {
          "Date": "1988-04-01T00:00:00",
          "Box": "30 °S - 00 °S",
          "Obs": 235.81,
          "Obs_uncertainty": 2.32,
          "Model": 234.14680032224788
         },
         {
          "Date": "1988-05-01T00:00:00",
          "Box": "30 °S - 00 °S",
          "Obs": 234.41,
          "Obs_uncertainty": 2.32,
          "Model": 234.78317069563653
         },
         {
          "Date": "1988-06-01T00:00:00",
          "Box": "30 °S - 00 °S",
          "Obs": 234.9,
          "Obs_uncertainty": 1.59,
          "Model": 235.4709266846368
         },
         {
          "Date": "1988-07-01T00:00:00",
          "Box": "30 °S - 00 °S",
          "Obs": 234.67,
          "Obs_uncertainty": 0.96,
          "Model": 235.11252149147538
         },
         {
          "Date": "1988-08-01T00:00:00",
          "Box": "30 °S - 00 °S",
          "Obs": 236.42,
          "Obs_uncertainty": 1.33,
          "Model": 235.36311476420568
         },
         {
          "Date": "1988-09-01T00:00:00",
          "Box": "30 °S - 00 °S",
          "Obs": 237.64,
          "Obs_uncertainty": 1.54,
          "Model": 236.1289648892283
         },
         {
          "Date": "1988-10-01T00:00:00",
          "Box": "30 °S - 00 °S",
          "Obs": 237.85,
          "Obs_uncertainty": 1.92,
          "Model": 237.44234569269508
         },
         {
          "Date": "1988-11-01T00:00:00",
          "Box": "30 °S - 00 °S",
          "Obs": 237.53,
          "Obs_uncertainty": 1.38,
          "Model": 238.3949108869678
         },
         {
          "Date": "1988-12-01T00:00:00",
          "Box": "30 °S - 00 °S",
          "Obs": 238.7,
          "Obs_uncertainty": 2.05,
          "Model": 239.1101461261044
         },
         {
          "Date": "1989-01-01T00:00:00",
          "Box": "30 °S - 00 °S",
          "Obs": 240.71,
          "Obs_uncertainty": 1.5,
          "Model": 240.3204875884818
         },
         {
          "Date": "1989-02-01T00:00:00",
          "Box": "30 °S - 00 °S",
          "Obs": 243.11,
          "Obs_uncertainty": 1.18,
          "Model": 241.66540712776956
         },
         {
          "Date": "1989-03-01T00:00:00",
          "Box": "30 °S - 00 °S",
          "Obs": 243.9,
          "Obs_uncertainty": 1.49,
          "Model": 242.72540783625973
         },
         {
          "Date": "1989-04-01T00:00:00",
          "Box": "30 °S - 00 °S",
          "Obs": 243.6,
          "Obs_uncertainty": 1.47,
          "Model": 243.47840461146495
         },
         {
          "Date": "1989-05-01T00:00:00",
          "Box": "30 °S - 00 °S",
          "Obs": 244.17,
          "Obs_uncertainty": 1.68,
          "Model": 243.96143165912008
         },
         {
          "Date": "1989-06-01T00:00:00",
          "Box": "30 °S - 00 °S",
          "Obs": 243.04,
          "Obs_uncertainty": 1.12,
          "Model": 244.49428984597046
         },
         {
          "Date": "1989-07-01T00:00:00",
          "Box": "30 °S - 00 °S",
          "Obs": null,
          "Obs_uncertainty": null,
          "Model": 243.96671457908363
         },
         {
          "Date": "1989-08-01T00:00:00",
          "Box": "30 °S - 00 °S",
          "Obs": null,
          "Obs_uncertainty": null,
          "Model": 244.08257342620828
         },
         {
          "Date": "1989-09-01T00:00:00",
          "Box": "30 °S - 00 °S",
          "Obs": null,
          "Obs_uncertainty": null,
          "Model": 244.71918849715126
         },
         {
          "Date": "1989-10-01T00:00:00",
          "Box": "30 °S - 00 °S",
          "Obs": null,
          "Obs_uncertainty": null,
          "Model": 245.90443002551493
         },
         {
          "Date": "1989-11-01T00:00:00",
          "Box": "30 °S - 00 °S",
          "Obs": null,
          "Obs_uncertainty": null,
          "Model": 246.71361084322848
         },
         {
          "Date": "1989-12-01T00:00:00",
          "Box": "30 °S - 00 °S",
          "Obs": null,
          "Obs_uncertainty": null,
          "Model": 247.28140644734313
         },
         {
          "Date": "1990-01-01T00:00:00",
          "Box": "30 °S - 00 °S",
          "Obs": null,
          "Obs_uncertainty": null,
          "Model": 248.2900770487248
         },
         {
          "Date": "1990-02-01T00:00:00",
          "Box": "30 °S - 00 °S",
          "Obs": null,
          "Obs_uncertainty": null,
          "Model": 249.40986155572702
         },
         {
          "Date": "1990-03-01T00:00:00",
          "Box": "30 °S - 00 °S",
          "Obs": null,
          "Obs_uncertainty": null,
          "Model": 250.2590630559613
         },
         {
          "Date": "1990-04-01T00:00:00",
          "Box": "30 °S - 00 °S",
          "Obs": null,
          "Obs_uncertainty": null,
          "Model": 250.81772303282207
         },
         {
          "Date": "1990-05-01T00:00:00",
          "Box": "30 °S - 00 °S",
          "Obs": null,
          "Obs_uncertainty": null,
          "Model": 251.1121379774498
         },
         {
          "Date": "1990-06-01T00:00:00",
          "Box": "30 °S - 00 °S",
          "Obs": null,
          "Obs_uncertainty": null,
          "Model": 251.4536796430607
         },
         {
          "Date": "1990-07-01T00:00:00",
          "Box": "30 °S - 00 °S",
          "Obs": null,
          "Obs_uncertainty": null,
          "Model": 250.74470991343927
         },
         {
          "Date": "1990-08-01T00:00:00",
          "Box": "30 °S - 00 °S",
          "Obs": null,
          "Obs_uncertainty": null,
          "Model": 250.70667830573024
         },
         {
          "Date": "1990-09-01T00:00:00",
          "Box": "30 °S - 00 °S",
          "Obs": null,
          "Obs_uncertainty": null,
          "Model": 251.17930215457065
         },
         {
          "Date": "1990-10-01T00:00:00",
          "Box": "30 °S - 00 °S",
          "Obs": null,
          "Obs_uncertainty": null,
          "Model": 252.18712614562443
         },
         {
          "Date": "1990-11-01T00:00:00",
          "Box": "30 °S - 00 °S",
          "Obs": null,
          "Obs_uncertainty": null,
          "Model": 252.81008198866868
         },
         {
          "Date": "1990-12-01T00:00:00",
          "Box": "30 °S - 00 °S",
          "Obs": 257.55,
          "Obs_uncertainty": 3.61,
          "Model": 253.19171251004997
         },
         {
          "Date": "1991-01-01T00:00:00",
          "Box": "30 °S - 00 °S",
          "Obs": 256.05,
          "Obs_uncertainty": 1.59,
          "Model": 253.98873053682598
         },
         {
          "Date": "1991-02-01T00:00:00",
          "Box": "30 °S - 00 °S",
          "Obs": null,
          "Obs_uncertainty": null,
          "Model": 254.90643663160202
         },
         {
          "Date": "1991-03-01T00:00:00",
          "Box": "30 °S - 00 °S",
          "Obs": null,
          "Obs_uncertainty": null,
          "Model": 255.5735370279027
         },
         {
          "Date": "1991-04-01T00:00:00",
          "Box": "30 °S - 00 °S",
          "Obs": null,
          "Obs_uncertainty": null,
          "Model": 255.98673211412176
         },
         {
          "Date": "1991-05-01T00:00:00",
          "Box": "30 °S - 00 °S",
          "Obs": null,
          "Obs_uncertainty": null,
          "Model": 256.14524634773045
         },
         {
          "Date": "1991-06-01T00:00:00",
          "Box": "30 °S - 00 °S",
          "Obs": 254.85,
          "Obs_uncertainty": 1.73,
          "Model": 256.340285009603
         },
         {
          "Date": "1991-07-01T00:00:00",
          "Box": "30 °S - 00 °S",
          "Obs": 256.11,
          "Obs_uncertainty": 2.02,
          "Model": 255.51413597233397
         },
         {
          "Date": "1991-08-01T00:00:00",
          "Box": "30 °S - 00 °S",
          "Obs": 255.56,
          "Obs_uncertainty": 1.87,
          "Model": 255.3547583509598
         },
         {
          "Date": "1991-09-01T00:00:00",
          "Box": "30 °S - 00 °S",
          "Obs": 255.35,
          "Obs_uncertainty": 2.28,
          "Model": 255.68438821223353
         },
         {
          "Date": "1991-10-01T00:00:00",
          "Box": "30 °S - 00 °S",
          "Obs": 256.5,
          "Obs_uncertainty": 1.69,
          "Model": 256.53613819413783
         },
         {
          "Date": "1991-11-01T00:00:00",
          "Box": "30 °S - 00 °S",
          "Obs": 256.93,
          "Obs_uncertainty": 2.2,
          "Model": 257.0084537139612
         },
         {
          "Date": "1991-12-01T00:00:00",
          "Box": "30 °S - 00 °S",
          "Obs": 258.3,
          "Obs_uncertainty": 2.68,
          "Model": 257.2418187664114
         },
         {
          "Date": "1992-01-01T00:00:00",
          "Box": "30 °S - 00 °S",
          "Obs": 257.89,
          "Obs_uncertainty": 1.97,
          "Model": 257.83917417392064
         },
         {
          "Date": "1992-02-01T00:00:00",
          "Box": "30 °S - 00 °S",
          "Obs": 260.64,
          "Obs_uncertainty": 3.08,
          "Model": 258.56696355212705
         },
         {
          "Date": "1992-03-01T00:00:00",
          "Box": "30 °S - 00 °S",
          "Obs": 261.08,
          "Obs_uncertainty": 2.31,
          "Model": 259.07597299005886
         },
         {
          "Date": "1992-04-01T00:00:00",
          "Box": "30 °S - 00 °S",
          "Obs": 260.77,
          "Obs_uncertainty": 2.06,
          "Model": 259.37897200009456
         },
         {
          "Date": "1992-05-01T00:00:00",
          "Box": "30 °S - 00 °S",
          "Obs": 261.07,
          "Obs_uncertainty": 1.38,
          "Model": 259.4363612706734
         },
         {
          "Date": "1992-06-01T00:00:00",
          "Box": "30 °S - 00 °S",
          "Obs": 261.41,
          "Obs_uncertainty": 1.26,
          "Model": 259.5162217963382
         },
         {
          "Date": "1992-07-01T00:00:00",
          "Box": "30 °S - 00 °S",
          "Obs": 262.4,
          "Obs_uncertainty": 0.84,
          "Model": 258.6004327976267
         },
         {
          "Date": "1992-08-01T00:00:00",
          "Box": "30 °S - 00 °S",
          "Obs": 266.67,
          "Obs_uncertainty": 2.32,
          "Model": 258.337694990426
         },
         {
          "Date": "1992-09-01T00:00:00",
          "Box": "30 °S - 00 °S",
          "Obs": 263.62,
          "Obs_uncertainty": 1.06,
          "Model": 258.5471644967875
         },
         {
          "Date": "1992-10-01T00:00:00",
          "Box": "30 °S - 00 °S",
          "Obs": 263.01,
          "Obs_uncertainty": 1.37,
          "Model": 259.27176523114184
         },
         {
          "Date": "1992-11-01T00:00:00",
          "Box": "30 °S - 00 °S",
          "Obs": 261.71,
          "Obs_uncertainty": 1.96,
          "Model": 259.6239835870291
         },
         {
          "Date": "1992-12-01T00:00:00",
          "Box": "30 °S - 00 °S",
          "Obs": 263.8,
          "Obs_uncertainty": 1.97,
          "Model": 259.7396279827291
         },
         {
          "Date": "1993-01-01T00:00:00",
          "Box": "30 °S - 00 °S",
          "Obs": 263.97,
          "Obs_uncertainty": 1.77,
          "Model": 260.1235313142488
         },
         {
          "Date": "1993-02-01T00:00:00",
          "Box": "30 °S - 00 °S",
          "Obs": 263.75,
          "Obs_uncertainty": 1.9,
          "Model": 260.6119292879224
         },
         {
          "Date": "1993-03-01T00:00:00",
          "Box": "30 °S - 00 °S",
          "Obs": 264.01,
          "Obs_uncertainty": 2.24,
          "Model": 260.9167620209415
         },
         {
          "Date": "1993-04-01T00:00:00",
          "Box": "30 °S - 00 °S",
          "Obs": 262.88,
          "Obs_uncertainty": 2.07,
          "Model": 261.0582505568952
         },
         {
          "Date": "1993-05-01T00:00:00",
          "Box": "30 °S - 00 °S",
          "Obs": 261.94,
          "Obs_uncertainty": 1.79,
          "Model": 260.9673085028224
         },
         {
          "Date": "1993-06-01T00:00:00",
          "Box": "30 °S - 00 °S",
          "Obs": 262.33,
          "Obs_uncertainty": 1.25,
          "Model": 260.8890922845005
         },
         {
          "Date": "1993-07-01T00:00:00",
          "Box": "30 °S - 00 °S",
          "Obs": 261.57,
          "Obs_uncertainty": 0.96,
          "Model": 259.8517747235694
         },
         {
          "Date": "1993-08-01T00:00:00",
          "Box": "30 °S - 00 °S",
          "Obs": 262.57,
          "Obs_uncertainty": 1.57,
          "Model": 259.46323306977763
         },
         {
          "Date": "1993-09-01T00:00:00",
          "Box": "30 °S - 00 °S",
          "Obs": 262.69,
          "Obs_uncertainty": 1.42,
          "Model": 259.5235383301243
         },
         {
          "Date": "1993-10-01T00:00:00",
          "Box": "30 °S - 00 °S",
          "Obs": 261.58,
          "Obs_uncertainty": 1.87,
          "Model": 260.07934010407257
         },
         {
          "Date": "1993-11-01T00:00:00",
          "Box": "30 °S - 00 °S",
          "Obs": 260.5,
          "Obs_uncertainty": 1.91,
          "Model": 260.2683650037533
         },
         {
          "Date": "1993-12-01T00:00:00",
          "Box": "30 °S - 00 °S",
          "Obs": 263.18,
          "Obs_uncertainty": 2.03,
          "Model": 260.22630456320303
         },
         {
          "Date": "1994-01-01T00:00:00",
          "Box": "30 °S - 00 °S",
          "Obs": 264.26,
          "Obs_uncertainty": 1.88,
          "Model": 260.4793270522261
         },
         {
          "Date": "1994-02-01T00:00:00",
          "Box": "30 °S - 00 °S",
          "Obs": 264.69,
          "Obs_uncertainty": 1.51,
          "Model": 260.87664525119396
         },
         {
          "Date": "1994-03-01T00:00:00",
          "Box": "30 °S - 00 °S",
          "Obs": 264.33,
          "Obs_uncertainty": 1.9,
          "Model": 261.10145851682665
         },
         {
          "Date": "1994-04-01T00:00:00",
          "Box": "30 °S - 00 °S",
          "Obs": 263.83,
          "Obs_uncertainty": 1.48,
          "Model": 261.21787999741355
         },
         {
          "Date": "1994-05-01T00:00:00",
          "Box": "30 °S - 00 °S",
          "Obs": 263.8,
          "Obs_uncertainty": 1.3,
          "Model": 261.1167033541508
         },
         {
          "Date": "1994-06-01T00:00:00",
          "Box": "30 °S - 00 °S",
          "Obs": 263.23,
          "Obs_uncertainty": 0.97,
          "Model": 261.0077807300074
         },
         {
          "Date": "1994-07-01T00:00:00",
          "Box": "30 °S - 00 °S",
          "Obs": 262.7,
          "Obs_uncertainty": 1.89,
          "Model": 260.005307595197
         },
         {
          "Date": "1994-08-01T00:00:00",
          "Box": "30 °S - 00 °S",
          "Obs": 262.36,
          "Obs_uncertainty": 1.98,
          "Model": 259.58262729903294
         },
         {
          "Date": "1994-09-01T00:00:00",
          "Box": "30 °S - 00 °S",
          "Obs": 263.54,
          "Obs_uncertainty": 2.26,
          "Model": 259.5653888994932
         },
         {
          "Date": "1994-10-01T00:00:00",
          "Box": "30 °S - 00 °S",
          "Obs": 264.48,
          "Obs_uncertainty": 2.07,
          "Model": 260.03226513476204
         },
         {
          "Date": "1994-11-01T00:00:00",
          "Box": "30 °S - 00 °S",
          "Obs": 263.46,
          "Obs_uncertainty": 2.16,
          "Model": 260.16971662380854
         },
         {
          "Date": "1994-12-01T00:00:00",
          "Box": "30 °S - 00 °S",
          "Obs": 264.35,
          "Obs_uncertainty": 2.24,
          "Model": 260.0823797382456
         },
         {
          "Date": "1995-01-01T00:00:00",
          "Box": "30 °S - 00 °S",
          "Obs": 263.27,
          "Obs_uncertainty": 1.33,
          "Model": 260.26742667524536
         },
         {
          "Date": "1995-02-01T00:00:00",
          "Box": "30 °S - 00 °S",
          "Obs": 264.84,
          "Obs_uncertainty": 1.34,
          "Model": 260.65841672660247
         },
         {
          "Date": "1995-03-01T00:00:00",
          "Box": "30 °S - 00 °S",
          "Obs": 264.91,
          "Obs_uncertainty": 1.42,
          "Model": 260.92096287504717
         },
         {
          "Date": "1995-04-01T00:00:00",
          "Box": "30 °S - 00 °S",
          "Obs": 264.36,
          "Obs_uncertainty": 1.54,
          "Model": 261.1856231394096
         },
         {
          "Date": "1995-05-01T00:00:00",
          "Box": "30 °S - 00 °S",
          "Obs": 264.06,
          "Obs_uncertainty": 1.36,
          "Model": 261.2487540281046
         },
         {
          "Date": "1995-06-01T00:00:00",
          "Box": "30 °S - 00 °S",
          "Obs": 264.02,
          "Obs_uncertainty": 1.27,
          "Model": 261.26536169777347
         },
         {
          "Date": "1995-07-01T00:00:00",
          "Box": "30 °S - 00 °S",
          "Obs": 264.3,
          "Obs_uncertainty": 0.92,
          "Model": 260.4564612345528
         },
         {
          "Date": "1995-08-01T00:00:00",
          "Box": "30 °S - 00 °S",
          "Obs": 264.17,
          "Obs_uncertainty": 1.29,
          "Model": 260.0945836084805
         },
         {
          "Date": "1995-09-01T00:00:00",
          "Box": "30 °S - 00 °S",
          "Obs": 264.1,
          "Obs_uncertainty": 1.38,
          "Model": 260.09624065058256
         },
         {
          "Date": "1995-10-01T00:00:00",
          "Box": "30 °S - 00 °S",
          "Obs": 264.1,
          "Obs_uncertainty": 0.76,
          "Model": 260.6010095522767
         },
         {
          "Date": "1995-11-01T00:00:00",
          "Box": "30 °S - 00 °S",
          "Obs": 263.7,
          "Obs_uncertainty": 0.92,
          "Model": 260.835838018185
         },
         {
          "Date": "1995-12-01T00:00:00",
          "Box": "30 °S - 00 °S",
          "Obs": 264.08,
          "Obs_uncertainty": 1.49,
          "Model": 260.850432079987
         },
         {
          "Date": "1996-01-01T00:00:00",
          "Box": "30 °S - 00 °S",
          "Obs": 265.02,
          "Obs_uncertainty": 0.65,
          "Model": 260.8583307426976
         },
         {
          "Date": "1996-02-01T00:00:00",
          "Box": "30 °S - 00 °S",
          "Obs": 264.92,
          "Obs_uncertainty": 1.53,
          "Model": 261.0022593115499
         },
         {
          "Date": "1996-03-01T00:00:00",
          "Box": "30 °S - 00 °S",
          "Obs": 265.49,
          "Obs_uncertainty": 1.32,
          "Model": 261.1132127800071
         },
         {
          "Date": "1996-04-01T00:00:00",
          "Box": "30 °S - 00 °S",
          "Obs": 265.32,
          "Obs_uncertainty": 1.99,
          "Model": 261.3183861367281
         },
         {
          "Date": "1996-05-01T00:00:00",
          "Box": "30 °S - 00 °S",
          "Obs": 264.76,
          "Obs_uncertainty": 1.69,
          "Model": 261.33394954706716
         },
         {
          "Date": "1996-06-01T00:00:00",
          "Box": "30 °S - 00 °S",
          "Obs": 264.43,
          "Obs_uncertainty": 1.32,
          "Model": 261.2821868827957
         },
         {
          "Date": "1996-07-01T00:00:00",
          "Box": "30 °S - 00 °S",
          "Obs": 264.31,
          "Obs_uncertainty": 0.78,
          "Model": 260.4181590971773
         },
         {
          "Date": "1996-08-01T00:00:00",
          "Box": "30 °S - 00 °S",
          "Obs": 263.753,
          "Obs_uncertainty": 1.012,
          "Model": 259.97551468810144
         },
         {
          "Date": "1996-09-01T00:00:00",
          "Box": "30 °S - 00 °S",
          "Obs": 263.499,
          "Obs_uncertainty": 0.785,
          "Model": 259.89481649860716
         },
         {
          "Date": "1996-10-01T00:00:00",
          "Box": "30 °S - 00 °S",
          "Obs": 262.941,
          "Obs_uncertainty": 0.389,
          "Model": 260.3261471472849
         },
         {
          "Date": "1996-11-01T00:00:00",
          "Box": "30 °S - 00 °S",
          "Obs": 263.317,
          "Obs_uncertainty": 0.499,
          "Model": 260.49256173309004
         },
         {
          "Date": "1996-12-01T00:00:00",
          "Box": "30 °S - 00 °S",
          "Obs": 263.238,
          "Obs_uncertainty": 0.6609999999999999,
          "Model": 260.44273549774124
         },
         {
          "Date": "1997-01-01T00:00:00",
          "Box": "30 °S - 00 °S",
          "Obs": 263.277,
          "Obs_uncertainty": 0.7,
          "Model": 260.63868838985485
         },
         {
          "Date": "1997-02-01T00:00:00",
          "Box": "30 °S - 00 °S",
          "Obs": 263.152,
          "Obs_uncertainty": 0.404,
          "Model": 260.9898905203596
         },
         {
          "Date": "1997-03-01T00:00:00",
          "Box": "30 °S - 00 °S",
          "Obs": 263.348,
          "Obs_uncertainty": 0.688,
          "Model": 261.18534952720694
         },
         {
          "Date": "1997-04-01T00:00:00",
          "Box": "30 °S - 00 °S",
          "Obs": 262.922,
          "Obs_uncertainty": 0.396,
          "Model": 261.5240429509781
         },
         {
          "Date": "1997-05-01T00:00:00",
          "Box": "30 °S - 00 °S",
          "Obs": 262.232,
          "Obs_uncertainty": 0.376,
          "Model": 261.67854715794317
         },
         {
          "Date": "1997-06-01T00:00:00",
          "Box": "30 °S - 00 °S",
          "Obs": 262.05400000000003,
          "Obs_uncertainty": 0.303,
          "Model": 261.72110841061726
         },
         {
          "Date": "1997-07-01T00:00:00",
          "Box": "30 °S - 00 °S",
          "Obs": 262.337,
          "Obs_uncertainty": 0.224,
          "Model": 261.0525476580092
         },
         {
          "Date": "1997-08-01T00:00:00",
          "Box": "30 °S - 00 °S",
          "Obs": 262.165,
          "Obs_uncertainty": 0.304,
          "Model": 260.6072352043456
         },
         {
          "Date": "1997-09-01T00:00:00",
          "Box": "30 °S - 00 °S",
          "Obs": 262.181,
          "Obs_uncertainty": 0.334,
          "Model": 260.45341872153995
         },
         {
          "Date": "1997-10-01T00:00:00",
          "Box": "30 °S - 00 °S",
          "Obs": 262.055,
          "Obs_uncertainty": 0.33,
          "Model": 260.8233426331313
         },
         {
          "Date": "1997-11-01T00:00:00",
          "Box": "30 °S - 00 °S",
          "Obs": 261.768,
          "Obs_uncertainty": 0.284,
          "Model": 261.0421731018064
         },
         {
          "Date": "1997-12-01T00:00:00",
          "Box": "30 °S - 00 °S",
          "Obs": 261.718,
          "Obs_uncertainty": 0.353,
          "Model": 261.0530165737777
         },
         {
          "Date": "1998-01-01T00:00:00",
          "Box": "30 °S - 00 °S",
          "Obs": 262.164,
          "Obs_uncertainty": 0.958,
          "Model": 260.5402441770648
         },
         {
          "Date": "1998-02-01T00:00:00",
          "Box": "30 °S - 00 °S",
          "Obs": 261.405,
          "Obs_uncertainty": 0.525,
          "Model": 260.1337463012924
         },
         {
          "Date": "1998-03-01T00:00:00",
          "Box": "30 °S - 00 °S",
          "Obs": 261.502,
          "Obs_uncertainty": 0.6970000000000001,
          "Model": 259.9258131890581
         },
         {
          "Date": "1998-04-01T00:00:00",
          "Box": "30 °S - 00 °S",
          "Obs": 260.768,
          "Obs_uncertainty": 0.389,
          "Model": 260.0341405009053
         },
         {
          "Date": "1998-05-01T00:00:00",
          "Box": "30 °S - 00 °S",
          "Obs": 260.85900000000004,
          "Obs_uncertainty": 0.355,
          "Model": 259.9974351606222
         },
         {
          "Date": "1998-06-01T00:00:00",
          "Box": "30 °S - 00 °S",
          "Obs": 260.745,
          "Obs_uncertainty": 0.424,
          "Model": 259.844723177086
         },
         {
          "Date": "1998-07-01T00:00:00",
          "Box": "30 °S - 00 °S",
          "Obs": 260.64,
          "Obs_uncertainty": 0.271,
          "Model": 258.98621194837165
         },
         {
          "Date": "1998-08-01T00:00:00",
          "Box": "30 °S - 00 °S",
          "Obs": 260.636,
          "Obs_uncertainty": 0.256,
          "Model": 258.41338443675045
         },
         {
          "Date": "1998-09-01T00:00:00",
          "Box": "30 °S - 00 °S",
          "Obs": 260.633,
          "Obs_uncertainty": 0.313,
          "Model": 258.14596215027194
         },
         {
          "Date": "1998-10-01T00:00:00",
          "Box": "30 °S - 00 °S",
          "Obs": 260.48900000000003,
          "Obs_uncertainty": 0.319,
          "Model": 258.39338111126676
         },
         {
          "Date": "1998-11-01T00:00:00",
          "Box": "30 °S - 00 °S",
          "Obs": 260.92,
          "Obs_uncertainty": 0.313,
          "Model": 258.43770490942563
         },
         {
          "Date": "1998-12-01T00:00:00",
          "Box": "30 °S - 00 °S",
          "Obs": 260.77,
          "Obs_uncertainty": 0.503,
          "Model": 258.27987917849566
         },
         {
          "Date": "1999-01-01T00:00:00",
          "Box": "30 °S - 00 °S",
          "Obs": 260.982,
          "Obs_uncertainty": 0.442,
          "Model": 258.0684711247939
         },
         {
          "Date": "1999-02-01T00:00:00",
          "Box": "30 °S - 00 °S",
          "Obs": 261.04,
          "Obs_uncertainty": 0.345,
          "Model": 258.0311088065423
         },
         {
          "Date": "1999-03-01T00:00:00",
          "Box": "30 °S - 00 °S",
          "Obs": 260.366,
          "Obs_uncertainty": 0.307,
          "Model": 258.0081848599733
         },
         {
          "Date": "1999-04-01T00:00:00",
          "Box": "30 °S - 00 °S",
          "Obs": 260.349,
          "Obs_uncertainty": 0.369,
          "Model": 258.1833816697821
         },
         {
          "Date": "1999-05-01T00:00:00",
          "Box": "30 °S - 00 °S",
          "Obs": 260.03,
          "Obs_uncertainty": 0.551,
          "Model": 258.1951252226788
         },
         {
          "Date": "1999-06-01T00:00:00",
          "Box": "30 °S - 00 °S",
          "Obs": 259.9,
          "Obs_uncertainty": 0.377,
          "Model": 258.106118253731
         },
         {
          "Date": "1999-07-01T00:00:00",
          "Box": "30 °S - 00 °S",
          "Obs": 259.642,
          "Obs_uncertainty": 0.268,
          "Model": 257.30810321249913
         },
         {
          "Date": "1999-08-01T00:00:00",
          "Box": "30 °S - 00 °S",
          "Obs": 259.61400000000003,
          "Obs_uncertainty": 0.284,
          "Model": 256.8131058060044
         },
         {
          "Date": "1999-09-01T00:00:00",
          "Box": "30 °S - 00 °S",
          "Obs": 259.194,
          "Obs_uncertainty": 0.389,
          "Model": 256.6167696952076
         },
         {
          "Date": "1999-10-01T00:00:00",
          "Box": "30 °S - 00 °S",
          "Obs": 259.093,
          "Obs_uncertainty": 0.358,
          "Model": 256.9188504329183
         },
         {
          "Date": "1999-11-01T00:00:00",
          "Box": "30 °S - 00 °S",
          "Obs": 259.226,
          "Obs_uncertainty": 0.404,
          "Model": 257.0178361144366
         },
         {
          "Date": "1999-12-01T00:00:00",
          "Box": "30 °S - 00 °S",
          "Obs": 259.17900000000003,
          "Obs_uncertainty": 0.447,
          "Model": 256.9128251149976
         },
         {
          "Date": "2000-01-01T00:00:00",
          "Box": "30 °S - 00 °S",
          "Obs": 259.458,
          "Obs_uncertainty": 0.35100000000000003,
          "Model": 256.6729869826871
         },
         {
          "Date": "2000-02-01T00:00:00",
          "Box": "30 °S - 00 °S",
          "Obs": 259.243,
          "Obs_uncertainty": 0.41,
          "Model": 256.5923020023526
         },
         {
          "Date": "2000-03-01T00:00:00",
          "Box": "30 °S - 00 °S",
          "Obs": 259.249,
          "Obs_uncertainty": 0.456,
          "Model": 256.5567445321544
         },
         {
          "Date": "2000-04-01T00:00:00",
          "Box": "30 °S - 00 °S",
          "Obs": 258.894,
          "Obs_uncertainty": 0.475,
          "Model": 256.74129416605183
         },
         {
          "Date": "2000-05-01T00:00:00",
          "Box": "30 °S - 00 °S",
          "Obs": 258.731,
          "Obs_uncertainty": 0.605,
          "Model": 256.76462810841036
         },
         {
          "Date": "2000-06-01T00:00:00",
          "Box": "30 °S - 00 °S",
          "Obs": 257.961,
          "Obs_uncertainty": 0.255,
          "Model": 256.68327374171247
         },
         {
          "Date": "2000-07-01T00:00:00",
          "Box": "30 °S - 00 °S",
          "Obs": 258.071,
          "Obs_uncertainty": 0.32299999999999995,
          "Model": 255.89084471173442
         },
         {
          "Date": "2000-08-01T00:00:00",
          "Box": "30 °S - 00 °S",
          "Obs": 258.062,
          "Obs_uncertainty": 0.48,
          "Model": 255.398665293259
         },
         {
          "Date": "2000-09-01T00:00:00",
          "Box": "30 °S - 00 °S",
          "Obs": 257.965,
          "Obs_uncertainty": 0.383,
          "Model": 255.2094377470947
         },
         {
          "Date": "2000-10-01T00:00:00",
          "Box": "30 °S - 00 °S",
          "Obs": 258.014,
          "Obs_uncertainty": 0.327,
          "Model": 255.5222576135608
         },
         {
          "Date": "2000-11-01T00:00:00",
          "Box": "30 °S - 00 °S",
          "Obs": 258.182,
          "Obs_uncertainty": 0.334,
          "Model": 255.6292821138799
         },
         {
          "Date": "2000-12-01T00:00:00",
          "Box": "30 °S - 00 °S",
          "Obs": 258.288,
          "Obs_uncertainty": 0.5539999999999999,
          "Model": 255.53309609646675
         },
         {
          "Date": "2001-01-01T00:00:00",
          "Box": "30 °S - 00 °S",
          "Obs": 258.338,
          "Obs_uncertainty": 0.321,
          "Model": 255.3138837574396
         },
         {
          "Date": "2001-02-01T00:00:00",
          "Box": "30 °S - 00 °S",
          "Obs": 258.302,
          "Obs_uncertainty": 0.375,
          "Model": 255.2410570988396
         },
         {
          "Date": "2001-03-01T00:00:00",
          "Box": "30 °S - 00 °S",
          "Obs": 258.03700000000003,
          "Obs_uncertainty": 0.485,
          "Model": 255.20336092632317
         },
         {
          "Date": "2001-04-01T00:00:00",
          "Box": "30 °S - 00 °S",
          "Obs": 257.495,
          "Obs_uncertainty": 0.598,
          "Model": 255.36597661310344
         },
         {
          "Date": "2001-05-01T00:00:00",
          "Box": "30 °S - 00 °S",
          "Obs": 256.806,
          "Obs_uncertainty": 0.464,
          "Model": 255.36717114155672
         },
         {
          "Date": "2001-06-01T00:00:00",
          "Box": "30 °S - 00 °S",
          "Obs": 256.946,
          "Obs_uncertainty": 0.256,
          "Model": 255.27120072246763
         },
         {
          "Date": "2001-07-01T00:00:00",
          "Box": "30 °S - 00 °S",
          "Obs": 257.039,
          "Obs_uncertainty": 0.525,
          "Model": 254.46195947185578
         },
         {
          "Date": "2001-08-01T00:00:00",
          "Box": "30 °S - 00 °S",
          "Obs": 256.759,
          "Obs_uncertainty": 0.401,
          "Model": 253.97398182372834
         },
         {
          "Date": "2001-09-01T00:00:00",
          "Box": "30 °S - 00 °S",
          "Obs": 256.315,
          "Obs_uncertainty": 0.321,
          "Model": 253.78955171885437
         },
         {
          "Date": "2001-10-01T00:00:00",
          "Box": "30 °S - 00 °S",
          "Obs": 256.495,
          "Obs_uncertainty": 0.429,
          "Model": 254.09707790468315
         },
         {
          "Date": "2001-11-01T00:00:00",
          "Box": "30 °S - 00 °S",
          "Obs": 256.146,
          "Obs_uncertainty": 0.454,
          "Model": 254.19077922934147
         },
         {
          "Date": "2001-12-01T00:00:00",
          "Box": "30 °S - 00 °S",
          "Obs": 256.074,
          "Obs_uncertainty": 0.5820000000000001,
          "Model": 254.08266226364822
         },
         {
          "Date": "2002-01-01T00:00:00",
          "Box": "30 °S - 00 °S",
          "Obs": 256.339,
          "Obs_uncertainty": 0.386,
          "Model": 253.82451851528745
         },
         {
          "Date": "2002-02-01T00:00:00",
          "Box": "30 °S - 00 °S",
          "Obs": 256.192,
          "Obs_uncertainty": 0.405,
          "Model": 253.68732174996524
         },
         {
          "Date": "2002-03-01T00:00:00",
          "Box": "30 °S - 00 °S",
          "Obs": 256.04400000000004,
          "Obs_uncertainty": 0.388,
          "Model": 253.58557163995795
         },
         {
          "Date": "2002-04-01T00:00:00",
          "Box": "30 °S - 00 °S",
          "Obs": 255.45,
          "Obs_uncertainty": 0.394,
          "Model": 253.66433863906755
         },
         {
          "Date": "2002-05-01T00:00:00",
          "Box": "30 °S - 00 °S",
          "Obs": 254.98,
          "Obs_uncertainty": 0.396,
          "Model": 253.5813156968951
         },
         {
          "Date": "2002-06-01T00:00:00",
          "Box": "30 °S - 00 °S",
          "Obs": 254.842,
          "Obs_uncertainty": 0.361,
          "Model": 253.40935349984633
         },
         {
          "Date": "2002-07-01T00:00:00",
          "Box": "30 °S - 00 °S",
          "Obs": 254.874,
          "Obs_uncertainty": 0.274,
          "Model": 252.51892893224078
         },
         {
          "Date": "2002-08-01T00:00:00",
          "Box": "30 °S - 00 °S",
          "Obs": 254.564,
          "Obs_uncertainty": 0.398,
          "Model": 251.9857607086821
         },
         {
          "Date": "2002-09-01T00:00:00",
          "Box": "30 °S - 00 °S",
          "Obs": 254.418,
          "Obs_uncertainty": 0.359,
          "Model": 251.75991662586125
         },
         {
          "Date": "2002-10-01T00:00:00",
          "Box": "30 °S - 00 °S",
          "Obs": 254.271,
          "Obs_uncertainty": 0.385,
          "Model": 252.01105063924436
         },
         {
          "Date": "2002-11-01T00:00:00",
          "Box": "30 °S - 00 °S",
          "Obs": 254.321,
          "Obs_uncertainty": 0.321,
          "Model": 252.03322412425763
         },
         {
          "Date": "2002-12-01T00:00:00",
          "Box": "30 °S - 00 °S",
          "Obs": 253.982,
          "Obs_uncertainty": 0.53,
          "Model": 251.85578619719286
         },
         {
          "Date": "2003-01-01T00:00:00",
          "Box": "30 °S - 00 °S",
          "Obs": 254.337,
          "Obs_uncertainty": 0.484,
          "Model": 251.66821325618645
         },
         {
          "Date": "2003-02-01T00:00:00",
          "Box": "30 °S - 00 °S",
          "Obs": 253.605,
          "Obs_uncertainty": 0.603,
          "Model": 251.65255092447498
         },
         {
          "Date": "2003-03-01T00:00:00",
          "Box": "30 °S - 00 °S",
          "Obs": 254.08900000000003,
          "Obs_uncertainty": 0.421,
          "Model": 251.63238551727417
         },
         {
          "Date": "2003-04-01T00:00:00",
          "Box": "30 °S - 00 °S",
          "Obs": 253.618,
          "Obs_uncertainty": 0.468,
          "Model": 251.77317030237973
         },
         {
          "Date": "2003-05-01T00:00:00",
          "Box": "30 °S - 00 °S",
          "Obs": 253.097,
          "Obs_uncertainty": 0.379,
          "Model": 251.7508300405491
         },
         {
          "Date": "2003-06-01T00:00:00",
          "Box": "30 °S - 00 °S",
          "Obs": 252.612,
          "Obs_uncertainty": 0.343,
          "Model": 251.6393896280717
         },
         {
          "Date": "2003-07-01T00:00:00",
          "Box": "30 °S - 00 °S",
          "Obs": 252.876,
          "Obs_uncertainty": 0.349,
          "Model": 250.82673362648967
         },
         {
          "Date": "2003-08-01T00:00:00",
          "Box": "30 °S - 00 °S",
          "Obs": 252.859,
          "Obs_uncertainty": 0.403,
          "Model": 250.34412552020189
         },
         {
          "Date": "2003-09-01T00:00:00",
          "Box": "30 °S - 00 °S",
          "Obs": 252.691,
          "Obs_uncertainty": 0.377,
          "Model": 250.1557571111102
         },
         {
          "Date": "2003-10-01T00:00:00",
          "Box": "30 °S - 00 °S",
          "Obs": 252.543,
          "Obs_uncertainty": 0.33,
          "Model": 250.4412768121044
         },
         {
          "Date": "2003-11-01T00:00:00",
          "Box": "30 °S - 00 °S",
          "Obs": 252.405,
          "Obs_uncertainty": 0.39,
          "Model": 250.5144535575073
         },
         {
          "Date": "2003-12-01T00:00:00",
          "Box": "30 °S - 00 °S",
          "Obs": 252.601,
          "Obs_uncertainty": 0.498,
          "Model": 250.38854194346024
         },
         {
          "Date": "2004-01-01T00:00:00",
          "Box": "30 °S - 00 °S",
          "Obs": 252.134,
          "Obs_uncertainty": 0.6509999999999999,
          "Model": 250.11121983757926
         },
         {
          "Date": "2004-02-01T00:00:00",
          "Box": "30 °S - 00 °S",
          "Obs": 252.342,
          "Obs_uncertainty": 0.359,
          "Model": 249.9605322188741
         },
         {
          "Date": "2004-03-01T00:00:00",
          "Box": "30 °S - 00 °S",
          "Obs": 252.258,
          "Obs_uncertainty": 0.447,
          "Model": 249.84911004950555
         },
         {
          "Date": "2004-04-01T00:00:00",
          "Box": "30 °S - 00 °S",
          "Obs": 251.824,
          "Obs_uncertainty": 0.583,
          "Model": 249.94067235957786
         },
         {
          "Date": "2004-05-01T00:00:00",
          "Box": "30 °S - 00 °S",
          "Obs": 251.402,
          "Obs_uncertainty": 0.277,
          "Model": 249.87752914611687
         },
         {
          "Date": "2004-06-01T00:00:00",
          "Box": "30 °S - 00 °S",
          "Obs": 251.148,
          "Obs_uncertainty": 0.422,
          "Model": 249.71669343311876
         },
         {
          "Date": "2004-07-01T00:00:00",
          "Box": "30 °S - 00 °S",
          "Obs": 250.969,
          "Obs_uncertainty": 0.34600000000000003,
          "Model": 248.87156206784923
         },
         {
          "Date": "2004-08-01T00:00:00",
          "Box": "30 °S - 00 °S",
          "Obs": 251.151,
          "Obs_uncertainty": 0.284,
          "Model": 248.34204320762657
         },
         {
          "Date": "2004-09-01T00:00:00",
          "Box": "30 °S - 00 °S",
          "Obs": 250.76,
          "Obs_uncertainty": 0.31,
          "Model": 248.1003772015419
         },
         {
          "Date": "2004-10-01T00:00:00",
          "Box": "30 °S - 00 °S",
          "Obs": 250.618,
          "Obs_uncertainty": 0.377,
          "Model": 248.3299589187492
         },
         {
          "Date": "2004-11-01T00:00:00",
          "Box": "30 °S - 00 °S",
          "Obs": 250.743,
          "Obs_uncertainty": 0.375,
          "Model": 248.35226209417078
         },
         {
          "Date": "2004-12-01T00:00:00",
          "Box": "30 °S - 00 °S",
          "Obs": 250.492,
          "Obs_uncertainty": 0.414,
          "Model": 248.17966897537855
         },
         {
          "Date": "2005-01-01T00:00:00",
          "Box": "30 °S - 00 °S",
          "Obs": 250.844,
          "Obs_uncertainty": 0.402,
          "Model": 247.88172718004893
         },
         {
          "Date": "2005-02-01T00:00:00",
          "Box": "30 °S - 00 °S",
          "Obs": 250.074,
          "Obs_uncertainty": 0.626,
          "Model": 247.7214005741989
         },
         {
          "Date": "2005-03-01T00:00:00",
          "Box": "30 °S - 00 °S",
          "Obs": 250.327,
          "Obs_uncertainty": 0.468,
          "Model": 247.5960935061677
         },
         {
          "Date": "2005-04-01T00:00:00",
          "Box": "30 °S - 00 °S",
          "Obs": 249.858,
          "Obs_uncertainty": 0.447,
          "Model": 247.67090787656065
         },
         {
          "Date": "2005-05-01T00:00:00",
          "Box": "30 °S - 00 °S",
          "Obs": 249.181,
          "Obs_uncertainty": 0.526,
          "Model": 247.59375438362792
         },
         {
          "Date": "2005-06-01T00:00:00",
          "Box": "30 °S - 00 °S",
          "Obs": 249.269,
          "Obs_uncertainty": 0.419,
          "Model": 247.419784359448
         },
         {
          "Date": "2005-07-01T00:00:00",
          "Box": "30 °S - 00 °S",
          "Obs": 248.944,
          "Obs_uncertainty": 0.466,
          "Model": 246.57437614182706
         },
         {
          "Date": "2005-08-01T00:00:00",
          "Box": "30 °S - 00 °S",
          "Obs": 249.072,
          "Obs_uncertainty": 0.396,
          "Model": 246.04073584495774
         },
         {
          "Date": "2005-09-01T00:00:00",
          "Box": "30 °S - 00 °S",
          "Obs": 249.039,
          "Obs_uncertainty": 0.389,
          "Model": 245.78729177169987
         },
         {
          "Date": "2005-10-01T00:00:00",
          "Box": "30 °S - 00 °S",
          "Obs": 248.921,
          "Obs_uncertainty": 0.35200000000000004,
          "Model": 245.9962462089057
         },
         {
          "Date": "2005-11-01T00:00:00",
          "Box": "30 °S - 00 °S",
          "Obs": 248.911,
          "Obs_uncertainty": 0.333,
          "Model": 246.00192403578444
         },
         {
          "Date": "2005-12-01T00:00:00",
          "Box": "30 °S - 00 °S",
          "Obs": 248.842,
          "Obs_uncertainty": 0.379,
          "Model": 245.81539898893516
         },
         {
          "Date": "2006-01-01T00:00:00",
          "Box": "30 °S - 00 °S",
          "Obs": 248.883,
          "Obs_uncertainty": 0.429,
          "Model": 245.52970005555628
         },
         {
          "Date": "2006-02-01T00:00:00",
          "Box": "30 °S - 00 °S",
          "Obs": 248.826,
          "Obs_uncertainty": 0.596,
          "Model": 245.40130668744175
         },
         {
          "Date": "2006-03-01T00:00:00",
          "Box": "30 °S - 00 °S",
          "Obs": 247.49,
          "Obs_uncertainty": 0.371,
          "Model": 245.30645088706194
         },
         {
          "Date": "2006-04-01T00:00:00",
          "Box": "30 °S - 00 °S",
          "Obs": 247.211,
          "Obs_uncertainty": 0.404,
          "Model": 245.42675691370175
         },
         {
          "Date": "2006-05-01T00:00:00",
          "Box": "30 °S - 00 °S",
          "Obs": 247.372,
          "Obs_uncertainty": 0.345,
          "Model": 245.39933368160257
         },
         {
          "Date": "2006-06-01T00:00:00",
          "Box": "30 °S - 00 °S",
          "Obs": 246.611,
          "Obs_uncertainty": 0.275,
          "Model": 245.26843131525948
         },
         {
          "Date": "2006-07-01T00:00:00",
          "Box": "30 °S - 00 °S",
          "Obs": 246.371,
          "Obs_uncertainty": 0.404,
          "Model": 244.48984970448947
         },
         {
          "Date": "2006-08-01T00:00:00",
          "Box": "30 °S - 00 °S",
          "Obs": 245.947,
          "Obs_uncertainty": 0.325,
          "Model": 243.98734248829436
         },
         {
          "Date": "2006-09-01T00:00:00",
          "Box": "30 °S - 00 °S",
          "Obs": 245.926,
          "Obs_uncertainty": 0.269,
          "Model": 243.75048751701996
         },
         {
          "Date": "2006-10-01T00:00:00",
          "Box": "30 °S - 00 °S",
          "Obs": 245.722,
          "Obs_uncertainty": 0.444,
          "Model": 243.97513461907585
         },
         {
          "Date": "2006-11-01T00:00:00",
          "Box": "30 °S - 00 °S",
          "Obs": 245.512,
          "Obs_uncertainty": 0.35200000000000004,
          "Model": 244.01445265550998
         },
         {
          "Date": "2006-12-01T00:00:00",
          "Box": "30 °S - 00 °S",
          "Obs": 245.52,
          "Obs_uncertainty": 0.392,
          "Model": 243.86422086469318
         },
         {
          "Date": "2007-01-01T00:00:00",
          "Box": "30 °S - 00 °S",
          "Obs": 245.416,
          "Obs_uncertainty": 0.44,
          "Model": 243.56333004942516
         },
         {
          "Date": "2007-02-01T00:00:00",
          "Box": "30 °S - 00 °S",
          "Obs": 246.011,
          "Obs_uncertainty": 0.328,
          "Model": 243.41516443029764
         },
         {
          "Date": "2007-03-01T00:00:00",
          "Box": "30 °S - 00 °S",
          "Obs": 245.73,
          "Obs_uncertainty": 0.332,
          "Model": 243.32241839611243
         },
         {
          "Date": "2007-04-01T00:00:00",
          "Box": "30 °S - 00 °S",
          "Obs": 245.346,
          "Obs_uncertainty": 0.3670000000000001,
          "Model": 243.47410140217676
         },
         {
          "Date": "2007-05-01T00:00:00",
          "Box": "30 °S - 00 °S",
          "Obs": 245.135,
          "Obs_uncertainty": 0.318,
          "Model": 243.48202913941643
         },
         {
          "Date": "2007-06-01T00:00:00",
          "Box": "30 °S - 00 °S",
          "Obs": 244.643,
          "Obs_uncertainty": 0.321,
          "Model": 243.3779879224573
         },
         {
          "Date": "2007-07-01T00:00:00",
          "Box": "30 °S - 00 °S",
          "Obs": 244.523,
          "Obs_uncertainty": 0.293,
          "Model": 242.63846979425279
         },
         {
          "Date": "2007-08-01T00:00:00",
          "Box": "30 °S - 00 °S",
          "Obs": 244.166,
          "Obs_uncertainty": 0.293,
          "Model": 242.14727882232992
         },
         {
          "Date": "2007-09-01T00:00:00",
          "Box": "30 °S - 00 °S",
          "Obs": 243.946,
          "Obs_uncertainty": 0.267,
          "Model": 241.91688073500342
         },
         {
          "Date": "2007-10-01T00:00:00",
          "Box": "30 °S - 00 °S",
          "Obs": 244.072,
          "Obs_uncertainty": 0.31,
          "Model": 242.1529128803108
         },
         {
          "Date": "2007-11-01T00:00:00",
          "Box": "30 °S - 00 °S",
          "Obs": 244.209,
          "Obs_uncertainty": 0.332,
          "Model": 242.21454969839775
         },
         {
          "Date": "2007-12-01T00:00:00",
          "Box": "30 °S - 00 °S",
          "Obs": 243.847,
          "Obs_uncertainty": 0.524,
          "Model": 242.0886824211617
         },
         {
          "Date": "2008-01-01T00:00:00",
          "Box": "30 °S - 00 °S",
          "Obs": 244.054,
          "Obs_uncertainty": 0.509,
          "Model": 241.74233527123178
         },
         {
          "Date": "2008-02-01T00:00:00",
          "Box": "30 °S - 00 °S",
          "Obs": 243.75,
          "Obs_uncertainty": 0.461,
          "Model": 241.52554310544312
         },
         {
          "Date": "2008-03-01T00:00:00",
          "Box": "30 °S - 00 °S",
          "Obs": 243.491,
          "Obs_uncertainty": 0.426,
          "Model": 241.3896725331598
         },
         {
          "Date": "2008-04-01T00:00:00",
          "Box": "30 °S - 00 °S",
          "Obs": 243.225,
          "Obs_uncertainty": 0.445,
          "Model": 241.50913621763274
         },
         {
          "Date": "2008-05-01T00:00:00",
          "Box": "30 °S - 00 °S",
          "Obs": 243.054,
          "Obs_uncertainty": 0.458,
          "Model": 241.49244398865457
         },
         {
          "Date": "2008-06-01T00:00:00",
          "Box": "30 °S - 00 °S",
          "Obs": 242.736,
          "Obs_uncertainty": 0.482,
          "Model": 241.36620300044297
         },
         {
          "Date": "2008-07-01T00:00:00",
          "Box": "30 °S - 00 °S",
          "Obs": 242.227,
          "Obs_uncertainty": 0.349,
          "Model": 240.62021020499608
         },
         {
          "Date": "2008-08-01T00:00:00",
          "Box": "30 °S - 00 °S",
          "Obs": 242.125,
          "Obs_uncertainty": 0.292,
          "Model": 240.1292855221576
         },
         {
          "Date": "2008-09-01T00:00:00",
          "Box": "30 °S - 00 °S",
          "Obs": 242.086,
          "Obs_uncertainty": 0.447,
          "Model": 239.8898228287457
         },
         {
          "Date": "2008-10-01T00:00:00",
          "Box": "30 °S - 00 °S",
          "Obs": 242.311,
          "Obs_uncertainty": 0.251,
          "Model": 240.10405920075237
         },
         {
          "Date": "2008-11-01T00:00:00",
          "Box": "30 °S - 00 °S",
          "Obs": 242.389,
          "Obs_uncertainty": 0.292,
          "Model": 240.14157703305509
         },
         {
          "Date": "2008-12-01T00:00:00",
          "Box": "30 °S - 00 °S",
          "Obs": 242.468,
          "Obs_uncertainty": 0.396,
          "Model": 239.9958997929649
         },
         {
          "Date": "2009-01-01T00:00:00",
          "Box": "30 °S - 00 °S",
          "Obs": 242.454,
          "Obs_uncertainty": 0.366,
          "Model": 239.7077341097255
         },
         {
          "Date": "2009-02-01T00:00:00",
          "Box": "30 °S - 00 °S",
          "Obs": 242.149,
          "Obs_uncertainty": 0.365,
          "Model": 239.56845645258753
         },
         {
          "Date": "2009-03-01T00:00:00",
          "Box": "30 °S - 00 °S",
          "Obs": 241.962,
          "Obs_uncertainty": 0.384,
          "Model": 239.4783706413039
         },
         {
          "Date": "2009-04-01T00:00:00",
          "Box": "30 °S - 00 °S",
          "Obs": 241.506,
          "Obs_uncertainty": 0.412,
          "Model": 239.6281018928275
         },
         {
          "Date": "2009-05-01T00:00:00",
          "Box": "30 °S - 00 °S",
          "Obs": 241.275,
          "Obs_uncertainty": 0.41,
          "Model": 239.6349986739294
         },
         {
          "Date": "2009-06-01T00:00:00",
          "Box": "30 °S - 00 °S",
          "Obs": 240.734,
          "Obs_uncertainty": 0.468,
          "Model": 239.529465875467
         },
         {
          "Date": "2009-07-01T00:00:00",
          "Box": "30 °S - 00 °S",
          "Obs": 240.784,
          "Obs_uncertainty": 0.316,
          "Model": 238.80086970016896
         },
         {
          "Date": "2009-08-01T00:00:00",
          "Box": "30 °S - 00 °S",
          "Obs": 240.55900000000003,
          "Obs_uncertainty": 0.371,
          "Model": 238.31327889986653
         },
         {
          "Date": "2009-09-01T00:00:00",
          "Box": "30 °S - 00 °S",
          "Obs": 240.361,
          "Obs_uncertainty": 0.275,
          "Model": 238.08028495579717
         },
         {
          "Date": "2009-10-01T00:00:00",
          "Box": "30 °S - 00 °S",
          "Obs": 239.978,
          "Obs_uncertainty": 0.313,
          "Model": 238.30586113410018
         },
         {
          "Date": "2009-11-01T00:00:00",
          "Box": "30 °S - 00 °S",
          "Obs": 240.135,
          "Obs_uncertainty": 0.322,
          "Model": 238.3615108886404
         },
         {
          "Date": "2009-12-01T00:00:00",
          "Box": "30 °S - 00 °S",
          "Obs": 240.182,
          "Obs_uncertainty": 0.535,
          "Model": 238.23311277019033
         },
         {
          "Date": "2010-01-01T00:00:00",
          "Box": "30 °S - 00 °S",
          "Obs": 240.276,
          "Obs_uncertainty": 0.376,
          "Model": 237.89771039695069
         },
         {
          "Date": "2010-02-01T00:00:00",
          "Box": "30 °S - 00 °S",
          "Obs": 239.657,
          "Obs_uncertainty": 0.57,
          "Model": 237.6926355889869
         },
         {
          "Date": "2010-03-01T00:00:00",
          "Box": "30 °S - 00 °S",
          "Obs": 239.89,
          "Obs_uncertainty": 0.3720000000000001,
          "Model": 237.56213308941813
         },
         {
          "Date": "2010-04-01T00:00:00",
          "Box": "30 °S - 00 °S",
          "Obs": 239.939,
          "Obs_uncertainty": 0.289,
          "Model": 237.6805421993714
         },
         {
          "Date": "2010-05-01T00:00:00",
          "Box": "30 °S - 00 °S",
          "Obs": null,
          "Obs_uncertainty": null,
          "Model": 237.66202580369745
         },
         {
          "Date": "2010-06-01T00:00:00",
          "Box": "30 °S - 00 °S",
          "Obs": null,
          "Obs_uncertainty": null,
          "Model": 237.53474845804436
         },
         {
          "Date": "2010-07-01T00:00:00",
          "Box": "30 °S - 00 °S",
          "Obs": 239.213,
          "Obs_uncertainty": 0.316,
          "Model": 236.78953640873675
         },
         {
          "Date": "2010-08-01T00:00:00",
          "Box": "30 °S - 00 °S",
          "Obs": 238.591,
          "Obs_uncertainty": 0.355,
          "Model": 236.29520143224528
         },
         {
          "Date": "2010-09-01T00:00:00",
          "Box": "30 °S - 00 °S",
          "Obs": 238.345,
          "Obs_uncertainty": 0.32,
          "Model": 236.05437159412804
         },
         {
          "Date": "2010-10-01T00:00:00",
          "Box": "30 °S - 00 °S",
          "Obs": 238.441,
          "Obs_uncertainty": 0.35,
          "Model": 236.26471330363515
         },
         {
          "Date": "2010-11-01T00:00:00",
          "Box": "30 °S - 00 °S",
          "Obs": 238.354,
          "Obs_uncertainty": 0.318,
          "Model": 236.3005804774551
         },
         {
          "Date": "2010-12-01T00:00:00",
          "Box": "30 °S - 00 °S",
          "Obs": 238.257,
          "Obs_uncertainty": 0.361,
          "Model": 236.15500533971561
         },
         {
          "Date": "2011-01-01T00:00:00",
          "Box": "30 °S - 00 °S",
          "Obs": null,
          "Obs_uncertainty": null,
          "Model": 235.83402976872802
         },
         {
          "Date": "2011-02-01T00:00:00",
          "Box": "30 °S - 00 °S",
          "Obs": 238.012,
          "Obs_uncertainty": 0.248,
          "Model": 235.646952067481
         },
         {
          "Date": "2011-03-01T00:00:00",
          "Box": "30 °S - 00 °S",
          "Obs": 237.829,
          "Obs_uncertainty": 0.42,
          "Model": 235.52226490648164
         },
         {
          "Date": "2011-04-01T00:00:00",
          "Box": "30 °S - 00 °S",
          "Obs": 237.396,
          "Obs_uncertainty": 0.375,
          "Model": 235.6220064724446
         },
         {
          "Date": "2011-05-01T00:00:00",
          "Box": "30 °S - 00 °S",
          "Obs": 237.132,
          "Obs_uncertainty": 0.4370000000000001,
          "Model": 235.581244146309
         },
         {
          "Date": "2011-06-01T00:00:00",
          "Box": "30 °S - 00 °S",
          "Obs": 236.858,
          "Obs_uncertainty": 0.282,
          "Model": 235.43907286184157
         },
         {
          "Date": "2011-07-01T00:00:00",
          "Box": "30 °S - 00 °S",
          "Obs": 236.383,
          "Obs_uncertainty": 0.271,
          "Model": 234.66787422117014
         },
         {
          "Date": "2011-08-01T00:00:00",
          "Box": "30 °S - 00 °S",
          "Obs": 236.412,
          "Obs_uncertainty": 0.449,
          "Model": 234.17212041831104
         },
         {
          "Date": "2011-09-01T00:00:00",
          "Box": "30 °S - 00 °S",
          "Obs": 236.516,
          "Obs_uncertainty": 0.308,
          "Model": 233.93738320775836
         },
         {
          "Date": "2011-10-01T00:00:00",
          "Box": "30 °S - 00 °S",
          "Obs": 236.176,
          "Obs_uncertainty": 0.447,
          "Model": 234.14714503544093
         },
         {
          "Date": "2011-11-01T00:00:00",
          "Box": "30 °S - 00 °S",
          "Obs": 236.313,
          "Obs_uncertainty": 0.471,
          "Model": 234.1712156222046
         },
         {
          "Date": "2011-12-01T00:00:00",
          "Box": "30 °S - 00 °S",
          "Obs": 235.985,
          "Obs_uncertainty": 0.415,
          "Model": 234.0142515923294
         },
         {
          "Date": "2012-01-01T00:00:00",
          "Box": "30 °S - 00 °S",
          "Obs": 235.935,
          "Obs_uncertainty": 0.45,
          "Model": 233.74843260932863
         },
         {
          "Date": "2012-02-01T00:00:00",
          "Box": "30 °S - 00 °S",
          "Obs": 236.076,
          "Obs_uncertainty": 0.366,
          "Model": 233.63257019159528
         },
         {
          "Date": "2012-03-01T00:00:00",
          "Box": "30 °S - 00 °S",
          "Obs": 235.521,
          "Obs_uncertainty": 0.457,
          "Model": 233.55759060159176
         },
         {
          "Date": "2012-04-01T00:00:00",
          "Box": "30 °S - 00 °S",
          "Obs": 235.699,
          "Obs_uncertainty": 0.438,
          "Model": 233.6899934438737
         },
         {
          "Date": "2012-05-01T00:00:00",
          "Box": "30 °S - 00 °S",
          "Obs": 234.718,
          "Obs_uncertainty": 0.457,
          "Model": 233.68287868779166
         },
         {
          "Date": "2012-06-01T00:00:00",
          "Box": "30 °S - 00 °S",
          "Obs": 234.85,
          "Obs_uncertainty": 0.38,
          "Model": 233.5782291513919
         },
         {
          "Date": "2012-07-01T00:00:00",
          "Box": "30 °S - 00 °S",
          "Obs": 234.734,
          "Obs_uncertainty": 0.28800000000000003,
          "Model": 232.8572188007817
         },
         {
          "Date": "2012-08-01T00:00:00",
          "Box": "30 °S - 00 °S",
          "Obs": 234.618,
          "Obs_uncertainty": 0.28800000000000003,
          "Model": 232.4042729319877
         },
         {
          "Date": "2012-09-01T00:00:00",
          "Box": "30 °S - 00 °S",
          "Obs": 234.441,
          "Obs_uncertainty": 0.277,
          "Model": 232.20249671755923
         },
         {
          "Date": "2012-10-01T00:00:00",
          "Box": "30 °S - 00 °S",
          "Obs": 234.326,
          "Obs_uncertainty": 0.27,
          "Model": 232.43738630323236
         },
         {
          "Date": "2012-11-01T00:00:00",
          "Box": "30 °S - 00 °S",
          "Obs": 234.314,
          "Obs_uncertainty": 0.289,
          "Model": 232.49333230387407
         },
         {
          "Date": "2012-12-01T00:00:00",
          "Box": "30 °S - 00 °S",
          "Obs": 234.266,
          "Obs_uncertainty": 0.416,
          "Model": 232.37001118184094
         },
         {
          "Date": "2013-01-01T00:00:00",
          "Box": "30 °S - 00 °S",
          "Obs": 234.27,
          "Obs_uncertainty": 0.53,
          "Model": 232.07469578783946
         },
         {
          "Date": "2013-02-01T00:00:00",
          "Box": "30 °S - 00 °S",
          "Obs": 234.032,
          "Obs_uncertainty": 0.59,
          "Model": 231.9121541262393
         },
         {
          "Date": "2013-03-01T00:00:00",
          "Box": "30 °S - 00 °S",
          "Obs": 233.94,
          "Obs_uncertainty": 0.284,
          "Model": 231.81142413138198
         },
         {
          "Date": "2013-04-01T00:00:00",
          "Box": "30 °S - 00 °S",
          "Obs": 233.697,
          "Obs_uncertainty": 0.341,
          "Model": 231.9216241859409
         },
         {
          "Date": "2013-05-01T00:00:00",
          "Box": "30 °S - 00 °S",
          "Obs": 233.304,
          "Obs_uncertainty": 0.386,
          "Model": 231.89124315033985
         },
         {
          "Date": "2013-06-01T00:00:00",
          "Box": "30 °S - 00 °S",
          "Obs": 233.109,
          "Obs_uncertainty": 0.32,
          "Model": 231.76477725796946
         },
         {
          "Date": "2013-07-01T00:00:00",
          "Box": "30 °S - 00 °S",
          "Obs": 232.968,
          "Obs_uncertainty": 0.377,
          "Model": 231.0094074622951
         },
         {
          "Date": "2013-08-01T00:00:00",
          "Box": "30 °S - 00 °S",
          "Obs": 232.676,
          "Obs_uncertainty": 0.254,
          "Model": 230.54040797090622
         },
         {
          "Date": "2013-09-01T00:00:00",
          "Box": "30 °S - 00 °S",
          "Obs": 232.572,
          "Obs_uncertainty": 0.35100000000000003,
          "Model": 230.3334837319655
         },
         {
          "Date": "2013-10-01T00:00:00",
          "Box": "30 °S - 00 °S",
          "Obs": 232.366,
          "Obs_uncertainty": 0.418,
          "Model": 230.56304138979112
         },
         {
          "Date": "2013-11-01T00:00:00",
          "Box": "30 °S - 00 °S",
          "Obs": 232.275,
          "Obs_uncertainty": 0.36,
          "Model": 230.6018097838307
         },
         {
          "Date": "2013-12-01T00:00:00",
          "Box": "30 °S - 00 °S",
          "Obs": 232.327,
          "Obs_uncertainty": 0.614,
          "Model": 230.46192137072376
         },
         {
          "Date": "2014-01-01T00:00:00",
          "Box": "30 °S - 00 °S",
          "Obs": 232.67,
          "Obs_uncertainty": 0.388,
          "Model": 230.22374079816672
         },
         {
          "Date": "2014-02-01T00:00:00",
          "Box": "30 °S - 00 °S",
          "Obs": 232.3,
          "Obs_uncertainty": 0.363,
          "Model": 230.12595980467106
         },
         {
          "Date": "2014-03-01T00:00:00",
          "Box": "30 °S - 00 °S",
          "Obs": 232.072,
          "Obs_uncertainty": 0.6940000000000001,
          "Model": 230.05929898509947
         },
         {
          "Date": "2014-04-01T00:00:00",
          "Box": "30 °S - 00 °S",
          "Obs": 231.609,
          "Obs_uncertainty": 0.35100000000000003,
          "Model": 230.1590581844371
         },
         {
          "Date": "2014-05-01T00:00:00",
          "Box": "30 °S - 00 °S",
          "Obs": 231.207,
          "Obs_uncertainty": 0.424,
          "Model": 230.11224134745572
         },
         {
          "Date": "2014-06-01T00:00:00",
          "Box": "30 °S - 00 °S",
          "Obs": 230.821,
          "Obs_uncertainty": 0.413,
          "Model": 229.98200036959904
         },
         {
          "Date": "2014-07-01T00:00:00",
          "Box": "30 °S - 00 °S",
          "Obs": 230.981,
          "Obs_uncertainty": 0.381,
          "Model": 229.2068615972414
         },
         {
          "Date": "2014-08-01T00:00:00",
          "Box": "30 °S - 00 °S",
          "Obs": 230.81,
          "Obs_uncertainty": 0.376,
          "Model": 228.74851009747078
         },
         {
          "Date": "2014-09-01T00:00:00",
          "Box": "30 °S - 00 °S",
          "Obs": 230.717,
          "Obs_uncertainty": 0.28300000000000003,
          "Model": 228.56185614087488
         },
         {
          "Date": "2014-10-01T00:00:00",
          "Box": "30 °S - 00 °S",
          "Obs": 230.695,
          "Obs_uncertainty": 0.336,
          "Model": 228.8047353966095
         },
         {
          "Date": "2014-11-01T00:00:00",
          "Box": "30 °S - 00 °S",
          "Obs": 230.787,
          "Obs_uncertainty": 0.426,
          "Model": 228.8444018582449
         },
         {
          "Date": "2014-12-01T00:00:00",
          "Box": "30 °S - 00 °S",
          "Obs": 230.354,
          "Obs_uncertainty": 0.471,
          "Model": 228.70413254526545
         },
         {
          "Date": "2015-01-01T00:00:00",
          "Box": "30 °S - 00 °S",
          "Obs": 230.89,
          "Obs_uncertainty": 0.452,
          "Model": 228.5107482947539
         },
         {
          "Date": "2015-02-01T00:00:00",
          "Box": "30 °S - 00 °S",
          "Obs": 230.74,
          "Obs_uncertainty": 0.398,
          "Model": 228.4635951242302
         },
         {
          "Date": "2015-03-01T00:00:00",
          "Box": "30 °S - 00 °S",
          "Obs": 230.615,
          "Obs_uncertainty": 0.489,
          "Model": 228.42998118556773
         },
         {
          "Date": "2015-04-01T00:00:00",
          "Box": "30 °S - 00 °S",
          "Obs": 230.428,
          "Obs_uncertainty": 0.406,
          "Model": 228.55536222951324
         },
         {
          "Date": "2015-05-01T00:00:00",
          "Box": "30 °S - 00 °S",
          "Obs": 229.841,
          "Obs_uncertainty": 0.442,
          "Model": 228.53665526159418
         },
         {
          "Date": "2015-06-01T00:00:00",
          "Box": "30 °S - 00 °S",
          "Obs": 229.624,
          "Obs_uncertainty": 0.44,
          "Model": 228.43538588694148
         },
         {
          "Date": "2015-07-01T00:00:00",
          "Box": "30 °S - 00 °S",
          "Obs": 229.373,
          "Obs_uncertainty": 0.335,
          "Model": 227.70674202711487
         },
         {
          "Date": "2015-08-01T00:00:00",
          "Box": "30 °S - 00 °S",
          "Obs": 229.289,
          "Obs_uncertainty": 0.35600000000000004,
          "Model": 227.27856120591906
         },
         {
          "Date": "2015-09-01T00:00:00",
          "Box": "30 °S - 00 °S",
          "Obs": 229.198,
          "Obs_uncertainty": 0.393,
          "Model": 227.10990050720207
         },
         {
          "Date": "2015-10-01T00:00:00",
          "Box": "30 °S - 00 °S",
          "Obs": 229.039,
          "Obs_uncertainty": 0.36,
          "Model": 227.36483298077184
         },
         {
          "Date": "2015-11-01T00:00:00",
          "Box": "30 °S - 00 °S",
          "Obs": 229.139,
          "Obs_uncertainty": 0.325,
          "Model": 227.42736633264434
         },
         {
          "Date": "2015-12-01T00:00:00",
          "Box": "30 °S - 00 °S",
          "Obs": 229.099,
          "Obs_uncertainty": 0.525,
          "Model": 227.3119123470665
         },
         {
          "Date": "2016-01-01T00:00:00",
          "Box": "30 °S - 00 °S",
          "Obs": 228.986,
          "Obs_uncertainty": 0.524,
          "Model": 227.06694747384566
         },
         {
          "Date": "2016-02-01T00:00:00",
          "Box": "30 °S - 00 °S",
          "Obs": 229.053,
          "Obs_uncertainty": 0.504,
          "Model": 226.95343421812424
         },
         {
          "Date": "2016-03-01T00:00:00",
          "Box": "30 °S - 00 °S",
          "Obs": 229.054,
          "Obs_uncertainty": 0.513,
          "Model": 226.88367131832626
         },
         {
          "Date": "2016-04-01T00:00:00",
          "Box": "30 °S - 00 °S",
          "Obs": 228.648,
          "Obs_uncertainty": 0.657,
          "Model": 226.99273452996016
         },
         {
          "Date": "2016-05-01T00:00:00",
          "Box": "30 °S - 00 °S",
          "Obs": 228.342,
          "Obs_uncertainty": 0.705,
          "Model": 226.96132400191476
         },
         {
          "Date": "2016-06-01T00:00:00",
          "Box": "30 °S - 00 °S",
          "Obs": 227.943,
          "Obs_uncertainty": 0.386,
          "Model": 226.8448368377219
         },
         {
          "Date": "2016-07-01T00:00:00",
          "Box": "30 °S - 00 °S",
          "Obs": 228.103,
          "Obs_uncertainty": 0.545,
          "Model": 226.1036361764372
         },
         {
          "Date": "2016-08-01T00:00:00",
          "Box": "30 °S - 00 °S",
          "Obs": 228.12,
          "Obs_uncertainty": 0.8370000000000001,
          "Model": 225.66532766447438
         },
         {
          "Date": "2016-09-01T00:00:00",
          "Box": "30 °S - 00 °S",
          "Obs": 228.012,
          "Obs_uncertainty": 0.455,
          "Model": 225.4874632013495
         },
         {
          "Date": "2016-10-01T00:00:00",
          "Box": "30 °S - 00 °S",
          "Obs": 227.896,
          "Obs_uncertainty": 0.491,
          "Model": 225.73154738149344
         },
         {
          "Date": "2016-11-01T00:00:00",
          "Box": "30 °S - 00 °S",
          "Obs": 227.801,
          "Obs_uncertainty": 0.53,
          "Model": 225.77939692839388
         },
         {
          "Date": "2016-12-01T00:00:00",
          "Box": "30 °S - 00 °S",
          "Obs": 227.985,
          "Obs_uncertainty": 0.507,
          "Model": 225.65146268842912
         },
         {
          "Date": "2017-01-01T00:00:00",
          "Box": "30 °S - 00 °S",
          "Obs": null,
          "Obs_uncertainty": null,
          "Model": 225.51746041431227
         },
         {
          "Date": "2017-02-01T00:00:00",
          "Box": "30 °S - 00 °S",
          "Obs": 228.389,
          "Obs_uncertainty": 0.575,
          "Model": 225.55863406297723
         },
         {
          "Date": "2017-03-01T00:00:00",
          "Box": "30 °S - 00 °S",
          "Obs": 227.725,
          "Obs_uncertainty": 0.5589999999999999,
          "Model": 225.60642234032574
         },
         {
          "Date": "2017-04-01T00:00:00",
          "Box": "30 °S - 00 °S",
          "Obs": 227.486,
          "Obs_uncertainty": 0.659,
          "Model": 225.80501351699925
         },
         {
          "Date": "2017-05-01T00:00:00",
          "Box": "30 °S - 00 °S",
          "Obs": 227.129,
          "Obs_uncertainty": 0.588,
          "Model": 225.85483363467404
         },
         {
          "Date": "2017-06-01T00:00:00",
          "Box": "30 °S - 00 °S",
          "Obs": 226.831,
          "Obs_uncertainty": 0.458,
          "Model": 225.82258885408052
         },
         {
          "Date": "2017-07-01T00:00:00",
          "Box": "30 °S - 00 °S",
          "Obs": 226.989,
          "Obs_uncertainty": 0.393,
          "Model": 225.15139375300984
         },
         {
          "Date": "2017-08-01T00:00:00",
          "Box": "30 °S - 00 °S",
          "Obs": 226.773,
          "Obs_uncertainty": 0.478,
          "Model": 224.77678385784213
         },
         {
          "Date": "2017-09-01T00:00:00",
          "Box": "30 °S - 00 °S",
          "Obs": 226.93,
          "Obs_uncertainty": 0.377,
          "Model": 224.67087114875272
         },
         {
          "Date": "2017-10-01T00:00:00",
          "Box": "30 °S - 00 °S",
          "Obs": 227.11,
          "Obs_uncertainty": 0.428,
          "Model": 224.9956782764562
         },
         {
          "Date": "2017-11-01T00:00:00",
          "Box": "30 °S - 00 °S",
          "Obs": 227.187,
          "Obs_uncertainty": 0.405,
          "Model": 225.12659027964864
         },
         {
          "Date": "2017-12-01T00:00:00",
          "Box": "30 °S - 00 °S",
          "Obs": null,
          "Obs_uncertainty": null,
          "Model": 225.07866343099172
         },
         {
          "Date": "2018-01-01T00:00:00",
          "Box": "30 °S - 00 °S",
          "Obs": null,
          "Obs_uncertainty": null,
          "Model": 224.90081538865175
         },
         {
          "Date": "2018-02-01T00:00:00",
          "Box": "30 °S - 00 °S",
          "Obs": null,
          "Obs_uncertainty": null,
          "Model": 224.83108908168742
         },
         {
          "Date": "2018-03-01T00:00:00",
          "Box": "30 °S - 00 °S",
          "Obs": 227.42,
          "Obs_uncertainty": 0.396,
          "Model": 224.79285198053768
         },
         {
          "Date": "2018-04-01T00:00:00",
          "Box": "30 °S - 00 °S",
          "Obs": 227.203,
          "Obs_uncertainty": 0.383,
          "Model": 224.9130607913653
         },
         {
          "Date": "2018-05-01T00:00:00",
          "Box": "30 °S - 00 °S",
          "Obs": 226.786,
          "Obs_uncertainty": 0.448,
          "Model": 224.89106590416063
         },
         {
          "Date": "2018-06-01T00:00:00",
          "Box": "30 °S - 00 °S",
          "Obs": 226.827,
          "Obs_uncertainty": 0.363,
          "Model": 224.79094150296925
         },
         {
          "Date": "2018-07-01T00:00:00",
          "Box": "30 °S - 00 °S",
          "Obs": 226.49400000000003,
          "Obs_uncertainty": 0.388,
          "Model": 224.06074921860062
         },
         {
          "Date": "2018-08-01T00:00:00",
          "Box": "30 °S - 00 °S",
          "Obs": 226.449,
          "Obs_uncertainty": 0.4,
          "Model": 223.64477552330627
         },
         {
          "Date": "2018-09-01T00:00:00",
          "Box": "30 °S - 00 °S",
          "Obs": 226.13,
          "Obs_uncertainty": 0.303,
          "Model": 223.49303277777733
         },
         {
          "Date": "2018-10-01T00:00:00",
          "Box": "30 °S - 00 °S",
          "Obs": 226.404,
          "Obs_uncertainty": 0.404,
          "Model": 223.7593356852892
         },
         {
          "Date": "2018-11-01T00:00:00",
          "Box": "30 °S - 00 °S",
          "Obs": 226.424,
          "Obs_uncertainty": 0.442,
          "Model": 223.8253288923956
         },
         {
          "Date": "2018-12-01T00:00:00",
          "Box": "30 °S - 00 °S",
          "Obs": 226.471,
          "Obs_uncertainty": 0.472,
          "Model": 223.7162225878222
         },
         {
          "Date": "2019-01-01T00:00:00",
          "Box": "30 °S - 00 °S",
          "Obs": 226.68400000000003,
          "Obs_uncertainty": 0.5529999999999999,
          "Model": 223.54076079899474
         },
         {
          "Date": "2019-02-01T00:00:00",
          "Box": "30 °S - 00 °S",
          "Obs": 226.437,
          "Obs_uncertainty": 0.441,
          "Model": 223.52477587824745
         },
         {
          "Date": "2019-03-01T00:00:00",
          "Box": "30 °S - 00 °S",
          "Obs": 226.297,
          "Obs_uncertainty": 0.408,
          "Model": 223.54401260679862
         },
         {
          "Date": "2019-04-01T00:00:00",
          "Box": "30 °S - 00 °S",
          "Obs": 226.022,
          "Obs_uncertainty": 0.405,
          "Model": 223.71283144649786
         },
         {
          "Date": "2019-05-01T00:00:00",
          "Box": "30 °S - 00 °S",
          "Obs": null,
          "Obs_uncertainty": null,
          "Model": 223.74343139875657
         },
         {
          "Date": "2019-06-01T00:00:00",
          "Box": "30 °S - 00 °S",
          "Obs": 225.317,
          "Obs_uncertainty": 0.385,
          "Model": 223.70147364847588
         },
         {
          "Date": "2019-07-01T00:00:00",
          "Box": "30 °S - 00 °S",
          "Obs": 225.171,
          "Obs_uncertainty": 0.364,
          "Model": 223.04348450526345
         },
         {
          "Date": "2019-08-01T00:00:00",
          "Box": "30 °S - 00 °S",
          "Obs": 225.352,
          "Obs_uncertainty": 0.321,
          "Model": 222.70414775526515
         },
         {
          "Date": "2019-09-01T00:00:00",
          "Box": "30 °S - 00 °S",
          "Obs": 224.902,
          "Obs_uncertainty": 0.476,
          "Model": 222.6169016925826
         },
         {
          "Date": "2019-10-01T00:00:00",
          "Box": "30 °S - 00 °S",
          "Obs": 224.84,
          "Obs_uncertainty": 0.48,
          "Model": 222.93668930194153
         },
         {
          "Date": "2019-11-01T00:00:00",
          "Box": "30 °S - 00 °S",
          "Obs": 224.852,
          "Obs_uncertainty": 0.369,
          "Model": 223.0543025402117
         },
         {
          "Date": "2019-12-01T00:00:00",
          "Box": "30 °S - 00 °S",
          "Obs": null,
          "Obs_uncertainty": null,
          "Model": 222.99892040809038
         },
         {
          "Date": "1975-01-01T00:00:00",
          "Box": "90 °S - 30 °S",
          "Obs": null,
          "Obs_uncertainty": null,
          "Model": 124.86985522912305
         },
         {
          "Date": "1975-02-01T00:00:00",
          "Box": "90 °S - 30 °S",
          "Obs": null,
          "Obs_uncertainty": null,
          "Model": 125.2226063829709
         },
         {
          "Date": "1975-03-01T00:00:00",
          "Box": "90 °S - 30 °S",
          "Obs": null,
          "Obs_uncertainty": null,
          "Model": 125.55257061491177
         },
         {
          "Date": "1975-04-01T00:00:00",
          "Box": "90 °S - 30 °S",
          "Obs": null,
          "Obs_uncertainty": null,
          "Model": 125.7180772658958
         },
         {
          "Date": "1975-05-01T00:00:00",
          "Box": "90 °S - 30 °S",
          "Obs": null,
          "Obs_uncertainty": null,
          "Model": 125.9113239594878
         },
         {
          "Date": "1975-06-01T00:00:00",
          "Box": "90 °S - 30 °S",
          "Obs": null,
          "Obs_uncertainty": null,
          "Model": 126.13473857926142
         },
         {
          "Date": "1975-07-01T00:00:00",
          "Box": "90 °S - 30 °S",
          "Obs": null,
          "Obs_uncertainty": null,
          "Model": 126.3284011180973
         },
         {
          "Date": "1975-08-01T00:00:00",
          "Box": "90 °S - 30 °S",
          "Obs": null,
          "Obs_uncertainty": null,
          "Model": 126.7570196050887
         },
         {
          "Date": "1975-09-01T00:00:00",
          "Box": "90 °S - 30 °S",
          "Obs": null,
          "Obs_uncertainty": null,
          "Model": 127.2521656789292
         },
         {
          "Date": "1975-10-01T00:00:00",
          "Box": "90 °S - 30 °S",
          "Obs": null,
          "Obs_uncertainty": null,
          "Model": 127.70991747718362
         },
         {
          "Date": "1975-11-01T00:00:00",
          "Box": "90 °S - 30 °S",
          "Obs": null,
          "Obs_uncertainty": null,
          "Model": 127.94486994896062
         },
         {
          "Date": "1975-12-01T00:00:00",
          "Box": "90 °S - 30 °S",
          "Obs": null,
          "Obs_uncertainty": null,
          "Model": 128.08902983579844
         },
         {
          "Date": "1976-01-01T00:00:00",
          "Box": "90 °S - 30 °S",
          "Obs": null,
          "Obs_uncertainty": null,
          "Model": 128.52051485171793
         },
         {
          "Date": "1976-02-01T00:00:00",
          "Box": "90 °S - 30 °S",
          "Obs": null,
          "Obs_uncertainty": null,
          "Model": 128.94588543101312
         },
         {
          "Date": "1976-03-01T00:00:00",
          "Box": "90 °S - 30 °S",
          "Obs": null,
          "Obs_uncertainty": null,
          "Model": 129.33725778917753
         },
         {
          "Date": "1976-04-01T00:00:00",
          "Box": "90 °S - 30 °S",
          "Obs": null,
          "Obs_uncertainty": null,
          "Model": 129.55641489255302
         },
         {
          "Date": "1976-05-01T00:00:00",
          "Box": "90 °S - 30 °S",
          "Obs": null,
          "Obs_uncertainty": null,
          "Model": 129.80030087298564
         },
         {
          "Date": "1976-06-01T00:00:00",
          "Box": "90 °S - 30 °S",
          "Obs": null,
          "Obs_uncertainty": null,
          "Model": 130.07418551528394
         },
         {
          "Date": "1976-07-01T00:00:00",
          "Box": "90 °S - 30 °S",
          "Obs": null,
          "Obs_uncertainty": null,
          "Model": 130.30984299446072
         },
         {
          "Date": "1976-08-01T00:00:00",
          "Box": "90 °S - 30 °S",
          "Obs": null,
          "Obs_uncertainty": null,
          "Model": 130.76446812464297
         },
         {
          "Date": "1976-09-01T00:00:00",
          "Box": "90 °S - 30 °S",
          "Obs": null,
          "Obs_uncertainty": null,
          "Model": 131.28310067911605
         },
         {
          "Date": "1976-10-01T00:00:00",
          "Box": "90 °S - 30 °S",
          "Obs": null,
          "Obs_uncertainty": null,
          "Model": 131.77379279849038
         },
         {
          "Date": "1976-11-01T00:00:00",
          "Box": "90 °S - 30 °S",
          "Obs": null,
          "Obs_uncertainty": null,
          "Model": 132.05243864719205
         },
         {
          "Date": "1976-12-01T00:00:00",
          "Box": "90 °S - 30 °S",
          "Obs": null,
          "Obs_uncertainty": null,
          "Model": 132.24401989599704
         },
         {
          "Date": "1977-01-01T00:00:00",
          "Box": "90 °S - 30 °S",
          "Obs": null,
          "Obs_uncertainty": null,
          "Model": 132.7824729848774
         },
         {
          "Date": "1977-02-01T00:00:00",
          "Box": "90 °S - 30 °S",
          "Obs": null,
          "Obs_uncertainty": null,
          "Model": 133.34922331333726
         },
         {
          "Date": "1977-03-01T00:00:00",
          "Box": "90 °S - 30 °S",
          "Obs": null,
          "Obs_uncertainty": null,
          "Model": 133.8784042578439
         },
         {
          "Date": "1977-04-01T00:00:00",
          "Box": "90 °S - 30 °S",
          "Obs": null,
          "Obs_uncertainty": null,
          "Model": 134.22707532359493
         },
         {
          "Date": "1977-05-01T00:00:00",
          "Box": "90 °S - 30 °S",
          "Obs": null,
          "Obs_uncertainty": null,
          "Model": 134.59773637212916
         },
         {
          "Date": "1977-06-01T00:00:00",
          "Box": "90 °S - 30 °S",
          "Obs": null,
          "Obs_uncertainty": null,
          "Model": 134.999176087869
         },
         {
          "Date": "1977-07-01T00:00:00",
          "Box": "90 °S - 30 °S",
          "Obs": null,
          "Obs_uncertainty": null,
          "Model": 135.35275484962781
         },
         {
          "Date": "1977-08-01T00:00:00",
          "Box": "90 °S - 30 °S",
          "Obs": null,
          "Obs_uncertainty": null,
          "Model": 135.9055446759784
         },
         {
          "Date": "1977-09-01T00:00:00",
          "Box": "90 °S - 30 °S",
          "Obs": null,
          "Obs_uncertainty": null,
          "Model": 136.51929103930973
         },
         {
          "Date": "1977-10-01T00:00:00",
          "Box": "90 °S - 30 °S",
          "Obs": null,
          "Obs_uncertainty": null,
          "Model": 137.11666818557404
         },
         {
          "Date": "1977-11-01T00:00:00",
          "Box": "90 °S - 30 °S",
          "Obs": null,
          "Obs_uncertainty": null,
          "Model": 137.51355955345207
         },
         {
          "Date": "1977-12-01T00:00:00",
          "Box": "90 °S - 30 °S",
          "Obs": null,
          "Obs_uncertainty": null,
          "Model": 137.8269371408748
         },
         {
          "Date": "1978-01-01T00:00:00",
          "Box": "90 °S - 30 °S",
          "Obs": null,
          "Obs_uncertainty": null,
          "Model": 138.48688507694462
         },
         {
          "Date": "1978-02-01T00:00:00",
          "Box": "90 °S - 30 °S",
          "Obs": null,
          "Obs_uncertainty": null,
          "Model": 139.180898769191
         },
         {
          "Date": "1978-03-01T00:00:00",
          "Box": "90 °S - 30 °S",
          "Obs": null,
          "Obs_uncertainty": null,
          "Model": 139.84646339554686
         },
         {
          "Date": "1978-04-01T00:00:00",
          "Box": "90 °S - 30 °S",
          "Obs": null,
          "Obs_uncertainty": null,
          "Model": 140.32600519679946
         },
         {
          "Date": "1978-05-01T00:00:00",
          "Box": "90 °S - 30 °S",
          "Obs": null,
          "Obs_uncertainty": null,
          "Model": 140.82750655466785
         },
         {
          "Date": "1978-06-01T00:00:00",
          "Box": "90 °S - 30 °S",
          "Obs": null,
          "Obs_uncertainty": null,
          "Model": 141.36189537473723
         },
         {
          "Date": "1978-07-01T00:00:00",
          "Box": "90 °S - 30 °S",
          "Obs": 136.25,
          "Obs_uncertainty": 1.1,
          "Model": 141.843109651732
         },
         {
          "Date": "1978-08-01T00:00:00",
          "Box": "90 °S - 30 °S",
          "Obs": 137.45,
          "Obs_uncertainty": 1.25,
          "Model": 142.51395581334762
         },
         {
          "Date": "1978-09-01T00:00:00",
          "Box": "90 °S - 30 °S",
          "Obs": 139.44,
          "Obs_uncertainty": 0.81,
          "Model": 143.2456680265219
         },
         {
          "Date": "1978-10-01T00:00:00",
          "Box": "90 °S - 30 °S",
          "Obs": 139.69,
          "Obs_uncertainty": 0.97,
          "Model": 143.96994685671254
         },
         {
          "Date": "1978-11-01T00:00:00",
          "Box": "90 °S - 30 °S",
          "Obs": 141.66,
          "Obs_uncertainty": 0.82,
          "Model": 144.49624557626018
         },
         {
          "Date": "1978-12-01T00:00:00",
          "Box": "90 °S - 30 °S",
          "Obs": 142.14,
          "Obs_uncertainty": 0.55,
          "Model": 144.9400395996356
         },
         {
          "Date": "1979-01-01T00:00:00",
          "Box": "90 °S - 30 °S",
          "Obs": 144.43,
          "Obs_uncertainty": 1.04,
          "Model": 145.73525054652592
         },
         {
          "Date": "1979-02-01T00:00:00",
          "Box": "90 °S - 30 °S",
          "Obs": 144.55,
          "Obs_uncertainty": 0.98,
          "Model": 146.56813816472553
         },
         {
          "Date": "1979-03-01T00:00:00",
          "Box": "90 °S - 30 °S",
          "Obs": 144.54,
          "Obs_uncertainty": 1.18,
          "Model": 147.3797709831776
         },
         {
          "Date": "1979-04-01T00:00:00",
          "Box": "90 °S - 30 °S",
          "Obs": 145.26,
          "Obs_uncertainty": 1.1,
          "Model": 147.99651799082727
         },
         {
          "Date": "1979-05-01T00:00:00",
          "Box": "90 °S - 30 °S",
          "Obs": 146.35,
          "Obs_uncertainty": 1.35,
          "Model": 148.6330094119976
         },
         {
          "Date": "1979-06-01T00:00:00",
          "Box": "90 °S - 30 °S",
          "Obs": 147.72,
          "Obs_uncertainty": 1.23,
          "Model": 149.3014038052249
         },
         {
          "Date": "1979-07-01T00:00:00",
          "Box": "90 °S - 30 °S",
          "Obs": 148.12,
          "Obs_uncertainty": 1.06,
          "Model": 149.90985132171082
         },
         {
          "Date": "1979-08-01T00:00:00",
          "Box": "90 °S - 30 °S",
          "Obs": 148.66,
          "Obs_uncertainty": 0.86,
          "Model": 150.7021236191388
         },
         {
          "Date": "1979-09-01T00:00:00",
          "Box": "90 °S - 30 °S",
          "Obs": 149.74,
          "Obs_uncertainty": 1.11,
          "Model": 151.55379684481915
         },
         {
          "Date": "1979-10-01T00:00:00",
          "Box": "90 °S - 30 °S",
          "Obs": 151.63,
          "Obs_uncertainty": 0.81,
          "Model": 152.40321059002304
         },
         {
          "Date": "1979-11-01T00:00:00",
          "Box": "90 °S - 30 °S",
          "Obs": 152.31,
          "Obs_uncertainty": 0.67,
          "Model": 153.05171575237696
         },
         {
          "Date": "1979-12-01T00:00:00",
          "Box": "90 °S - 30 °S",
          "Obs": 152.63,
          "Obs_uncertainty": 0.71,
          "Model": 153.6162231213207
         },
         {
          "Date": "1980-01-01T00:00:00",
          "Box": "90 °S - 30 °S",
          "Obs": 153.52,
          "Obs_uncertainty": 0.58,
          "Model": 154.46082639339033
         },
         {
          "Date": "1980-02-01T00:00:00",
          "Box": "90 °S - 30 °S",
          "Obs": 153.77,
          "Obs_uncertainty": 1.14,
          "Model": 155.30166424284573
         },
         {
          "Date": "1980-03-01T00:00:00",
          "Box": "90 °S - 30 °S",
          "Obs": 154.58,
          "Obs_uncertainty": 0.68,
          "Model": 156.1349465825567
         },
         {
          "Date": "1980-04-01T00:00:00",
          "Box": "90 °S - 30 °S",
          "Obs": 155.04,
          "Obs_uncertainty": 1.12,
          "Model": 156.76422371039126
         },
         {
          "Date": "1980-05-01T00:00:00",
          "Box": "90 °S - 30 °S",
          "Obs": 157.36,
          "Obs_uncertainty": 1.18,
          "Model": 157.4152633609341
         },
         {
          "Date": "1980-06-01T00:00:00",
          "Box": "90 °S - 30 °S",
          "Obs": 157.86,
          "Obs_uncertainty": 0.9,
          "Model": 158.10103754459098
         },
         {
          "Date": "1980-07-01T00:00:00",
          "Box": "90 °S - 30 °S",
          "Obs": 158.24,
          "Obs_uncertainty": 0.78,
          "Model": 158.72499512470807
         },
         {
          "Date": "1980-08-01T00:00:00",
          "Box": "90 °S - 30 °S",
          "Obs": 158.82,
          "Obs_uncertainty": 0.8,
          "Model": 159.5405933985505
         },
         {
          "Date": "1980-09-01T00:00:00",
          "Box": "90 °S - 30 °S",
          "Obs": 160.08,
          "Obs_uncertainty": 1.1,
          "Model": 160.41894247824328
         },
         {
          "Date": "1980-10-01T00:00:00",
          "Box": "90 °S - 30 °S",
          "Obs": 160.87,
          "Obs_uncertainty": 0.59,
          "Model": 161.2976264422004
         },
         {
          "Date": "1980-11-01T00:00:00",
          "Box": "90 °S - 30 °S",
          "Obs": 161.66,
          "Obs_uncertainty": 0.53,
          "Model": 161.96637934440977
         },
         {
          "Date": "1980-12-01T00:00:00",
          "Box": "90 °S - 30 °S",
          "Obs": 162.08,
          "Obs_uncertainty": 0.49,
          "Model": 162.54803402366497
         },
         {
          "Date": "1981-01-01T00:00:00",
          "Box": "90 °S - 30 °S",
          "Obs": 162.68,
          "Obs_uncertainty": 0.46,
          "Model": 163.41414355373647
         },
         {
          "Date": "1981-02-01T00:00:00",
          "Box": "90 °S - 30 °S",
          "Obs": 161.25,
          "Obs_uncertainty": 0.43,
          "Model": 164.2682294714619
         },
         {
          "Date": "1981-03-01T00:00:00",
          "Box": "90 °S - 30 °S",
          "Obs": 162.53,
          "Obs_uncertainty": 0.57,
          "Model": 165.11334614559001
         },
         {
          "Date": "1981-04-01T00:00:00",
          "Box": "90 °S - 30 °S",
          "Obs": 163.57,
          "Obs_uncertainty": 0.66,
          "Model": 165.74051854141604
         },
         {
          "Date": "1981-05-01T00:00:00",
          "Box": "90 °S - 30 °S",
          "Obs": 165,
          "Obs_uncertainty": 1.19,
          "Model": 166.3895117275814
         },
         {
          "Date": "1981-06-01T00:00:00",
          "Box": "90 °S - 30 °S",
          "Obs": 166.31,
          "Obs_uncertainty": 0.81,
          "Model": 167.0745163733646
         },
         {
          "Date": "1981-07-01T00:00:00",
          "Box": "90 °S - 30 °S",
          "Obs": 166.85,
          "Obs_uncertainty": 0.72,
          "Model": 167.692363373656
         },
         {
          "Date": "1981-08-01T00:00:00",
          "Box": "90 °S - 30 °S",
          "Obs": null,
          "Obs_uncertainty": null,
          "Model": 168.50573176058188
         },
         {
          "Date": "1981-09-01T00:00:00",
          "Box": "90 °S - 30 °S",
          "Obs": 166.97,
          "Obs_uncertainty": 1.02,
          "Model": 169.38239851881013
         },
         {
          "Date": "1981-10-01T00:00:00",
          "Box": "90 °S - 30 °S",
          "Obs": null,
          "Obs_uncertainty": null,
          "Model": 170.26134947692526
         },
         {
          "Date": "1981-11-01T00:00:00",
          "Box": "90 °S - 30 °S",
          "Obs": 168.31,
          "Obs_uncertainty": 0.58,
          "Model": 170.9244328810221
         },
         {
          "Date": "1981-12-01T00:00:00",
          "Box": "90 °S - 30 °S",
          "Obs": 170.1,
          "Obs_uncertainty": 1.49,
          "Model": 171.49727285049946
         },
         {
          "Date": "1982-01-01T00:00:00",
          "Box": "90 °S - 30 °S",
          "Obs": 170.55,
          "Obs_uncertainty": 1.2,
          "Model": 172.36375726045736
         },
         {
          "Date": "1982-02-01T00:00:00",
          "Box": "90 °S - 30 °S",
          "Obs": 170.98,
          "Obs_uncertainty": 0.89,
          "Model": 173.21142753556424
         },
         {
          "Date": "1982-03-01T00:00:00",
          "Box": "90 °S - 30 °S",
          "Obs": 171.81,
          "Obs_uncertainty": 0.91,
          "Model": 174.04487530257177
         },
         {
          "Date": "1982-04-01T00:00:00",
          "Box": "90 °S - 30 °S",
          "Obs": 172.89,
          "Obs_uncertainty": 0.95,
          "Model": 174.64520802228714
         },
         {
          "Date": "1982-05-01T00:00:00",
          "Box": "90 °S - 30 °S",
          "Obs": 174.11,
          "Obs_uncertainty": 0.94,
          "Model": 175.26942578267625
         },
         {
          "Date": "1982-06-01T00:00:00",
          "Box": "90 °S - 30 °S",
          "Obs": 175.48,
          "Obs_uncertainty": 0.63,
          "Model": 175.9343381145474
         },
         {
          "Date": "1982-07-01T00:00:00",
          "Box": "90 °S - 30 °S",
          "Obs": 176.23,
          "Obs_uncertainty": 0.64,
          "Model": 176.52719286587626
         },
         {
          "Date": "1982-08-01T00:00:00",
          "Box": "90 °S - 30 °S",
          "Obs": 177.08,
          "Obs_uncertainty": 0.74,
          "Model": 177.31786683705897
         },
         {
          "Date": "1982-09-01T00:00:00",
          "Box": "90 °S - 30 °S",
          "Obs": 177.86,
          "Obs_uncertainty": 0.59,
          "Model": 178.1740798385289
         },
         {
          "Date": "1982-10-01T00:00:00",
          "Box": "90 °S - 30 °S",
          "Obs": 178.15,
          "Obs_uncertainty": 0.68,
          "Model": 179.0376863592197
         },
         {
          "Date": "1982-11-01T00:00:00",
          "Box": "90 °S - 30 °S",
          "Obs": 178.9,
          "Obs_uncertainty": 0.67,
          "Model": 179.68333596535226
         },
         {
          "Date": "1982-12-01T00:00:00",
          "Box": "90 °S - 30 °S",
          "Obs": 179.35,
          "Obs_uncertainty": 0.73,
          "Model": 180.23692066285156
         },
         {
          "Date": "1983-01-01T00:00:00",
          "Box": "90 °S - 30 °S",
          "Obs": 179.76,
          "Obs_uncertainty": 0.82,
          "Model": 181.10769714742264
         },
         {
          "Date": "1983-02-01T00:00:00",
          "Box": "90 °S - 30 °S",
          "Obs": 180.21,
          "Obs_uncertainty": 0.77,
          "Model": 181.96214880320753
         },
         {
          "Date": "1983-03-01T00:00:00",
          "Box": "90 °S - 30 °S",
          "Obs": 180.14,
          "Obs_uncertainty": 0.86,
          "Model": 182.79634381205335
         },
         {
          "Date": "1983-04-01T00:00:00",
          "Box": "90 °S - 30 °S",
          "Obs": 180.92,
          "Obs_uncertainty": 1.03,
          "Model": 183.38264341556982
         },
         {
          "Date": "1983-05-01T00:00:00",
          "Box": "90 °S - 30 °S",
          "Obs": 181.88,
          "Obs_uncertainty": 0.98,
          "Model": 183.99522308594305
         },
         {
          "Date": "1983-06-01T00:00:00",
          "Box": "90 °S - 30 °S",
          "Obs": 182.7,
          "Obs_uncertainty": 0.87,
          "Model": 184.6535462472612
         },
         {
          "Date": "1983-07-01T00:00:00",
          "Box": "90 °S - 30 °S",
          "Obs": 183.58,
          "Obs_uncertainty": 0.89,
          "Model": 185.23461984993133
         },
         {
          "Date": "1983-08-01T00:00:00",
          "Box": "90 °S - 30 °S",
          "Obs": 184.27,
          "Obs_uncertainty": 1.28,
          "Model": 186.01250197516964
         },
         {
          "Date": "1983-09-01T00:00:00",
          "Box": "90 °S - 30 °S",
          "Obs": 184.7,
          "Obs_uncertainty": 1.66,
          "Model": 186.85676283520007
         },
         {
          "Date": "1983-10-01T00:00:00",
          "Box": "90 °S - 30 °S",
          "Obs": 185.63,
          "Obs_uncertainty": 1.62,
          "Model": 187.71444349996256
         },
         {
          "Date": "1983-11-01T00:00:00",
          "Box": "90 °S - 30 °S",
          "Obs": 186.24,
          "Obs_uncertainty": 1.62,
          "Model": 188.35444997904574
         },
         {
          "Date": "1983-12-01T00:00:00",
          "Box": "90 °S - 30 °S",
          "Obs": 186.98,
          "Obs_uncertainty": 1.55,
          "Model": 188.90129141342607
         },
         {
          "Date": "1984-01-01T00:00:00",
          "Box": "90 °S - 30 °S",
          "Obs": 187.32,
          "Obs_uncertainty": 1.58,
          "Model": 189.78098557889206
         },
         {
          "Date": "1984-02-01T00:00:00",
          "Box": "90 °S - 30 °S",
          "Obs": 187.92,
          "Obs_uncertainty": 1.65,
          "Model": 190.64048113172646
         },
         {
          "Date": "1984-03-01T00:00:00",
          "Box": "90 °S - 30 °S",
          "Obs": 188.82,
          "Obs_uncertainty": 1.52,
          "Model": 191.4717813043093
         },
         {
          "Date": "1984-04-01T00:00:00",
          "Box": "90 °S - 30 °S",
          "Obs": 190.33,
          "Obs_uncertainty": 1.26,
          "Model": 192.03899440197944
         },
         {
          "Date": "1984-05-01T00:00:00",
          "Box": "90 °S - 30 °S",
          "Obs": 191.02,
          "Obs_uncertainty": 1.24,
          "Model": 192.63462831119827
         },
         {
          "Date": "1984-06-01T00:00:00",
          "Box": "90 °S - 30 °S",
          "Obs": 191.74,
          "Obs_uncertainty": 1,
          "Model": 193.2815903763193
         },
         {
          "Date": "1984-07-01T00:00:00",
          "Box": "90 °S - 30 °S",
          "Obs": 192.39,
          "Obs_uncertainty": 0.87,
          "Model": 193.84568398540125
         },
         {
          "Date": "1984-08-01T00:00:00",
          "Box": "90 °S - 30 °S",
          "Obs": 193.29,
          "Obs_uncertainty": 0.81,
          "Model": 194.6062381034399
         },
         {
          "Date": "1984-09-01T00:00:00",
          "Box": "90 °S - 30 °S",
          "Obs": 193.99,
          "Obs_uncertainty": 0.67,
          "Model": 195.43538849995906
         },
         {
          "Date": "1984-10-01T00:00:00",
          "Box": "90 °S - 30 °S",
          "Obs": 194.35,
          "Obs_uncertainty": 0.53,
          "Model": 196.28467649784992
         },
         {
          "Date": "1984-11-01T00:00:00",
          "Box": "90 °S - 30 °S",
          "Obs": 194.71,
          "Obs_uncertainty": 0.73,
          "Model": 196.91688352090745
         },
         {
          "Date": "1984-12-01T00:00:00",
          "Box": "90 °S - 30 °S",
          "Obs": 195.32,
          "Obs_uncertainty": 0.87,
          "Model": 197.45484344176512
         },
         {
          "Date": "1985-01-01T00:00:00",
          "Box": "90 °S - 30 °S",
          "Obs": 195.86,
          "Obs_uncertainty": 0.95,
          "Model": 198.39018454750826
         },
         {
          "Date": "1985-02-01T00:00:00",
          "Box": "90 °S - 30 °S",
          "Obs": 196.54,
          "Obs_uncertainty": 0.86,
          "Model": 199.33083869007882
         },
         {
          "Date": "1985-03-01T00:00:00",
          "Box": "90 °S - 30 °S",
          "Obs": 197.66,
          "Obs_uncertainty": 1.21,
          "Model": 200.2326585238908
         },
         {
          "Date": "1985-04-01T00:00:00",
          "Box": "90 °S - 30 °S",
          "Obs": 199.07,
          "Obs_uncertainty": 1.2,
          "Model": 200.85435814561754
         },
         {
          "Date": "1985-05-01T00:00:00",
          "Box": "90 °S - 30 °S",
          "Obs": 200,
          "Obs_uncertainty": 1.04,
          "Model": 201.50505509580785
         },
         {
          "Date": "1985-06-01T00:00:00",
          "Box": "90 °S - 30 °S",
          "Obs": 200.4,
          "Obs_uncertainty": 1.11,
          "Model": 202.21101154800405
         },
         {
          "Date": "1985-07-01T00:00:00",
          "Box": "90 °S - 30 °S",
          "Obs": 201.92,
          "Obs_uncertainty": 0.83,
          "Model": 202.8259940706805
         },
         {
          "Date": "1985-08-01T00:00:00",
          "Box": "90 °S - 30 °S",
          "Obs": 202.5,
          "Obs_uncertainty": 0.98,
          "Model": 203.6299778156453
         },
         {
          "Date": "1985-09-01T00:00:00",
          "Box": "90 °S - 30 °S",
          "Obs": 203.26,
          "Obs_uncertainty": 0.98,
          "Model": 204.5018204331319
         },
         {
          "Date": "1985-10-01T00:00:00",
          "Box": "90 °S - 30 °S",
          "Obs": 203.97,
          "Obs_uncertainty": 0.86,
          "Model": 205.40187713167307
         },
         {
          "Date": "1985-11-01T00:00:00",
          "Box": "90 °S - 30 °S",
          "Obs": 204.09,
          "Obs_uncertainty": 0.83,
          "Model": 206.08794226482863
         },
         {
          "Date": "1985-12-01T00:00:00",
          "Box": "90 °S - 30 °S",
          "Obs": 204.68,
          "Obs_uncertainty": 0.98,
          "Model": 206.67919703934302
         },
         {
          "Date": "1986-01-01T00:00:00",
          "Box": "90 °S - 30 °S",
          "Obs": 205.16,
          "Obs_uncertainty": 0.89,
          "Model": 207.77912105741075
         },
         {
          "Date": "1986-02-01T00:00:00",
          "Box": "90 °S - 30 °S",
          "Obs": 205.81,
          "Obs_uncertainty": 1.07,
          "Model": 208.94241132010728
         },
         {
          "Date": "1986-03-01T00:00:00",
          "Box": "90 °S - 30 °S",
          "Obs": 207.15,
          "Obs_uncertainty": 1.16,
          "Model": 210.05804004313987
         },
         {
          "Date": "1986-04-01T00:00:00",
          "Box": "90 °S - 30 °S",
          "Obs": 208.1,
          "Obs_uncertainty": 1.65,
          "Model": 210.87752324616744
         },
         {
          "Date": "1986-05-01T00:00:00",
          "Box": "90 °S - 30 °S",
          "Obs": 209.64,
          "Obs_uncertainty": 1.46,
          "Model": 211.72346569844296
         },
         {
          "Date": "1986-06-01T00:00:00",
          "Box": "90 °S - 30 °S",
          "Obs": 210.53,
          "Obs_uncertainty": 1.03,
          "Model": 212.6254167642422
         },
         {
          "Date": "1986-07-01T00:00:00",
          "Box": "90 °S - 30 °S",
          "Obs": 211.81,
          "Obs_uncertainty": 0.91,
          "Model": 213.42354660619117
         },
         {
          "Date": "1986-08-01T00:00:00",
          "Box": "90 °S - 30 °S",
          "Obs": 212.89,
          "Obs_uncertainty": 1.12,
          "Model": 214.38718203629185
         },
         {
          "Date": "1986-09-01T00:00:00",
          "Box": "90 °S - 30 °S",
          "Obs": 213.84,
          "Obs_uncertainty": 0.93,
          "Model": 215.4124139776612
         },
         {
          "Date": "1986-10-01T00:00:00",
          "Box": "90 °S - 30 °S",
          "Obs": 213.02,
          "Obs_uncertainty": 1.55,
          "Model": 216.47850224004753
         },
         {
          "Date": "1986-11-01T00:00:00",
          "Box": "90 °S - 30 °S",
          "Obs": 212.05,
          "Obs_uncertainty": 1.23,
          "Model": 217.3385666825084
         },
         {
          "Date": "1986-12-01T00:00:00",
          "Box": "90 °S - 30 °S",
          "Obs": 212.94,
          "Obs_uncertainty": 0.94,
          "Model": 218.10419473381182
         },
         {
          "Date": "1987-01-01T00:00:00",
          "Box": "90 °S - 30 °S",
          "Obs": 213.52,
          "Obs_uncertainty": 0.85,
          "Model": 219.21123878672427
         },
         {
          "Date": "1987-02-01T00:00:00",
          "Box": "90 °S - 30 °S",
          "Obs": 214.09,
          "Obs_uncertainty": 0.79,
          "Model": 220.28241269458124
         },
         {
          "Date": "1987-03-01T00:00:00",
          "Box": "90 °S - 30 °S",
          "Obs": null,
          "Obs_uncertainty": null,
          "Model": 221.32214110199908
         },
         {
          "Date": "1987-04-01T00:00:00",
          "Box": "90 °S - 30 °S",
          "Obs": null,
          "Obs_uncertainty": null,
          "Model": 222.0503400684247
         },
         {
          "Date": "1987-05-01T00:00:00",
          "Box": "90 °S - 30 °S",
          "Obs": 219.91,
          "Obs_uncertainty": 1.06,
          "Model": 222.81283032299746
         },
         {
          "Date": "1987-06-01T00:00:00",
          "Box": "90 °S - 30 °S",
          "Obs": 220.69,
          "Obs_uncertainty": 1.08,
          "Model": 223.64334538473068
         },
         {
          "Date": "1987-07-01T00:00:00",
          "Box": "90 °S - 30 °S",
          "Obs": null,
          "Obs_uncertainty": null,
          "Model": 224.37323184798072
         },
         {
          "Date": "1987-08-01T00:00:00",
          "Box": "90 °S - 30 °S",
          "Obs": 222.66,
          "Obs_uncertainty": 1.14,
          "Model": 225.28784948622388
         },
         {
          "Date": "1987-09-01T00:00:00",
          "Box": "90 °S - 30 °S",
          "Obs": 223.47,
          "Obs_uncertainty": 1.78,
          "Model": 226.27529036328798
         },
         {
          "Date": "1987-10-01T00:00:00",
          "Box": "90 °S - 30 °S",
          "Obs": 224.4,
          "Obs_uncertainty": 1.24,
          "Model": 227.31004483036017
         },
         {
          "Date": "1987-11-01T00:00:00",
          "Box": "90 °S - 30 °S",
          "Obs": 225.09,
          "Obs_uncertainty": 0.99,
          "Model": 228.12900464593187
         },
         {
          "Date": "1987-12-01T00:00:00",
          "Box": "90 °S - 30 °S",
          "Obs": 225.56,
          "Obs_uncertainty": 1.06,
          "Model": 228.85142822842576
         },
         {
          "Date": "1988-01-01T00:00:00",
          "Box": "90 °S - 30 °S",
          "Obs": 226.78,
          "Obs_uncertainty": 0.87,
          "Model": 229.90889252883176
         },
         {
          "Date": "1988-02-01T00:00:00",
          "Box": "90 °S - 30 °S",
          "Obs": 227.11,
          "Obs_uncertainty": 0.93,
          "Model": 230.91302387199846
         },
         {
          "Date": "1988-03-01T00:00:00",
          "Box": "90 °S - 30 °S",
          "Obs": 228.29,
          "Obs_uncertainty": 0.99,
          "Model": 231.88770968581343
         },
         {
          "Date": "1988-04-01T00:00:00",
          "Box": "90 °S - 30 °S",
          "Obs": 229.31,
          "Obs_uncertainty": 0.89,
          "Model": 232.5379760467198
         },
         {
          "Date": "1988-05-01T00:00:00",
          "Box": "90 °S - 30 °S",
          "Obs": 230.57,
          "Obs_uncertainty": 1.16,
          "Model": 233.22576729956359
         },
         {
          "Date": "1988-06-01T00:00:00",
          "Box": "90 °S - 30 °S",
          "Obs": 231.59,
          "Obs_uncertainty": 1.09,
          "Model": 233.98393474395442
         },
         {
          "Date": "1988-07-01T00:00:00",
          "Box": "90 °S - 30 °S",
          "Obs": 232.73,
          "Obs_uncertainty": 1.08,
          "Model": 234.6388144239437
         },
         {
          "Date": "1988-08-01T00:00:00",
          "Box": "90 °S - 30 °S",
          "Obs": 233.76,
          "Obs_uncertainty": 0.98,
          "Model": 235.49445300651217
         },
         {
          "Date": "1988-09-01T00:00:00",
          "Box": "90 °S - 30 °S",
          "Obs": 234.99,
          "Obs_uncertainty": 1.08,
          "Model": 236.4253229343173
         },
         {
          "Date": "1988-10-01T00:00:00",
          "Box": "90 °S - 30 °S",
          "Obs": 235.69,
          "Obs_uncertainty": 1.03,
          "Model": 237.4001507637963
         },
         {
          "Date": "1988-11-01T00:00:00",
          "Box": "90 °S - 30 °S",
          "Obs": 235.29,
          "Obs_uncertainty": 1.22,
          "Model": 238.14480494611456
         },
         {
          "Date": "1988-12-01T00:00:00",
          "Box": "90 °S - 30 °S",
          "Obs": 235.2,
          "Obs_uncertainty": 1.35,
          "Model": 238.7865101784608
         },
         {
          "Date": "1989-01-01T00:00:00",
          "Box": "90 °S - 30 °S",
          "Obs": 235.69,
          "Obs_uncertainty": 1.37,
          "Model": 239.71478702578744
         },
         {
          "Date": "1989-02-01T00:00:00",
          "Box": "90 °S - 30 °S",
          "Obs": 236.45,
          "Obs_uncertainty": 1.29,
          "Model": 240.54948772098933
         },
         {
          "Date": "1989-03-01T00:00:00",
          "Box": "90 °S - 30 °S",
          "Obs": 238.07,
          "Obs_uncertainty": 1.52,
          "Model": 241.3565584676132
         },
         {
          "Date": "1989-04-01T00:00:00",
          "Box": "90 °S - 30 °S",
          "Obs": 239.27,
          "Obs_uncertainty": 1.41,
          "Model": 241.8273162210009
         },
         {
          "Date": "1989-05-01T00:00:00",
          "Box": "90 °S - 30 °S",
          "Obs": 240.35,
          "Obs_uncertainty": 1.2,
          "Model": 242.34387655404092
         },
         {
          "Date": "1989-06-01T00:00:00",
          "Box": "90 °S - 30 °S",
          "Obs": 241.65,
          "Obs_uncertainty": 1.17,
          "Model": 242.93970658487035
         },
         {
          "Date": "1989-07-01T00:00:00",
          "Box": "90 °S - 30 °S",
          "Obs": 241.2,
          "Obs_uncertainty": 1.53,
          "Model": 243.43584675220478
         },
         {
          "Date": "1989-08-01T00:00:00",
          "Box": "90 °S - 30 °S",
          "Obs": 242.26,
          "Obs_uncertainty": 1.05,
          "Model": 244.15304527735628
         },
         {
          "Date": "1989-09-01T00:00:00",
          "Box": "90 °S - 30 °S",
          "Obs": 243.52,
          "Obs_uncertainty": 1.19,
          "Model": 244.95247101014553
         },
         {
          "Date": "1989-10-01T00:00:00",
          "Box": "90 °S - 30 °S",
          "Obs": 244.51,
          "Obs_uncertainty": 1.33,
          "Model": 245.7957028368847
         },
         {
          "Date": "1989-11-01T00:00:00",
          "Box": "90 °S - 30 °S",
          "Obs": 244.7,
          "Obs_uncertainty": 1.28,
          "Model": 246.39737229541484
         },
         {
          "Date": "1989-12-01T00:00:00",
          "Box": "90 °S - 30 °S",
          "Obs": 244.9,
          "Obs_uncertainty": 1.26,
          "Model": 246.89190467995832
         },
         {
          "Date": "1990-01-01T00:00:00",
          "Box": "90 °S - 30 °S",
          "Obs": 245.45,
          "Obs_uncertainty": 1.12,
          "Model": 247.66126451112902
         },
         {
          "Date": "1990-02-01T00:00:00",
          "Box": "90 °S - 30 °S",
          "Obs": 246.22,
          "Obs_uncertainty": 1,
          "Model": 248.3109713590056
         },
         {
          "Date": "1990-03-01T00:00:00",
          "Box": "90 °S - 30 °S",
          "Obs": 247.02,
          "Obs_uncertainty": 1.09,
          "Model": 248.92381276397754
         },
         {
          "Date": "1990-04-01T00:00:00",
          "Box": "90 °S - 30 °S",
          "Obs": 248.27,
          "Obs_uncertainty": 1.23,
          "Model": 249.18658001447614
         },
         {
          "Date": "1990-05-01T00:00:00",
          "Box": "90 °S - 30 °S",
          "Obs": 248.48,
          "Obs_uncertainty": 1.37,
          "Model": 249.50123843943263
         },
         {
          "Date": "1990-06-01T00:00:00",
          "Box": "90 °S - 30 °S",
          "Obs": 250.32,
          "Obs_uncertainty": 1.13,
          "Model": 249.90225325823118
         },
         {
          "Date": "1990-07-01T00:00:00",
          "Box": "90 °S - 30 °S",
          "Obs": 250.94,
          "Obs_uncertainty": 1.38,
          "Model": 250.2053486040715
         },
         {
          "Date": "1990-08-01T00:00:00",
          "Box": "90 °S - 30 °S",
          "Obs": 250.92,
          "Obs_uncertainty": 1.08,
          "Model": 250.74705746897138
         },
         {
          "Date": "1990-09-01T00:00:00",
          "Box": "90 °S - 30 °S",
          "Obs": 251.98,
          "Obs_uncertainty": 0.71,
          "Model": 251.37620231612874
         },
         {
          "Date": "1990-10-01T00:00:00",
          "Box": "90 °S - 30 °S",
          "Obs": 252.64,
          "Obs_uncertainty": 0.5,
          "Model": 252.04765344174132
         },
         {
          "Date": "1990-11-01T00:00:00",
          "Box": "90 °S - 30 °S",
          "Obs": 252.98,
          "Obs_uncertainty": 0.74,
          "Model": 252.46969620105784
         },
         {
          "Date": "1990-12-01T00:00:00",
          "Box": "90 °S - 30 °S",
          "Obs": 253.36,
          "Obs_uncertainty": 0.68,
          "Model": 252.78095995230353
         },
         {
          "Date": "1991-01-01T00:00:00",
          "Box": "90 °S - 30 °S",
          "Obs": 252.96,
          "Obs_uncertainty": 0.79,
          "Model": 253.40993825002943
         },
         {
          "Date": "1991-02-01T00:00:00",
          "Box": "90 °S - 30 °S",
          "Obs": 252.45,
          "Obs_uncertainty": 0.63,
          "Model": 253.92400308201104
         },
         {
          "Date": "1991-03-01T00:00:00",
          "Box": "90 °S - 30 °S",
          "Obs": 252.36,
          "Obs_uncertainty": 1.15,
          "Model": 254.38262692110797
         },
         {
          "Date": "1991-04-01T00:00:00",
          "Box": "90 °S - 30 °S",
          "Obs": 252.94,
          "Obs_uncertainty": 1.2,
          "Model": 254.4773733621249
         },
         {
          "Date": "1991-05-01T00:00:00",
          "Box": "90 °S - 30 °S",
          "Obs": 254.62,
          "Obs_uncertainty": 1.09,
          "Model": 254.62879687115543
         },
         {
          "Date": "1991-06-01T00:00:00",
          "Box": "90 °S - 30 °S",
          "Obs": 255.3,
          "Obs_uncertainty": 0.93,
          "Model": 254.87360901959676
         },
         {
          "Date": "1991-07-01T00:00:00",
          "Box": "90 °S - 30 °S",
          "Obs": 255.6,
          "Obs_uncertainty": 1.02,
          "Model": 255.01943748989865
         },
         {
          "Date": "1991-08-01T00:00:00",
          "Box": "90 °S - 30 °S",
          "Obs": 256.1,
          "Obs_uncertainty": 0.99,
          "Model": 255.40904229966827
         },
         {
          "Date": "1991-09-01T00:00:00",
          "Box": "90 °S - 30 °S",
          "Obs": 256.84,
          "Obs_uncertainty": 0.92,
          "Model": 255.88790136115637
         },
         {
          "Date": "1991-10-01T00:00:00",
          "Box": "90 °S - 30 °S",
          "Obs": 257.32,
          "Obs_uncertainty": 1.09,
          "Model": 256.4112736151633
         },
         {
          "Date": "1991-11-01T00:00:00",
          "Box": "90 °S - 30 °S",
          "Obs": 257.67,
          "Obs_uncertainty": 0.91,
          "Model": 256.68738214384786
         },
         {
          "Date": "1991-12-01T00:00:00",
          "Box": "90 °S - 30 °S",
          "Obs": 258.72,
          "Obs_uncertainty": 0.96,
          "Model": 256.8520757044795
         },
         {
          "Date": "1992-01-01T00:00:00",
          "Box": "90 °S - 30 °S",
          "Obs": 258.46,
          "Obs_uncertainty": 0.92,
          "Model": 257.3441762004442
         },
         {
          "Date": "1992-02-01T00:00:00",
          "Box": "90 °S - 30 °S",
          "Obs": 258.93,
          "Obs_uncertainty": 0.94,
          "Model": 257.71826941003656
         },
         {
          "Date": "1992-03-01T00:00:00",
          "Box": "90 °S - 30 °S",
          "Obs": 258.72,
          "Obs_uncertainty": 1.11,
          "Model": 258.0291269447291
         },
         {
          "Date": "1992-04-01T00:00:00",
          "Box": "90 °S - 30 °S",
          "Obs": 259.05,
          "Obs_uncertainty": 1,
          "Model": 257.9697221262069
         },
         {
          "Date": "1992-05-01T00:00:00",
          "Box": "90 °S - 30 °S",
          "Obs": 259.37,
          "Obs_uncertainty": 1.18,
          "Model": 257.97505813736126
         },
         {
          "Date": "1992-06-01T00:00:00",
          "Box": "90 °S - 30 °S",
          "Obs": 259.91,
          "Obs_uncertainty": 0.94,
          "Model": 258.0833184871259
         },
         {
          "Date": "1992-07-01T00:00:00",
          "Box": "90 °S - 30 °S",
          "Obs": 259.64,
          "Obs_uncertainty": 1.04,
          "Model": 258.09637120413345
         },
         {
          "Date": "1992-08-01T00:00:00",
          "Box": "90 °S - 30 °S",
          "Obs": 259.78,
          "Obs_uncertainty": 0.92,
          "Model": 258.3571751815201
         },
         {
          "Date": "1992-09-01T00:00:00",
          "Box": "90 °S - 30 °S",
          "Obs": 260.55,
          "Obs_uncertainty": 1.1,
          "Model": 258.7094025249638
         },
         {
          "Date": "1992-10-01T00:00:00",
          "Box": "90 °S - 30 °S",
          "Obs": 261.07,
          "Obs_uncertainty": 0.95,
          "Model": 259.10987210308076
         },
         {
          "Date": "1992-11-01T00:00:00",
          "Box": "90 °S - 30 °S",
          "Obs": 261.44,
          "Obs_uncertainty": 1.04,
          "Model": 259.2666905509793
         },
         {
          "Date": "1992-12-01T00:00:00",
          "Box": "90 °S - 30 °S",
          "Obs": 261.31,
          "Obs_uncertainty": 0.9,
          "Model": 259.3131429226701
         },
         {
          "Date": "1993-01-01T00:00:00",
          "Box": "90 °S - 30 °S",
          "Obs": 260.99,
          "Obs_uncertainty": 0.7,
          "Model": 259.66018598355834
         },
         {
          "Date": "1993-02-01T00:00:00",
          "Box": "90 °S - 30 °S",
          "Obs": 260.6,
          "Obs_uncertainty": 0.63,
          "Model": 259.8629669505392
         },
         {
          "Date": "1993-03-01T00:00:00",
          "Box": "90 °S - 30 °S",
          "Obs": 260.84,
          "Obs_uncertainty": 0.79,
          "Model": 259.99468617093936
         },
         {
          "Date": "1993-04-01T00:00:00",
          "Box": "90 °S - 30 °S",
          "Obs": 261.15,
          "Obs_uncertainty": 0.88,
          "Model": 259.7497486815395
         },
         {
          "Date": "1993-05-01T00:00:00",
          "Box": "90 °S - 30 °S",
          "Obs": 261.46,
          "Obs_uncertainty": 0.91,
          "Model": 259.5754636745869
         },
         {
          "Date": "1993-06-01T00:00:00",
          "Box": "90 °S - 30 °S",
          "Obs": 261.21,
          "Obs_uncertainty": 0.84,
          "Model": 259.51129174047276
         },
         {
          "Date": "1993-07-01T00:00:00",
          "Box": "90 °S - 30 °S",
          "Obs": 260.86,
          "Obs_uncertainty": 0.68,
          "Model": 259.3559301447618
         },
         {
          "Date": "1993-08-01T00:00:00",
          "Box": "90 °S - 30 °S",
          "Obs": 261.492,
          "Obs_uncertainty": 0.504,
          "Model": 259.4555356985241
         },
         {
          "Date": "1993-09-01T00:00:00",
          "Box": "90 °S - 30 °S",
          "Obs": 261.636,
          "Obs_uncertainty": 0.539,
          "Model": 259.6490137166921
         },
         {
          "Date": "1993-10-01T00:00:00",
          "Box": "90 °S - 30 °S",
          "Obs": 261.974,
          "Obs_uncertainty": 0.652,
          "Model": 259.891427459249
         },
         {
          "Date": "1993-11-01T00:00:00",
          "Box": "90 °S - 30 °S",
          "Obs": 262.175,
          "Obs_uncertainty": 0.7020000000000001,
          "Model": 259.89230446409675
         },
         {
          "Date": "1993-12-01T00:00:00",
          "Box": "90 °S - 30 °S",
          "Obs": 262.276,
          "Obs_uncertainty": 0.778,
          "Model": 259.78335556192
         },
         {
          "Date": "1994-01-01T00:00:00",
          "Box": "90 °S - 30 °S",
          "Obs": 262.206,
          "Obs_uncertainty": 0.7659999999999999,
          "Model": 260.10037482674164
         },
         {
          "Date": "1994-02-01T00:00:00",
          "Box": "90 °S - 30 °S",
          "Obs": 262.503,
          "Obs_uncertainty": 1.033,
          "Model": 260.32375647303945
         },
         {
          "Date": "1994-03-01T00:00:00",
          "Box": "90 °S - 30 °S",
          "Obs": 261.758,
          "Obs_uncertainty": 0.464,
          "Model": 260.44078753658147
         },
         {
          "Date": "1994-04-01T00:00:00",
          "Box": "90 °S - 30 °S",
          "Obs": 262.027,
          "Obs_uncertainty": 0.669,
          "Model": 260.16540689886585
         },
         {
          "Date": "1994-05-01T00:00:00",
          "Box": "90 °S - 30 °S",
          "Obs": 261.98,
          "Obs_uncertainty": 0.63,
          "Model": 259.95658926677817
         },
         {
          "Date": "1994-06-01T00:00:00",
          "Box": "90 °S - 30 °S",
          "Obs": 262.021,
          "Obs_uncertainty": 0.541,
          "Model": 259.8581588325386
         },
         {
          "Date": "1994-07-01T00:00:00",
          "Box": "90 °S - 30 °S",
          "Obs": 262.426,
          "Obs_uncertainty": 0.546,
          "Model": 259.6572376901805
         },
         {
          "Date": "1994-08-01T00:00:00",
          "Box": "90 °S - 30 °S",
          "Obs": 262.407,
          "Obs_uncertainty": 0.4970000000000001,
          "Model": 259.6851396620687
         },
         {
          "Date": "1994-09-01T00:00:00",
          "Box": "90 °S - 30 °S",
          "Obs": 262.664,
          "Obs_uncertainty": 0.54,
          "Model": 259.79699561217143
         },
         {
          "Date": "1994-10-01T00:00:00",
          "Box": "90 °S - 30 °S",
          "Obs": 262.736,
          "Obs_uncertainty": 0.541,
          "Model": 259.96526650387386
         },
         {
          "Date": "1994-11-01T00:00:00",
          "Box": "90 °S - 30 °S",
          "Obs": 262.68,
          "Obs_uncertainty": 0.523,
          "Model": 259.9154053621014
         },
         {
          "Date": "1994-12-01T00:00:00",
          "Box": "90 °S - 30 °S",
          "Obs": 262.54400000000004,
          "Obs_uncertainty": 0.621,
          "Model": 259.7610265190026
         },
         {
          "Date": "1995-01-01T00:00:00",
          "Box": "90 °S - 30 °S",
          "Obs": 262.301,
          "Obs_uncertainty": 0.324,
          "Model": 260.15665611884316
         },
         {
          "Date": "1995-02-01T00:00:00",
          "Box": "90 °S - 30 °S",
          "Obs": 262.08,
          "Obs_uncertainty": 0.366,
          "Model": 260.51993389703614
         },
         {
          "Date": "1995-03-01T00:00:00",
          "Box": "90 °S - 30 °S",
          "Obs": 262.324,
          "Obs_uncertainty": 0.498,
          "Model": 260.744753898671
         },
         {
          "Date": "1995-04-01T00:00:00",
          "Box": "90 °S - 30 °S",
          "Obs": 261.817,
          "Obs_uncertainty": 0.541,
          "Model": 260.5613563672187
         },
         {
          "Date": "1995-05-01T00:00:00",
          "Box": "90 °S - 30 °S",
          "Obs": 262.071,
          "Obs_uncertainty": 0.573,
          "Model": 260.44193614042854
         },
         {
          "Date": "1995-06-01T00:00:00",
          "Box": "90 °S - 30 °S",
          "Obs": 262.212,
          "Obs_uncertainty": 0.431,
          "Model": 260.43854229519104
         },
         {
          "Date": "1995-07-01T00:00:00",
          "Box": "90 °S - 30 °S",
          "Obs": 262.3,
          "Obs_uncertainty": 0.341,
          "Model": 260.31776914066467
         },
         {
          "Date": "1995-08-01T00:00:00",
          "Box": "90 °S - 30 °S",
          "Obs": 262.41,
          "Obs_uncertainty": 0.349,
          "Model": 260.37638844571745
         },
         {
          "Date": "1995-09-01T00:00:00",
          "Box": "90 °S - 30 °S",
          "Obs": 262.393,
          "Obs_uncertainty": 0.272,
          "Model": 260.50650437604423
         },
         {
          "Date": "1995-10-01T00:00:00",
          "Box": "90 °S - 30 °S",
          "Obs": 262.028,
          "Obs_uncertainty": 0.273,
          "Model": 260.71433554377296
         },
         {
          "Date": "1995-11-01T00:00:00",
          "Box": "90 °S - 30 °S",
          "Obs": 262.053,
          "Obs_uncertainty": 0.196,
          "Model": 260.7457105052065
         },
         {
          "Date": "1995-12-01T00:00:00",
          "Box": "90 °S - 30 °S",
          "Obs": 261.995,
          "Obs_uncertainty": 0.214,
          "Model": 260.6846517973722
         },
         {
          "Date": "1996-01-01T00:00:00",
          "Box": "90 °S - 30 °S",
          "Obs": 261.797,
          "Obs_uncertainty": 0.252,
          "Model": 260.96920915636576
         },
         {
          "Date": "1996-02-01T00:00:00",
          "Box": "90 °S - 30 °S",
          "Obs": 261.496,
          "Obs_uncertainty": 0.226,
          "Model": 261.12736888503343
         },
         {
          "Date": "1996-03-01T00:00:00",
          "Box": "90 °S - 30 °S",
          "Obs": 261.519,
          "Obs_uncertainty": 0.309,
          "Model": 261.179749315971
         },
         {
          "Date": "1996-04-01T00:00:00",
          "Box": "90 °S - 30 °S",
          "Obs": 262.07,
          "Obs_uncertainty": 0.362,
          "Model": 260.8341804469461
         },
         {
          "Date": "1996-05-01T00:00:00",
          "Box": "90 °S - 30 °S",
          "Obs": 262.831,
          "Obs_uncertainty": 0.318,
          "Model": 260.5700420250829
         },
         {
          "Date": "1996-06-01T00:00:00",
          "Box": "90 °S - 30 °S",
          "Obs": 262.351,
          "Obs_uncertainty": 0.35,
          "Model": 260.4410741880686
         },
         {
          "Date": "1996-07-01T00:00:00",
          "Box": "90 °S - 30 °S",
          "Obs": 262.214,
          "Obs_uncertainty": 0.259,
          "Model": 260.2107656786151
         },
         {
          "Date": "1996-08-01T00:00:00",
          "Box": "90 °S - 30 °S",
          "Obs": 262.233,
          "Obs_uncertainty": 0.236,
          "Model": 260.16761530169265
         },
         {
          "Date": "1996-09-01T00:00:00",
          "Box": "90 °S - 30 °S",
          "Obs": 262.151,
          "Obs_uncertainty": 0.255,
          "Model": 260.2056664018089
         },
         {
          "Date": "1996-10-01T00:00:00",
          "Box": "90 °S - 30 °S",
          "Obs": 262.031,
          "Obs_uncertainty": 0.256,
          "Model": 260.33183051982337
         },
         {
          "Date": "1996-11-01T00:00:00",
          "Box": "90 °S - 30 °S",
          "Obs": 261.825,
          "Obs_uncertainty": 0.226,
          "Model": 260.28743729570976
         },
         {
          "Date": "1996-12-01T00:00:00",
          "Box": "90 °S - 30 °S",
          "Obs": 261.765,
          "Obs_uncertainty": 0.184,
          "Model": 260.1561678245009
         },
         {
          "Date": "1997-01-01T00:00:00",
          "Box": "90 °S - 30 °S",
          "Obs": 261.69,
          "Obs_uncertainty": 0.22,
          "Model": 260.5003860061479
         },
         {
          "Date": "1997-02-01T00:00:00",
          "Box": "90 °S - 30 °S",
          "Obs": 261.349,
          "Obs_uncertainty": 0.295,
          "Model": 260.80120236051374
         },
         {
          "Date": "1997-03-01T00:00:00",
          "Box": "90 °S - 30 °S",
          "Obs": 261.203,
          "Obs_uncertainty": 0.282,
          "Model": 260.9871788525685
         },
         {
          "Date": "1997-04-01T00:00:00",
          "Box": "90 °S - 30 °S",
          "Obs": 261.159,
          "Obs_uncertainty": 0.361,
          "Model": 260.7686426764824
         },
         {
          "Date": "1997-05-01T00:00:00",
          "Box": "90 °S - 30 °S",
          "Obs": 261.04900000000004,
          "Obs_uncertainty": 0.321,
          "Model": 260.62668674989646
         },
         {
          "Date": "1997-06-01T00:00:00",
          "Box": "90 °S - 30 °S",
          "Obs": 261.158,
          "Obs_uncertainty": 0.309,
          "Model": 260.6115608514835
         },
         {
          "Date": "1997-07-01T00:00:00",
          "Box": "90 °S - 30 °S",
          "Obs": 261.115,
          "Obs_uncertainty": 0.278,
          "Model": 260.4848423116981
         },
         {
          "Date": "1997-08-01T00:00:00",
          "Box": "90 °S - 30 °S",
          "Obs": 261.242,
          "Obs_uncertainty": 0.242,
          "Model": 260.4623961905819
         },
         {
          "Date": "1997-09-01T00:00:00",
          "Box": "90 °S - 30 °S",
          "Obs": 261.202,
          "Obs_uncertainty": 0.248,
          "Model": 260.4633197425489
         },
         {
          "Date": "1997-10-01T00:00:00",
          "Box": "90 °S - 30 °S",
          "Obs": 261.01,
          "Obs_uncertainty": 0.249,
          "Model": 260.5587751897375
         },
         {
          "Date": "1997-11-01T00:00:00",
          "Box": "90 °S - 30 °S",
          "Obs": 260.893,
          "Obs_uncertainty": 0.212,
          "Model": 260.5419561856034
         },
         {
          "Date": "1997-12-01T00:00:00",
          "Box": "90 °S - 30 °S",
          "Obs": 260.728,
          "Obs_uncertainty": 0.208,
          "Model": 260.45788693399555
         },
         {
          "Date": "1998-01-01T00:00:00",
          "Box": "90 °S - 30 °S",
          "Obs": 260.481,
          "Obs_uncertainty": 0.247,
          "Model": 260.68360727292
         },
         {
          "Date": "1998-02-01T00:00:00",
          "Box": "90 °S - 30 °S",
          "Obs": 260.082,
          "Obs_uncertainty": 0.281,
          "Model": 260.7268496372039
         },
         {
          "Date": "1998-03-01T00:00:00",
          "Box": "90 °S - 30 °S",
          "Obs": 259.815,
          "Obs_uncertainty": 0.34600000000000003,
          "Model": 260.61670606102825
         },
         {
          "Date": "1998-04-01T00:00:00",
          "Box": "90 °S - 30 °S",
          "Obs": 259.621,
          "Obs_uncertainty": 0.297,
          "Model": 260.08165591657126
         },
         {
          "Date": "1998-05-01T00:00:00",
          "Box": "90 °S - 30 °S",
          "Obs": 259.632,
          "Obs_uncertainty": 0.317,
          "Model": 259.6327229904057
         },
         {
          "Date": "1998-06-01T00:00:00",
          "Box": "90 °S - 30 °S",
          "Obs": 259.611,
          "Obs_uncertainty": 0.297,
          "Model": 259.33712202609104
         },
         {
          "Date": "1998-07-01T00:00:00",
          "Box": "90 °S - 30 °S",
          "Obs": 259.846,
          "Obs_uncertainty": 0.276,
          "Model": 258.9404057117464
         },
         {
          "Date": "1998-08-01T00:00:00",
          "Box": "90 °S - 30 °S",
          "Obs": 259.784,
          "Obs_uncertainty": 0.21,
          "Model": 258.6969221849034
         },
         {
          "Date": "1998-09-01T00:00:00",
          "Box": "90 °S - 30 °S",
          "Obs": 259.766,
          "Obs_uncertainty": 0.287,
          "Model": 258.53253449786723
         },
         {
          "Date": "1998-10-01T00:00:00",
          "Box": "90 °S - 30 °S",
          "Obs": 259.631,
          "Obs_uncertainty": 0.238,
          "Model": 258.48215247712545
         },
         {
          "Date": "1998-11-01T00:00:00",
          "Box": "90 °S - 30 °S",
          "Obs": 259.53700000000003,
          "Obs_uncertainty": 0.196,
          "Model": 258.30525281157884
         },
         {
          "Date": "1998-12-01T00:00:00",
          "Box": "90 °S - 30 °S",
          "Obs": 259.486,
          "Obs_uncertainty": 0.24,
          "Model": 258.0576436723993
         },
         {
          "Date": "1999-01-01T00:00:00",
          "Box": "90 °S - 30 °S",
          "Obs": 259.368,
          "Obs_uncertainty": 0.254,
          "Model": 258.2927067571634
         },
         {
          "Date": "1999-02-01T00:00:00",
          "Box": "90 °S - 30 °S",
          "Obs": 259.13,
          "Obs_uncertainty": 0.267,
          "Model": 258.45771131669125
         },
         {
          "Date": "1999-03-01T00:00:00",
          "Box": "90 °S - 30 °S",
          "Obs": 258.743,
          "Obs_uncertainty": 0.313,
          "Model": 258.47463841532885
         },
         {
          "Date": "1999-04-01T00:00:00",
          "Box": "90 °S - 30 °S",
          "Obs": 258.552,
          "Obs_uncertainty": 0.285,
          "Model": 258.07731021543066
         },
         {
          "Date": "1999-05-01T00:00:00",
          "Box": "90 °S - 30 °S",
          "Obs": 258.433,
          "Obs_uncertainty": 0.341,
          "Model": 257.7572018641974
         },
         {
          "Date": "1999-06-01T00:00:00",
          "Box": "90 °S - 30 °S",
          "Obs": 258.26,
          "Obs_uncertainty": 0.298,
          "Model": 257.5745869127584
         },
         {
          "Date": "1999-07-01T00:00:00",
          "Box": "90 °S - 30 °S",
          "Obs": 258.327,
          "Obs_uncertainty": 0.281,
          "Model": 257.2791504105164
         },
         {
          "Date": "1999-08-01T00:00:00",
          "Box": "90 °S - 30 °S",
          "Obs": 258.418,
          "Obs_uncertainty": 0.265,
          "Model": 257.12856165317436
         },
         {
          "Date": "1999-09-01T00:00:00",
          "Box": "90 °S - 30 °S",
          "Obs": 258.255,
          "Obs_uncertainty": 0.227,
          "Model": 257.0444764198595
         },
         {
          "Date": "1999-10-01T00:00:00",
          "Box": "90 °S - 30 °S",
          "Obs": 258.152,
          "Obs_uncertainty": 0.219,
          "Model": 257.0620230212624
         },
         {
          "Date": "1999-11-01T00:00:00",
          "Box": "90 °S - 30 °S",
          "Obs": 258.063,
          "Obs_uncertainty": 0.166,
          "Model": 256.9487142837794
         },
         {
          "Date": "1999-12-01T00:00:00",
          "Box": "90 °S - 30 °S",
          "Obs": 257.955,
          "Obs_uncertainty": 0.192,
          "Model": 256.7599894855023
         },
         {
          "Date": "2000-01-01T00:00:00",
          "Box": "90 °S - 30 °S",
          "Obs": 257.793,
          "Obs_uncertainty": 0.199,
          "Model": 256.9849107613245
         },
         {
          "Date": "2000-02-01T00:00:00",
          "Box": "90 °S - 30 °S",
          "Obs": 257.641,
          "Obs_uncertainty": 0.243,
          "Model": 257.1109610006015
         },
         {
          "Date": "2000-03-01T00:00:00",
          "Box": "90 °S - 30 °S",
          "Obs": 257.318,
          "Obs_uncertainty": 0.252,
          "Model": 257.1007485343259
         },
         {
          "Date": "2000-04-01T00:00:00",
          "Box": "90 °S - 30 °S",
          "Obs": 257.107,
          "Obs_uncertainty": 0.269,
          "Model": 256.68286466924513
         },
         {
          "Date": "2000-05-01T00:00:00",
          "Box": "90 °S - 30 °S",
          "Obs": 256.995,
          "Obs_uncertainty": 0.33,
          "Model": 256.3470556677937
         },
         {
          "Date": "2000-06-01T00:00:00",
          "Box": "90 °S - 30 °S",
          "Obs": 257.017,
          "Obs_uncertainty": 0.273,
          "Model": 256.1538300963621
         },
         {
          "Date": "2000-07-01T00:00:00",
          "Box": "90 °S - 30 °S",
          "Obs": 257.006,
          "Obs_uncertainty": 0.25,
          "Model": 255.85332924505465
         },
         {
          "Date": "2000-08-01T00:00:00",
          "Box": "90 °S - 30 °S",
          "Obs": 257.036,
          "Obs_uncertainty": 0.218,
          "Model": 255.70134797973168
         },
         {
          "Date": "2000-09-01T00:00:00",
          "Box": "90 °S - 30 °S",
          "Obs": 256.936,
          "Obs_uncertainty": 0.281,
          "Model": 255.62064478245168
         },
         {
          "Date": "2000-10-01T00:00:00",
          "Box": "90 °S - 30 °S",
          "Obs": 256.849,
          "Obs_uncertainty": 0.221,
          "Model": 255.64431915561192
         },
         {
          "Date": "2000-11-01T00:00:00",
          "Box": "90 °S - 30 °S",
          "Obs": 256.873,
          "Obs_uncertainty": 0.207,
          "Model": 255.53713492499435
         },
         {
          "Date": "2000-12-01T00:00:00",
          "Box": "90 °S - 30 °S",
          "Obs": 256.681,
          "Obs_uncertainty": 0.225,
          "Model": 255.3557524450611
         },
         {
          "Date": "2001-01-01T00:00:00",
          "Box": "90 °S - 30 °S",
          "Obs": 256.277,
          "Obs_uncertainty": 0.311,
          "Model": 255.58117659359505
         },
         {
          "Date": "2001-02-01T00:00:00",
          "Box": "90 °S - 30 °S",
          "Obs": 255.924,
          "Obs_uncertainty": 0.268,
          "Model": 255.7030885940183
         },
         {
          "Date": "2001-03-01T00:00:00",
          "Box": "90 °S - 30 °S",
          "Obs": 255.64,
          "Obs_uncertainty": 0.27,
          "Model": 255.68943786333801
         },
         {
          "Date": "2001-04-01T00:00:00",
          "Box": "90 °S - 30 °S",
          "Obs": 255.346,
          "Obs_uncertainty": 0.295,
          "Model": 255.27008002428155
         },
         {
          "Date": "2001-05-01T00:00:00",
          "Box": "90 °S - 30 °S",
          "Obs": 255.406,
          "Obs_uncertainty": 0.295,
          "Model": 254.93099438839403
         },
         {
          "Date": "2001-06-01T00:00:00",
          "Box": "90 °S - 30 °S",
          "Obs": 255.591,
          "Obs_uncertainty": 0.327,
          "Model": 254.73166359948826
         },
         {
          "Date": "2001-07-01T00:00:00",
          "Box": "90 °S - 30 °S",
          "Obs": 255.747,
          "Obs_uncertainty": 0.257,
          "Model": 254.42597760069376
         },
         {
          "Date": "2001-08-01T00:00:00",
          "Box": "90 °S - 30 °S",
          "Obs": 255.692,
          "Obs_uncertainty": 0.248,
          "Model": 254.27565723659382
         },
         {
          "Date": "2001-09-01T00:00:00",
          "Box": "90 °S - 30 °S",
          "Obs": 255.61,
          "Obs_uncertainty": 0.243,
          "Model": 254.19791951190362
         },
         {
          "Date": "2001-10-01T00:00:00",
          "Box": "90 °S - 30 °S",
          "Obs": 255.44,
          "Obs_uncertainty": 0.198,
          "Model": 254.22000155698063
         },
         {
          "Date": "2001-11-01T00:00:00",
          "Box": "90 °S - 30 °S",
          "Obs": 255.269,
          "Obs_uncertainty": 0.18600000000000005,
          "Model": 254.1055187126738
         },
         {
          "Date": "2001-12-01T00:00:00",
          "Box": "90 °S - 30 °S",
          "Obs": 255.048,
          "Obs_uncertainty": 0.183,
          "Model": 253.91500309570046
         },
         {
          "Date": "2002-01-01T00:00:00",
          "Box": "90 °S - 30 °S",
          "Obs": 254.845,
          "Obs_uncertainty": 0.193,
          "Model": 254.06708354451337
         },
         {
          "Date": "2002-02-01T00:00:00",
          "Box": "90 °S - 30 °S",
          "Obs": 254.599,
          "Obs_uncertainty": 0.224,
          "Model": 254.085864921156
         },
         {
          "Date": "2002-03-01T00:00:00",
          "Box": "90 °S - 30 °S",
          "Obs": 254.332,
          "Obs_uncertainty": 0.274,
          "Model": 253.98276808194439
         },
         {
          "Date": "2002-04-01T00:00:00",
          "Box": "90 °S - 30 °S",
          "Obs": 254.075,
          "Obs_uncertainty": 0.264,
          "Model": 253.48303629286295
         },
         {
          "Date": "2002-05-01T00:00:00",
          "Box": "90 °S - 30 °S",
          "Obs": 253.82,
          "Obs_uncertainty": 0.28800000000000003,
          "Model": 253.06756469206957
         },
         {
          "Date": "2002-06-01T00:00:00",
          "Box": "90 °S - 30 °S",
          "Obs": 253.739,
          "Obs_uncertainty": 0.289,
          "Model": 252.7928898262942
         },
         {
          "Date": "2002-07-01T00:00:00",
          "Box": "90 °S - 30 °S",
          "Obs": 253.7,
          "Obs_uncertainty": 0.251,
          "Model": 252.41985358918032
         },
         {
          "Date": "2002-08-01T00:00:00",
          "Box": "90 °S - 30 °S",
          "Obs": 253.707,
          "Obs_uncertainty": 0.245,
          "Model": 252.21912806910782
         },
         {
          "Date": "2002-09-01T00:00:00",
          "Box": "90 °S - 30 °S",
          "Obs": 253.512,
          "Obs_uncertainty": 0.282,
          "Model": 252.09572073838058
         },
         {
          "Date": "2002-10-01T00:00:00",
          "Box": "90 °S - 30 °S",
          "Obs": 253.248,
          "Obs_uncertainty": 0.233,
          "Model": 252.0655372773958
         },
         {
          "Date": "2002-11-01T00:00:00",
          "Box": "90 °S - 30 °S",
          "Obs": 253.012,
          "Obs_uncertainty": 0.221,
          "Model": 251.88785131030255
         },
         {
          "Date": "2002-12-01T00:00:00",
          "Box": "90 °S - 30 °S",
          "Obs": 252.681,
          "Obs_uncertainty": 0.205,
          "Model": 251.63156538874537
         },
         {
          "Date": "2003-01-01T00:00:00",
          "Box": "90 °S - 30 °S",
          "Obs": 252.24,
          "Obs_uncertainty": 0.245,
          "Model": 251.84628120024968
         },
         {
          "Date": "2003-02-01T00:00:00",
          "Box": "90 °S - 30 °S",
          "Obs": 251.896,
          "Obs_uncertainty": 0.22,
          "Model": 251.99123674965
         },
         {
          "Date": "2003-03-01T00:00:00",
          "Box": "90 °S - 30 °S",
          "Obs": 251.697,
          "Obs_uncertainty": 0.256,
          "Model": 251.99301922223438
         },
         {
          "Date": "2003-04-01T00:00:00",
          "Box": "90 °S - 30 °S",
          "Obs": 251.541,
          "Obs_uncertainty": 0.28,
          "Model": 251.59322363630292
         },
         {
          "Date": "2003-05-01T00:00:00",
          "Box": "90 °S - 30 °S",
          "Obs": 251.697,
          "Obs_uncertainty": 0.261,
          "Model": 251.26869668964446
         },
         {
          "Date": "2003-06-01T00:00:00",
          "Box": "90 °S - 30 °S",
          "Obs": 251.62,
          "Obs_uncertainty": 0.28,
          "Model": 251.07601092188338
         },
         {
          "Date": "2003-07-01T00:00:00",
          "Box": "90 °S - 30 °S",
          "Obs": 251.939,
          "Obs_uncertainty": 0.39,
          "Model": 250.77518238718562
         },
         {
          "Date": "2003-08-01T00:00:00",
          "Box": "90 °S - 30 °S",
          "Obs": 252.305,
          "Obs_uncertainty": 0.224,
          "Model": 250.62801136170768
         },
         {
          "Date": "2003-09-01T00:00:00",
          "Box": "90 °S - 30 °S",
          "Obs": 252.192,
          "Obs_uncertainty": 0.211,
          "Model": 250.54767495905216
         },
         {
          "Date": "2003-10-01T00:00:00",
          "Box": "90 °S - 30 °S",
          "Obs": 252.12,
          "Obs_uncertainty": 0.177,
          "Model": 250.55946384621996
         },
         {
          "Date": "2003-11-01T00:00:00",
          "Box": "90 °S - 30 °S",
          "Obs": 252.013,
          "Obs_uncertainty": 0.173,
          "Model": 250.43297341605464
         },
         {
          "Date": "2003-12-01T00:00:00",
          "Box": "90 °S - 30 °S",
          "Obs": 251.791,
          "Obs_uncertainty": 0.214,
          "Model": 250.22906404210977
         },
         {
          "Date": "2004-01-01T00:00:00",
          "Box": "90 °S - 30 °S",
          "Obs": 251.426,
          "Obs_uncertainty": 0.211,
          "Model": 250.38710387281662
         },
         {
          "Date": "2004-02-01T00:00:00",
          "Box": "90 °S - 30 °S",
          "Obs": 251.07,
          "Obs_uncertainty": 0.217,
          "Model": 250.42437948046285
         },
         {
          "Date": "2004-03-01T00:00:00",
          "Box": "90 °S - 30 °S",
          "Obs": 250.722,
          "Obs_uncertainty": 0.273,
          "Model": 250.33315145099132
         },
         {
          "Date": "2004-04-01T00:00:00",
          "Box": "90 °S - 30 °S",
          "Obs": 250.30900000000003,
          "Obs_uncertainty": 0.313,
          "Model": 249.8465786354962
         },
         {
          "Date": "2004-05-01T00:00:00",
          "Box": "90 °S - 30 °S",
          "Obs": 250.158,
          "Obs_uncertainty": 0.297,
          "Model": 249.4419108767161
         },
         {
          "Date": "2004-06-01T00:00:00",
          "Box": "90 °S - 30 °S",
          "Obs": 249.906,
          "Obs_uncertainty": 0.308,
          "Model": 249.17641541035474
         },
         {
          "Date": "2004-07-01T00:00:00",
          "Box": "90 °S - 30 °S",
          "Obs": 249.867,
          "Obs_uncertainty": 0.252,
          "Model": 248.80986737748123
         },
         {
          "Date": "2004-08-01T00:00:00",
          "Box": "90 °S - 30 °S",
          "Obs": 249.87,
          "Obs_uncertainty": 0.231,
          "Model": 248.59908312062117
         },
         {
          "Date": "2004-09-01T00:00:00",
          "Box": "90 °S - 30 °S",
          "Obs": 249.702,
          "Obs_uncertainty": 0.212,
          "Model": 248.45907382354503
         },
         {
          "Date": "2004-10-01T00:00:00",
          "Box": "90 °S - 30 °S",
          "Obs": 249.505,
          "Obs_uncertainty": 0.217,
          "Model": 248.41523200366316
         },
         {
          "Date": "2004-11-01T00:00:00",
          "Box": "90 °S - 30 °S",
          "Obs": 249.32,
          "Obs_uncertainty": 0.189,
          "Model": 248.23760807289452
         },
         {
          "Date": "2004-12-01T00:00:00",
          "Box": "90 °S - 30 °S",
          "Obs": 249.11900000000003,
          "Obs_uncertainty": 0.16699999999999998,
          "Model": 247.9857102907167
         },
         {
          "Date": "2005-01-01T00:00:00",
          "Box": "90 °S - 30 °S",
          "Obs": 248.799,
          "Obs_uncertainty": 0.22,
          "Model": 248.12798388757687
         },
         {
          "Date": "2005-02-01T00:00:00",
          "Box": "90 °S - 30 °S",
          "Obs": 248.424,
          "Obs_uncertainty": 0.2,
          "Model": 248.165458087633
         },
         {
          "Date": "2005-03-01T00:00:00",
          "Box": "90 °S - 30 °S",
          "Obs": 248.075,
          "Obs_uncertainty": 0.266,
          "Model": 248.0683783242369
         },
         {
          "Date": "2005-04-01T00:00:00",
          "Box": "90 °S - 30 °S",
          "Obs": 247.799,
          "Obs_uncertainty": 0.278,
          "Model": 247.57723231729636
         },
         {
          "Date": "2005-05-01T00:00:00",
          "Box": "90 °S - 30 °S",
          "Obs": 247.736,
          "Obs_uncertainty": 0.285,
          "Model": 247.16619613213408
         },
         {
          "Date": "2005-06-01T00:00:00",
          "Box": "90 °S - 30 °S",
          "Obs": 247.796,
          "Obs_uncertainty": 0.238,
          "Model": 246.89206687882566
         },
         {
          "Date": "2005-07-01T00:00:00",
          "Box": "90 °S - 30 °S",
          "Obs": 247.683,
          "Obs_uncertainty": 0.246,
          "Model": 246.5168538724497
         },
         {
          "Date": "2005-08-01T00:00:00",
          "Box": "90 °S - 30 °S",
          "Obs": 247.6,
          "Obs_uncertainty": 0.233,
          "Model": 246.2952098562984
         },
         {
          "Date": "2005-09-01T00:00:00",
          "Box": "90 °S - 30 °S",
          "Obs": 247.477,
          "Obs_uncertainty": 0.209,
          "Model": 246.14224139172688
         },
         {
          "Date": "2005-10-01T00:00:00",
          "Box": "90 °S - 30 °S",
          "Obs": 247.377,
          "Obs_uncertainty": 0.219,
          "Model": 246.08357548122243
         },
         {
          "Date": "2005-11-01T00:00:00",
          "Box": "90 °S - 30 °S",
          "Obs": 247.282,
          "Obs_uncertainty": 0.22,
          "Model": 245.8929877118058
         },
         {
          "Date": "2005-12-01T00:00:00",
          "Box": "90 °S - 30 °S",
          "Obs": 246.993,
          "Obs_uncertainty": 0.221,
          "Model": 245.6287062950657
         },
         {
          "Date": "2006-01-01T00:00:00",
          "Box": "90 °S - 30 °S",
          "Obs": 246.682,
          "Obs_uncertainty": 0.255,
          "Model": 245.80966689959956
         },
         {
          "Date": "2006-02-01T00:00:00",
          "Box": "90 °S - 30 °S",
          "Obs": 246.388,
          "Obs_uncertainty": 0.214,
          "Model": 245.9121994614058
         },
         {
          "Date": "2006-03-01T00:00:00",
          "Box": "90 °S - 30 °S",
          "Obs": 246.33900000000003,
          "Obs_uncertainty": 0.245,
          "Model": 245.86874288589726
         },
         {
          "Date": "2006-04-01T00:00:00",
          "Box": "90 °S - 30 °S",
          "Obs": 245.953,
          "Obs_uncertainty": 0.27,
          "Model": 245.42885559785012
         },
         {
          "Date": "2006-05-01T00:00:00",
          "Box": "90 °S - 30 °S",
          "Obs": 245.768,
          "Obs_uncertainty": 0.28600000000000003,
          "Model": 245.06501603438187
         },
         {
          "Date": "2006-06-01T00:00:00",
          "Box": "90 °S - 30 °S",
          "Obs": 245.772,
          "Obs_uncertainty": 0.247,
          "Model": 244.8354849991934
         },
         {
          "Date": "2006-07-01T00:00:00",
          "Box": "90 °S - 30 °S",
          "Obs": 245.694,
          "Obs_uncertainty": 0.219,
          "Model": 244.49928798905262
         },
         {
          "Date": "2006-08-01T00:00:00",
          "Box": "90 °S - 30 °S",
          "Obs": 245.572,
          "Obs_uncertainty": 0.21600000000000005,
          "Model": 244.30043537023752
         },
         {
          "Date": "2006-09-01T00:00:00",
          "Box": "90 °S - 30 °S",
          "Obs": 245.431,
          "Obs_uncertainty": 0.213,
          "Model": 244.1644769081782
         },
         {
          "Date": "2006-10-01T00:00:00",
          "Box": "90 °S - 30 °S",
          "Obs": 245.225,
          "Obs_uncertainty": 0.203,
          "Model": 244.1261455260094
         },
         {
          "Date": "2006-11-01T00:00:00",
          "Box": "90 °S - 30 °S",
          "Obs": 245.432,
          "Obs_uncertainty": 0.185,
          "Model": 243.96785617746957
         },
         {
          "Date": "2006-12-01T00:00:00",
          "Box": "90 °S - 30 °S",
          "Obs": 245.266,
          "Obs_uncertainty": 0.188,
          "Model": 243.73913217694889
         },
         {
          "Date": "2007-01-01T00:00:00",
          "Box": "90 °S - 30 °S",
          "Obs": 244.976,
          "Obs_uncertainty": 0.213,
          "Model": 243.92576828762748
         },
         {
          "Date": "2007-02-01T00:00:00",
          "Box": "90 °S - 30 °S",
          "Obs": 244.61900000000003,
          "Obs_uncertainty": 0.202,
          "Model": 244.02526739086127
         },
         {
          "Date": "2007-03-01T00:00:00",
          "Box": "90 °S - 30 °S",
          "Obs": 244.19,
          "Obs_uncertainty": 0.267,
          "Model": 243.98442229967839
         },
         {
          "Date": "2007-04-01T00:00:00",
          "Box": "90 °S - 30 °S",
          "Obs": 243.853,
          "Obs_uncertainty": 0.272,
          "Model": 243.55121781600425
         },
         {
          "Date": "2007-05-01T00:00:00",
          "Box": "90 °S - 30 °S",
          "Obs": 243.608,
          "Obs_uncertainty": 0.32,
          "Model": 243.1963758564154
         },
         {
          "Date": "2007-06-01T00:00:00",
          "Box": "90 °S - 30 °S",
          "Obs": 243.557,
          "Obs_uncertainty": 0.232,
          "Model": 242.97904299716222
         },
         {
          "Date": "2007-07-01T00:00:00",
          "Box": "90 °S - 30 °S",
          "Obs": 243.609,
          "Obs_uncertainty": 0.265,
          "Model": 242.65676408177222
         },
         {
          "Date": "2007-08-01T00:00:00",
          "Box": "90 °S - 30 °S",
          "Obs": 243.863,
          "Obs_uncertainty": 0.213,
          "Model": 242.46386056474554
         },
         {
          "Date": "2007-09-01T00:00:00",
          "Box": "90 °S - 30 °S",
          "Obs": 243.754,
          "Obs_uncertainty": 0.196,
          "Model": 242.3331197061425
         },
         {
          "Date": "2007-10-01T00:00:00",
          "Box": "90 °S - 30 °S",
          "Obs": 243.647,
          "Obs_uncertainty": 0.17800000000000002,
          "Model": 242.30477610541178
         },
         {
          "Date": "2007-11-01T00:00:00",
          "Box": "90 °S - 30 °S",
          "Obs": 243.531,
          "Obs_uncertainty": 0.18,
          "Model": 242.1647561906104
         },
         {
          "Date": "2007-12-01T00:00:00",
          "Box": "90 °S - 30 °S",
          "Obs": 243.301,
          "Obs_uncertainty": 0.177,
          "Model": 241.95788522053152
         },
         {
          "Date": "2008-01-01T00:00:00",
          "Box": "90 °S - 30 °S",
          "Obs": 243.018,
          "Obs_uncertainty": 0.193,
          "Model": 242.15167155457112
         },
         {
          "Date": "2008-02-01T00:00:00",
          "Box": "90 °S - 30 °S",
          "Obs": 242.824,
          "Obs_uncertainty": 0.213,
          "Model": 242.24320389065343
         },
         {
          "Date": "2008-03-01T00:00:00",
          "Box": "90 °S - 30 °S",
          "Obs": 242.365,
          "Obs_uncertainty": 0.269,
          "Model": 242.18647357242418
         },
         {
          "Date": "2008-04-01T00:00:00",
          "Box": "90 °S - 30 °S",
          "Obs": 242.115,
          "Obs_uncertainty": 0.271,
          "Model": 241.7341793751182
         },
         {
          "Date": "2008-05-01T00:00:00",
          "Box": "90 °S - 30 °S",
          "Obs": 242.091,
          "Obs_uncertainty": 0.336,
          "Model": 241.35735521924153
         },
         {
          "Date": "2008-06-01T00:00:00",
          "Box": "90 °S - 30 °S",
          "Obs": 242.254,
          "Obs_uncertainty": 0.297,
          "Model": 241.11742841180728
         },
         {
          "Date": "2008-07-01T00:00:00",
          "Box": "90 °S - 30 °S",
          "Obs": 242.035,
          "Obs_uncertainty": 0.223,
          "Model": 240.76991860905255
         },
         {
          "Date": "2008-08-01T00:00:00",
          "Box": "90 °S - 30 °S",
          "Obs": 241.913,
          "Obs_uncertainty": 0.197,
          "Model": 240.554655893335
         },
         {
          "Date": "2008-09-01T00:00:00",
          "Box": "90 °S - 30 °S",
          "Obs": 241.778,
          "Obs_uncertainty": 0.209,
          "Model": 240.40623045153956
         },
         {
          "Date": "2008-10-01T00:00:00",
          "Box": "90 °S - 30 °S",
          "Obs": 241.726,
          "Obs_uncertainty": 0.194,
          "Model": 240.3606697621832
         },
         {
          "Date": "2008-11-01T00:00:00",
          "Box": "90 °S - 30 °S",
          "Obs": 241.53,
          "Obs_uncertainty": 0.188,
          "Model": 240.2041301021116
         },
         {
          "Date": "2008-12-01T00:00:00",
          "Box": "90 °S - 30 °S",
          "Obs": 241.366,
          "Obs_uncertainty": 0.177,
          "Model": 239.9806107681385
         },
         {
          "Date": "2009-01-01T00:00:00",
          "Box": "90 °S - 30 °S",
          "Obs": 241.154,
          "Obs_uncertainty": 0.194,
          "Model": 240.14553616923018
         },
         {
          "Date": "2009-02-01T00:00:00",
          "Box": "90 °S - 30 °S",
          "Obs": 240.916,
          "Obs_uncertainty": 0.204,
          "Model": 240.21998567432303
         },
         {
          "Date": "2009-03-01T00:00:00",
          "Box": "90 °S - 30 °S",
          "Obs": 240.48,
          "Obs_uncertainty": 0.273,
          "Model": 240.1650084707081
         },
         {
          "Date": "2009-04-01T00:00:00",
          "Box": "90 °S - 30 °S",
          "Obs": 240.236,
          "Obs_uncertainty": 0.332,
          "Model": 239.72777506143737
         },
         {
          "Date": "2009-05-01T00:00:00",
          "Box": "90 °S - 30 °S",
          "Obs": 240.072,
          "Obs_uncertainty": 0.32,
          "Model": 239.3700849468985
         },
         {
          "Date": "2009-06-01T00:00:00",
          "Box": "90 °S - 30 °S",
          "Obs": 240.105,
          "Obs_uncertainty": 0.278,
          "Model": 239.14940802606907
         },
         {
          "Date": "2009-07-01T00:00:00",
          "Box": "90 °S - 30 °S",
          "Obs": 239.9,
          "Obs_uncertainty": 0.234,
          "Model": 238.82588643165406
         },
         {
          "Date": "2009-08-01T00:00:00",
          "Box": "90 °S - 30 °S",
          "Obs": 239.939,
          "Obs_uncertainty": 0.301,
          "Model": 238.62917952002297
         },
         {
          "Date": "2009-09-01T00:00:00",
          "Box": "90 °S - 30 °S",
          "Obs": 239.913,
          "Obs_uncertainty": 0.229,
          "Model": 238.4936341902188
         },
         {
          "Date": "2009-10-01T00:00:00",
          "Box": "90 °S - 30 °S",
          "Obs": 239.816,
          "Obs_uncertainty": 0.16399999999999998,
          "Model": 238.4594613599074
         },
         {
          "Date": "2009-11-01T00:00:00",
          "Box": "90 °S - 30 °S",
          "Obs": 239.847,
          "Obs_uncertainty": 0.222,
          "Model": 238.31658037096867
         },
         {
          "Date": "2009-12-01T00:00:00",
          "Box": "90 °S - 30 °S",
          "Obs": 239.77,
          "Obs_uncertainty": 0.196,
          "Model": 238.10834130260844
         },
         {
          "Date": "2010-01-01T00:00:00",
          "Box": "90 °S - 30 °S",
          "Obs": 239.498,
          "Obs_uncertainty": 0.207,
          "Model": 238.27517289391136
         },
         {
          "Date": "2010-02-01T00:00:00",
          "Box": "90 °S - 30 °S",
          "Obs": 239.218,
          "Obs_uncertainty": 0.26,
          "Model": 238.33801528372538
         },
         {
          "Date": "2010-03-01T00:00:00",
          "Box": "90 °S - 30 °S",
          "Obs": 238.917,
          "Obs_uncertainty": 0.295,
          "Model": 238.26465368536682
         },
         {
          "Date": "2010-04-01T00:00:00",
          "Box": "90 °S - 30 °S",
          "Obs": 238.703,
          "Obs_uncertainty": 0.295,
          "Model": 237.80742839884869
         },
         {
          "Date": "2010-05-01T00:00:00",
          "Box": "90 °S - 30 °S",
          "Obs": 238.519,
          "Obs_uncertainty": 0.262,
          "Model": 237.42787652367724
         },
         {
          "Date": "2010-06-01T00:00:00",
          "Box": "90 °S - 30 °S",
          "Obs": 238.447,
          "Obs_uncertainty": 0.233,
          "Model": 237.18465647015358
         },
         {
          "Date": "2010-07-01T00:00:00",
          "Box": "90 °S - 30 °S",
          "Obs": 238.403,
          "Obs_uncertainty": 0.204,
          "Model": 236.84038583609077
         },
         {
          "Date": "2010-08-01T00:00:00",
          "Box": "90 °S - 30 °S",
          "Obs": 238.459,
          "Obs_uncertainty": 0.207,
          "Model": 236.62791161812802
         },
         {
          "Date": "2010-09-01T00:00:00",
          "Box": "90 °S - 30 °S",
          "Obs": 238.181,
          "Obs_uncertainty": 0.217,
          "Model": 236.4800134850958
         },
         {
          "Date": "2010-10-01T00:00:00",
          "Box": "90 °S - 30 °S",
          "Obs": 237.898,
          "Obs_uncertainty": 0.231,
          "Model": 236.43250354311368
         },
         {
          "Date": "2010-11-01T00:00:00",
          "Box": "90 °S - 30 °S",
          "Obs": 237.388,
          "Obs_uncertainty": 0.212,
          "Model": 236.2742182984719
         },
         {
          "Date": "2010-12-01T00:00:00",
          "Box": "90 °S - 30 °S",
          "Obs": 237.198,
          "Obs_uncertainty": 0.219,
          "Model": 236.0504406580303
         },
         {
          "Date": "2011-01-01T00:00:00",
          "Box": "90 °S - 30 °S",
          "Obs": 236.981,
          "Obs_uncertainty": 0.219,
          "Model": 236.18575092275955
         },
         {
          "Date": "2011-02-01T00:00:00",
          "Box": "90 °S - 30 °S",
          "Obs": 236.785,
          "Obs_uncertainty": 0.214,
          "Model": 236.2158376581355
         },
         {
          "Date": "2011-03-01T00:00:00",
          "Box": "90 °S - 30 °S",
          "Obs": 236.47,
          "Obs_uncertainty": 0.26,
          "Model": 236.11986468709893
         },
         {
          "Date": "2011-04-01T00:00:00",
          "Box": "90 °S - 30 °S",
          "Obs": 236.287,
          "Obs_uncertainty": 0.289,
          "Model": 235.64932651064504
         },
         {
          "Date": "2011-05-01T00:00:00",
          "Box": "90 °S - 30 °S",
          "Obs": 236.008,
          "Obs_uncertainty": 0.265,
          "Model": 235.2584821662868
         },
         {
          "Date": "2011-06-01T00:00:00",
          "Box": "90 °S - 30 °S",
          "Obs": 235.749,
          "Obs_uncertainty": 0.299,
          "Model": 235.0031211393531
         },
         {
          "Date": "2011-07-01T00:00:00",
          "Box": "90 °S - 30 °S",
          "Obs": 235.647,
          "Obs_uncertainty": 0.251,
          "Model": 234.65247141019975
         },
         {
          "Date": "2011-08-01T00:00:00",
          "Box": "90 °S - 30 °S",
          "Obs": 235.732,
          "Obs_uncertainty": 0.23,
          "Model": 234.44360961011665
         },
         {
          "Date": "2011-09-01T00:00:00",
          "Box": "90 °S - 30 °S",
          "Obs": 235.545,
          "Obs_uncertainty": 0.223,
          "Model": 234.30139244442893
         },
         {
          "Date": "2011-10-01T00:00:00",
          "Box": "90 °S - 30 °S",
          "Obs": 235.409,
          "Obs_uncertainty": 0.192,
          "Model": 234.2542709357666
         },
         {
          "Date": "2011-11-01T00:00:00",
          "Box": "90 °S - 30 °S",
          "Obs": 235.228,
          "Obs_uncertainty": 0.218,
          "Model": 234.08825247964444
         },
         {
          "Date": "2011-12-01T00:00:00",
          "Box": "90 °S - 30 °S",
          "Obs": 235.013,
          "Obs_uncertainty": 0.16899999999999998,
          "Model": 233.85493933151687
         },
         {
          "Date": "2012-01-01T00:00:00",
          "Box": "90 °S - 30 °S",
          "Obs": null,
          "Obs_uncertainty": null,
          "Model": 234.05080367448744
         },
         {
          "Date": "2012-02-01T00:00:00",
          "Box": "90 °S - 30 °S",
          "Obs": 234.998,
          "Obs_uncertainty": 0.18600000000000005,
          "Model": 234.1722762625703
         },
         {
          "Date": "2012-03-01T00:00:00",
          "Box": "90 °S - 30 °S",
          "Obs": 234.876,
          "Obs_uncertainty": 0.262,
          "Model": 234.15160007704094
         },
         {
          "Date": "2012-04-01T00:00:00",
          "Box": "90 °S - 30 °S",
          "Obs": 234.603,
          "Obs_uncertainty": 0.281,
          "Model": 233.7517253523268
         },
         {
          "Date": "2012-05-01T00:00:00",
          "Box": "90 °S - 30 °S",
          "Obs": 234.52,
          "Obs_uncertainty": 0.277,
          "Model": 233.42354559633347
         },
         {
          "Date": "2012-06-01T00:00:00",
          "Box": "90 °S - 30 °S",
          "Obs": 234.471,
          "Obs_uncertainty": 0.224,
          "Model": 233.2235256243548
         },
         {
          "Date": "2012-07-01T00:00:00",
          "Box": "90 °S - 30 °S",
          "Obs": 234.533,
          "Obs_uncertainty": 0.187,
          "Model": 232.920594772657
         },
         {
          "Date": "2012-08-01T00:00:00",
          "Box": "90 °S - 30 °S",
          "Obs": 234.36,
          "Obs_uncertainty": 0.229,
          "Model": 232.75038927938908
         },
         {
          "Date": "2012-09-01T00:00:00",
          "Box": "90 °S - 30 °S",
          "Obs": 234.233,
          "Obs_uncertainty": 0.212,
          "Model": 232.64195733076082
         },
         {
          "Date": "2012-10-01T00:00:00",
          "Box": "90 °S - 30 °S",
          "Obs": 234.041,
          "Obs_uncertainty": 0.203,
          "Model": 232.62669668577652
         },
         {
          "Date": "2012-11-01T00:00:00",
          "Box": "90 °S - 30 °S",
          "Obs": 233.803,
          "Obs_uncertainty": 0.17800000000000002,
          "Model": 232.49659860258578
         },
         {
          "Date": "2012-12-01T00:00:00",
          "Box": "90 °S - 30 °S",
          "Obs": 233.532,
          "Obs_uncertainty": 0.24,
          "Model": 232.29921488986062
         },
         {
          "Date": "2013-01-01T00:00:00",
          "Box": "90 °S - 30 °S",
          "Obs": 233.124,
          "Obs_uncertainty": 0.218,
          "Model": 232.4441124501891
         },
         {
          "Date": "2013-02-01T00:00:00",
          "Box": "90 °S - 30 °S",
          "Obs": 232.844,
          "Obs_uncertainty": 0.264,
          "Model": 232.4809517379947
         },
         {
          "Date": "2013-03-01T00:00:00",
          "Box": "90 °S - 30 °S",
          "Obs": 232.688,
          "Obs_uncertainty": 0.322,
          "Model": 232.39707467052548
         },
         {
          "Date": "2013-04-01T00:00:00",
          "Box": "90 °S - 30 °S",
          "Obs": 232.362,
          "Obs_uncertainty": 0.299,
          "Model": 231.94652350120316
         },
         {
          "Date": "2013-05-01T00:00:00",
          "Box": "90 °S - 30 °S",
          "Obs": 232.422,
          "Obs_uncertainty": 0.29600000000000004,
          "Model": 231.57500299038858
         },
         {
          "Date": "2013-06-01T00:00:00",
          "Box": "90 °S - 30 °S",
          "Obs": 232.385,
          "Obs_uncertainty": 0.256,
          "Model": 231.33702455985622
         },
         {
          "Date": "2013-07-01T00:00:00",
          "Box": "90 °S - 30 °S",
          "Obs": 232.406,
          "Obs_uncertainty": 0.248,
          "Model": 231.00613422195636
         },
         {
          "Date": "2013-08-01T00:00:00",
          "Box": "90 °S - 30 °S",
          "Obs": 232.22,
          "Obs_uncertainty": 0.247,
          "Model": 230.8205856363304
         },
         {
          "Date": "2013-09-01T00:00:00",
          "Box": "90 °S - 30 °S",
          "Obs": 232.179,
          "Obs_uncertainty": 0.231,
          "Model": 230.70342980592955
         },
         {
          "Date": "2013-10-01T00:00:00",
          "Box": "90 °S - 30 °S",
          "Obs": 232.123,
          "Obs_uncertainty": 0.228,
          "Model": 230.67842639449938
         },
         {
          "Date": "2013-11-01T00:00:00",
          "Box": "90 °S - 30 °S",
          "Obs": 231.944,
          "Obs_uncertainty": 0.193,
          "Model": 230.53180555572445
         },
         {
          "Date": "2013-12-01T00:00:00",
          "Box": "90 °S - 30 °S",
          "Obs": 231.735,
          "Obs_uncertainty": 0.228,
          "Model": 230.31756945679697
         },
         {
          "Date": "2014-01-01T00:00:00",
          "Box": "90 °S - 30 °S",
          "Obs": 231.426,
          "Obs_uncertainty": 0.25,
          "Model": 230.46576005019097
         },
         {
          "Date": "2014-02-01T00:00:00",
          "Box": "90 °S - 30 °S",
          "Obs": 231.183,
          "Obs_uncertainty": 0.254,
          "Model": 230.51818684326463
         },
         {
          "Date": "2014-03-01T00:00:00",
          "Box": "90 °S - 30 °S",
          "Obs": 230.98,
          "Obs_uncertainty": 0.265,
          "Model": 230.45196786908264
         },
         {
          "Date": "2014-04-01T00:00:00",
          "Box": "90 °S - 30 °S",
          "Obs": 230.571,
          "Obs_uncertainty": 0.299,
          "Model": 230.02425065383244
         },
         {
          "Date": "2014-05-01T00:00:00",
          "Box": "90 °S - 30 °S",
          "Obs": 230.621,
          "Obs_uncertainty": 0.317,
          "Model": 229.6726980128992
         },
         {
          "Date": "2014-06-01T00:00:00",
          "Box": "90 °S - 30 °S",
          "Obs": 230.639,
          "Obs_uncertainty": 0.27,
          "Model": 229.44875751993595
         },
         {
          "Date": "2014-07-01T00:00:00",
          "Box": "90 °S - 30 °S",
          "Obs": 230.778,
          "Obs_uncertainty": 0.294,
          "Model": 229.13400743025852
         },
         {
          "Date": "2014-08-01T00:00:00",
          "Box": "90 °S - 30 °S",
          "Obs": 230.465,
          "Obs_uncertainty": 0.294,
          "Model": 228.97248612508824
         },
         {
          "Date": "2014-09-01T00:00:00",
          "Box": "90 °S - 30 °S",
          "Obs": 230.187,
          "Obs_uncertainty": 0.215,
          "Model": 228.87867572686434
         },
         {
          "Date": "2014-10-01T00:00:00",
          "Box": "90 °S - 30 °S",
          "Obs": 230.113,
          "Obs_uncertainty": 0.232,
          "Model": 228.86921761443324
         },
         {
          "Date": "2014-11-01T00:00:00",
          "Box": "90 °S - 30 °S",
          "Obs": 229.981,
          "Obs_uncertainty": 0.221,
          "Model": 228.72830962065555
         },
         {
          "Date": "2014-12-01T00:00:00",
          "Box": "90 °S - 30 °S",
          "Obs": 229.895,
          "Obs_uncertainty": 0.207,
          "Model": 228.51656802890147
         },
         {
          "Date": "2015-01-01T00:00:00",
          "Box": "90 °S - 30 °S",
          "Obs": 229.677,
          "Obs_uncertainty": 0.233,
          "Model": 228.7203165827682
         },
         {
          "Date": "2015-02-01T00:00:00",
          "Box": "90 °S - 30 °S",
          "Obs": 229.446,
          "Obs_uncertainty": 0.207,
          "Model": 228.8504669809955
         },
         {
          "Date": "2015-03-01T00:00:00",
          "Box": "90 °S - 30 °S",
          "Obs": 229.221,
          "Obs_uncertainty": 0.227,
          "Model": 228.8473023127205
         },
         {
          "Date": "2015-04-01T00:00:00",
          "Box": "90 °S - 30 °S",
          "Obs": 229.268,
          "Obs_uncertainty": 0.224,
          "Model": 228.47719102715695
         },
         {
          "Date": "2015-05-01T00:00:00",
          "Box": "90 °S - 30 °S",
          "Obs": 229.217,
          "Obs_uncertainty": 0.302,
          "Model": 228.17579892106352
         },
         {
          "Date": "2015-06-01T00:00:00",
          "Box": "90 °S - 30 °S",
          "Obs": 229.112,
          "Obs_uncertainty": 0.28,
          "Model": 227.9957407621114
         },
         {
          "Date": "2015-07-01T00:00:00",
          "Box": "90 °S - 30 °S",
          "Obs": 229.142,
          "Obs_uncertainty": 0.228,
          "Model": 227.7168935984518
         },
         {
          "Date": "2015-08-01T00:00:00",
          "Box": "90 °S - 30 °S",
          "Obs": 229.077,
          "Obs_uncertainty": 0.202,
          "Model": 227.5795109996651
         },
         {
          "Date": "2015-09-01T00:00:00",
          "Box": "90 °S - 30 °S",
          "Obs": 229.072,
          "Obs_uncertainty": 0.202,
          "Model": 227.50447962651043
         },
         {
          "Date": "2015-10-01T00:00:00",
          "Box": "90 °S - 30 °S",
          "Obs": 228.947,
          "Obs_uncertainty": 0.217,
          "Model": 227.51364475493494
         },
         {
          "Date": "2015-11-01T00:00:00",
          "Box": "90 °S - 30 °S",
          "Obs": 228.829,
          "Obs_uncertainty": 0.198,
          "Model": 227.39819125385608
         },
         {
          "Date": "2015-12-01T00:00:00",
          "Box": "90 °S - 30 °S",
          "Obs": 228.706,
          "Obs_uncertainty": 0.184,
          "Model": 227.2128147175506
         },
         {
          "Date": "2016-01-01T00:00:00",
          "Box": "90 °S - 30 °S",
          "Obs": 228.488,
          "Obs_uncertainty": 0.207,
          "Model": 227.3846566629584
         },
         {
          "Date": "2016-02-01T00:00:00",
          "Box": "90 °S - 30 °S",
          "Obs": 228.307,
          "Obs_uncertainty": 0.181,
          "Model": 227.45790240956234
         },
         {
          "Date": "2016-03-01T00:00:00",
          "Box": "90 °S - 30 °S",
          "Obs": 228.003,
          "Obs_uncertainty": 0.243,
          "Model": 227.407693562817
         },
         {
          "Date": "2016-04-01T00:00:00",
          "Box": "90 °S - 30 °S",
          "Obs": 227.737,
          "Obs_uncertainty": 0.28,
          "Model": 226.99646006175345
         },
         {
          "Date": "2016-05-01T00:00:00",
          "Box": "90 °S - 30 °S",
          "Obs": 227.425,
          "Obs_uncertainty": 0.285,
          "Model": 226.65846717264446
         },
         {
          "Date": "2016-06-01T00:00:00",
          "Box": "90 °S - 30 °S",
          "Obs": 227.395,
          "Obs_uncertainty": 0.237,
          "Model": 226.44679190466678
         },
         {
          "Date": "2016-07-01T00:00:00",
          "Box": "90 °S - 30 °S",
          "Obs": 227.552,
          "Obs_uncertainty": 0.297,
          "Model": 226.14103194095765
         },
         {
          "Date": "2016-08-01T00:00:00",
          "Box": "90 °S - 30 °S",
          "Obs": 227.631,
          "Obs_uncertainty": 0.212,
          "Model": 225.9823551576755
         },
         {
          "Date": "2016-09-01T00:00:00",
          "Box": "90 °S - 30 °S",
          "Obs": 227.556,
          "Obs_uncertainty": 0.2,
          "Model": 225.89198949469147
         },
         {
          "Date": "2016-10-01T00:00:00",
          "Box": "90 °S - 30 °S",
          "Obs": 227.414,
          "Obs_uncertainty": 0.217,
          "Model": 225.8880690639806
         },
         {
          "Date": "2016-11-01T00:00:00",
          "Box": "90 °S - 30 °S",
          "Obs": 227.324,
          "Obs_uncertainty": 0.29,
          "Model": 225.75909205915747
         },
         {
          "Date": "2016-12-01T00:00:00",
          "Box": "90 °S - 30 °S",
          "Obs": 227.027,
          "Obs_uncertainty": 0.206,
          "Model": 225.56111521094607
         },
         {
          "Date": "2017-01-01T00:00:00",
          "Box": "90 °S - 30 °S",
          "Obs": 226.799,
          "Obs_uncertainty": 0.208,
          "Model": 225.78764778090977
         },
         {
          "Date": "2017-02-01T00:00:00",
          "Box": "90 °S - 30 °S",
          "Obs": 226.413,
          "Obs_uncertainty": 0.199,
          "Model": 225.95904076132607
         },
         {
          "Date": "2017-03-01T00:00:00",
          "Box": "90 °S - 30 °S",
          "Obs": 226.278,
          "Obs_uncertainty": 0.28,
          "Model": 226.0069831786633
         },
         {
          "Date": "2017-04-01T00:00:00",
          "Box": "90 °S - 30 °S",
          "Obs": 226.343,
          "Obs_uncertainty": 0.29100000000000004,
          "Model": 225.6983550222102
         },
         {
          "Date": "2017-05-01T00:00:00",
          "Box": "90 °S - 30 °S",
          "Obs": 226.26,
          "Obs_uncertainty": 0.255,
          "Model": 225.4600299610715
         },
         {
          "Date": "2017-06-01T00:00:00",
          "Box": "90 °S - 30 °S",
          "Obs": 226.365,
          "Obs_uncertainty": 0.251,
          "Model": 225.34309699112688
         },
         {
          "Date": "2017-07-01T00:00:00",
          "Box": "90 °S - 30 °S",
          "Obs": 226.349,
          "Obs_uncertainty": 0.194,
          "Model": 225.13047320626424
         },
         {
          "Date": "2017-08-01T00:00:00",
          "Box": "90 °S - 30 °S",
          "Obs": 226.423,
          "Obs_uncertainty": 0.241,
          "Model": 225.05740865574006
         },
         {
          "Date": "2017-09-01T00:00:00",
          "Box": "90 °S - 30 °S",
          "Obs": 226.495,
          "Obs_uncertainty": 0.227,
          "Model": 225.0470084265699
         },
         {
          "Date": "2017-10-01T00:00:00",
          "Box": "90 °S - 30 °S",
          "Obs": 226.623,
          "Obs_uncertainty": 0.203,
          "Model": 225.12115223887332
         },
         {
          "Date": "2017-11-01T00:00:00",
          "Box": "90 °S - 30 °S",
          "Obs": 226.458,
          "Obs_uncertainty": 0.18,
          "Model": 225.07068410079748
         },
         {
          "Date": "2017-12-01T00:00:00",
          "Box": "90 °S - 30 °S",
          "Obs": 226.337,
          "Obs_uncertainty": 0.204,
          "Model": 224.95122961396245
         },
         {
          "Date": "2018-01-01T00:00:00",
          "Box": "90 °S - 30 °S",
          "Obs": 226.123,
          "Obs_uncertainty": 0.213,
          "Model": 225.15801028199797
         },
         {
          "Date": "2018-02-01T00:00:00",
          "Box": "90 °S - 30 °S",
          "Obs": 225.874,
          "Obs_uncertainty": 0.229,
          "Model": 225.25307362281396
         },
         {
          "Date": "2018-03-01T00:00:00",
          "Box": "90 °S - 30 °S",
          "Obs": 225.896,
          "Obs_uncertainty": 0.17600000000000002,
          "Model": 225.2309433646496
         },
         {
          "Date": "2018-04-01T00:00:00",
          "Box": "90 °S - 30 °S",
          "Obs": 225.594,
          "Obs_uncertainty": 0.268,
          "Model": 224.85192056786275
         },
         {
          "Date": "2018-05-01T00:00:00",
          "Box": "90 °S - 30 °S",
          "Obs": 225.562,
          "Obs_uncertainty": 0.272,
          "Model": 224.54352247904197
         },
         {
          "Date": "2018-06-01T00:00:00",
          "Box": "90 °S - 30 °S",
          "Obs": 225.503,
          "Obs_uncertainty": 0.2,
          "Model": 224.35756472630447
         },
         {
          "Date": "2018-07-01T00:00:00",
          "Box": "90 °S - 30 °S",
          "Obs": 225.613,
          "Obs_uncertainty": 0.262,
          "Model": 224.0782214042521
         },
         {
          "Date": "2018-08-01T00:00:00",
          "Box": "90 °S - 30 °S",
          "Obs": 225.572,
          "Obs_uncertainty": 0.208,
          "Model": 223.94775465278457
         },
         {
          "Date": "2018-09-01T00:00:00",
          "Box": "90 °S - 30 °S",
          "Obs": 225.621,
          "Obs_uncertainty": 0.193,
          "Model": 223.88478278972346
         },
         {
          "Date": "2018-10-01T00:00:00",
          "Box": "90 °S - 30 °S",
          "Obs": 225.554,
          "Obs_uncertainty": 0.187,
          "Model": 223.90473258326472
         },
         {
          "Date": "2018-11-01T00:00:00",
          "Box": "90 °S - 30 °S",
          "Obs": 225.49400000000003,
          "Obs_uncertainty": 0.196,
          "Model": 223.79653956347113
         },
         {
          "Date": "2018-12-01T00:00:00",
          "Box": "90 °S - 30 °S",
          "Obs": 225.435,
          "Obs_uncertainty": 0.209,
          "Model": 223.6187097342019
         },
         {
          "Date": "2019-01-01T00:00:00",
          "Box": "90 °S - 30 °S",
          "Obs": 225.189,
          "Obs_uncertainty": 0.214,
          "Model": 223.90625973454124
         },
         {
          "Date": "2019-02-01T00:00:00",
          "Box": "90 °S - 30 °S",
          "Obs": 224.88,
          "Obs_uncertainty": 0.234,
          "Model": 224.1388495205925
         },
         {
          "Date": "2019-03-01T00:00:00",
          "Box": "90 °S - 30 °S",
          "Obs": 224.62,
          "Obs_uncertainty": 0.266,
          "Model": 224.2194343619645
         },
         {
          "Date": "2019-04-01T00:00:00",
          "Box": "90 °S - 30 °S",
          "Obs": 224.253,
          "Obs_uncertainty": 0.273,
          "Model": 223.93031032449102
         },
         {
          "Date": "2019-05-01T00:00:00",
          "Box": "90 °S - 30 °S",
          "Obs": 224.301,
          "Obs_uncertainty": 0.295,
          "Model": 223.70078644272323
         },
         {
          "Date": "2019-06-01T00:00:00",
          "Box": "90 °S - 30 °S",
          "Obs": 224.322,
          "Obs_uncertainty": 0.313,
          "Model": 223.5873016091773
         },
         {
          "Date": "2019-07-01T00:00:00",
          "Box": "90 °S - 30 °S",
          "Obs": 224.35,
          "Obs_uncertainty": 0.244,
          "Model": 223.36517476456737
         },
         {
          "Date": "2019-08-01T00:00:00",
          "Box": "90 °S - 30 °S",
          "Obs": 224.334,
          "Obs_uncertainty": 0.213,
          "Model": 223.28627655250716
         },
         {
          "Date": "2019-09-01T00:00:00",
          "Box": "90 °S - 30 °S",
          "Obs": 224.167,
          "Obs_uncertainty": 0.16699999999999998,
          "Model": 223.27888469219658
         },
         {
          "Date": "2019-10-01T00:00:00",
          "Box": "90 °S - 30 °S",
          "Obs": 224.054,
          "Obs_uncertainty": 0.174,
          "Model": 223.35623262738397
         },
         {
          "Date": "2019-11-01T00:00:00",
          "Box": "90 °S - 30 °S",
          "Obs": 223.874,
          "Obs_uncertainty": 0.203,
          "Model": 223.3085837458966
         },
         {
          "Date": "2019-12-01T00:00:00",
          "Box": "90 °S - 30 °S",
          "Obs": 223.626,
          "Obs_uncertainty": 0.196,
          "Model": 223.18935608776928
         }
        ]
       }
      },
      "text/plain": "<VegaLite 4 object>\n\nIf you see this message, it means the renderer has not been properly enabled\nfor the frontend that you are using. For more information, see\nhttps://altair-viz.github.io/user_guide/troubleshooting.html\n"
     },
     "metadata": {}
    }
   ],
   "source": [
    "inv.plot_mf()"
   ]
  },
  {
   "cell_type": "markdown",
   "metadata": {},
   "source": [
    "Plot the results"
   ]
  },
  {
   "cell_type": "code",
   "execution_count": 3,
   "metadata": {},
   "outputs": [
    {
     "output_type": "execute_result",
     "data": {
      "text/plain": [
       "[<matplotlib.lines.Line2D at 0x7f04fe9eb100>]"
      ]
     },
     "metadata": {},
     "execution_count": 3
    },
    {
     "output_type": "display_data",
     "data": {
      "text/plain": "<Figure size 432x288 with 1 Axes>",
      "image/svg+xml": "<?xml version=\"1.0\" encoding=\"utf-8\" standalone=\"no\"?>\n<!DOCTYPE svg PUBLIC \"-//W3C//DTD SVG 1.1//EN\"\n  \"http://www.w3.org/Graphics/SVG/1.1/DTD/svg11.dtd\">\n<!-- Created with matplotlib (https://matplotlib.org/) -->\n<svg height=\"248.518125pt\" version=\"1.1\" viewBox=\"0 0 375.2875 248.518125\" width=\"375.2875pt\" xmlns=\"http://www.w3.org/2000/svg\" xmlns:xlink=\"http://www.w3.org/1999/xlink\">\n <metadata>\n  <rdf:RDF xmlns:cc=\"http://creativecommons.org/ns#\" xmlns:dc=\"http://purl.org/dc/elements/1.1/\" xmlns:rdf=\"http://www.w3.org/1999/02/22-rdf-syntax-ns#\">\n   <cc:Work>\n    <dc:type rdf:resource=\"http://purl.org/dc/dcmitype/StillImage\"/>\n    <dc:date>2021-04-21T10:10:09.411445</dc:date>\n    <dc:format>image/svg+xml</dc:format>\n    <dc:creator>\n     <cc:Agent>\n      <dc:title>Matplotlib v3.3.3, https://matplotlib.org/</dc:title>\n     </cc:Agent>\n    </dc:creator>\n   </cc:Work>\n  </rdf:RDF>\n </metadata>\n <defs>\n  <style type=\"text/css\">*{stroke-linecap:butt;stroke-linejoin:round;}</style>\n </defs>\n <g id=\"figure_1\">\n  <g id=\"patch_1\">\n   <path d=\"M 0 248.518125 \nL 375.2875 248.518125 \nL 375.2875 0 \nL 0 0 \nz\n\" style=\"fill:none;\"/>\n  </g>\n  <g id=\"axes_1\">\n   <g id=\"patch_2\">\n    <path d=\"M 33.2875 224.64 \nL 368.0875 224.64 \nL 368.0875 7.2 \nL 33.2875 7.2 \nz\n\" style=\"fill:#ffffff;\"/>\n   </g>\n   <g id=\"matplotlib.axis_1\">\n    <g id=\"xtick_1\">\n     <g id=\"line2d_1\">\n      <defs>\n       <path d=\"M 0 0 \nL 0 3.5 \n\" id=\"m692c123fa1\" style=\"stroke:#000000;stroke-width:0.8;\"/>\n      </defs>\n      <g>\n       <use style=\"stroke:#000000;stroke-width:0.8;\" x=\"48.505682\" xlink:href=\"#m692c123fa1\" y=\"224.64\"/>\n      </g>\n     </g>\n     <g id=\"text_1\">\n      <!-- 0 -->\n      <g transform=\"translate(45.324432 239.238437)scale(0.1 -0.1)\">\n       <defs>\n        <path d=\"M 31.78125 66.40625 \nQ 24.171875 66.40625 20.328125 58.90625 \nQ 16.5 51.421875 16.5 36.375 \nQ 16.5 21.390625 20.328125 13.890625 \nQ 24.171875 6.390625 31.78125 6.390625 \nQ 39.453125 6.390625 43.28125 13.890625 \nQ 47.125 21.390625 47.125 36.375 \nQ 47.125 51.421875 43.28125 58.90625 \nQ 39.453125 66.40625 31.78125 66.40625 \nz\nM 31.78125 74.21875 \nQ 44.046875 74.21875 50.515625 64.515625 \nQ 56.984375 54.828125 56.984375 36.375 \nQ 56.984375 17.96875 50.515625 8.265625 \nQ 44.046875 -1.421875 31.78125 -1.421875 \nQ 19.53125 -1.421875 13.0625 8.265625 \nQ 6.59375 17.96875 6.59375 36.375 \nQ 6.59375 54.828125 13.0625 64.515625 \nQ 19.53125 74.21875 31.78125 74.21875 \nz\n\" id=\"DejaVuSans-48\"/>\n       </defs>\n       <use xlink:href=\"#DejaVuSans-48\"/>\n      </g>\n     </g>\n    </g>\n    <g id=\"xtick_2\">\n     <g id=\"line2d_2\">\n      <g>\n       <use style=\"stroke:#000000;stroke-width:0.8;\" x=\"109.015351\" xlink:href=\"#m692c123fa1\" y=\"224.64\"/>\n      </g>\n     </g>\n     <g id=\"text_2\">\n      <!-- 100 -->\n      <g transform=\"translate(99.471601 239.238437)scale(0.1 -0.1)\">\n       <defs>\n        <path d=\"M 12.40625 8.296875 \nL 28.515625 8.296875 \nL 28.515625 63.921875 \nL 10.984375 60.40625 \nL 10.984375 69.390625 \nL 28.421875 72.90625 \nL 38.28125 72.90625 \nL 38.28125 8.296875 \nL 54.390625 8.296875 \nL 54.390625 0 \nL 12.40625 0 \nz\n\" id=\"DejaVuSans-49\"/>\n       </defs>\n       <use xlink:href=\"#DejaVuSans-49\"/>\n       <use x=\"63.623047\" xlink:href=\"#DejaVuSans-48\"/>\n       <use x=\"127.246094\" xlink:href=\"#DejaVuSans-48\"/>\n      </g>\n     </g>\n    </g>\n    <g id=\"xtick_3\">\n     <g id=\"line2d_3\">\n      <g>\n       <use style=\"stroke:#000000;stroke-width:0.8;\" x=\"169.52502\" xlink:href=\"#m692c123fa1\" y=\"224.64\"/>\n      </g>\n     </g>\n     <g id=\"text_3\">\n      <!-- 200 -->\n      <g transform=\"translate(159.98127 239.238437)scale(0.1 -0.1)\">\n       <defs>\n        <path d=\"M 19.1875 8.296875 \nL 53.609375 8.296875 \nL 53.609375 0 \nL 7.328125 0 \nL 7.328125 8.296875 \nQ 12.9375 14.109375 22.625 23.890625 \nQ 32.328125 33.6875 34.8125 36.53125 \nQ 39.546875 41.84375 41.421875 45.53125 \nQ 43.3125 49.21875 43.3125 52.78125 \nQ 43.3125 58.59375 39.234375 62.25 \nQ 35.15625 65.921875 28.609375 65.921875 \nQ 23.96875 65.921875 18.8125 64.3125 \nQ 13.671875 62.703125 7.8125 59.421875 \nL 7.8125 69.390625 \nQ 13.765625 71.78125 18.9375 73 \nQ 24.125 74.21875 28.421875 74.21875 \nQ 39.75 74.21875 46.484375 68.546875 \nQ 53.21875 62.890625 53.21875 53.421875 \nQ 53.21875 48.921875 51.53125 44.890625 \nQ 49.859375 40.875 45.40625 35.40625 \nQ 44.1875 33.984375 37.640625 27.21875 \nQ 31.109375 20.453125 19.1875 8.296875 \nz\n\" id=\"DejaVuSans-50\"/>\n       </defs>\n       <use xlink:href=\"#DejaVuSans-50\"/>\n       <use x=\"63.623047\" xlink:href=\"#DejaVuSans-48\"/>\n       <use x=\"127.246094\" xlink:href=\"#DejaVuSans-48\"/>\n      </g>\n     </g>\n    </g>\n    <g id=\"xtick_4\">\n     <g id=\"line2d_4\">\n      <g>\n       <use style=\"stroke:#000000;stroke-width:0.8;\" x=\"230.03469\" xlink:href=\"#m692c123fa1\" y=\"224.64\"/>\n      </g>\n     </g>\n     <g id=\"text_4\">\n      <!-- 300 -->\n      <g transform=\"translate(220.49094 239.238437)scale(0.1 -0.1)\">\n       <defs>\n        <path d=\"M 40.578125 39.3125 \nQ 47.65625 37.796875 51.625 33 \nQ 55.609375 28.21875 55.609375 21.1875 \nQ 55.609375 10.40625 48.1875 4.484375 \nQ 40.765625 -1.421875 27.09375 -1.421875 \nQ 22.515625 -1.421875 17.65625 -0.515625 \nQ 12.796875 0.390625 7.625 2.203125 \nL 7.625 11.71875 \nQ 11.71875 9.328125 16.59375 8.109375 \nQ 21.484375 6.890625 26.8125 6.890625 \nQ 36.078125 6.890625 40.9375 10.546875 \nQ 45.796875 14.203125 45.796875 21.1875 \nQ 45.796875 27.640625 41.28125 31.265625 \nQ 36.765625 34.90625 28.71875 34.90625 \nL 20.21875 34.90625 \nL 20.21875 43.015625 \nL 29.109375 43.015625 \nQ 36.375 43.015625 40.234375 45.921875 \nQ 44.09375 48.828125 44.09375 54.296875 \nQ 44.09375 59.90625 40.109375 62.90625 \nQ 36.140625 65.921875 28.71875 65.921875 \nQ 24.65625 65.921875 20.015625 65.03125 \nQ 15.375 64.15625 9.8125 62.3125 \nL 9.8125 71.09375 \nQ 15.4375 72.65625 20.34375 73.4375 \nQ 25.25 74.21875 29.59375 74.21875 \nQ 40.828125 74.21875 47.359375 69.109375 \nQ 53.90625 64.015625 53.90625 55.328125 \nQ 53.90625 49.265625 50.4375 45.09375 \nQ 46.96875 40.921875 40.578125 39.3125 \nz\n\" id=\"DejaVuSans-51\"/>\n       </defs>\n       <use xlink:href=\"#DejaVuSans-51\"/>\n       <use x=\"63.623047\" xlink:href=\"#DejaVuSans-48\"/>\n       <use x=\"127.246094\" xlink:href=\"#DejaVuSans-48\"/>\n      </g>\n     </g>\n    </g>\n    <g id=\"xtick_5\">\n     <g id=\"line2d_5\">\n      <g>\n       <use style=\"stroke:#000000;stroke-width:0.8;\" x=\"290.544359\" xlink:href=\"#m692c123fa1\" y=\"224.64\"/>\n      </g>\n     </g>\n     <g id=\"text_5\">\n      <!-- 400 -->\n      <g transform=\"translate(281.000609 239.238437)scale(0.1 -0.1)\">\n       <defs>\n        <path d=\"M 37.796875 64.3125 \nL 12.890625 25.390625 \nL 37.796875 25.390625 \nz\nM 35.203125 72.90625 \nL 47.609375 72.90625 \nL 47.609375 25.390625 \nL 58.015625 25.390625 \nL 58.015625 17.1875 \nL 47.609375 17.1875 \nL 47.609375 0 \nL 37.796875 0 \nL 37.796875 17.1875 \nL 4.890625 17.1875 \nL 4.890625 26.703125 \nz\n\" id=\"DejaVuSans-52\"/>\n       </defs>\n       <use xlink:href=\"#DejaVuSans-52\"/>\n       <use x=\"63.623047\" xlink:href=\"#DejaVuSans-48\"/>\n       <use x=\"127.246094\" xlink:href=\"#DejaVuSans-48\"/>\n      </g>\n     </g>\n    </g>\n    <g id=\"xtick_6\">\n     <g id=\"line2d_6\">\n      <g>\n       <use style=\"stroke:#000000;stroke-width:0.8;\" x=\"351.054028\" xlink:href=\"#m692c123fa1\" y=\"224.64\"/>\n      </g>\n     </g>\n     <g id=\"text_6\">\n      <!-- 500 -->\n      <g transform=\"translate(341.510278 239.238437)scale(0.1 -0.1)\">\n       <defs>\n        <path d=\"M 10.796875 72.90625 \nL 49.515625 72.90625 \nL 49.515625 64.59375 \nL 19.828125 64.59375 \nL 19.828125 46.734375 \nQ 21.96875 47.46875 24.109375 47.828125 \nQ 26.265625 48.1875 28.421875 48.1875 \nQ 40.625 48.1875 47.75 41.5 \nQ 54.890625 34.8125 54.890625 23.390625 \nQ 54.890625 11.625 47.5625 5.09375 \nQ 40.234375 -1.421875 26.90625 -1.421875 \nQ 22.3125 -1.421875 17.546875 -0.640625 \nQ 12.796875 0.140625 7.71875 1.703125 \nL 7.71875 11.625 \nQ 12.109375 9.234375 16.796875 8.0625 \nQ 21.484375 6.890625 26.703125 6.890625 \nQ 35.15625 6.890625 40.078125 11.328125 \nQ 45.015625 15.765625 45.015625 23.390625 \nQ 45.015625 31 40.078125 35.4375 \nQ 35.15625 39.890625 26.703125 39.890625 \nQ 22.75 39.890625 18.8125 39.015625 \nQ 14.890625 38.140625 10.796875 36.28125 \nz\n\" id=\"DejaVuSans-53\"/>\n       </defs>\n       <use xlink:href=\"#DejaVuSans-53\"/>\n       <use x=\"63.623047\" xlink:href=\"#DejaVuSans-48\"/>\n       <use x=\"127.246094\" xlink:href=\"#DejaVuSans-48\"/>\n      </g>\n     </g>\n    </g>\n   </g>\n   <g id=\"matplotlib.axis_2\">\n    <g id=\"ytick_1\">\n     <g id=\"line2d_7\">\n      <defs>\n       <path d=\"M 0 0 \nL -3.5 0 \n\" id=\"mc53b6b9366\" style=\"stroke:#000000;stroke-width:0.8;\"/>\n      </defs>\n      <g>\n       <use style=\"stroke:#000000;stroke-width:0.8;\" x=\"33.2875\" xlink:href=\"#mc53b6b9366\" y=\"220.380013\"/>\n      </g>\n     </g>\n     <g id=\"text_7\">\n      <!-- 50 -->\n      <g transform=\"translate(13.5625 224.179232)scale(0.1 -0.1)\">\n       <use xlink:href=\"#DejaVuSans-53\"/>\n       <use x=\"63.623047\" xlink:href=\"#DejaVuSans-48\"/>\n      </g>\n     </g>\n    </g>\n    <g id=\"ytick_2\">\n     <g id=\"line2d_8\">\n      <g>\n       <use style=\"stroke:#000000;stroke-width:0.8;\" x=\"33.2875\" xlink:href=\"#mc53b6b9366\" y=\"186.561966\"/>\n      </g>\n     </g>\n     <g id=\"text_8\">\n      <!-- 100 -->\n      <g transform=\"translate(7.2 190.361185)scale(0.1 -0.1)\">\n       <use xlink:href=\"#DejaVuSans-49\"/>\n       <use x=\"63.623047\" xlink:href=\"#DejaVuSans-48\"/>\n       <use x=\"127.246094\" xlink:href=\"#DejaVuSans-48\"/>\n      </g>\n     </g>\n    </g>\n    <g id=\"ytick_3\">\n     <g id=\"line2d_9\">\n      <g>\n       <use style=\"stroke:#000000;stroke-width:0.8;\" x=\"33.2875\" xlink:href=\"#mc53b6b9366\" y=\"152.743919\"/>\n      </g>\n     </g>\n     <g id=\"text_9\">\n      <!-- 150 -->\n      <g transform=\"translate(7.2 156.543138)scale(0.1 -0.1)\">\n       <use xlink:href=\"#DejaVuSans-49\"/>\n       <use x=\"63.623047\" xlink:href=\"#DejaVuSans-53\"/>\n       <use x=\"127.246094\" xlink:href=\"#DejaVuSans-48\"/>\n      </g>\n     </g>\n    </g>\n    <g id=\"ytick_4\">\n     <g id=\"line2d_10\">\n      <g>\n       <use style=\"stroke:#000000;stroke-width:0.8;\" x=\"33.2875\" xlink:href=\"#mc53b6b9366\" y=\"118.925872\"/>\n      </g>\n     </g>\n     <g id=\"text_10\">\n      <!-- 200 -->\n      <g transform=\"translate(7.2 122.725091)scale(0.1 -0.1)\">\n       <use xlink:href=\"#DejaVuSans-50\"/>\n       <use x=\"63.623047\" xlink:href=\"#DejaVuSans-48\"/>\n       <use x=\"127.246094\" xlink:href=\"#DejaVuSans-48\"/>\n      </g>\n     </g>\n    </g>\n    <g id=\"ytick_5\">\n     <g id=\"line2d_11\">\n      <g>\n       <use style=\"stroke:#000000;stroke-width:0.8;\" x=\"33.2875\" xlink:href=\"#mc53b6b9366\" y=\"85.107825\"/>\n      </g>\n     </g>\n     <g id=\"text_11\">\n      <!-- 250 -->\n      <g transform=\"translate(7.2 88.907044)scale(0.1 -0.1)\">\n       <use xlink:href=\"#DejaVuSans-50\"/>\n       <use x=\"63.623047\" xlink:href=\"#DejaVuSans-53\"/>\n       <use x=\"127.246094\" xlink:href=\"#DejaVuSans-48\"/>\n      </g>\n     </g>\n    </g>\n    <g id=\"ytick_6\">\n     <g id=\"line2d_12\">\n      <g>\n       <use style=\"stroke:#000000;stroke-width:0.8;\" x=\"33.2875\" xlink:href=\"#mc53b6b9366\" y=\"51.289778\"/>\n      </g>\n     </g>\n     <g id=\"text_12\">\n      <!-- 300 -->\n      <g transform=\"translate(7.2 55.088996)scale(0.1 -0.1)\">\n       <use xlink:href=\"#DejaVuSans-51\"/>\n       <use x=\"63.623047\" xlink:href=\"#DejaVuSans-48\"/>\n       <use x=\"127.246094\" xlink:href=\"#DejaVuSans-48\"/>\n      </g>\n     </g>\n    </g>\n    <g id=\"ytick_7\">\n     <g id=\"line2d_13\">\n      <g>\n       <use style=\"stroke:#000000;stroke-width:0.8;\" x=\"33.2875\" xlink:href=\"#mc53b6b9366\" y=\"17.471731\"/>\n      </g>\n     </g>\n     <g id=\"text_13\">\n      <!-- 350 -->\n      <g transform=\"translate(7.2 21.270949)scale(0.1 -0.1)\">\n       <use xlink:href=\"#DejaVuSans-51\"/>\n       <use x=\"63.623047\" xlink:href=\"#DejaVuSans-53\"/>\n       <use x=\"127.246094\" xlink:href=\"#DejaVuSans-48\"/>\n      </g>\n     </g>\n    </g>\n   </g>\n   <g id=\"line2d_14\">\n    <path clip-path=\"url(#p8205f8dc6a)\" d=\"M 48.505682 107.362505 \nL 55.161745 107.362505 \nL 55.766842 80.09689 \nL 62.422906 80.09689 \nL 63.028002 69.886017 \nL 69.684066 69.886017 \nL 70.289163 67.914889 \nL 84.206387 67.810099 \nL 84.811483 66.371628 \nL 91.467547 66.371628 \nL 92.072644 65.129349 \nL 98.728707 65.129349 \nL 99.333804 53.584875 \nL 105.989868 53.584875 \nL 106.594964 20.873039 \nL 113.251028 20.873039 \nL 113.856125 17.083636 \nL 120.512188 17.083636 \nL 121.117285 28.878662 \nL 127.773349 28.878662 \nL 128.378445 50.830286 \nL 135.034509 50.830286 \nL 135.639606 82.906033 \nL 142.295669 82.906033 \nL 142.900766 111.335512 \nL 149.556829 111.335512 \nL 150.161926 133.308927 \nL 156.81799 133.308927 \nL 157.423086 163.022609 \nL 164.07915 163.022609 \nL 164.684247 180.901934 \nL 171.34031 180.901934 \nL 171.945407 171.892021 \nL 178.601471 171.892021 \nL 179.206567 176.362434 \nL 185.862631 176.362434 \nL 186.467728 190.322812 \nL 193.123791 190.322812 \nL 193.728888 198.311506 \nL 200.384952 198.311506 \nL 200.990048 198.558391 \nL 207.646112 198.558391 \nL 208.251209 194.288734 \nL 214.907272 194.288734 \nL 215.512369 196.159858 \nL 222.168433 196.159858 \nL 222.773529 206.183847 \nL 229.429593 206.183847 \nL 230.03469 204.281449 \nL 236.690753 204.281449 \nL 237.29585 210.272383 \nL 243.951914 210.272383 \nL 244.55701 214.756364 \nL 251.213074 214.756364 \nL 251.818171 212.52886 \nL 258.474234 212.52886 \nL 259.079331 208.232563 \nL 265.735394 208.232563 \nL 266.340491 211.001399 \nL 272.996555 211.001399 \nL 273.601651 209.798909 \nL 280.257715 209.798909 \nL 280.862812 211.372506 \nL 287.518875 211.372506 \nL 288.123972 212.003981 \nL 294.780036 212.003981 \nL 295.385132 210.041795 \nL 302.041196 210.041795 \nL 302.646293 208.476039 \nL 309.302356 208.476039 \nL 309.907453 208.86362 \nL 316.563517 208.86362 \nL 317.168613 208.69533 \nL 323.824677 208.69533 \nL 324.429774 207.824134 \nL 331.085837 207.824134 \nL 331.690934 195.656392 \nL 338.346998 195.656392 \nL 338.952094 204.241844 \nL 345.608158 204.241844 \nL 346.213255 196.761068 \nL 352.869318 196.761068 \nL 352.869318 196.761068 \n\" style=\"fill:none;stroke:#1f77b4;stroke-linecap:square;stroke-width:1.5;\"/>\n   </g>\n   <g id=\"patch_3\">\n    <path d=\"M 33.2875 224.64 \nL 33.2875 7.2 \n\" style=\"fill:none;stroke:#000000;stroke-linecap:square;stroke-linejoin:miter;stroke-width:0.8;\"/>\n   </g>\n   <g id=\"patch_4\">\n    <path d=\"M 368.0875 224.64 \nL 368.0875 7.2 \n\" style=\"fill:none;stroke:#000000;stroke-linecap:square;stroke-linejoin:miter;stroke-width:0.8;\"/>\n   </g>\n   <g id=\"patch_5\">\n    <path d=\"M 33.2875 224.64 \nL 368.0875 224.64 \n\" style=\"fill:none;stroke:#000000;stroke-linecap:square;stroke-linejoin:miter;stroke-width:0.8;\"/>\n   </g>\n   <g id=\"patch_6\">\n    <path d=\"M 33.2875 7.2 \nL 368.0875 7.2 \n\" style=\"fill:none;stroke:#000000;stroke-linecap:square;stroke-linejoin:miter;stroke-width:0.8;\"/>\n   </g>\n  </g>\n </g>\n <defs>\n  <clipPath id=\"p8205f8dc6a\">\n   <rect height=\"217.44\" width=\"334.8\" x=\"33.2875\" y=\"7.2\"/>\n  </clipPath>\n </defs>\n</svg>\n",
      "image/png": "[encoded data removed]"
     },
     "metadata": {
      "needs_background": "light"
     }
    }
   ],
   "source": [
    "plt.plot(inv.mod_posterior.emissions[36:, :].sum(axis=1))"
   ]
  }
 ],
 "metadata": {
  "kernelspec": {
   "display_name": "py12box",
   "language": "python",
   "name": "py12box"
  }
 },
 "nbformat": 4,
 "nbformat_minor": 4
}