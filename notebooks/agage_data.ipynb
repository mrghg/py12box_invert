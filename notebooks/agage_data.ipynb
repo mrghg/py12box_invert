{
 "cells": [
  {
   "cell_type": "code",
   "execution_count": null,
   "metadata": {},
   "outputs": [],
   "source": [
    "import xarray as xr\n",
    "import py12box\n",
    "from pyprojroot import here\n",
    "import pandas as pd\n",
    "import utils\n",
    "from scipy.optimize import curve_fit\n",
    "import numpy as np"
   ]
  },
  {
   "cell_type": "markdown",
   "metadata": {},
   "source": [
    "Write file of monthly baseline obs:"
   ]
  },
  {
   "cell_type": "code",
   "execution_count": null,
   "metadata": {},
   "outputs": [],
   "source": [
    "utils.obs_write(\"CFC-11\", here() / \"data/example\", \"CFC-11\")"
   ]
  },
  {
   "cell_type": "markdown",
   "metadata": {},
   "source": [
    "Read file:"
   ]
  },
  {
   "cell_type": "code",
   "execution_count": null,
   "metadata": {},
   "outputs": [],
   "source": [
    "df = utils.obs_read(\"CFC-11\", here() / \"data/example\", \"CFC-11\")\n",
    "df"
   ]
  },
  {
   "cell_type": "markdown",
   "metadata": {},
   "source": [
    "Plot mole fraction columns"
   ]
  },
  {
   "cell_type": "code",
   "execution_count": null,
   "metadata": {},
   "outputs": [],
   "source": [
    "idx = pd.IndexSlice\n",
    "df.loc[:, idx[:, :, \"mf\"]].plot()"
   ]
  },
  {
   "cell_type": "code",
   "execution_count": null,
   "metadata": {},
   "outputs": [],
   "source": [
    "sites = set([c[0] for c in df.columns])"
   ]
  },
  {
   "cell_type": "code",
   "execution_count": null,
   "metadata": {},
   "outputs": [],
   "source": [
    "len(wh_finite)"
   ]
  },
  {
   "cell_type": "code",
   "execution_count": null,
   "metadata": {},
   "outputs": [],
   "source": [
    "import matplotlib.pyplot as plt\n",
    "\n",
    "def f(x, a, b, c):\n",
    "    return a + b*x + c*x**2\n",
    "\n",
    "x = utils.decimal_date(df.index)\n",
    "wh_first = np.where(x < x[0] + 10.)\n",
    "x_first = x[wh_first]\n",
    "\n",
    "global_mean_y1 = np.zeros(12)\n",
    "global_mean_count = 0\n",
    "\n",
    "for s in sites:\n",
    "    y = np.squeeze(df.loc[:, idx[s, :, \"mf\"]].values)\n",
    "\n",
    "    plt.plot(x, y, '.')\n",
    "    \n",
    "    y_first = y[wh_first]\n",
    "    \n",
    "    wh_finite = np.where(np.isfinite(y_first))\n",
    "    \n",
    "    if len(wh_finite[0]) > 0:\n",
    "        if wh_finite[0][0] < 24:\n",
    "            x_finite = x_first[wh_finite]\n",
    "            y_finite = y_first[wh_finite]\n",
    "\n",
    "            fit_params, pcov = curve_fit(f, x_finite, y_finite)\n",
    "            \n",
    "            global_mean_y1 += f(x_first[0:12], *fit_params)\n",
    "            global_mean_count += 1\n",
    "            \n",
    "            plt.plot(x_first, f(x_first, *fit_params))\n",
    "    \n",
    "global_mean_y1 /= global_mean_count\n",
    "\n",
    "plt.plot(x_first[0:12], global_mean_y1, linewidth = 2.)\n",
    "\n",
    "global_ic = global_mean_y1[0]\n",
    "global_ic_trend = global_mean_y1[11] - global_mean_y1[0]\n",
    "\n",
    "lifetime = 50.\n",
    "Matm = 5.1170001e+21 / 28.97\n",
    "mol_mass = 137.\n",
    "\n",
    "q0 = Matm * (global_ic_trend + global_ic / lifetime) / 1e12 * mol_mass / 1e12"
   ]
  },
  {
   "cell_type": "code",
   "execution_count": null,
   "metadata": {},
   "outputs": [],
   "source": [
    "df.loc[:, idx[\"MHD\", :, \"mf\"]]"
   ]
  },
  {
   "cell_type": "code",
   "execution_count": null,
   "metadata": {},
   "outputs": [],
   "source": []
  }
 ],
 "metadata": {
  "kernelspec": {
   "display_name": "Python 3",
   "language": "python",
   "name": "python3"
  },
  "language_info": {
   "codemirror_mode": {
    "name": "ipython",
    "version": 3
   },
   "file_extension": ".py",
   "mimetype": "text/x-python",
   "name": "python",
   "nbconvert_exporter": "python",
   "pygments_lexer": "ipython3",
   "version": "3.7.6"
  }
 },
 "nbformat": 4,
 "nbformat_minor": 4
}
