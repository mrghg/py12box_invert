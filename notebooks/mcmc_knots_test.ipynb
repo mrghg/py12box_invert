{
 "cells": [
  {
   "cell_type": "code",
   "execution_count": null,
   "metadata": {},
   "outputs": [],
   "source": [
    "%load_ext autoreload\n",
    "%autoreload 2\n",
    "\n",
    "from pathlib import Path\n",
    "import arviz as az\n",
    "import matplotlib.pyplot as plt\n",
    "import numpy as np\n",
    "import pymc as pm\n",
    "from patsy import dmatrix\n",
    "from py12box_invert.paths import Paths\n",
    "from py12box_invert.invert import Invert\n",
    "from py12box_invert.plot import plot_mf, plot_emissions\n",
    "from py12box import core"
   ]
  },
  {
   "cell_type": "markdown",
   "metadata": {},
   "source": [
    "Use a set of knots and splines to estimate emissions over time.\n",
    "Just do a standard Normal inversion with MCMC"
   ]
  },
  {
   "cell_type": "code",
   "execution_count": null,
   "metadata": {},
   "outputs": [],
   "source": [
    "species = \"CFC-11\"\n",
    "project_path = Paths.data / f\"example/{species}\""
   ]
  },
  {
   "cell_type": "code",
   "execution_count": null,
   "metadata": {},
   "outputs": [],
   "source": [
    "# Just run to get matrices\n",
    "inv_true = Invert(project_path, species, method=\"analytical_gaussian\", n_threads=4, sensitivity_freq=\"yearly\", start_year=2000, end_year=2020)\n",
    "inv_true.run_inversion([70., 20., 10., 10.])"
   ]
  },
  {
   "cell_type": "code",
   "execution_count": null,
   "metadata": {},
   "outputs": [],
   "source": [
    "# Get all years where we have data\n",
    "# Note, there's no data in 2020 so the times in the H matrix are only until 2019\n",
    "time = np.arange(2000,2021)"
   ]
  },
  {
   "cell_type": "code",
   "execution_count": null,
   "metadata": {},
   "outputs": [],
   "source": [
    "# Start by just having 11 evenly spaced knots over the 20 years\n",
    "knot_list = np.linspace(2000,2020, 10)\n",
    "\n",
    "B_i = dmatrix(\n",
    "    \"bs(time, knots=knots, degree=3, include_intercept=False) - 1\",\n",
    "    {\"time\": time, \"knots\": knot_list[1:-1]},\n",
    ")\n",
    "\n",
    "# As we have 4 boxes, we're going to have to repeat it\n",
    "B = np.repeat(np.asarray(B_i, order=\"F\"), 4, axis=0)"
   ]
  },
  {
   "cell_type": "code",
   "execution_count": null,
   "metadata": {},
   "outputs": [],
   "source": [
    "# Now do the MCMC\n",
    "# For now just put a prior on each knot of N(0, 100^2). \n",
    "# Actually set the prior on a standard normal, then scale\n",
    "# Better would be to extract each knot's prior at the right time\n",
    "COORDS = {\"splines\": np.arange(B.shape[1])}\n",
    "with pm.Model(coords=COORDS) as spline_model:\n",
    "    w_ = pm.Normal(\"w_\", mu=0, sigma=1, size=B.shape[1], dims=\"splines\")\n",
    "    w = pm.Deterministic(\"w\",  0 + 100*w_)\n",
    "    x = pm.Deterministic(\"mu\", inv_true.mat.H @ B @ w.T)\n",
    "    Y = pm.Normal(\"Y\", mu=x, sigma=np.diag(inv_true.mat.R), observed=inv_true.mat.y, dims=\"obs\")\n",
    "\n",
    "    idata = pm.sample_prior_predictive()\n",
    "    idata.extend(pm.sample(draws=50000, tune=10000, chains=2, step=pm.Metropolis()))\n",
    "    pm.sample_posterior_predictive(idata, extend_inferencedata=True)"
   ]
  },
  {
   "cell_type": "code",
   "execution_count": null,
   "metadata": {},
   "outputs": [],
   "source": [
    "# Get posterior mean of knots\n",
    "wp = idata.posterior[\"w\"].mean((\"chain\", \"draw\")).values\n",
    "x_hat = np.dot(B,wp.T)"
   ]
  },
  {
   "cell_type": "code",
   "execution_count": null,
   "metadata": {},
   "outputs": [],
   "source": [
    "# Lazy way to plot results \n",
    "apriori = inv_true.mod.emissions[::12].sum(1)\n",
    "plt.plot(time, apriori + np.sum(inv_true.mat.x_hat.reshape(-1,4),1))\n",
    "plt.plot(time, apriori + np.sum(x_hat.reshape(-1,4),1))\n"
   ]
  },
  {
   "cell_type": "code",
   "execution_count": null,
   "metadata": {},
   "outputs": [],
   "source": []
  },
  {
   "cell_type": "code",
   "execution_count": null,
   "metadata": {},
   "outputs": [],
   "source": []
  }
 ],
 "metadata": {
  "kernelspec": {
   "display_name": "Python 3.10.4 ('pymc_env': conda)",
   "language": "python",
   "name": "python3"
  },
  "language_info": {
   "codemirror_mode": {
    "name": "ipython",
    "version": 3
   },
   "file_extension": ".py",
   "mimetype": "text/x-python",
   "name": "python",
   "nbconvert_exporter": "python",
   "pygments_lexer": "ipython3",
   "version": "3.10.4"
  },
  "orig_nbformat": 4,
  "vscode": {
   "interpreter": {
    "hash": "e106f3b25e6fa1726cea646981af37c286ab7d259dfdb88eb8c6331c720b941c"
   }
  }
 },
 "nbformat": 4,
 "nbformat_minor": 2
}
