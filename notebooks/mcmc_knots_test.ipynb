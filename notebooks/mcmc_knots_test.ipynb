{
 "cells": [
  {
   "cell_type": "code",
   "execution_count": 2,
   "metadata": {},
   "outputs": [],
   "source": [
    "%load_ext autoreload\n",
    "%autoreload 2\n",
    "\n",
    "from pathlib import Path\n",
    "import arviz as az\n",
    "import matplotlib.pyplot as plt\n",
    "import numpy as np\n",
    "import pymc as pm\n",
    "from patsy import dmatrix\n",
    "from py12box_invert.paths import Paths\n",
    "from py12box_invert.invert import Invert\n",
    "from py12box_invert.plot import plot_mf, plot_emissions\n",
    "from py12box import core"
   ]
  },
  {
   "cell_type": "markdown",
   "metadata": {},
   "source": [
    "Use a set of knots and splines to estimate emissions over time.\n",
    "I just drop any hear with any NaN obs for now. May have to split the H matrix into multiple matrices for it to work.\n",
    "Just do a standard Normal inversion with MCMC"
   ]
  },
  {
   "cell_type": "code",
   "execution_count": 3,
   "metadata": {},
   "outputs": [],
   "source": [
    "species = \"CFC-11\"\n",
    "project_path = Paths.data / f\"example/{species}\""
   ]
  },
  {
   "cell_type": "code",
   "execution_count": 28,
   "metadata": {},
   "outputs": [
    {
     "name": "stdout",
     "output_type": "stream",
     "text": [
      "Setting up inversion for CFC-11\n",
      "\n",
      "No units given for emissions. Assuming Gg/yr\n",
      "No inital conditions file \n",
      "... assuming zero initial conditions\n",
      "Compiling model and tuning lifetime...\n",
      "... completed in 3 iterations\n",
      "... stratospheric lifetime: 55.0\n",
      "... OH lifetime: 1e12\n",
      "... ocean lifetime: 1e12\n",
      "... non-OH tropospheric lifetime: 1e12\n",
      "... overall lifetime: 55.05\n",
      "... done in 0.0007 s\n",
      "Calculating flux sensitivity on 4 threads...\n"
     ]
    },
    {
     "name": "stderr",
     "output_type": "stream",
     "text": [
      "/user/home/lw13938/work/py12box_invert/py12box_invert/invert.py:117: UserWarning: Can't have both a start_year and ic_years\n",
      " Setting ic_years to None.\n",
      "  warnings.warn(\"Can't have both a start_year and ic_years\\n Setting ic_years to None.\")\n"
     ]
    },
    {
     "name": "stdout",
     "output_type": "stream",
     "text": [
      "... done\n",
      "Spinning up for 9 years and estimating initial conditions...\n",
      "... done\n",
      "Run inversion...\n",
      "... done\n",
      "Calculating outputs...\n",
      "... calculating posterior ensembles\n",
      "... done\n",
      "\n"
     ]
    }
   ],
   "source": [
    "# Just run to get matrices\n",
    "inv_true = Invert(project_path, species, method=\"analytical_gaussian\", n_threads=4, sensitivity_freq=\"yearly\", start_year=2000, end_year=2020)\n",
    "# Is hard to deal with years with only some data, so for now just drop any year that has some missing \n",
    "inv_true.obs.mf[np.isnan(np.sum(inv_true.obs.mf, axis=1)), :] = np.nan\n",
    "inv_true.run_inversion([70., 20., 10., 10.])"
   ]
  },
  {
   "cell_type": "code",
   "execution_count": 65,
   "metadata": {},
   "outputs": [],
   "source": [
    "# Get all years where we have data\n",
    "# Note, there's no data in 2020 so the times in the H matrix are only until 2019\n",
    "time = np.arange(2000,2020)"
   ]
  },
  {
   "cell_type": "code",
   "execution_count": 68,
   "metadata": {},
   "outputs": [],
   "source": [
    "# Start by just having 11 evenly spaced knots over the 20 years\n",
    "knot_list = np.linspace(2000,2020, 10)\n",
    "\n",
    "B_i = dmatrix(\n",
    "    \"bs(time, knots=knots, degree=3, include_intercept=False) - 1\",\n",
    "    {\"time\": time, \"knots\": knot_list[1:-1]},\n",
    ")\n",
    "\n",
    "# As we have 4 boxes, we're going to have to repeat it\n",
    "B = np.repeat(np.asarray(B_i, order=\"F\"), 4, axis=0)"
   ]
  },
  {
   "cell_type": "code",
   "execution_count": 81,
   "metadata": {},
   "outputs": [
    {
     "name": "stderr",
     "output_type": "stream",
     "text": [
      "Multiprocess sampling (2 chains in 4 jobs)\n",
      "Metropolis: [w_]\n"
     ]
    },
    {
     "data": {
      "text/html": [
       "\n",
       "<style>\n",
       "    /* Turns off some styling */\n",
       "    progress {\n",
       "        /* gets rid of default border in Firefox and Opera. */\n",
       "        border: none;\n",
       "        /* Needs to be in here for Safari polyfill so background images work as expected. */\n",
       "        background-size: auto;\n",
       "    }\n",
       "    .progress-bar-interrupted, .progress-bar-interrupted::-webkit-progress-bar {\n",
       "        background: #F44336;\n",
       "    }\n",
       "</style>\n"
      ],
      "text/plain": [
       "<IPython.core.display.HTML object>"
      ]
     },
     "metadata": {},
     "output_type": "display_data"
    },
    {
     "data": {
      "text/html": [
       "\n",
       "    <div>\n",
       "      <progress value='120000' class='' max='120000' style='width:300px; height:20px; vertical-align: middle;'></progress>\n",
       "      100.00% [120000/120000 00:43<00:00 Sampling 2 chains, 0 divergences]\n",
       "    </div>\n",
       "    "
      ],
      "text/plain": [
       "<IPython.core.display.HTML object>"
      ]
     },
     "metadata": {},
     "output_type": "display_data"
    },
    {
     "name": "stderr",
     "output_type": "stream",
     "text": [
      "/user/home/lw13938/.conda/envs/pymc_env/lib/python3.10/site-packages/pymc/step_methods/metropolis.py:289: RuntimeWarning: overflow encountered in exp\n",
      "  \"accept\": np.mean(np.exp(self.accept_rate_iter)),\n",
      "/user/home/lw13938/.conda/envs/pymc_env/lib/python3.10/site-packages/pymc/step_methods/metropolis.py:289: RuntimeWarning: overflow encountered in exp\n",
      "  \"accept\": np.mean(np.exp(self.accept_rate_iter)),\n",
      "Sampling 2 chains for 10_000 tune and 50_000 draw iterations (20_000 + 100_000 draws total) took 44 seconds.\n"
     ]
    },
    {
     "data": {
      "text/html": [
       "\n",
       "<style>\n",
       "    /* Turns off some styling */\n",
       "    progress {\n",
       "        /* gets rid of default border in Firefox and Opera. */\n",
       "        border: none;\n",
       "        /* Needs to be in here for Safari polyfill so background images work as expected. */\n",
       "        background-size: auto;\n",
       "    }\n",
       "    .progress-bar-interrupted, .progress-bar-interrupted::-webkit-progress-bar {\n",
       "        background: #F44336;\n",
       "    }\n",
       "</style>\n"
      ],
      "text/plain": [
       "<IPython.core.display.HTML object>"
      ]
     },
     "metadata": {},
     "output_type": "display_data"
    },
    {
     "data": {
      "text/html": [
       "\n",
       "    <div>\n",
       "      <progress value='100000' class='' max='100000' style='width:300px; height:20px; vertical-align: middle;'></progress>\n",
       "      100.00% [100000/100000 00:08<00:00]\n",
       "    </div>\n",
       "    "
      ],
      "text/plain": [
       "<IPython.core.display.HTML object>"
      ]
     },
     "metadata": {},
     "output_type": "display_data"
    }
   ],
   "source": [
    "# Now do the MCMC\n",
    "# For now just put a prior on each knot of N(0, 100^2). \n",
    "# Actually set the prior on a standard normal, then scale\n",
    "# Better would be to extract each knot's prior at the right time\n",
    "COORDS = {\"splines\": np.arange(B.shape[1])}\n",
    "with pm.Model(coords=COORDS) as spline_model:\n",
    "    w_ = pm.Normal(\"w_\", mu=0, sigma=1, size=B.shape[1], dims=\"splines\")\n",
    "    w = pm.Deterministic(\"w\",  0 + 100*w_)\n",
    "    x = pm.Deterministic(\"mu\", inv_true.mat.H @ B @ w.T)\n",
    "    Y = pm.Normal(\"Y\", mu=x, sigma=np.diag(inv_true.mat.R), observed=inv_true.mat.y, dims=\"obs\")\n",
    "\n",
    "    idata = pm.sample_prior_predictive()\n",
    "    idata.extend(pm.sample(draws=50000, tune=10000, chains=2, step=pm.Metropolis()))\n",
    "    pm.sample_posterior_predictive(idata, extend_inferencedata=True)"
   ]
  },
  {
   "cell_type": "code",
   "execution_count": 91,
   "metadata": {},
   "outputs": [],
   "source": [
    "# Get posterior mean of knots\n",
    "wp = idata.posterior[\"w\"].mean((\"chain\", \"draw\")).values\n",
    "x_hat = np.dot(B,wp.T)"
   ]
  },
  {
   "cell_type": "code",
   "execution_count": 96,
   "metadata": {},
   "outputs": [
    {
     "data": {
      "text/plain": [
       "[<matplotlib.lines.Line2D at 0x7f93fe740760>]"
      ]
     },
     "execution_count": 96,
     "metadata": {},
     "output_type": "execute_result"
    },
    {
     "data": {
      "image/png": "[encoded data removed]",
      "text/plain": [
       "<Figure size 432x288 with 1 Axes>"
      ]
     },
     "metadata": {
      "needs_background": "light"
     },
     "output_type": "display_data"
    }
   ],
   "source": [
    "# Lazy way to plot results \n",
    "apriori = inv_true.mod.emissions[::12].sum(1)\n",
    "plt.plot(time, apriori + np.sum(inv_true.mat.x_hat.reshape(-1,4),1))\n",
    "plt.plot(time, apriori + np.sum(x_hat.reshape(-1,4),1))\n"
   ]
  },
  {
   "cell_type": "code",
   "execution_count": 94,
   "metadata": {},
   "outputs": [
    {
     "data": {
      "text/plain": [
       "array([85.11245022, 73.96430868, 58.36871597, 75.64707414, 58.30056846,\n",
       "       55.19111988, 54.92660889, 63.74564021, 57.74710188, 65.31423979,\n",
       "       52.91234514, 50.81684171, 61.45137524, 62.91482369, 64.8582516 ,\n",
       "       66.69919992, 64.15391999, 77.78775015, 72.05735394, 54.44024906])"
      ]
     },
     "execution_count": 94,
     "metadata": {},
     "output_type": "execute_result"
    }
   ],
   "source": []
  },
  {
   "cell_type": "code",
   "execution_count": null,
   "metadata": {},
   "outputs": [],
   "source": []
  }
 ],
 "metadata": {
  "kernelspec": {
   "display_name": "Python 3.10.4 ('pymc_env': conda)",
   "language": "python",
   "name": "python3"
  },
  "language_info": {
   "codemirror_mode": {
    "name": "ipython",
    "version": 3
   },
   "file_extension": ".py",
   "mimetype": "text/x-python",
   "name": "python",
   "nbconvert_exporter": "python",
   "pygments_lexer": "ipython3",
   "version": "3.10.4"
  },
  "orig_nbformat": 4,
  "vscode": {
   "interpreter": {
    "hash": "e106f3b25e6fa1726cea646981af37c286ab7d259dfdb88eb8c6331c720b941c"
   }
  }
 },
 "nbformat": 4,
 "nbformat_minor": 2
}
