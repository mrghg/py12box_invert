{
 "cells": [
  {
   "cell_type": "code",
   "execution_count": 1,
   "metadata": {},
   "outputs": [],
   "source": [
    "%load_ext autoreload\n",
    "%autoreload 2\n",
    "\n",
    "from pathlib import Path\n",
    "import arviz as az\n",
    "import matplotlib.pyplot as plt\n",
    "import numpy as np\n",
    "import pymc as pm\n",
    "from patsy import dmatrix\n",
    "import aesara.tensor as at\n",
    "\n",
    "from py12box_invert.paths import Paths\n",
    "from py12box_invert.invert import Invert\n",
    "from py12box_invert.plot import plot_mf, plot_emissions\n",
    "from py12box import core"
   ]
  },
  {
   "cell_type": "markdown",
   "metadata": {},
   "source": [
    "Use a set of knots and splines to estimate emissions over time.\n",
    "Just do a standard Normal inversion with MCMC"
   ]
  },
  {
   "cell_type": "code",
   "execution_count": 2,
   "metadata": {},
   "outputs": [],
   "source": [
    "species = \"CFC-11\"\n",
    "project_path = Paths.data / f\"example/{species}\""
   ]
  },
  {
   "cell_type": "code",
   "execution_count": null,
   "metadata": {},
   "outputs": [],
   "source": [
    "# Just run to get matrices\n",
    "inv_true = Invert(project_path, species, method=\"analytical_gaussian\", n_threads=4, sensitivity_freq=\"yearly\", start_year=2000, end_year=2020)\n",
    "inv_true.run_inversion([70., 20., 10., 10.])"
   ]
  },
  {
   "cell_type": "code",
   "execution_count": null,
   "metadata": {},
   "outputs": [],
   "source": [
    "# Get all years where we have data\n",
    "# Note, there's no data in 2020 so the times in the H matrix are only until 2019\n",
    "time = np.arange(2000,2021)"
   ]
  },
  {
   "cell_type": "code",
   "execution_count": null,
   "metadata": {},
   "outputs": [],
   "source": [
    "# Start by just having 11 evenly spaced knots over the 20 years\n",
    "knot_list = np.linspace(2000,2020, 10)\n",
    "\n",
    "B_i = dmatrix(\n",
    "    \"bs(time, knots=knots, degree=3, include_intercept=False) - 1\",\n",
    "    {\"time\": time, \"knots\": knot_list[1:-1]},\n",
    ")\n",
    "\n",
    "# As we have 4 boxes, we're going to have to repeat it\n",
    "B = np.repeat(np.asarray(B_i, order=\"F\"), 4, axis=0)"
   ]
  },
  {
   "cell_type": "code",
   "execution_count": null,
   "metadata": {},
   "outputs": [],
   "source": [
    "# Now do the MCMC\n",
    "# For now just put a prior on each knot of N(0, 100^2). \n",
    "# Actually set the prior on a standard normal, then scale\n",
    "# Better would be to extract each knot's prior at the right time\n",
    "COORDS = {\"splines\": np.arange(B.shape[1])}\n",
    "with pm.Model(coords=COORDS) as spline_model:\n",
    "    w_ = pm.Normal(\"w_\", mu=0, sigma=1, size=B.shape[1], dims=\"splines\")\n",
    "    w = pm.Deterministic(\"w\",  0 + 100*w_)\n",
    "    x = pm.Deterministic(\"mu\", inv_true.mat.H @ B @ w.T)\n",
    "    Y = pm.Normal(\"Y\", mu=x, sigma=np.diag(inv_true.mat.R), observed=inv_true.mat.y, dims=\"obs\")\n",
    "\n",
    "    idata = pm.sample_prior_predictive()\n",
    "    idata.extend(pm.sample(draws=50000, tune=10000, chains=2, step=pm.Metropolis()))\n",
    "    pm.sample_posterior_predictive(idata, extend_inferencedata=True)"
   ]
  },
  {
   "cell_type": "code",
   "execution_count": null,
   "metadata": {},
   "outputs": [],
   "source": [
    "# Get posterior mean of knots\n",
    "wp = idata.posterior[\"w\"].mean((\"chain\", \"draw\")).values\n",
    "x_hat = np.dot(B,wp.T)"
   ]
  },
  {
   "cell_type": "code",
   "execution_count": null,
   "metadata": {},
   "outputs": [],
   "source": [
    "# Lazy way to plot results \n",
    "apriori = inv_true.mod.emissions[::12].sum(1)\n",
    "plt.plot(time, apriori + np.sum(inv_true.mat.x_hat.reshape(-1,4),1))\n",
    "plt.plot(time, apriori + np.sum(x_hat.reshape(-1,4),1))\n"
   ]
  },
  {
   "cell_type": "markdown",
   "metadata": {},
   "source": [
    "# Matt's version\n",
    "\n",
    "Useful websites:\n",
    "\n",
    "https://bayesiancomputationbook.com/markdown/chp_05.html\n",
    "https://www.pymc.io/projects/examples/en/latest/case_studies/spline.html\n"
   ]
  },
  {
   "cell_type": "code",
   "execution_count": 29,
   "metadata": {},
   "outputs": [
    {
     "name": "stdout",
     "output_type": "stream",
     "text": [
      "Setting up inversion for CFC-11\n",
      "\n",
      "No units given for emissions. Assuming Gg/yr\n",
      "No inital conditions file \n",
      "... assuming zero initial conditions\n",
      "Compiling model and tuning lifetime...\n",
      "... completed in 3 iterations\n",
      "... stratospheric lifetime: 55.0\n",
      "... OH lifetime: 1e12\n",
      "... ocean lifetime: 1e12\n",
      "... non-OH tropospheric lifetime: 1e12\n",
      "... overall lifetime: 55.0\n",
      "... done in 0.0001 s\n",
      "Calculating flux sensitivity on 4 threads...\n"
     ]
    },
    {
     "name": "stderr",
     "output_type": "stream",
     "text": [
      "/Users/chxmr/code/py12box_invert/py12box_invert/invert.py:117: UserWarning: Can't have both a start_year and ic_years\n",
      " Setting ic_years to None.\n",
      "  warnings.warn(\"Can't have both a start_year and ic_years\\n Setting ic_years to None.\")\n"
     ]
    },
    {
     "name": "stdout",
     "output_type": "stream",
     "text": [
      "... done\n",
      "Setting initial conditions to constant value\n",
      "... done\n"
     ]
    }
   ],
   "source": [
    "inv_mcmc_zero = Invert(project_path, species, method=\"mcmc_lat_gradient\", n_threads=4, sensitivity_freq=\"monthly\", start_year=2000, end_year=2020,\n",
    "                sensitivity_from_zero=True)\n"
   ]
  },
  {
   "cell_type": "code",
   "execution_count": 30,
   "metadata": {},
   "outputs": [],
   "source": [
    "inv_mcmc_zero.create_matrices([10, 10, 10, 10], from_zero=True)"
   ]
  },
  {
   "cell_type": "code",
   "execution_count": 31,
   "metadata": {},
   "outputs": [],
   "source": [
    "def logistic(L, k, x0, x):\n",
    "    return L/(1. + np.exp(-k*(x - x0)))"
   ]
  },
  {
   "cell_type": "code",
   "execution_count": 6,
   "metadata": {},
   "outputs": [],
   "source": [
    "#TODO: hard-wiring annual global emissions at the moment. Need to fix.\n",
    "#nyears = int(inv_mcmc_zero.mod_prior.emissions.shape[0]/12)\n",
    "#emissions_global = inv_mcmc_zero.mod_prior.emissions.sum(axis=1)\n",
    "#emissions_global_annual = emissions_global.reshape((int(emissions_global.shape[0]/12), 12)).mean(axis=1)"
   ]
  },
  {
   "cell_type": "code",
   "execution_count": 32,
   "metadata": {},
   "outputs": [
    {
     "data": {
      "text/plain": [
       "array([2000.        , 2000.08333333, 2000.16666667, 2000.25      ,\n",
       "       2000.33333333, 2000.41666667, 2000.5       , 2000.58333333,\n",
       "       2000.66666667, 2000.75      , 2000.83333333, 2000.91666667,\n",
       "       2001.        , 2001.08333333, 2001.16666667, 2001.25      ,\n",
       "       2001.33333333, 2001.41666667, 2001.5       , 2001.58333333,\n",
       "       2001.66666667, 2001.75      , 2001.83333333, 2001.91666667,\n",
       "       2002.        , 2002.08333333, 2002.16666667, 2002.25      ,\n",
       "       2002.33333333, 2002.41666667, 2002.5       , 2002.58333333,\n",
       "       2002.66666667, 2002.75      , 2002.83333333, 2002.91666667,\n",
       "       2003.        , 2003.08333333, 2003.16666667, 2003.25      ,\n",
       "       2003.33333333, 2003.41666667, 2003.5       , 2003.58333333,\n",
       "       2003.66666667, 2003.75      , 2003.83333333, 2003.91666667,\n",
       "       2004.        , 2004.08333333, 2004.16666667, 2004.25      ,\n",
       "       2004.33333333, 2004.41666667, 2004.5       , 2004.58333333,\n",
       "       2004.66666667, 2004.75      , 2004.83333333, 2004.91666667,\n",
       "       2005.        , 2005.08333333, 2005.16666667, 2005.25      ,\n",
       "       2005.33333333, 2005.41666667, 2005.5       , 2005.58333333,\n",
       "       2005.66666667, 2005.75      , 2005.83333333, 2005.91666667,\n",
       "       2006.        , 2006.08333333, 2006.16666667, 2006.25      ,\n",
       "       2006.33333333, 2006.41666667, 2006.5       , 2006.58333333,\n",
       "       2006.66666667, 2006.75      , 2006.83333333, 2006.91666667,\n",
       "       2007.        , 2007.08333333, 2007.16666667, 2007.25      ,\n",
       "       2007.33333333, 2007.41666667, 2007.5       , 2007.58333333,\n",
       "       2007.66666667, 2007.75      , 2007.83333333, 2007.91666667,\n",
       "       2008.        , 2008.08333333, 2008.16666667, 2008.25      ,\n",
       "       2008.33333333, 2008.41666667, 2008.5       , 2008.58333333,\n",
       "       2008.66666667, 2008.75      , 2008.83333333, 2008.91666667,\n",
       "       2009.        , 2009.08333333, 2009.16666667, 2009.25      ,\n",
       "       2009.33333333, 2009.41666667, 2009.5       , 2009.58333333,\n",
       "       2009.66666667, 2009.75      , 2009.83333333, 2009.91666667,\n",
       "       2010.        , 2010.08333333, 2010.16666667, 2010.25      ,\n",
       "       2010.33333333, 2010.41666667, 2010.5       , 2010.58333333,\n",
       "       2010.66666667, 2010.75      , 2010.83333333, 2010.91666667,\n",
       "       2011.        , 2011.08333333, 2011.16666667, 2011.25      ,\n",
       "       2011.33333333, 2011.41666667, 2011.5       , 2011.58333333,\n",
       "       2011.66666667, 2011.75      , 2011.83333333, 2011.91666667,\n",
       "       2012.        , 2012.08333333, 2012.16666667, 2012.25      ,\n",
       "       2012.33333333, 2012.41666667, 2012.5       , 2012.58333333,\n",
       "       2012.66666667, 2012.75      , 2012.83333333, 2012.91666667,\n",
       "       2013.        , 2013.08333333, 2013.16666667, 2013.25      ,\n",
       "       2013.33333333, 2013.41666667, 2013.5       , 2013.58333333,\n",
       "       2013.66666667, 2013.75      , 2013.83333333, 2013.91666667,\n",
       "       2014.        , 2014.08333333, 2014.16666667, 2014.25      ,\n",
       "       2014.33333333, 2014.41666667, 2014.5       , 2014.58333333,\n",
       "       2014.66666667, 2014.75      , 2014.83333333, 2014.91666667,\n",
       "       2015.        , 2015.08333333, 2015.16666667, 2015.25      ,\n",
       "       2015.33333333, 2015.41666667, 2015.5       , 2015.58333333,\n",
       "       2015.66666667, 2015.75      , 2015.83333333, 2015.91666667,\n",
       "       2016.        , 2016.08333333, 2016.16666667, 2016.25      ,\n",
       "       2016.33333333, 2016.41666667, 2016.5       , 2016.58333333,\n",
       "       2016.66666667, 2016.75      , 2016.83333333, 2016.91666667,\n",
       "       2017.        , 2017.08333333, 2017.16666667, 2017.25      ,\n",
       "       2017.33333333, 2017.41666667, 2017.5       , 2017.58333333,\n",
       "       2017.66666667, 2017.75      , 2017.83333333, 2017.91666667,\n",
       "       2018.        , 2018.08333333, 2018.16666667, 2018.25      ,\n",
       "       2018.33333333, 2018.41666667, 2018.5       , 2018.58333333,\n",
       "       2018.66666667, 2018.75      , 2018.83333333, 2018.91666667,\n",
       "       2019.        , 2019.08333333, 2019.16666667, 2019.25      ,\n",
       "       2019.33333333, 2019.41666667, 2019.5       , 2019.58333333,\n",
       "       2019.66666667, 2019.75      , 2019.83333333, 2019.91666667])"
      ]
     },
     "execution_count": 32,
     "metadata": {},
     "output_type": "execute_result"
    }
   ],
   "source": [
    "# Set up splines\n",
    "time = inv_mcmc_zero.mod_prior.time.copy()\n",
    "time"
   ]
  },
  {
   "cell_type": "code",
   "execution_count": 48,
   "metadata": {},
   "outputs": [
    {
     "data": {
      "text/plain": [
       "array([2000.        , 2010.08333333, 2012.5       , 2014.91666667,\n",
       "       2017.27083333, 2019.91666667])"
      ]
     },
     "execution_count": 48,
     "metadata": {},
     "output_type": "execute_result"
    }
   ],
   "source": [
    "spinup = 10 # years\n",
    "\n",
    "finite_times = np.isfinite(inv_mcmc_zero.obs.mf)*np.repeat(np.expand_dims(inv_mcmc_zero.mod_prior.time, axis=1), 4, axis=1)\n",
    "#finite_times = finite_times[finite_times > 0.].flatten()\n",
    "num_knots = 5\n",
    "\n",
    "# distribute knots over period after spinup, weighted by data density\n",
    "knots_list = np.quantile(finite_times[(finite_times > 0.) * (finite_times > inv_mcmc_zero.obs.time[0] + spinup)], np.linspace(0, 1, num_knots))\n",
    "\n",
    "# prepend start year\n",
    "knots_list = np.insert(knots_list, 0, inv_mcmc_zero.obs.time[0])\n",
    "\n",
    "knots_list"
   ]
  },
  {
   "cell_type": "code",
   "execution_count": 49,
   "metadata": {},
   "outputs": [
    {
     "data": {
      "text/plain": [
       "(240, 8)"
      ]
     },
     "execution_count": 49,
     "metadata": {},
     "output_type": "execute_result"
    }
   ],
   "source": [
    "B = dmatrix(\n",
    "    \"bs(time, knots=knots, degree=3, include_intercept=True) - 1\",\n",
    "    {\"time\": time, \"knots\": knots_list[1:-1]},\n",
    ")\n",
    "B_array = np.asarray(B)\n",
    "B.shape"
   ]
  },
  {
   "cell_type": "code",
   "execution_count": 50,
   "metadata": {},
   "outputs": [
    {
     "data": {
      "text/plain": [
       "[<matplotlib.lines.Line2D at 0x16a7dd610>]"
      ]
     },
     "execution_count": 50,
     "metadata": {},
     "output_type": "execute_result"
    },
    {
     "data": {
      "image/png": "[encoded data removed]",
      "text/plain": [
       "<Figure size 432x288 with 1 Axes>"
      ]
     },
     "metadata": {
      "needs_background": "light"
     },
     "output_type": "display_data"
    }
   ],
   "source": [
    "plt.plot(time, B)\n",
    "w = np.random.rand(B.shape[1])\n",
    "plt.plot(time, B@w, linewidth=5, color=\"black\")"
   ]
  },
  {
   "cell_type": "code",
   "execution_count": 53,
   "metadata": {},
   "outputs": [
    {
     "name": "stderr",
     "output_type": "stream",
     "text": [
      "Multiprocess sampling (4 chains in 4 jobs)\n",
      "CompoundStep\n",
      ">Metropolis: [k]\n",
      ">Metropolis: [x0]\n",
      ">Metropolis: [x_splines]\n",
      ">Metropolis: [x_global]\n",
      ">Metropolis: [x_ic]\n"
     ]
    },
    {
     "data": {
      "text/html": [
       "\n",
       "<style>\n",
       "    /* Turns off some styling */\n",
       "    progress {\n",
       "        /* gets rid of default border in Firefox and Opera. */\n",
       "        border: none;\n",
       "        /* Needs to be in here for Safari polyfill so background images work as expected. */\n",
       "        background-size: auto;\n",
       "    }\n",
       "    .progress-bar-interrupted, .progress-bar-interrupted::-webkit-progress-bar {\n",
       "        background: #F44336;\n",
       "    }\n",
       "</style>\n"
      ],
      "text/plain": [
       "<IPython.core.display.HTML object>"
      ]
     },
     "metadata": {},
     "output_type": "display_data"
    },
    {
     "data": {
      "text/html": [
       "\n",
       "    <div>\n",
       "      <progress value='8000' class='' max='8000' style='width:300px; height:20px; vertical-align: middle;'></progress>\n",
       "      100.00% [8000/8000 01:35<00:00 Sampling 4 chains, 0 divergences]\n",
       "    </div>\n",
       "    "
      ],
      "text/plain": [
       "<IPython.core.display.HTML object>"
      ]
     },
     "metadata": {},
     "output_type": "display_data"
    },
    {
     "name": "stderr",
     "output_type": "stream",
     "text": [
      "/opt/miniconda3/envs/pymc/lib/python3.9/site-packages/pymc/step_methods/metropolis.py:289: RuntimeWarning: overflow encountered in exp\n",
      "  \"accept\": np.mean(np.exp(self.accept_rate_iter)),\n",
      "/opt/miniconda3/envs/pymc/lib/python3.9/site-packages/pymc/step_methods/metropolis.py:289: RuntimeWarning: overflow encountered in exp\n",
      "  \"accept\": np.mean(np.exp(self.accept_rate_iter)),\n",
      "/opt/miniconda3/envs/pymc/lib/python3.9/site-packages/pymc/step_methods/metropolis.py:289: RuntimeWarning: overflow encountered in exp\n",
      "  \"accept\": np.mean(np.exp(self.accept_rate_iter)),\n",
      "/opt/miniconda3/envs/pymc/lib/python3.9/site-packages/pymc/step_methods/metropolis.py:289: RuntimeWarning: overflow encountered in exp\n",
      "  \"accept\": np.mean(np.exp(self.accept_rate_iter)),\n",
      "Sampling 4 chains for 1_000 tune and 1_000 draw iterations (4_000 + 4_000 draws total) took 107 seconds.\n"
     ]
    }
   ],
   "source": [
    "with pm.Model() as model:\n",
    "\n",
    "    # Logistic function parameters (L is normalisation so that sum from 0 -> 3 is 1)\n",
    "    k = pm.Uniform(\"k\", lower=0.1, upper=3.)\n",
    "    x0 = pm.Uniform(\"x0\", lower=0., upper=10.)\n",
    "    L = 1/(1/(1+np.exp(-k*(0 - x0))) + \\\n",
    "            1/(1+np.exp(-k*(1 - x0))) + \\\n",
    "            1/(1+np.exp(-k*(2 - x0))) + \\\n",
    "            1/(1+np.exp(-k*(3 - x0))))\n",
    "\n",
    "    # Get scaling factor for each box (note that these are intentionally ordered 3 -> 0, because box0 is the biggest)\n",
    "    x_box3 = pm.Deterministic(\"x_box3\", logistic(L, k, x0, 0))\n",
    "    x_box2 = pm.Deterministic(\"x_box2\", logistic(L, k, x0, 1))\n",
    "    x_box1 = pm.Deterministic(\"x_box1\", logistic(L, k, x0, 2))\n",
    "    x_box0 = pm.Deterministic(\"x_box0\", logistic(L, k, x0, 3))\n",
    "\n",
    "    x_knots = pm.TruncatedNormal(\"x_splines\",\n",
    "                        mu=1, sigma=1, lower=0, \n",
    "                        shape = B.shape[1],\n",
    "                        )\n",
    "\n",
    "    x_global = pm.TruncatedNormal(\"x_global\", mu=100., sigma=100., lower=0.)\n",
    "\n",
    "    x_global_annual = pm.Deterministic(\"x_annual\", x_global * pm.math.dot(B_array, x_knots))\n",
    "\n",
    "    x_boxes = at.stack([x_box0*x_global_annual,\n",
    "                        x_box1*x_global_annual,\n",
    "                        x_box2*x_global_annual,\n",
    "                        x_box3*x_global_annual], axis=1)\n",
    "\n",
    "    x_emissions = pm.Deterministic(\"x_emissions\", at.flatten(x_boxes))\n",
    "\n",
    "    x_ic = pm.Normal(\"x_ic\",\n",
    "                mu=inv_mcmc_zero.mod_prior.ic[0],\n",
    "                sigma=inv_mcmc_zero.mod_prior.ic[0]*0.1,\n",
    "                shape=(1,)) # TODO: currently hard-wired 10% uncertainty\n",
    "\n",
    "    x = pm.Deterministic(\"x\", at.concatenate([x_ic, x_emissions]))\n",
    "\n",
    "    y_observed = pm.MvNormal(\n",
    "        \"y\",\n",
    "        mu=inv_mcmc_zero.mat.H @ x,\n",
    "        cov=inv_mcmc_zero.mat.R,\n",
    "        observed=inv_mcmc_zero.mat.y,\n",
    "    )\n",
    "\n",
    "    #prior = pm.sample_prior_predictive(samples=10, model=model)\n",
    "\n",
    "    #trace = pm.sample(return_inferencedata=True)\n",
    "    trace = pm.sample(return_inferencedata=True, step=pm.Metropolis())  #draws=1000, tune=500, \n"
   ]
  },
  {
   "cell_type": "code",
   "execution_count": 58,
   "metadata": {},
   "outputs": [
    {
     "data": {
      "text/plain": [
       "<ErrorbarContainer object of 3 artists>"
      ]
     },
     "execution_count": 58,
     "metadata": {},
     "output_type": "execute_result"
    },
    {
     "data": {
      "image/png": "[encoded data removed]",
      "text/plain": [
       "<Figure size 432x288 with 1 Axes>"
      ]
     },
     "metadata": {
      "needs_background": "light"
     },
     "output_type": "display_data"
    }
   ],
   "source": [
    "plt.errorbar(time, trace.posterior.sel(chain=0).x_annual.data.mean(axis=0), yerr=trace.posterior.sel(chain=0).x_annual.data.std(axis=0))"
   ]
  },
  {
   "cell_type": "code",
   "execution_count": null,
   "metadata": {},
   "outputs": [],
   "source": []
  }
 ],
 "metadata": {
  "kernelspec": {
   "display_name": "Python 3.9.13 ('pymc')",
   "language": "python",
   "name": "python3"
  },
  "language_info": {
   "codemirror_mode": {
    "name": "ipython",
    "version": 3
   },
   "file_extension": ".py",
   "mimetype": "text/x-python",
   "name": "python",
   "nbconvert_exporter": "python",
   "pygments_lexer": "ipython3",
   "version": "3.9.13"
  },
  "orig_nbformat": 4,
  "vscode": {
   "interpreter": {
    "hash": "5fb6017d87bfe2708911396c169f0a0a3535443622a5afc11dff6bcd1d33f38a"
   }
  }
 },
 "nbformat": 4,
 "nbformat_minor": 2
}
